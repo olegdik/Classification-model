{
 "cells": [
  {
   "cell_type": "code",
   "execution_count": 2,
   "id": "a311cb69-2eae-4b10-8b34-12e2e39c2554",
   "metadata": {
    "tags": []
   },
   "outputs": [],
   "source": [
    "import matplotlib.pyplot as plt\n",
    "import pandas as pd\n",
    "import pickle\n",
    "\n",
    "from sklearn.ensemble import RandomForestClassifier\n",
    "from sklearn.linear_model import LogisticRegression, LinearRegression\n",
    "from sklearn.metrics import accuracy_score, confusion_matrix, mean_absolute_error\n",
    "from sklearn.model_selection import train_test_split, cross_val_score, cross_validate\n",
    "from sklearn.neural_network import MLPClassifier\n",
    "from sklearn.preprocessing import OneHotEncoder, StandardScaler\n"
   ]
  },
  {
   "cell_type": "code",
   "execution_count": 3,
   "id": "a93c9545-03c7-4c2e-b321-054b488ca732",
   "metadata": {
    "tags": []
   },
   "outputs": [
    {
     "name": "stdout",
     "output_type": "stream",
     "text": [
      "(9902, 20)\n"
     ]
    },
    {
     "data": {
      "text/html": [
       "<div>\n",
       "<style scoped>\n",
       "    .dataframe tbody tr th:only-of-type {\n",
       "        vertical-align: middle;\n",
       "    }\n",
       "\n",
       "    .dataframe tbody tr th {\n",
       "        vertical-align: top;\n",
       "    }\n",
       "\n",
       "    .dataframe thead th {\n",
       "        text-align: right;\n",
       "    }\n",
       "</style>\n",
       "<table border=\"1\" class=\"dataframe\">\n",
       "  <thead>\n",
       "    <tr style=\"text-align: right;\">\n",
       "      <th></th>\n",
       "      <th>id</th>\n",
       "      <th>url</th>\n",
       "      <th>region</th>\n",
       "      <th>region_url</th>\n",
       "      <th>price</th>\n",
       "      <th>year</th>\n",
       "      <th>manufacturer</th>\n",
       "      <th>model</th>\n",
       "      <th>fuel</th>\n",
       "      <th>odometer</th>\n",
       "      <th>title_status</th>\n",
       "      <th>transmission</th>\n",
       "      <th>image_url</th>\n",
       "      <th>description</th>\n",
       "      <th>state</th>\n",
       "      <th>lat</th>\n",
       "      <th>long</th>\n",
       "      <th>posting_date</th>\n",
       "      <th>price_category</th>\n",
       "      <th>date</th>\n",
       "    </tr>\n",
       "  </thead>\n",
       "  <tbody>\n",
       "    <tr>\n",
       "      <th>0</th>\n",
       "      <td>7308295377</td>\n",
       "      <td>https://chattanooga.craigslist.org/ctd/d/chatt...</td>\n",
       "      <td>chattanooga</td>\n",
       "      <td>https://chattanooga.craigslist.org</td>\n",
       "      <td>54990</td>\n",
       "      <td>2020.0</td>\n",
       "      <td>ram</td>\n",
       "      <td>2500 crew cab big horn</td>\n",
       "      <td>diesel</td>\n",
       "      <td>27442</td>\n",
       "      <td>clean</td>\n",
       "      <td>other</td>\n",
       "      <td>https://images.craigslist.org/00N0N_1xMPvfxRAI...</td>\n",
       "      <td>Carvana is the safer way to buy a car During t...</td>\n",
       "      <td>tn</td>\n",
       "      <td>35.060000</td>\n",
       "      <td>-85.250000</td>\n",
       "      <td>2021-04-17T12:30:50-0400</td>\n",
       "      <td>high</td>\n",
       "      <td>2021-04-17 16:30:50+00:00</td>\n",
       "    </tr>\n",
       "    <tr>\n",
       "      <th>1</th>\n",
       "      <td>7316380095</td>\n",
       "      <td>https://newjersey.craigslist.org/ctd/d/carlsta...</td>\n",
       "      <td>north jersey</td>\n",
       "      <td>https://newjersey.craigslist.org</td>\n",
       "      <td>16942</td>\n",
       "      <td>2016.0</td>\n",
       "      <td>ford</td>\n",
       "      <td>explorer 4wd 4dr xlt</td>\n",
       "      <td>NaN</td>\n",
       "      <td>60023</td>\n",
       "      <td>clean</td>\n",
       "      <td>automatic</td>\n",
       "      <td>https://images.craigslist.org/00x0x_26jl9F0cnL...</td>\n",
       "      <td>***Call Us for more information at: 201-635-14...</td>\n",
       "      <td>nj</td>\n",
       "      <td>40.821805</td>\n",
       "      <td>-74.061962</td>\n",
       "      <td>2021-05-03T15:40:21-0400</td>\n",
       "      <td>medium</td>\n",
       "      <td>2021-05-03 19:40:21+00:00</td>\n",
       "    </tr>\n",
       "    <tr>\n",
       "      <th>2</th>\n",
       "      <td>7313733749</td>\n",
       "      <td>https://reno.craigslist.org/ctd/d/atlanta-2017...</td>\n",
       "      <td>reno / tahoe</td>\n",
       "      <td>https://reno.craigslist.org</td>\n",
       "      <td>35590</td>\n",
       "      <td>2017.0</td>\n",
       "      <td>volkswagen</td>\n",
       "      <td>golf r hatchback</td>\n",
       "      <td>gas</td>\n",
       "      <td>14048</td>\n",
       "      <td>clean</td>\n",
       "      <td>other</td>\n",
       "      <td>https://images.craigslist.org/00y0y_eeZjWeiSfb...</td>\n",
       "      <td>Carvana is the safer way to buy a car During t...</td>\n",
       "      <td>ca</td>\n",
       "      <td>33.779214</td>\n",
       "      <td>-84.411811</td>\n",
       "      <td>2021-04-28T03:52:20-0700</td>\n",
       "      <td>high</td>\n",
       "      <td>2021-04-28 10:52:20+00:00</td>\n",
       "    </tr>\n",
       "    <tr>\n",
       "      <th>3</th>\n",
       "      <td>7308210929</td>\n",
       "      <td>https://fayetteville.craigslist.org/ctd/d/rale...</td>\n",
       "      <td>fayetteville</td>\n",
       "      <td>https://fayetteville.craigslist.org</td>\n",
       "      <td>14500</td>\n",
       "      <td>2013.0</td>\n",
       "      <td>toyota</td>\n",
       "      <td>rav4</td>\n",
       "      <td>gas</td>\n",
       "      <td>117291</td>\n",
       "      <td>clean</td>\n",
       "      <td>automatic</td>\n",
       "      <td>https://images.craigslist.org/00606_iGe5iXidib...</td>\n",
       "      <td>2013 Toyota RAV4 XLE 4dr SUV     Offered by: R...</td>\n",
       "      <td>nc</td>\n",
       "      <td>35.715954</td>\n",
       "      <td>-78.655304</td>\n",
       "      <td>2021-04-17T10:08:57-0400</td>\n",
       "      <td>medium</td>\n",
       "      <td>2021-04-17 14:08:57+00:00</td>\n",
       "    </tr>\n",
       "    <tr>\n",
       "      <th>4</th>\n",
       "      <td>7316474668</td>\n",
       "      <td>https://newyork.craigslist.org/lgi/cto/d/baldw...</td>\n",
       "      <td>new york city</td>\n",
       "      <td>https://newyork.craigslist.org</td>\n",
       "      <td>21800</td>\n",
       "      <td>2021.0</td>\n",
       "      <td>nissan</td>\n",
       "      <td>altima</td>\n",
       "      <td>gas</td>\n",
       "      <td>8000</td>\n",
       "      <td>clean</td>\n",
       "      <td>automatic</td>\n",
       "      <td>https://images.craigslist.org/00V0V_3pSOiPZ3Sd...</td>\n",
       "      <td>2021 Nissan Altima Sv with Only 8 K Miles Titl...</td>\n",
       "      <td>ny</td>\n",
       "      <td>40.654800</td>\n",
       "      <td>-73.609700</td>\n",
       "      <td>2021-05-03T18:32:06-0400</td>\n",
       "      <td>medium</td>\n",
       "      <td>2021-05-03 22:32:06+00:00</td>\n",
       "    </tr>\n",
       "  </tbody>\n",
       "</table>\n",
       "</div>"
      ],
      "text/plain": [
       "           id                                                url  \\\n",
       "0  7308295377  https://chattanooga.craigslist.org/ctd/d/chatt...   \n",
       "1  7316380095  https://newjersey.craigslist.org/ctd/d/carlsta...   \n",
       "2  7313733749  https://reno.craigslist.org/ctd/d/atlanta-2017...   \n",
       "3  7308210929  https://fayetteville.craigslist.org/ctd/d/rale...   \n",
       "4  7316474668  https://newyork.craigslist.org/lgi/cto/d/baldw...   \n",
       "\n",
       "          region                           region_url  price    year  \\\n",
       "0    chattanooga   https://chattanooga.craigslist.org  54990  2020.0   \n",
       "1   north jersey     https://newjersey.craigslist.org  16942  2016.0   \n",
       "2   reno / tahoe          https://reno.craigslist.org  35590  2017.0   \n",
       "3   fayetteville  https://fayetteville.craigslist.org  14500  2013.0   \n",
       "4  new york city       https://newyork.craigslist.org  21800  2021.0   \n",
       "\n",
       "  manufacturer                   model    fuel  odometer title_status  \\\n",
       "0          ram  2500 crew cab big horn  diesel     27442        clean   \n",
       "1         ford    explorer 4wd 4dr xlt     NaN     60023        clean   \n",
       "2   volkswagen        golf r hatchback     gas     14048        clean   \n",
       "3       toyota                    rav4     gas    117291        clean   \n",
       "4       nissan                  altima     gas      8000        clean   \n",
       "\n",
       "  transmission                                          image_url  \\\n",
       "0        other  https://images.craigslist.org/00N0N_1xMPvfxRAI...   \n",
       "1    automatic  https://images.craigslist.org/00x0x_26jl9F0cnL...   \n",
       "2        other  https://images.craigslist.org/00y0y_eeZjWeiSfb...   \n",
       "3    automatic  https://images.craigslist.org/00606_iGe5iXidib...   \n",
       "4    automatic  https://images.craigslist.org/00V0V_3pSOiPZ3Sd...   \n",
       "\n",
       "                                         description state        lat  \\\n",
       "0  Carvana is the safer way to buy a car During t...    tn  35.060000   \n",
       "1  ***Call Us for more information at: 201-635-14...    nj  40.821805   \n",
       "2  Carvana is the safer way to buy a car During t...    ca  33.779214   \n",
       "3  2013 Toyota RAV4 XLE 4dr SUV     Offered by: R...    nc  35.715954   \n",
       "4  2021 Nissan Altima Sv with Only 8 K Miles Titl...    ny  40.654800   \n",
       "\n",
       "        long              posting_date price_category  \\\n",
       "0 -85.250000  2021-04-17T12:30:50-0400           high   \n",
       "1 -74.061962  2021-05-03T15:40:21-0400         medium   \n",
       "2 -84.411811  2021-04-28T03:52:20-0700           high   \n",
       "3 -78.655304  2021-04-17T10:08:57-0400         medium   \n",
       "4 -73.609700  2021-05-03T18:32:06-0400         medium   \n",
       "\n",
       "                        date  \n",
       "0  2021-04-17 16:30:50+00:00  \n",
       "1  2021-05-03 19:40:21+00:00  \n",
       "2  2021-04-28 10:52:20+00:00  \n",
       "3  2021-04-17 14:08:57+00:00  \n",
       "4  2021-05-03 22:32:06+00:00  "
      ]
     },
     "execution_count": 3,
     "metadata": {},
     "output_type": "execute_result"
    }
   ],
   "source": [
    "df = pd.read_csv('data/df_out.csv')\n",
    "print(df.shape)\n",
    "df.head()"
   ]
  },
  {
   "cell_type": "code",
   "execution_count": null,
   "id": "5bcd7868-2d15-41d4-a841-648f5b04ad0f",
   "metadata": {},
   "outputs": [],
   "source": []
  },
  {
   "cell_type": "markdown",
   "id": "bff1ff72-5d24-457e-a01a-3d5d4b4fc5de",
   "metadata": {
    "tags": []
   },
   "source": [
    "## Data Preparation"
   ]
  },
  {
   "cell_type": "markdown",
   "id": "cccd408d-3975-4643-a1b2-cb0b03a31fc7",
   "metadata": {
    "tags": []
   },
   "source": [
    "### Избавимся от дублей и \"пустых\" полей "
   ]
  },
  {
   "cell_type": "code",
   "execution_count": 805,
   "id": "3ced33be-d998-4a9a-bc6e-fff13f4f6747",
   "metadata": {
    "tags": []
   },
   "outputs": [],
   "source": [
    "df = df.drop_duplicates()\n"
   ]
  },
  {
   "cell_type": "code",
   "execution_count": 806,
   "id": "ce326928-2d0f-429d-bcbe-0e0b591cbf76",
   "metadata": {
    "tags": []
   },
   "outputs": [],
   "source": [
    "def missing_values(df):\n",
    "    missing_values = round(((df.isna().sum() / len(df)) * 100).sort_values(),2)\n",
    "    print('Процент пропущенных значений')\n",
    "    print(missing_values)"
   ]
  },
  {
   "cell_type": "code",
   "execution_count": 807,
   "id": "bcfb79ea-953d-4754-b386-d196579e4eb4",
   "metadata": {
    "tags": []
   },
   "outputs": [
    {
     "name": "stdout",
     "output_type": "stream",
     "text": [
      "Количество полностью заполненных объектов 9507\n",
      "Процент полностью заполненных объектов 95.07\n"
     ]
    }
   ],
   "source": [
    "def print_useful_rows_info(df):\n",
    "    print('Количество полностью заполненных объектов', len(df.dropna()))\n",
    "    print('Процент полностью заполненных объектов', round(len(df.dropna()) * 100 / len(df), 2))\n",
    "\n",
    "print_useful_rows_info(df)"
   ]
  },
  {
   "cell_type": "markdown",
   "id": "a9fca3a9-47a8-4e05-94c2-6665324876a8",
   "metadata": {},
   "source": [
    "Строк, имеющих незаполненные поля всего 5%. Их можно просто удалить. "
   ]
  },
  {
   "cell_type": "code",
   "execution_count": 808,
   "id": "0d0bbfb9-536b-4c7a-b1c1-2aad7dfd8ef7",
   "metadata": {
    "tags": []
   },
   "outputs": [
    {
     "data": {
      "text/html": [
       "<div>\n",
       "<style scoped>\n",
       "    .dataframe tbody tr th:only-of-type {\n",
       "        vertical-align: middle;\n",
       "    }\n",
       "\n",
       "    .dataframe tbody tr th {\n",
       "        vertical-align: top;\n",
       "    }\n",
       "\n",
       "    .dataframe thead th {\n",
       "        text-align: right;\n",
       "    }\n",
       "</style>\n",
       "<table border=\"1\" class=\"dataframe\">\n",
       "  <thead>\n",
       "    <tr style=\"text-align: right;\">\n",
       "      <th></th>\n",
       "      <th>id</th>\n",
       "      <th>url</th>\n",
       "      <th>region</th>\n",
       "      <th>region_url</th>\n",
       "      <th>price</th>\n",
       "      <th>year</th>\n",
       "      <th>manufacturer</th>\n",
       "      <th>model</th>\n",
       "      <th>fuel</th>\n",
       "      <th>odometer</th>\n",
       "      <th>title_status</th>\n",
       "      <th>transmission</th>\n",
       "      <th>image_url</th>\n",
       "      <th>description</th>\n",
       "      <th>state</th>\n",
       "      <th>lat</th>\n",
       "      <th>long</th>\n",
       "      <th>posting_date</th>\n",
       "      <th>price_category</th>\n",
       "      <th>date</th>\n",
       "    </tr>\n",
       "  </thead>\n",
       "  <tbody>\n",
       "    <tr>\n",
       "      <th>6728</th>\n",
       "      <td>7315259025</td>\n",
       "      <td>https://nh.craigslist.org/cto/d/manchester-201...</td>\n",
       "      <td>new hampshire</td>\n",
       "      <td>https://nh.craigslist.org</td>\n",
       "      <td>3750</td>\n",
       "      <td>NaN</td>\n",
       "      <td>other</td>\n",
       "      <td>NaN</td>\n",
       "      <td>NaN</td>\n",
       "      <td>95674</td>\n",
       "      <td>NaN</td>\n",
       "      <td>NaN</td>\n",
       "      <td>NaN</td>\n",
       "      <td>NaN</td>\n",
       "      <td>nh</td>\n",
       "      <td>NaN</td>\n",
       "      <td>NaN</td>\n",
       "      <td>NaN</td>\n",
       "      <td>low</td>\n",
       "      <td>NaN</td>\n",
       "    </tr>\n",
       "    <tr>\n",
       "      <th>9388</th>\n",
       "      <td>7208549803</td>\n",
       "      <td>https://bellingham.craigslist.org/ctd/d/bellin...</td>\n",
       "      <td>bellingham</td>\n",
       "      <td>https://bellingham.craigslist.org</td>\n",
       "      <td>11999</td>\n",
       "      <td>NaN</td>\n",
       "      <td>other</td>\n",
       "      <td>NaN</td>\n",
       "      <td>NaN</td>\n",
       "      <td>95674</td>\n",
       "      <td>NaN</td>\n",
       "      <td>NaN</td>\n",
       "      <td>NaN</td>\n",
       "      <td>NaN</td>\n",
       "      <td>wa</td>\n",
       "      <td>NaN</td>\n",
       "      <td>NaN</td>\n",
       "      <td>NaN</td>\n",
       "      <td>medium</td>\n",
       "      <td>NaN</td>\n",
       "    </tr>\n",
       "  </tbody>\n",
       "</table>\n",
       "</div>"
      ],
      "text/plain": [
       "              id                                                url  \\\n",
       "6728  7315259025  https://nh.craigslist.org/cto/d/manchester-201...   \n",
       "9388  7208549803  https://bellingham.craigslist.org/ctd/d/bellin...   \n",
       "\n",
       "             region                         region_url  price  year  \\\n",
       "6728  new hampshire          https://nh.craigslist.org   3750   NaN   \n",
       "9388     bellingham  https://bellingham.craigslist.org  11999   NaN   \n",
       "\n",
       "     manufacturer model fuel  odometer title_status transmission image_url  \\\n",
       "6728        other   NaN  NaN     95674          NaN          NaN       NaN   \n",
       "9388        other   NaN  NaN     95674          NaN          NaN       NaN   \n",
       "\n",
       "     description state  lat  long posting_date price_category date  \n",
       "6728         NaN    nh  NaN   NaN          NaN            low  NaN  \n",
       "9388         NaN    wa  NaN   NaN          NaN         medium  NaN  "
      ]
     },
     "execution_count": 808,
     "metadata": {},
     "output_type": "execute_result"
    }
   ],
   "source": [
    "df_old = df\n",
    "df[df['image_url'].isna()]\n"
   ]
  },
  {
   "cell_type": "code",
   "execution_count": null,
   "id": "e2cbf3cd-4c72-4631-aadd-d183946d2ed3",
   "metadata": {},
   "outputs": [],
   "source": []
  },
  {
   "cell_type": "code",
   "execution_count": null,
   "id": "6b19467f-5335-49a3-b29c-d96954fdd18c",
   "metadata": {},
   "outputs": [],
   "source": []
  },
  {
   "cell_type": "code",
   "execution_count": 809,
   "id": "26789d47-3726-4b46-93bb-f42bd4156e44",
   "metadata": {
    "tags": []
   },
   "outputs": [
    {
     "name": "stdout",
     "output_type": "stream",
     "text": [
      "Количество полностью заполненных объектов 9507\n",
      "Процент полностью заполненных объектов 95.09\n"
     ]
    }
   ],
   "source": [
    "df = df.dropna(thresh=15)\n",
    "print_useful_rows_info(df)\n",
    "# удаляем строки, содержащие 5 и более незаполненных полей"
   ]
  },
  {
   "cell_type": "code",
   "execution_count": 810,
   "id": "a85359db-6322-4e6d-8b18-aec0ce7fa625",
   "metadata": {
    "tags": []
   },
   "outputs": [
    {
     "name": "stdout",
     "output_type": "stream",
     "text": [
      "Процент пропущенных значений\n",
      "id                0.00\n",
      "posting_date      0.00\n",
      "state             0.00\n",
      "description       0.00\n",
      "image_url         0.00\n",
      "price_category    0.00\n",
      "odometer          0.00\n",
      "price             0.00\n",
      "region_url        0.00\n",
      "region            0.00\n",
      "url               0.00\n",
      "manufacturer      0.00\n",
      "date              0.00\n",
      "year              0.34\n",
      "transmission      0.43\n",
      "fuel              0.61\n",
      "lat               0.96\n",
      "long              0.96\n",
      "model             1.26\n",
      "title_status      1.64\n",
      "dtype: float64\n"
     ]
    }
   ],
   "source": [
    "missing_values(df)"
   ]
  },
  {
   "cell_type": "code",
   "execution_count": 811,
   "id": "48dac76f-a167-4dd5-8e14-77cde4d6139b",
   "metadata": {
    "tags": []
   },
   "outputs": [
    {
     "data": {
      "text/plain": [
       "<Axes: >"
      ]
     },
     "execution_count": 811,
     "metadata": {},
     "output_type": "execute_result"
    },
    {
     "data": {
      "image/png": "[encoded data removed]",
      "text/plain": [
       "<Figure size 2500x1000 with 2 Axes>"
      ]
     },
     "metadata": {},
     "output_type": "display_data"
    }
   ],
   "source": [
    "import missingno as msno\n",
    "msno.matrix(df)"
   ]
  },
  {
   "cell_type": "code",
   "execution_count": 812,
   "id": "98bb151b-1196-47d5-8a88-d6ee5c0489f0",
   "metadata": {
    "tags": []
   },
   "outputs": [
    {
     "name": "stdout",
     "output_type": "stream",
     "text": [
      "Количество полностью заполненных объектов 9507\n",
      "Процент полностью заполненных объектов 100.0\n"
     ]
    }
   ],
   "source": [
    "df = df.dropna()\n",
    "print_useful_rows_info(df)"
   ]
  },
  {
   "cell_type": "markdown",
   "id": "64c41061-cf7a-4fa3-b538-ce33c6ffb67b",
   "metadata": {
    "tags": []
   },
   "source": [
    "### Преобразование типов данных"
   ]
  },
  {
   "cell_type": "code",
   "execution_count": 813,
   "id": "af0d5293-8a9f-4048-aaee-1cb97e7f7951",
   "metadata": {},
   "outputs": [
    {
     "name": "stdout",
     "output_type": "stream",
     "text": [
      "<class 'pandas.core.frame.DataFrame'>\n",
      "Index: 9507 entries, 0 to 9999\n",
      "Data columns (total 20 columns):\n",
      " #   Column          Non-Null Count  Dtype  \n",
      "---  ------          --------------  -----  \n",
      " 0   id              9507 non-null   int64  \n",
      " 1   url             9507 non-null   object \n",
      " 2   region          9507 non-null   object \n",
      " 3   region_url      9507 non-null   object \n",
      " 4   price           9507 non-null   int64  \n",
      " 5   year            9507 non-null   float64\n",
      " 6   manufacturer    9507 non-null   object \n",
      " 7   model           9507 non-null   object \n",
      " 8   fuel            9507 non-null   object \n",
      " 9   odometer        9507 non-null   int64  \n",
      " 10  title_status    9507 non-null   object \n",
      " 11  transmission    9507 non-null   object \n",
      " 12  image_url       9507 non-null   object \n",
      " 13  description     9507 non-null   object \n",
      " 14  state           9507 non-null   object \n",
      " 15  lat             9507 non-null   float64\n",
      " 16  long            9507 non-null   float64\n",
      " 17  posting_date    9507 non-null   object \n",
      " 18  price_category  9507 non-null   object \n",
      " 19  date            9507 non-null   object \n",
      "dtypes: float64(3), int64(3), object(14)\n",
      "memory usage: 1.5+ MB\n"
     ]
    }
   ],
   "source": [
    "df.info()"
   ]
  },
  {
   "cell_type": "code",
   "execution_count": 814,
   "id": "1d7c429d-be75-4177-8ed6-9ae10d6ccdec",
   "metadata": {
    "tags": []
   },
   "outputs": [
    {
     "data": {
      "text/html": [
       "<div>\n",
       "<style scoped>\n",
       "    .dataframe tbody tr th:only-of-type {\n",
       "        vertical-align: middle;\n",
       "    }\n",
       "\n",
       "    .dataframe tbody tr th {\n",
       "        vertical-align: top;\n",
       "    }\n",
       "\n",
       "    .dataframe thead th {\n",
       "        text-align: right;\n",
       "    }\n",
       "</style>\n",
       "<table border=\"1\" class=\"dataframe\">\n",
       "  <thead>\n",
       "    <tr style=\"text-align: right;\">\n",
       "      <th></th>\n",
       "      <th>id</th>\n",
       "      <th>url</th>\n",
       "      <th>region</th>\n",
       "      <th>region_url</th>\n",
       "      <th>price</th>\n",
       "      <th>year</th>\n",
       "      <th>manufacturer</th>\n",
       "      <th>model</th>\n",
       "      <th>fuel</th>\n",
       "      <th>odometer</th>\n",
       "      <th>title_status</th>\n",
       "      <th>transmission</th>\n",
       "      <th>image_url</th>\n",
       "      <th>description</th>\n",
       "      <th>state</th>\n",
       "      <th>lat</th>\n",
       "      <th>long</th>\n",
       "      <th>posting_date</th>\n",
       "      <th>price_category</th>\n",
       "      <th>date</th>\n",
       "    </tr>\n",
       "  </thead>\n",
       "  <tbody>\n",
       "    <tr>\n",
       "      <th>0</th>\n",
       "      <td>7308295377</td>\n",
       "      <td>https://chattanooga.craigslist.org/ctd/d/chatt...</td>\n",
       "      <td>chattanooga</td>\n",
       "      <td>https://chattanooga.craigslist.org</td>\n",
       "      <td>54990</td>\n",
       "      <td>2020.0</td>\n",
       "      <td>ram</td>\n",
       "      <td>2500 crew cab big horn</td>\n",
       "      <td>diesel</td>\n",
       "      <td>27442</td>\n",
       "      <td>clean</td>\n",
       "      <td>other</td>\n",
       "      <td>https://images.craigslist.org/00N0N_1xMPvfxRAI...</td>\n",
       "      <td>Carvana is the safer way to buy a car During t...</td>\n",
       "      <td>tn</td>\n",
       "      <td>35.060000</td>\n",
       "      <td>-85.250000</td>\n",
       "      <td>2021-04-17T12:30:50-0400</td>\n",
       "      <td>high</td>\n",
       "      <td>2021-04-17 16:30:50+00:00</td>\n",
       "    </tr>\n",
       "    <tr>\n",
       "      <th>2</th>\n",
       "      <td>7313733749</td>\n",
       "      <td>https://reno.craigslist.org/ctd/d/atlanta-2017...</td>\n",
       "      <td>reno / tahoe</td>\n",
       "      <td>https://reno.craigslist.org</td>\n",
       "      <td>35590</td>\n",
       "      <td>2017.0</td>\n",
       "      <td>volkswagen</td>\n",
       "      <td>golf r hatchback</td>\n",
       "      <td>gas</td>\n",
       "      <td>14048</td>\n",
       "      <td>clean</td>\n",
       "      <td>other</td>\n",
       "      <td>https://images.craigslist.org/00y0y_eeZjWeiSfb...</td>\n",
       "      <td>Carvana is the safer way to buy a car During t...</td>\n",
       "      <td>ca</td>\n",
       "      <td>33.779214</td>\n",
       "      <td>-84.411811</td>\n",
       "      <td>2021-04-28T03:52:20-0700</td>\n",
       "      <td>high</td>\n",
       "      <td>2021-04-28 10:52:20+00:00</td>\n",
       "    </tr>\n",
       "    <tr>\n",
       "      <th>3</th>\n",
       "      <td>7308210929</td>\n",
       "      <td>https://fayetteville.craigslist.org/ctd/d/rale...</td>\n",
       "      <td>fayetteville</td>\n",
       "      <td>https://fayetteville.craigslist.org</td>\n",
       "      <td>14500</td>\n",
       "      <td>2013.0</td>\n",
       "      <td>toyota</td>\n",
       "      <td>rav4</td>\n",
       "      <td>gas</td>\n",
       "      <td>117291</td>\n",
       "      <td>clean</td>\n",
       "      <td>automatic</td>\n",
       "      <td>https://images.craigslist.org/00606_iGe5iXidib...</td>\n",
       "      <td>2013 Toyota RAV4 XLE 4dr SUV     Offered by: R...</td>\n",
       "      <td>nc</td>\n",
       "      <td>35.715954</td>\n",
       "      <td>-78.655304</td>\n",
       "      <td>2021-04-17T10:08:57-0400</td>\n",
       "      <td>medium</td>\n",
       "      <td>2021-04-17 14:08:57+00:00</td>\n",
       "    </tr>\n",
       "    <tr>\n",
       "      <th>4</th>\n",
       "      <td>7316474668</td>\n",
       "      <td>https://newyork.craigslist.org/lgi/cto/d/baldw...</td>\n",
       "      <td>new york city</td>\n",
       "      <td>https://newyork.craigslist.org</td>\n",
       "      <td>21800</td>\n",
       "      <td>2021.0</td>\n",
       "      <td>nissan</td>\n",
       "      <td>altima</td>\n",
       "      <td>gas</td>\n",
       "      <td>8000</td>\n",
       "      <td>clean</td>\n",
       "      <td>automatic</td>\n",
       "      <td>https://images.craigslist.org/00V0V_3pSOiPZ3Sd...</td>\n",
       "      <td>2021 Nissan Altima Sv with Only 8 K Miles Titl...</td>\n",
       "      <td>ny</td>\n",
       "      <td>40.654800</td>\n",
       "      <td>-73.609700</td>\n",
       "      <td>2021-05-03T18:32:06-0400</td>\n",
       "      <td>medium</td>\n",
       "      <td>2021-05-03 22:32:06+00:00</td>\n",
       "    </tr>\n",
       "    <tr>\n",
       "      <th>5</th>\n",
       "      <td>7303797340</td>\n",
       "      <td>https://knoxville.craigslist.org/ctd/d/knoxvil...</td>\n",
       "      <td>knoxville</td>\n",
       "      <td>https://knoxville.craigslist.org</td>\n",
       "      <td>14590</td>\n",
       "      <td>2012.0</td>\n",
       "      <td>bmw</td>\n",
       "      <td>1 series 128i coupe 2d</td>\n",
       "      <td>other</td>\n",
       "      <td>80465</td>\n",
       "      <td>clean</td>\n",
       "      <td>other</td>\n",
       "      <td>https://images.craigslist.org/00F0F_5UAXmOzC18...</td>\n",
       "      <td>Carvana is the safer way to buy a car During t...</td>\n",
       "      <td>tn</td>\n",
       "      <td>35.970000</td>\n",
       "      <td>-83.940000</td>\n",
       "      <td>2021-04-08T15:10:56-0400</td>\n",
       "      <td>medium</td>\n",
       "      <td>2021-04-08 19:10:56+00:00</td>\n",
       "    </tr>\n",
       "  </tbody>\n",
       "</table>\n",
       "</div>"
      ],
      "text/plain": [
       "           id                                                url  \\\n",
       "0  7308295377  https://chattanooga.craigslist.org/ctd/d/chatt...   \n",
       "2  7313733749  https://reno.craigslist.org/ctd/d/atlanta-2017...   \n",
       "3  7308210929  https://fayetteville.craigslist.org/ctd/d/rale...   \n",
       "4  7316474668  https://newyork.craigslist.org/lgi/cto/d/baldw...   \n",
       "5  7303797340  https://knoxville.craigslist.org/ctd/d/knoxvil...   \n",
       "\n",
       "          region                           region_url  price    year  \\\n",
       "0    chattanooga   https://chattanooga.craigslist.org  54990  2020.0   \n",
       "2   reno / tahoe          https://reno.craigslist.org  35590  2017.0   \n",
       "3   fayetteville  https://fayetteville.craigslist.org  14500  2013.0   \n",
       "4  new york city       https://newyork.craigslist.org  21800  2021.0   \n",
       "5      knoxville     https://knoxville.craigslist.org  14590  2012.0   \n",
       "\n",
       "  manufacturer                   model    fuel  odometer title_status  \\\n",
       "0          ram  2500 crew cab big horn  diesel     27442        clean   \n",
       "2   volkswagen        golf r hatchback     gas     14048        clean   \n",
       "3       toyota                    rav4     gas    117291        clean   \n",
       "4       nissan                  altima     gas      8000        clean   \n",
       "5          bmw  1 series 128i coupe 2d   other     80465        clean   \n",
       "\n",
       "  transmission                                          image_url  \\\n",
       "0        other  https://images.craigslist.org/00N0N_1xMPvfxRAI...   \n",
       "2        other  https://images.craigslist.org/00y0y_eeZjWeiSfb...   \n",
       "3    automatic  https://images.craigslist.org/00606_iGe5iXidib...   \n",
       "4    automatic  https://images.craigslist.org/00V0V_3pSOiPZ3Sd...   \n",
       "5        other  https://images.craigslist.org/00F0F_5UAXmOzC18...   \n",
       "\n",
       "                                         description state        lat  \\\n",
       "0  Carvana is the safer way to buy a car During t...    tn  35.060000   \n",
       "2  Carvana is the safer way to buy a car During t...    ca  33.779214   \n",
       "3  2013 Toyota RAV4 XLE 4dr SUV     Offered by: R...    nc  35.715954   \n",
       "4  2021 Nissan Altima Sv with Only 8 K Miles Titl...    ny  40.654800   \n",
       "5  Carvana is the safer way to buy a car During t...    tn  35.970000   \n",
       "\n",
       "        long              posting_date price_category  \\\n",
       "0 -85.250000  2021-04-17T12:30:50-0400           high   \n",
       "2 -84.411811  2021-04-28T03:52:20-0700           high   \n",
       "3 -78.655304  2021-04-17T10:08:57-0400         medium   \n",
       "4 -73.609700  2021-05-03T18:32:06-0400         medium   \n",
       "5 -83.940000  2021-04-08T15:10:56-0400         medium   \n",
       "\n",
       "                        date  \n",
       "0  2021-04-17 16:30:50+00:00  \n",
       "2  2021-04-28 10:52:20+00:00  \n",
       "3  2021-04-17 14:08:57+00:00  \n",
       "4  2021-05-03 22:32:06+00:00  \n",
       "5  2021-04-08 19:10:56+00:00  "
      ]
     },
     "execution_count": 814,
     "metadata": {},
     "output_type": "execute_result"
    }
   ],
   "source": [
    "df.head()"
   ]
  },
  {
   "cell_type": "code",
   "execution_count": 815,
   "id": "cbb04c64-2765-4522-aa5d-ebe886b34684",
   "metadata": {
    "tags": []
   },
   "outputs": [],
   "source": [
    "df_type = df.copy()"
   ]
  },
  {
   "cell_type": "markdown",
   "id": "158ffe28-4f06-4d07-afa8-c4ef311a8e8f",
   "metadata": {},
   "source": [
    "Преобразуем тип поля \"year\" в int"
   ]
  },
  {
   "cell_type": "code",
   "execution_count": 816,
   "id": "d8637416-21a7-4e90-b748-0431ee37ec6b",
   "metadata": {
    "tags": []
   },
   "outputs": [],
   "source": [
    "df_type['year'] = df_type['year'].astype(int)"
   ]
  },
  {
   "cell_type": "code",
   "execution_count": 817,
   "id": "7564cd94-fc89-46b7-9573-c91ca8ba0732",
   "metadata": {
    "tags": []
   },
   "outputs": [
    {
     "data": {
      "text/plain": [
       "dtype('int32')"
      ]
     },
     "execution_count": 817,
     "metadata": {},
     "output_type": "execute_result"
    }
   ],
   "source": [
    "df_type['year'].dtype"
   ]
  },
  {
   "cell_type": "markdown",
   "id": "08e4c730-9085-4616-a1e9-df170b8e6cf6",
   "metadata": {},
   "source": [
    "Поле \"posting_date\" имеет тип \"object\" Преобразуем его в тип \"datetime\""
   ]
  },
  {
   "cell_type": "code",
   "execution_count": 818,
   "id": "9ea63d2a-834e-489b-be7a-27abaa789108",
   "metadata": {
    "tags": []
   },
   "outputs": [
    {
     "data": {
      "text/plain": [
       "'2021-04-28T03:52:20-0700'"
      ]
     },
     "execution_count": 818,
     "metadata": {},
     "output_type": "execute_result"
    }
   ],
   "source": [
    "df_type['posting_date'].values.tolist()[1]"
   ]
  },
  {
   "cell_type": "code",
   "execution_count": 819,
   "id": "5aa7a454-cb10-48f5-ab4d-e614754c0153",
   "metadata": {
    "tags": []
   },
   "outputs": [
    {
     "data": {
      "text/plain": [
       "0      2021-04-17 16:30:50+00:00\n",
       "2      2021-04-28 10:52:20+00:00\n",
       "3      2021-04-17 14:08:57+00:00\n",
       "4      2021-05-03 22:32:06+00:00\n",
       "5      2021-04-08 19:10:56+00:00\n",
       "                  ...           \n",
       "9995   2021-04-10 20:33:57+00:00\n",
       "9996   2021-05-03 13:36:30+00:00\n",
       "9997   2021-04-22 19:14:01+00:00\n",
       "9998   2021-04-14 14:14:42+00:00\n",
       "9999   2021-04-24 17:50:49+00:00\n",
       "Name: posting_date, Length: 9507, dtype: datetime64[ns, UTC]"
      ]
     },
     "execution_count": 819,
     "metadata": {},
     "output_type": "execute_result"
    }
   ],
   "source": [
    "pd.to_datetime(df_type['posting_date'], utc=True)"
   ]
  },
  {
   "cell_type": "markdown",
   "id": "4d1bdf6c-6165-4425-a31d-866d9dd7e5a7",
   "metadata": {},
   "source": [
    "Старую колонку оставим в текстовом формате, а под правильный тип создадим колонку date."
   ]
  },
  {
   "cell_type": "code",
   "execution_count": 820,
   "id": "72fec01f-0b75-421e-bde1-146fe6391ee0",
   "metadata": {
    "tags": []
   },
   "outputs": [],
   "source": [
    "df_type['date'] = pd.to_datetime(df_type['posting_date'], utc=True)"
   ]
  },
  {
   "cell_type": "code",
   "execution_count": 821,
   "id": "6f9e2ee5-2fdc-4e23-86d9-a7b8a5ebb2b0",
   "metadata": {
    "tags": []
   },
   "outputs": [
    {
     "data": {
      "text/plain": [
       "0      2021-04-17 16:30:50+00:00\n",
       "2      2021-04-28 10:52:20+00:00\n",
       "3      2021-04-17 14:08:57+00:00\n",
       "4      2021-05-03 22:32:06+00:00\n",
       "5      2021-04-08 19:10:56+00:00\n",
       "                  ...           \n",
       "9995   2021-04-10 20:33:57+00:00\n",
       "9996   2021-05-03 13:36:30+00:00\n",
       "9997   2021-04-22 19:14:01+00:00\n",
       "9998   2021-04-14 14:14:42+00:00\n",
       "9999   2021-04-24 17:50:49+00:00\n",
       "Name: date, Length: 9507, dtype: datetime64[ns, UTC]"
      ]
     },
     "execution_count": 821,
     "metadata": {},
     "output_type": "execute_result"
    }
   ],
   "source": [
    "df_type['date']"
   ]
  },
  {
   "cell_type": "code",
   "execution_count": 822,
   "id": "c023bb5a-46a1-4f6c-aa5c-d2f39ae7e0e3",
   "metadata": {
    "tags": []
   },
   "outputs": [
    {
     "data": {
      "text/plain": [
       "2021"
      ]
     },
     "execution_count": 822,
     "metadata": {},
     "output_type": "execute_result"
    }
   ],
   "source": [
    "df_type['date'][0].year"
   ]
  },
  {
   "cell_type": "code",
   "execution_count": 823,
   "id": "00e77348-5c8f-4272-a620-69ba985fe8ae",
   "metadata": {
    "tags": []
   },
   "outputs": [
    {
     "name": "stdout",
     "output_type": "stream",
     "text": [
      "<class 'pandas.core.frame.DataFrame'>\n",
      "Index: 9507 entries, 0 to 9999\n",
      "Data columns (total 20 columns):\n",
      " #   Column          Non-Null Count  Dtype              \n",
      "---  ------          --------------  -----              \n",
      " 0   id              9507 non-null   int64              \n",
      " 1   url             9507 non-null   object             \n",
      " 2   region          9507 non-null   object             \n",
      " 3   region_url      9507 non-null   object             \n",
      " 4   price           9507 non-null   int64              \n",
      " 5   year            9507 non-null   int32              \n",
      " 6   manufacturer    9507 non-null   object             \n",
      " 7   model           9507 non-null   object             \n",
      " 8   fuel            9507 non-null   object             \n",
      " 9   odometer        9507 non-null   int64              \n",
      " 10  title_status    9507 non-null   object             \n",
      " 11  transmission    9507 non-null   object             \n",
      " 12  image_url       9507 non-null   object             \n",
      " 13  description     9507 non-null   object             \n",
      " 14  state           9507 non-null   object             \n",
      " 15  lat             9507 non-null   float64            \n",
      " 16  long            9507 non-null   float64            \n",
      " 17  posting_date    9507 non-null   object             \n",
      " 18  price_category  9507 non-null   object             \n",
      " 19  date            9507 non-null   datetime64[ns, UTC]\n",
      "dtypes: datetime64[ns, UTC](1), float64(2), int32(1), int64(3), object(13)\n",
      "memory usage: 1.7+ MB\n"
     ]
    }
   ],
   "source": [
    "df_type.info()"
   ]
  },
  {
   "cell_type": "markdown",
   "id": "91006633-07bf-4b13-9b8b-780f725ee6ea",
   "metadata": {
    "tags": []
   },
   "source": [
    "### Проверка данных на аномалии"
   ]
  },
  {
   "cell_type": "code",
   "execution_count": 824,
   "id": "d97b7596-11be-469d-a5e0-fe90cf4651b7",
   "metadata": {
    "tags": []
   },
   "outputs": [
    {
     "data": {
      "text/html": [
       "<div>\n",
       "<style scoped>\n",
       "    .dataframe tbody tr th:only-of-type {\n",
       "        vertical-align: middle;\n",
       "    }\n",
       "\n",
       "    .dataframe tbody tr th {\n",
       "        vertical-align: top;\n",
       "    }\n",
       "\n",
       "    .dataframe thead th {\n",
       "        text-align: right;\n",
       "    }\n",
       "</style>\n",
       "<table border=\"1\" class=\"dataframe\">\n",
       "  <thead>\n",
       "    <tr style=\"text-align: right;\">\n",
       "      <th></th>\n",
       "      <th>id</th>\n",
       "      <th>price</th>\n",
       "      <th>year</th>\n",
       "      <th>odometer</th>\n",
       "      <th>lat</th>\n",
       "      <th>long</th>\n",
       "    </tr>\n",
       "  </thead>\n",
       "  <tbody>\n",
       "    <tr>\n",
       "      <th>count</th>\n",
       "      <td>9.507000e+03</td>\n",
       "      <td>9507.000000</td>\n",
       "      <td>9507.000000</td>\n",
       "      <td>9507.000000</td>\n",
       "      <td>9507.000000</td>\n",
       "      <td>9507.000000</td>\n",
       "    </tr>\n",
       "    <tr>\n",
       "      <th>mean</th>\n",
       "      <td>7.311560e+09</td>\n",
       "      <td>19382.554644</td>\n",
       "      <td>2011.023877</td>\n",
       "      <td>93570.814768</td>\n",
       "      <td>38.592927</td>\n",
       "      <td>-93.957723</td>\n",
       "    </tr>\n",
       "    <tr>\n",
       "      <th>std</th>\n",
       "      <td>4.368563e+06</td>\n",
       "      <td>18328.499851</td>\n",
       "      <td>9.466994</td>\n",
       "      <td>63242.739535</td>\n",
       "      <td>5.837483</td>\n",
       "      <td>18.028733</td>\n",
       "    </tr>\n",
       "    <tr>\n",
       "      <th>min</th>\n",
       "      <td>7.301586e+09</td>\n",
       "      <td>500.000000</td>\n",
       "      <td>1915.000000</td>\n",
       "      <td>0.000000</td>\n",
       "      <td>-67.144243</td>\n",
       "      <td>-158.069300</td>\n",
       "    </tr>\n",
       "    <tr>\n",
       "      <th>25%</th>\n",
       "      <td>7.308186e+09</td>\n",
       "      <td>7836.500000</td>\n",
       "      <td>2008.000000</td>\n",
       "      <td>39244.000000</td>\n",
       "      <td>34.874932</td>\n",
       "      <td>-107.978513</td>\n",
       "    </tr>\n",
       "    <tr>\n",
       "      <th>50%</th>\n",
       "      <td>7.312782e+09</td>\n",
       "      <td>15900.000000</td>\n",
       "      <td>2013.000000</td>\n",
       "      <td>89000.000000</td>\n",
       "      <td>39.290100</td>\n",
       "      <td>-87.960000</td>\n",
       "    </tr>\n",
       "    <tr>\n",
       "      <th>75%</th>\n",
       "      <td>7.315292e+09</td>\n",
       "      <td>27990.000000</td>\n",
       "      <td>2017.000000</td>\n",
       "      <td>137054.500000</td>\n",
       "      <td>42.417300</td>\n",
       "      <td>-80.719038</td>\n",
       "    </tr>\n",
       "    <tr>\n",
       "      <th>max</th>\n",
       "      <td>7.317090e+09</td>\n",
       "      <td>1000000.000000</td>\n",
       "      <td>2022.000000</td>\n",
       "      <td>283466.000000</td>\n",
       "      <td>64.947500</td>\n",
       "      <td>173.885502</td>\n",
       "    </tr>\n",
       "  </tbody>\n",
       "</table>\n",
       "</div>"
      ],
      "text/plain": [
       "                 id           price         year       odometer          lat  \\\n",
       "count  9.507000e+03     9507.000000  9507.000000    9507.000000  9507.000000   \n",
       "mean   7.311560e+09    19382.554644  2011.023877   93570.814768    38.592927   \n",
       "std    4.368563e+06    18328.499851     9.466994   63242.739535     5.837483   \n",
       "min    7.301586e+09      500.000000  1915.000000       0.000000   -67.144243   \n",
       "25%    7.308186e+09     7836.500000  2008.000000   39244.000000    34.874932   \n",
       "50%    7.312782e+09    15900.000000  2013.000000   89000.000000    39.290100   \n",
       "75%    7.315292e+09    27990.000000  2017.000000  137054.500000    42.417300   \n",
       "max    7.317090e+09  1000000.000000  2022.000000  283466.000000    64.947500   \n",
       "\n",
       "              long  \n",
       "count  9507.000000  \n",
       "mean    -93.957723  \n",
       "std      18.028733  \n",
       "min    -158.069300  \n",
       "25%    -107.978513  \n",
       "50%     -87.960000  \n",
       "75%     -80.719038  \n",
       "max     173.885502  "
      ]
     },
     "execution_count": 824,
     "metadata": {},
     "output_type": "execute_result"
    }
   ],
   "source": [
    "df_type.describe()"
   ]
  },
  {
   "cell_type": "markdown",
   "id": "0e614af5-f96b-4a9d-9a54-f79fed6a0f49",
   "metadata": {},
   "source": [
    "напишим функцию для расчета выбрасов по правилам 3 сигм "
   ]
  },
  {
   "cell_type": "code",
   "execution_count": 825,
   "id": "cebeec5b-b2c8-470c-a1d6-177f5c3aa4b3",
   "metadata": {
    "tags": []
   },
   "outputs": [],
   "source": [
    "def calculate_outliers_3sigma(df):\n",
    "    #stat = df.describe().values\n",
    "    (left, write) = (round(df.mean() - df.std() * 3), round(df.mean() + df.std() * 3))\n",
    "    return(left, write)\n"
   ]
  },
  {
   "cell_type": "code",
   "execution_count": 826,
   "id": "09d6cb1b-328c-4304-bfee-a577f54d2968",
   "metadata": {
    "tags": []
   },
   "outputs": [
    {
     "data": {
      "text/plain": [
       "(-35603, 74368)"
      ]
     },
     "execution_count": 826,
     "metadata": {},
     "output_type": "execute_result"
    }
   ],
   "source": [
    "calculate_outliers_3sigma(df.price)"
   ]
  },
  {
   "cell_type": "markdown",
   "id": "b5df42d1-d48f-4d05-b55c-b01220b1e4cf",
   "metadata": {},
   "source": [
    "есть выбросы для верхней границы цены автомобиля"
   ]
  },
  {
   "cell_type": "code",
   "execution_count": 827,
   "id": "72b6c274-ab3d-4642-a2f1-8ea01b2b8b4a",
   "metadata": {
    "tags": []
   },
   "outputs": [
    {
     "data": {
      "text/html": [
       "<div>\n",
       "<style scoped>\n",
       "    .dataframe tbody tr th:only-of-type {\n",
       "        vertical-align: middle;\n",
       "    }\n",
       "\n",
       "    .dataframe tbody tr th {\n",
       "        vertical-align: top;\n",
       "    }\n",
       "\n",
       "    .dataframe thead th {\n",
       "        text-align: right;\n",
       "    }\n",
       "</style>\n",
       "<table border=\"1\" class=\"dataframe\">\n",
       "  <thead>\n",
       "    <tr style=\"text-align: right;\">\n",
       "      <th></th>\n",
       "      <th>id</th>\n",
       "      <th>url</th>\n",
       "      <th>region</th>\n",
       "      <th>region_url</th>\n",
       "      <th>price</th>\n",
       "      <th>year</th>\n",
       "      <th>manufacturer</th>\n",
       "      <th>model</th>\n",
       "      <th>fuel</th>\n",
       "      <th>odometer</th>\n",
       "      <th>title_status</th>\n",
       "      <th>transmission</th>\n",
       "      <th>image_url</th>\n",
       "      <th>description</th>\n",
       "      <th>state</th>\n",
       "      <th>lat</th>\n",
       "      <th>long</th>\n",
       "      <th>posting_date</th>\n",
       "      <th>price_category</th>\n",
       "      <th>date</th>\n",
       "    </tr>\n",
       "  </thead>\n",
       "  <tbody>\n",
       "    <tr>\n",
       "      <th>2087</th>\n",
       "      <td>7315309821</td>\n",
       "      <td>https://nh.craigslist.org/ctd/d/methuen-2004-r...</td>\n",
       "      <td>new hampshire</td>\n",
       "      <td>https://nh.craigslist.org</td>\n",
       "      <td>109995</td>\n",
       "      <td>2004</td>\n",
       "      <td>other</td>\n",
       "      <td>ROLLS ROYCE PHANTOM</td>\n",
       "      <td>gas</td>\n",
       "      <td>26000</td>\n",
       "      <td>clean</td>\n",
       "      <td>automatic</td>\n",
       "      <td>https://images.craigslist.org/00a0a_aF4tYDmAxB...</td>\n",
       "      <td>2004 Rolls-Royce Phantom Base 4dr Sedan     Of...</td>\n",
       "      <td>nh</td>\n",
       "      <td>42.756205</td>\n",
       "      <td>-71.210258</td>\n",
       "      <td>2021-05-01T11:25:28-0400</td>\n",
       "      <td>high</td>\n",
       "      <td>2021-05-01 15:25:28+00:00</td>\n",
       "    </tr>\n",
       "    <tr>\n",
       "      <th>4469</th>\n",
       "      <td>7308293412</td>\n",
       "      <td>https://kalispell.craigslist.org/cto/d/columbi...</td>\n",
       "      <td>kalispell</td>\n",
       "      <td>https://kalispell.craigslist.org</td>\n",
       "      <td>119966</td>\n",
       "      <td>1966</td>\n",
       "      <td>chevrolet</td>\n",
       "      <td>corvette sting ray</td>\n",
       "      <td>gas</td>\n",
       "      <td>56455</td>\n",
       "      <td>clean</td>\n",
       "      <td>manual</td>\n",
       "      <td>https://images.craigslist.org/00000_4T3r43W3Fu...</td>\n",
       "      <td>DO NOT NEED HELP SELLING – DON’T ASK!  Selling...</td>\n",
       "      <td>mt</td>\n",
       "      <td>48.404000</td>\n",
       "      <td>-114.350900</td>\n",
       "      <td>2021-04-17T10:28:02-0600</td>\n",
       "      <td>high</td>\n",
       "      <td>2021-04-17 16:28:02+00:00</td>\n",
       "    </tr>\n",
       "    <tr>\n",
       "      <th>4133</th>\n",
       "      <td>7311841843</td>\n",
       "      <td>https://albuquerque.craigslist.org/ctd/d/albuq...</td>\n",
       "      <td>albuquerque</td>\n",
       "      <td>https://albuquerque.craigslist.org</td>\n",
       "      <td>120000</td>\n",
       "      <td>2021</td>\n",
       "      <td>chevrolet</td>\n",
       "      <td>corvette c8 z51</td>\n",
       "      <td>gas</td>\n",
       "      <td>10</td>\n",
       "      <td>clean</td>\n",
       "      <td>automatic</td>\n",
       "      <td>https://images.craigslist.org/00z0z_99zXyVvNmm...</td>\n",
       "      <td>New arrival  Z51  Call or text annamarie for d...</td>\n",
       "      <td>nm</td>\n",
       "      <td>35.081800</td>\n",
       "      <td>-106.648200</td>\n",
       "      <td>2021-04-24T08:38:45-0600</td>\n",
       "      <td>high</td>\n",
       "      <td>2021-04-24 14:38:45+00:00</td>\n",
       "    </tr>\n",
       "    <tr>\n",
       "      <th>1699</th>\n",
       "      <td>7303398175</td>\n",
       "      <td>https://pullman.craigslist.org/cto/d/pullman-6...</td>\n",
       "      <td>pullman / moscow</td>\n",
       "      <td>https://pullman.craigslist.org</td>\n",
       "      <td>123456</td>\n",
       "      <td>1963</td>\n",
       "      <td>other</td>\n",
       "      <td>cadvwrambuick</td>\n",
       "      <td>gas</td>\n",
       "      <td>283466</td>\n",
       "      <td>missing</td>\n",
       "      <td>other</td>\n",
       "      <td>https://images.craigslist.org/00i0i_5iBwIawLgG...</td>\n",
       "      <td>I have several cars to get rid of:  A '65 Ramb...</td>\n",
       "      <td>id</td>\n",
       "      <td>46.735200</td>\n",
       "      <td>-117.172900</td>\n",
       "      <td>2021-04-07T15:57:23-0700</td>\n",
       "      <td>high</td>\n",
       "      <td>2021-04-07 22:57:23+00:00</td>\n",
       "    </tr>\n",
       "    <tr>\n",
       "      <th>9194</th>\n",
       "      <td>7308732637</td>\n",
       "      <td>https://evansville.craigslist.org/ctd/d/evansv...</td>\n",
       "      <td>evansville</td>\n",
       "      <td>https://evansville.craigslist.org</td>\n",
       "      <td>123456</td>\n",
       "      <td>2006</td>\n",
       "      <td>jeep</td>\n",
       "      <td>wrangler</td>\n",
       "      <td>gas</td>\n",
       "      <td>12345</td>\n",
       "      <td>clean</td>\n",
       "      <td>other</td>\n",
       "      <td>https://images.craigslist.org/00I0I_2IkqjY69Zq...</td>\n",
       "      <td>Very Nice TJ jeeps and a few LJ jeep wranglers...</td>\n",
       "      <td>in</td>\n",
       "      <td>38.025845</td>\n",
       "      <td>-87.596457</td>\n",
       "      <td>2021-04-18T09:55:42-0500</td>\n",
       "      <td>high</td>\n",
       "      <td>2021-04-18 14:55:42+00:00</td>\n",
       "    </tr>\n",
       "    <tr>\n",
       "      <th>3006</th>\n",
       "      <td>7308463617</td>\n",
       "      <td>https://jacksonville.craigslist.org/cto/d/pont...</td>\n",
       "      <td>jacksonville</td>\n",
       "      <td>https://jacksonville.craigslist.org</td>\n",
       "      <td>129000</td>\n",
       "      <td>2018</td>\n",
       "      <td>mercedes-benz</td>\n",
       "      <td>benz amg gt c</td>\n",
       "      <td>gas</td>\n",
       "      <td>4000</td>\n",
       "      <td>clean</td>\n",
       "      <td>automatic</td>\n",
       "      <td>https://images.craigslist.org/00C0C_bN8j4IcEqW...</td>\n",
       "      <td>Beautiful car in perfect condition. Very rare ...</td>\n",
       "      <td>fl</td>\n",
       "      <td>30.122300</td>\n",
       "      <td>-81.362700</td>\n",
       "      <td>2021-04-17T16:48:42-0400</td>\n",
       "      <td>high</td>\n",
       "      <td>2021-04-17 20:48:42+00:00</td>\n",
       "    </tr>\n",
       "    <tr>\n",
       "      <th>5149</th>\n",
       "      <td>7314445453</td>\n",
       "      <td>https://boston.craigslist.org/gbs/ctd/d/methue...</td>\n",
       "      <td>boston</td>\n",
       "      <td>https://boston.craigslist.org</td>\n",
       "      <td>129995</td>\n",
       "      <td>2007</td>\n",
       "      <td>ferrari</td>\n",
       "      <td>f430 spider</td>\n",
       "      <td>gas</td>\n",
       "      <td>12351</td>\n",
       "      <td>clean</td>\n",
       "      <td>manual</td>\n",
       "      <td>https://images.craigslist.org/00q0q_3DqREXHC0j...</td>\n",
       "      <td>2007 Ferrari F430 Spider 2dr Convertible     O...</td>\n",
       "      <td>ma</td>\n",
       "      <td>42.756205</td>\n",
       "      <td>-71.210258</td>\n",
       "      <td>2021-04-29T14:45:08-0400</td>\n",
       "      <td>high</td>\n",
       "      <td>2021-04-29 18:45:08+00:00</td>\n",
       "    </tr>\n",
       "    <tr>\n",
       "      <th>6566</th>\n",
       "      <td>7312384300</td>\n",
       "      <td>https://orlando.craigslist.org/ctd/d/orlando-2...</td>\n",
       "      <td>orlando</td>\n",
       "      <td>https://orlando.craigslist.org</td>\n",
       "      <td>129999</td>\n",
       "      <td>2018</td>\n",
       "      <td>mercedes-benz</td>\n",
       "      <td>maybach s560</td>\n",
       "      <td>gas</td>\n",
       "      <td>6000</td>\n",
       "      <td>clean</td>\n",
       "      <td>automatic</td>\n",
       "      <td>https://images.craigslist.org/00u0u_fKyDNpMeQR...</td>\n",
       "      <td>Serious/ready buyers, please call or text @ (4...</td>\n",
       "      <td>fl</td>\n",
       "      <td>28.463700</td>\n",
       "      <td>-81.394800</td>\n",
       "      <td>2021-04-25T12:58:01-0400</td>\n",
       "      <td>high</td>\n",
       "      <td>2021-04-25 16:58:01+00:00</td>\n",
       "    </tr>\n",
       "    <tr>\n",
       "      <th>9024</th>\n",
       "      <td>7314817013</td>\n",
       "      <td>https://sandiego.craigslist.org/csd/ctd/d/dall...</td>\n",
       "      <td>san diego</td>\n",
       "      <td>https://sandiego.craigslist.org</td>\n",
       "      <td>139950</td>\n",
       "      <td>2017</td>\n",
       "      <td>other</td>\n",
       "      <td>Mclaren 570GT W/ Upgrades</td>\n",
       "      <td>gas</td>\n",
       "      <td>13000</td>\n",
       "      <td>clean</td>\n",
       "      <td>automatic</td>\n",
       "      <td>https://images.craigslist.org/00N0N_2egaCVi4pq...</td>\n",
       "      <td>SPECIALTYEXOTICS.COMCALL/TXT 469-215-1902FREE ...</td>\n",
       "      <td>ca</td>\n",
       "      <td>32.790400</td>\n",
       "      <td>-96.804400</td>\n",
       "      <td>2021-04-30T08:20:20-0700</td>\n",
       "      <td>high</td>\n",
       "      <td>2021-04-30 15:20:20+00:00</td>\n",
       "    </tr>\n",
       "    <tr>\n",
       "      <th>4245</th>\n",
       "      <td>7316319465</td>\n",
       "      <td>https://portland.craigslist.org/clc/ctd/d/glad...</td>\n",
       "      <td>portland</td>\n",
       "      <td>https://portland.craigslist.org</td>\n",
       "      <td>149990</td>\n",
       "      <td>2015</td>\n",
       "      <td>mercedes-benz</td>\n",
       "      <td>sprinter 3500 airs</td>\n",
       "      <td>diesel</td>\n",
       "      <td>49291</td>\n",
       "      <td>clean</td>\n",
       "      <td>automatic</td>\n",
       "      <td>https://images.craigslist.org/00B0B_79v5I132cL...</td>\n",
       "      <td>2015 Mercedes-Benz Sprinter 3500 Airstream Int...</td>\n",
       "      <td>or</td>\n",
       "      <td>45.382346</td>\n",
       "      <td>-122.605132</td>\n",
       "      <td>2021-05-03T11:04:09-0700</td>\n",
       "      <td>high</td>\n",
       "      <td>2021-05-03 18:04:09+00:00</td>\n",
       "    </tr>\n",
       "    <tr>\n",
       "      <th>8840</th>\n",
       "      <td>7313664504</td>\n",
       "      <td>https://austin.craigslist.org/cto/d/austin-sup...</td>\n",
       "      <td>austin</td>\n",
       "      <td>https://austin.craigslist.org</td>\n",
       "      <td>150000</td>\n",
       "      <td>2006</td>\n",
       "      <td>other</td>\n",
       "      <td>Peterbilt 378</td>\n",
       "      <td>diesel</td>\n",
       "      <td>1234</td>\n",
       "      <td>clean</td>\n",
       "      <td>manual</td>\n",
       "      <td>https://images.craigslist.org/00v0v_ejAvqrK3iP...</td>\n",
       "      <td>Selling a Wonderful Super Dump! 2006 Peterbilt...</td>\n",
       "      <td>tx</td>\n",
       "      <td>30.364900</td>\n",
       "      <td>-97.682700</td>\n",
       "      <td>2021-04-27T21:01:28-0500</td>\n",
       "      <td>high</td>\n",
       "      <td>2021-04-28 02:01:28+00:00</td>\n",
       "    </tr>\n",
       "    <tr>\n",
       "      <th>6121</th>\n",
       "      <td>7315323093</td>\n",
       "      <td>https://daytona.craigslist.org/ctd/d/orlando-2...</td>\n",
       "      <td>daytona beach</td>\n",
       "      <td>https://daytona.craigslist.org</td>\n",
       "      <td>197999</td>\n",
       "      <td>2015</td>\n",
       "      <td>other</td>\n",
       "      <td>Lamborghini Huracan</td>\n",
       "      <td>gas</td>\n",
       "      <td>33875</td>\n",
       "      <td>clean</td>\n",
       "      <td>other</td>\n",
       "      <td>https://images.craigslist.org/01717_55Ai9omMq5...</td>\n",
       "      <td>CREDIT AMNESTY!  SE HABLA ESPANOL !!OPEN SUNDA...</td>\n",
       "      <td>fl</td>\n",
       "      <td>28.466088</td>\n",
       "      <td>-81.396429</td>\n",
       "      <td>2021-05-01T11:48:44-0400</td>\n",
       "      <td>high</td>\n",
       "      <td>2021-05-01 15:48:44+00:00</td>\n",
       "    </tr>\n",
       "    <tr>\n",
       "      <th>292</th>\n",
       "      <td>7310897583</td>\n",
       "      <td>https://tucson.craigslist.org/ctd/d/tucson-201...</td>\n",
       "      <td>tucson</td>\n",
       "      <td>https://tucson.craigslist.org</td>\n",
       "      <td>239995</td>\n",
       "      <td>2017</td>\n",
       "      <td>ferrari</td>\n",
       "      <td>488 gtb</td>\n",
       "      <td>gas</td>\n",
       "      <td>6012</td>\n",
       "      <td>clean</td>\n",
       "      <td>automatic</td>\n",
       "      <td>https://images.craigslist.org/00t0t_dN5Wr8nfOx...</td>\n",
       "      <td>2017 Ferrari 488 GTB Coupe2017 Ferrari 488 GTB...</td>\n",
       "      <td>az</td>\n",
       "      <td>32.236075</td>\n",
       "      <td>-110.878886</td>\n",
       "      <td>2021-04-22T09:38:59-0700</td>\n",
       "      <td>high</td>\n",
       "      <td>2021-04-22 16:38:59+00:00</td>\n",
       "    </tr>\n",
       "    <tr>\n",
       "      <th>5662</th>\n",
       "      <td>7313998757</td>\n",
       "      <td>https://winchester.craigslist.org/ctd/d/manass...</td>\n",
       "      <td>winchester</td>\n",
       "      <td>https://winchester.craigslist.org</td>\n",
       "      <td>304995</td>\n",
       "      <td>2021</td>\n",
       "      <td>porsche</td>\n",
       "      <td>911</td>\n",
       "      <td>gas</td>\n",
       "      <td>22</td>\n",
       "      <td>clean</td>\n",
       "      <td>automatic</td>\n",
       "      <td>https://images.craigslist.org/00r0r_gh2TnrNdSu...</td>\n",
       "      <td>2021 PORSCHE 911 Turbo     Offered by: Insider...</td>\n",
       "      <td>va</td>\n",
       "      <td>38.762669</td>\n",
       "      <td>-77.461754</td>\n",
       "      <td>2021-04-28T15:49:25-0400</td>\n",
       "      <td>high</td>\n",
       "      <td>2021-04-28 19:49:25+00:00</td>\n",
       "    </tr>\n",
       "    <tr>\n",
       "      <th>9792</th>\n",
       "      <td>7305237859</td>\n",
       "      <td>https://delaware.craigslist.org/cto/d/delaware...</td>\n",
       "      <td>delaware</td>\n",
       "      <td>https://delaware.craigslist.org</td>\n",
       "      <td>1000000</td>\n",
       "      <td>2022</td>\n",
       "      <td>other</td>\n",
       "      <td>Any make any model</td>\n",
       "      <td>other</td>\n",
       "      <td>283466</td>\n",
       "      <td>clean</td>\n",
       "      <td>other</td>\n",
       "      <td>https://images.craigslist.org/00S0S_k3A68PVXRC...</td>\n",
       "      <td>We come to you and give you an easy quick tran...</td>\n",
       "      <td>de</td>\n",
       "      <td>39.572500</td>\n",
       "      <td>-75.595700</td>\n",
       "      <td>2021-04-11T13:51:42-0400</td>\n",
       "      <td>high</td>\n",
       "      <td>2021-04-11 17:51:42+00:00</td>\n",
       "    </tr>\n",
       "  </tbody>\n",
       "</table>\n",
       "</div>"
      ],
      "text/plain": [
       "              id                                                url  \\\n",
       "2087  7315309821  https://nh.craigslist.org/ctd/d/methuen-2004-r...   \n",
       "4469  7308293412  https://kalispell.craigslist.org/cto/d/columbi...   \n",
       "4133  7311841843  https://albuquerque.craigslist.org/ctd/d/albuq...   \n",
       "1699  7303398175  https://pullman.craigslist.org/cto/d/pullman-6...   \n",
       "9194  7308732637  https://evansville.craigslist.org/ctd/d/evansv...   \n",
       "3006  7308463617  https://jacksonville.craigslist.org/cto/d/pont...   \n",
       "5149  7314445453  https://boston.craigslist.org/gbs/ctd/d/methue...   \n",
       "6566  7312384300  https://orlando.craigslist.org/ctd/d/orlando-2...   \n",
       "9024  7314817013  https://sandiego.craigslist.org/csd/ctd/d/dall...   \n",
       "4245  7316319465  https://portland.craigslist.org/clc/ctd/d/glad...   \n",
       "8840  7313664504  https://austin.craigslist.org/cto/d/austin-sup...   \n",
       "6121  7315323093  https://daytona.craigslist.org/ctd/d/orlando-2...   \n",
       "292   7310897583  https://tucson.craigslist.org/ctd/d/tucson-201...   \n",
       "5662  7313998757  https://winchester.craigslist.org/ctd/d/manass...   \n",
       "9792  7305237859  https://delaware.craigslist.org/cto/d/delaware...   \n",
       "\n",
       "                region                           region_url    price  year  \\\n",
       "2087     new hampshire            https://nh.craigslist.org   109995  2004   \n",
       "4469         kalispell     https://kalispell.craigslist.org   119966  1966   \n",
       "4133       albuquerque   https://albuquerque.craigslist.org   120000  2021   \n",
       "1699  pullman / moscow       https://pullman.craigslist.org   123456  1963   \n",
       "9194        evansville    https://evansville.craigslist.org   123456  2006   \n",
       "3006      jacksonville  https://jacksonville.craigslist.org   129000  2018   \n",
       "5149            boston        https://boston.craigslist.org   129995  2007   \n",
       "6566           orlando       https://orlando.craigslist.org   129999  2018   \n",
       "9024         san diego      https://sandiego.craigslist.org   139950  2017   \n",
       "4245          portland      https://portland.craigslist.org   149990  2015   \n",
       "8840            austin        https://austin.craigslist.org   150000  2006   \n",
       "6121     daytona beach       https://daytona.craigslist.org   197999  2015   \n",
       "292             tucson        https://tucson.craigslist.org   239995  2017   \n",
       "5662        winchester    https://winchester.craigslist.org   304995  2021   \n",
       "9792          delaware      https://delaware.craigslist.org  1000000  2022   \n",
       "\n",
       "       manufacturer                      model    fuel  odometer title_status  \\\n",
       "2087          other        ROLLS ROYCE PHANTOM     gas     26000        clean   \n",
       "4469      chevrolet         corvette sting ray     gas     56455        clean   \n",
       "4133      chevrolet            corvette c8 z51     gas        10        clean   \n",
       "1699          other              cadvwrambuick     gas    283466      missing   \n",
       "9194           jeep                   wrangler     gas     12345        clean   \n",
       "3006  mercedes-benz              benz amg gt c     gas      4000        clean   \n",
       "5149        ferrari                f430 spider     gas     12351        clean   \n",
       "6566  mercedes-benz               maybach s560     gas      6000        clean   \n",
       "9024          other  Mclaren 570GT W/ Upgrades     gas     13000        clean   \n",
       "4245  mercedes-benz         sprinter 3500 airs  diesel     49291        clean   \n",
       "8840          other              Peterbilt 378  diesel      1234        clean   \n",
       "6121          other        Lamborghini Huracan     gas     33875        clean   \n",
       "292         ferrari                    488 gtb     gas      6012        clean   \n",
       "5662        porsche                        911     gas        22        clean   \n",
       "9792          other         Any make any model   other    283466        clean   \n",
       "\n",
       "     transmission                                          image_url  \\\n",
       "2087    automatic  https://images.craigslist.org/00a0a_aF4tYDmAxB...   \n",
       "4469       manual  https://images.craigslist.org/00000_4T3r43W3Fu...   \n",
       "4133    automatic  https://images.craigslist.org/00z0z_99zXyVvNmm...   \n",
       "1699        other  https://images.craigslist.org/00i0i_5iBwIawLgG...   \n",
       "9194        other  https://images.craigslist.org/00I0I_2IkqjY69Zq...   \n",
       "3006    automatic  https://images.craigslist.org/00C0C_bN8j4IcEqW...   \n",
       "5149       manual  https://images.craigslist.org/00q0q_3DqREXHC0j...   \n",
       "6566    automatic  https://images.craigslist.org/00u0u_fKyDNpMeQR...   \n",
       "9024    automatic  https://images.craigslist.org/00N0N_2egaCVi4pq...   \n",
       "4245    automatic  https://images.craigslist.org/00B0B_79v5I132cL...   \n",
       "8840       manual  https://images.craigslist.org/00v0v_ejAvqrK3iP...   \n",
       "6121        other  https://images.craigslist.org/01717_55Ai9omMq5...   \n",
       "292     automatic  https://images.craigslist.org/00t0t_dN5Wr8nfOx...   \n",
       "5662    automatic  https://images.craigslist.org/00r0r_gh2TnrNdSu...   \n",
       "9792        other  https://images.craigslist.org/00S0S_k3A68PVXRC...   \n",
       "\n",
       "                                            description state        lat  \\\n",
       "2087  2004 Rolls-Royce Phantom Base 4dr Sedan     Of...    nh  42.756205   \n",
       "4469  DO NOT NEED HELP SELLING – DON’T ASK!  Selling...    mt  48.404000   \n",
       "4133  New arrival  Z51  Call or text annamarie for d...    nm  35.081800   \n",
       "1699  I have several cars to get rid of:  A '65 Ramb...    id  46.735200   \n",
       "9194  Very Nice TJ jeeps and a few LJ jeep wranglers...    in  38.025845   \n",
       "3006  Beautiful car in perfect condition. Very rare ...    fl  30.122300   \n",
       "5149  2007 Ferrari F430 Spider 2dr Convertible     O...    ma  42.756205   \n",
       "6566  Serious/ready buyers, please call or text @ (4...    fl  28.463700   \n",
       "9024  SPECIALTYEXOTICS.COMCALL/TXT 469-215-1902FREE ...    ca  32.790400   \n",
       "4245  2015 Mercedes-Benz Sprinter 3500 Airstream Int...    or  45.382346   \n",
       "8840  Selling a Wonderful Super Dump! 2006 Peterbilt...    tx  30.364900   \n",
       "6121  CREDIT AMNESTY!  SE HABLA ESPANOL !!OPEN SUNDA...    fl  28.466088   \n",
       "292   2017 Ferrari 488 GTB Coupe2017 Ferrari 488 GTB...    az  32.236075   \n",
       "5662  2021 PORSCHE 911 Turbo     Offered by: Insider...    va  38.762669   \n",
       "9792  We come to you and give you an easy quick tran...    de  39.572500   \n",
       "\n",
       "            long              posting_date price_category  \\\n",
       "2087  -71.210258  2021-05-01T11:25:28-0400           high   \n",
       "4469 -114.350900  2021-04-17T10:28:02-0600           high   \n",
       "4133 -106.648200  2021-04-24T08:38:45-0600           high   \n",
       "1699 -117.172900  2021-04-07T15:57:23-0700           high   \n",
       "9194  -87.596457  2021-04-18T09:55:42-0500           high   \n",
       "3006  -81.362700  2021-04-17T16:48:42-0400           high   \n",
       "5149  -71.210258  2021-04-29T14:45:08-0400           high   \n",
       "6566  -81.394800  2021-04-25T12:58:01-0400           high   \n",
       "9024  -96.804400  2021-04-30T08:20:20-0700           high   \n",
       "4245 -122.605132  2021-05-03T11:04:09-0700           high   \n",
       "8840  -97.682700  2021-04-27T21:01:28-0500           high   \n",
       "6121  -81.396429  2021-05-01T11:48:44-0400           high   \n",
       "292  -110.878886  2021-04-22T09:38:59-0700           high   \n",
       "5662  -77.461754  2021-04-28T15:49:25-0400           high   \n",
       "9792  -75.595700  2021-04-11T13:51:42-0400           high   \n",
       "\n",
       "                          date  \n",
       "2087 2021-05-01 15:25:28+00:00  \n",
       "4469 2021-04-17 16:28:02+00:00  \n",
       "4133 2021-04-24 14:38:45+00:00  \n",
       "1699 2021-04-07 22:57:23+00:00  \n",
       "9194 2021-04-18 14:55:42+00:00  \n",
       "3006 2021-04-17 20:48:42+00:00  \n",
       "5149 2021-04-29 18:45:08+00:00  \n",
       "6566 2021-04-25 16:58:01+00:00  \n",
       "9024 2021-04-30 15:20:20+00:00  \n",
       "4245 2021-05-03 18:04:09+00:00  \n",
       "8840 2021-04-28 02:01:28+00:00  \n",
       "6121 2021-05-01 15:48:44+00:00  \n",
       "292  2021-04-22 16:38:59+00:00  \n",
       "5662 2021-04-28 19:49:25+00:00  \n",
       "9792 2021-04-11 17:51:42+00:00  "
      ]
     },
     "execution_count": 827,
     "metadata": {},
     "output_type": "execute_result"
    }
   ],
   "source": [
    "df_type[df_type['price'] > calculate_outliers_3sigma(df.price)[1]].sort_values(by='price').tail(15)\n",
    "# 15 самых дорогих авто. "
   ]
  },
  {
   "cell_type": "code",
   "execution_count": 828,
   "id": "a82b4a93-a0d1-4f0d-be3e-1ba33d65697d",
   "metadata": {
    "tags": []
   },
   "outputs": [
    {
     "data": {
      "text/plain": [
       "56"
      ]
     },
     "execution_count": 828,
     "metadata": {},
     "output_type": "execute_result"
    }
   ],
   "source": [
    "df_type[df_type['price'] > calculate_outliers_3sigma(df_type.price)[1]]['id'].count()\n",
    "# всего 56 выбрасов"
   ]
  },
  {
   "cell_type": "code",
   "execution_count": 829,
   "id": "a8f89945-29ed-447d-bca2-5e2fe79c5455",
   "metadata": {
    "tags": []
   },
   "outputs": [],
   "source": [
    "from matplotlib import pyplot as plt"
   ]
  },
  {
   "cell_type": "code",
   "execution_count": 830,
   "id": "e6d9916a-03cd-4612-b3ef-af9b7a248ffb",
   "metadata": {
    "tags": []
   },
   "outputs": [
    {
     "data": {
      "image/png": "[encoded data removed]",
      "text/plain": [
       "<Figure size 500x1500 with 1 Axes>"
      ]
     },
     "metadata": {},
     "output_type": "display_data"
    }
   ],
   "source": [
    "from matplotlib.ticker import FormatStrFormatter\n",
    "fig, ax = plt.subplots(figsize=(5,15))\n",
    "#plt.figure(figsize=(5,15))\n",
    "ax.boxplot(df['price'])\n",
    "ax.set_ylabel('Стоимость')\n",
    "ax.set_title('Аномалии в стоимости авто')\n",
    "ax.yaxis.set_major_formatter(FormatStrFormatter('%.0f'))"
   ]
  },
  {
   "cell_type": "markdown",
   "id": "a3cafda0-80e2-4579-9fc9-17721d0e7b17",
   "metadata": {},
   "source": [
    "Авто за $1000000 это явно ошибка в данных. Возможно, что модели от Porsche и Ferrari действительно стоят тех денег, но их в выборке не много. Поэтому, удалим их и будем обучать модель на массовом сегменте."
   ]
  },
  {
   "cell_type": "code",
   "execution_count": 831,
   "id": "097c739b-242f-4add-8964-53c6d938c0c8",
   "metadata": {
    "tags": []
   },
   "outputs": [],
   "source": [
    "df_anoamalya = df_type.copy()"
   ]
  },
  {
   "cell_type": "code",
   "execution_count": 832,
   "id": "27995581-e003-466f-bb00-154738e2d1e2",
   "metadata": {
    "tags": []
   },
   "outputs": [],
   "source": [
    "df_anoamalya = df_type[df_type['price'] < calculate_outliers_3sigma(df_type.price)[1]]"
   ]
  },
  {
   "cell_type": "code",
   "execution_count": 833,
   "id": "2deac4b9-221f-443d-b70c-a95ae6a6d669",
   "metadata": {
    "tags": []
   },
   "outputs": [
    {
     "data": {
      "text/html": [
       "<div>\n",
       "<style scoped>\n",
       "    .dataframe tbody tr th:only-of-type {\n",
       "        vertical-align: middle;\n",
       "    }\n",
       "\n",
       "    .dataframe tbody tr th {\n",
       "        vertical-align: top;\n",
       "    }\n",
       "\n",
       "    .dataframe thead th {\n",
       "        text-align: right;\n",
       "    }\n",
       "</style>\n",
       "<table border=\"1\" class=\"dataframe\">\n",
       "  <thead>\n",
       "    <tr style=\"text-align: right;\">\n",
       "      <th></th>\n",
       "      <th>id</th>\n",
       "      <th>url</th>\n",
       "      <th>region</th>\n",
       "      <th>region_url</th>\n",
       "      <th>price</th>\n",
       "      <th>year</th>\n",
       "      <th>manufacturer</th>\n",
       "      <th>model</th>\n",
       "      <th>fuel</th>\n",
       "      <th>odometer</th>\n",
       "      <th>title_status</th>\n",
       "      <th>transmission</th>\n",
       "      <th>image_url</th>\n",
       "      <th>description</th>\n",
       "      <th>state</th>\n",
       "      <th>lat</th>\n",
       "      <th>long</th>\n",
       "      <th>posting_date</th>\n",
       "      <th>price_category</th>\n",
       "      <th>date</th>\n",
       "    </tr>\n",
       "  </thead>\n",
       "  <tbody>\n",
       "    <tr>\n",
       "      <th>9702</th>\n",
       "      <td>7306035112</td>\n",
       "      <td>https://palmsprings.craigslist.org/ctd/d/jurup...</td>\n",
       "      <td>palm springs</td>\n",
       "      <td>https://palmsprings.craigslist.org</td>\n",
       "      <td>500</td>\n",
       "      <td>2013</td>\n",
       "      <td>nissan</td>\n",
       "      <td>altima</td>\n",
       "      <td>gas</td>\n",
       "      <td>130000</td>\n",
       "      <td>salvage</td>\n",
       "      <td>automatic</td>\n",
       "      <td>https://images.craigslist.org/00z0z_cOLzInlBVQ...</td>\n",
       "      <td>Call* 909 333 8413 Or 323 713 7682 Follow us o...</td>\n",
       "      <td>ca</td>\n",
       "      <td>34.003300</td>\n",
       "      <td>-117.445000</td>\n",
       "      <td>2021-04-12T23:04:05-0700</td>\n",
       "      <td>low</td>\n",
       "      <td>2021-04-13 06:04:05+00:00</td>\n",
       "    </tr>\n",
       "    <tr>\n",
       "      <th>8240</th>\n",
       "      <td>7312874623</td>\n",
       "      <td>https://desmoines.craigslist.org/cto/d/des-moi...</td>\n",
       "      <td>des moines</td>\n",
       "      <td>https://desmoines.craigslist.org</td>\n",
       "      <td>500</td>\n",
       "      <td>2006</td>\n",
       "      <td>jeep</td>\n",
       "      <td>grand cherokee</td>\n",
       "      <td>gas</td>\n",
       "      <td>150000</td>\n",
       "      <td>clean</td>\n",
       "      <td>manual</td>\n",
       "      <td>https://images.craigslist.org/00z0z_cT6FWo2FUe...</td>\n",
       "      <td>RUNS DRIVES SHIFTS BRAKES AN STEERS EXCELLENT ...</td>\n",
       "      <td>ia</td>\n",
       "      <td>41.638100</td>\n",
       "      <td>-93.620300</td>\n",
       "      <td>2021-04-26T11:54:48-0500</td>\n",
       "      <td>low</td>\n",
       "      <td>2021-04-26 16:54:48+00:00</td>\n",
       "    </tr>\n",
       "    <tr>\n",
       "      <th>4017</th>\n",
       "      <td>7314837103</td>\n",
       "      <td>https://cleveland.craigslist.org/ctd/d/clevela...</td>\n",
       "      <td>cleveland</td>\n",
       "      <td>https://cleveland.craigslist.org</td>\n",
       "      <td>500</td>\n",
       "      <td>2014</td>\n",
       "      <td>chevrolet</td>\n",
       "      <td>malibu</td>\n",
       "      <td>gas</td>\n",
       "      <td>10000</td>\n",
       "      <td>clean</td>\n",
       "      <td>automatic</td>\n",
       "      <td>https://images.craigslist.org/00808_69FzBuYFb6...</td>\n",
       "      <td>📣 SPECIAL EVENT 📣  We will be having our first...</td>\n",
       "      <td>oh</td>\n",
       "      <td>41.463159</td>\n",
       "      <td>-81.646343</td>\n",
       "      <td>2021-04-30T11:54:05-0400</td>\n",
       "      <td>low</td>\n",
       "      <td>2021-04-30 15:54:05+00:00</td>\n",
       "    </tr>\n",
       "    <tr>\n",
       "      <th>6455</th>\n",
       "      <td>7302068140</td>\n",
       "      <td>https://cleveland.craigslist.org/ctd/d/clevela...</td>\n",
       "      <td>cleveland</td>\n",
       "      <td>https://cleveland.craigslist.org</td>\n",
       "      <td>500</td>\n",
       "      <td>2014</td>\n",
       "      <td>chevrolet</td>\n",
       "      <td>malibu</td>\n",
       "      <td>gas</td>\n",
       "      <td>10000</td>\n",
       "      <td>clean</td>\n",
       "      <td>automatic</td>\n",
       "      <td>https://images.craigslist.org/00808_69FzBuYFb6...</td>\n",
       "      <td>📣 SPECIAL EVENT 📣  We will be having our first...</td>\n",
       "      <td>oh</td>\n",
       "      <td>41.463159</td>\n",
       "      <td>-81.646343</td>\n",
       "      <td>2021-04-05T11:19:54-0400</td>\n",
       "      <td>low</td>\n",
       "      <td>2021-04-05 15:19:54+00:00</td>\n",
       "    </tr>\n",
       "    <tr>\n",
       "      <th>1194</th>\n",
       "      <td>7316794885</td>\n",
       "      <td>https://minneapolis.craigslist.org/ank/ctd/d/l...</td>\n",
       "      <td>minneapolis / st paul</td>\n",
       "      <td>https://minneapolis.craigslist.org</td>\n",
       "      <td>500</td>\n",
       "      <td>2004</td>\n",
       "      <td>chevrolet</td>\n",
       "      <td>equinox</td>\n",
       "      <td>gas</td>\n",
       "      <td>100000</td>\n",
       "      <td>clean</td>\n",
       "      <td>automatic</td>\n",
       "      <td>https://images.craigslist.org/00W0W_l1R4dela7J...</td>\n",
       "      <td>Updated 5-03-21  *THE FOLLOWING LIST OF CARS A...</td>\n",
       "      <td>mn</td>\n",
       "      <td>45.925259</td>\n",
       "      <td>-94.346037</td>\n",
       "      <td>2021-05-04T12:01:14-0500</td>\n",
       "      <td>low</td>\n",
       "      <td>2021-05-04 17:01:14+00:00</td>\n",
       "    </tr>\n",
       "    <tr>\n",
       "      <th>...</th>\n",
       "      <td>...</td>\n",
       "      <td>...</td>\n",
       "      <td>...</td>\n",
       "      <td>...</td>\n",
       "      <td>...</td>\n",
       "      <td>...</td>\n",
       "      <td>...</td>\n",
       "      <td>...</td>\n",
       "      <td>...</td>\n",
       "      <td>...</td>\n",
       "      <td>...</td>\n",
       "      <td>...</td>\n",
       "      <td>...</td>\n",
       "      <td>...</td>\n",
       "      <td>...</td>\n",
       "      <td>...</td>\n",
       "      <td>...</td>\n",
       "      <td>...</td>\n",
       "      <td>...</td>\n",
       "      <td>...</td>\n",
       "    </tr>\n",
       "    <tr>\n",
       "      <th>8628</th>\n",
       "      <td>7307033814</td>\n",
       "      <td>https://elpaso.craigslist.org/ctd/d/tempe-2020...</td>\n",
       "      <td>el paso</td>\n",
       "      <td>https://elpaso.craigslist.org</td>\n",
       "      <td>72995</td>\n",
       "      <td>2020</td>\n",
       "      <td>ram</td>\n",
       "      <td>2500 6\" lifted laramie crew 4x4</td>\n",
       "      <td>diesel</td>\n",
       "      <td>23403</td>\n",
       "      <td>clean</td>\n",
       "      <td>automatic</td>\n",
       "      <td>https://images.craigslist.org/00X0X_gKWGgS8XlA...</td>\n",
       "      <td>2020 Ram 2500 6\" LIFTED LARAMIE CREW 4X4 Truck...</td>\n",
       "      <td>tx</td>\n",
       "      <td>33.391700</td>\n",
       "      <td>-111.924900</td>\n",
       "      <td>2021-04-14T21:01:34-0600</td>\n",
       "      <td>high</td>\n",
       "      <td>2021-04-15 03:01:34+00:00</td>\n",
       "    </tr>\n",
       "    <tr>\n",
       "      <th>6243</th>\n",
       "      <td>7314495756</td>\n",
       "      <td>https://spokane.craigslist.org/ctd/d/greenacre...</td>\n",
       "      <td>spokane / coeur d'alene</td>\n",
       "      <td>https://spokane.craigslist.org</td>\n",
       "      <td>72998</td>\n",
       "      <td>2016</td>\n",
       "      <td>gmc</td>\n",
       "      <td>sierra 2500 denali</td>\n",
       "      <td>diesel</td>\n",
       "      <td>39593</td>\n",
       "      <td>clean</td>\n",
       "      <td>automatic</td>\n",
       "      <td>https://images.craigslist.org/00s0s_hTl7Jkky3n...</td>\n",
       "      <td>2016 GMC Sierra 2500 Denali Truck1 OWNER 2016 ...</td>\n",
       "      <td>id</td>\n",
       "      <td>47.658400</td>\n",
       "      <td>-117.156800</td>\n",
       "      <td>2021-04-29T13:12:36-0700</td>\n",
       "      <td>high</td>\n",
       "      <td>2021-04-29 20:12:36+00:00</td>\n",
       "    </tr>\n",
       "    <tr>\n",
       "      <th>2021</th>\n",
       "      <td>7304872057</td>\n",
       "      <td>https://kpr.craigslist.org/ctd/d/pasco-2019-ch...</td>\n",
       "      <td>kennewick-pasco-richland</td>\n",
       "      <td>https://kpr.craigslist.org</td>\n",
       "      <td>72999</td>\n",
       "      <td>2019</td>\n",
       "      <td>chevrolet</td>\n",
       "      <td>silverado deisel 3500</td>\n",
       "      <td>diesel</td>\n",
       "      <td>29987</td>\n",
       "      <td>clean</td>\n",
       "      <td>automatic</td>\n",
       "      <td>https://images.craigslist.org/01111_bHDiG8TiL4...</td>\n",
       "      <td>2019 Chevrolet Silverado 3500 HD LTZ Z71 4x4 *...</td>\n",
       "      <td>wa</td>\n",
       "      <td>46.234838</td>\n",
       "      <td>-119.128015</td>\n",
       "      <td>2021-04-10T13:26:04-0700</td>\n",
       "      <td>high</td>\n",
       "      <td>2021-04-10 20:26:04+00:00</td>\n",
       "    </tr>\n",
       "    <tr>\n",
       "      <th>6069</th>\n",
       "      <td>7316730427</td>\n",
       "      <td>https://killeen.craigslist.org/ctd/d/liberty-h...</td>\n",
       "      <td>killeen / temple / ft hood</td>\n",
       "      <td>https://killeen.craigslist.org</td>\n",
       "      <td>73995</td>\n",
       "      <td>2019</td>\n",
       "      <td>ford</td>\n",
       "      <td>f250 lariat 4x4 diesel</td>\n",
       "      <td>diesel</td>\n",
       "      <td>52378</td>\n",
       "      <td>clean</td>\n",
       "      <td>automatic</td>\n",
       "      <td>https://images.craigslist.org/00N0N_aFAWPeUISJ...</td>\n",
       "      <td>CALL OR TEXT 512-914-8066  www.GETADIESEL.com ...</td>\n",
       "      <td>tx</td>\n",
       "      <td>30.663000</td>\n",
       "      <td>-97.931600</td>\n",
       "      <td>2021-05-04T10:19:32-0500</td>\n",
       "      <td>high</td>\n",
       "      <td>2021-05-04 15:19:32+00:00</td>\n",
       "    </tr>\n",
       "    <tr>\n",
       "      <th>8461</th>\n",
       "      <td>7311801119</td>\n",
       "      <td>https://kalamazoo.craigslist.org/cto/d/marcell...</td>\n",
       "      <td>kalamazoo</td>\n",
       "      <td>https://kalamazoo.craigslist.org</td>\n",
       "      <td>74000</td>\n",
       "      <td>2019</td>\n",
       "      <td>ford</td>\n",
       "      <td>f250 super duty</td>\n",
       "      <td>diesel</td>\n",
       "      <td>20000</td>\n",
       "      <td>lien</td>\n",
       "      <td>automatic</td>\n",
       "      <td>https://images.craigslist.org/00F0F_euRjgypJAQ...</td>\n",
       "      <td>Beautiful Platinum F250. Deleted DPF, MBRP exh...</td>\n",
       "      <td>mi</td>\n",
       "      <td>42.027300</td>\n",
       "      <td>-85.824500</td>\n",
       "      <td>2021-04-24T09:09:13-0400</td>\n",
       "      <td>high</td>\n",
       "      <td>2021-04-24 13:09:13+00:00</td>\n",
       "    </tr>\n",
       "  </tbody>\n",
       "</table>\n",
       "<p>9451 rows × 20 columns</p>\n",
       "</div>"
      ],
      "text/plain": [
       "              id                                                url  \\\n",
       "9702  7306035112  https://palmsprings.craigslist.org/ctd/d/jurup...   \n",
       "8240  7312874623  https://desmoines.craigslist.org/cto/d/des-moi...   \n",
       "4017  7314837103  https://cleveland.craigslist.org/ctd/d/clevela...   \n",
       "6455  7302068140  https://cleveland.craigslist.org/ctd/d/clevela...   \n",
       "1194  7316794885  https://minneapolis.craigslist.org/ank/ctd/d/l...   \n",
       "...          ...                                                ...   \n",
       "8628  7307033814  https://elpaso.craigslist.org/ctd/d/tempe-2020...   \n",
       "6243  7314495756  https://spokane.craigslist.org/ctd/d/greenacre...   \n",
       "2021  7304872057  https://kpr.craigslist.org/ctd/d/pasco-2019-ch...   \n",
       "6069  7316730427  https://killeen.craigslist.org/ctd/d/liberty-h...   \n",
       "8461  7311801119  https://kalamazoo.craigslist.org/cto/d/marcell...   \n",
       "\n",
       "                          region                          region_url  price  \\\n",
       "9702                palm springs  https://palmsprings.craigslist.org    500   \n",
       "8240                  des moines    https://desmoines.craigslist.org    500   \n",
       "4017                   cleveland    https://cleveland.craigslist.org    500   \n",
       "6455                   cleveland    https://cleveland.craigslist.org    500   \n",
       "1194       minneapolis / st paul  https://minneapolis.craigslist.org    500   \n",
       "...                          ...                                 ...    ...   \n",
       "8628                     el paso       https://elpaso.craigslist.org  72995   \n",
       "6243     spokane / coeur d'alene      https://spokane.craigslist.org  72998   \n",
       "2021    kennewick-pasco-richland          https://kpr.craigslist.org  72999   \n",
       "6069  killeen / temple / ft hood      https://killeen.craigslist.org  73995   \n",
       "8461                   kalamazoo    https://kalamazoo.craigslist.org  74000   \n",
       "\n",
       "      year manufacturer                            model    fuel  odometer  \\\n",
       "9702  2013       nissan                           altima     gas    130000   \n",
       "8240  2006         jeep                   grand cherokee     gas    150000   \n",
       "4017  2014    chevrolet                           malibu     gas     10000   \n",
       "6455  2014    chevrolet                           malibu     gas     10000   \n",
       "1194  2004    chevrolet                          equinox     gas    100000   \n",
       "...    ...          ...                              ...     ...       ...   \n",
       "8628  2020          ram  2500 6\" lifted laramie crew 4x4  diesel     23403   \n",
       "6243  2016          gmc               sierra 2500 denali  diesel     39593   \n",
       "2021  2019    chevrolet            silverado deisel 3500  diesel     29987   \n",
       "6069  2019         ford           f250 lariat 4x4 diesel  diesel     52378   \n",
       "8461  2019         ford                  f250 super duty  diesel     20000   \n",
       "\n",
       "     title_status transmission  \\\n",
       "9702      salvage    automatic   \n",
       "8240        clean       manual   \n",
       "4017        clean    automatic   \n",
       "6455        clean    automatic   \n",
       "1194        clean    automatic   \n",
       "...           ...          ...   \n",
       "8628        clean    automatic   \n",
       "6243        clean    automatic   \n",
       "2021        clean    automatic   \n",
       "6069        clean    automatic   \n",
       "8461         lien    automatic   \n",
       "\n",
       "                                              image_url  \\\n",
       "9702  https://images.craigslist.org/00z0z_cOLzInlBVQ...   \n",
       "8240  https://images.craigslist.org/00z0z_cT6FWo2FUe...   \n",
       "4017  https://images.craigslist.org/00808_69FzBuYFb6...   \n",
       "6455  https://images.craigslist.org/00808_69FzBuYFb6...   \n",
       "1194  https://images.craigslist.org/00W0W_l1R4dela7J...   \n",
       "...                                                 ...   \n",
       "8628  https://images.craigslist.org/00X0X_gKWGgS8XlA...   \n",
       "6243  https://images.craigslist.org/00s0s_hTl7Jkky3n...   \n",
       "2021  https://images.craigslist.org/01111_bHDiG8TiL4...   \n",
       "6069  https://images.craigslist.org/00N0N_aFAWPeUISJ...   \n",
       "8461  https://images.craigslist.org/00F0F_euRjgypJAQ...   \n",
       "\n",
       "                                            description state        lat  \\\n",
       "9702  Call* 909 333 8413 Or 323 713 7682 Follow us o...    ca  34.003300   \n",
       "8240  RUNS DRIVES SHIFTS BRAKES AN STEERS EXCELLENT ...    ia  41.638100   \n",
       "4017  📣 SPECIAL EVENT 📣  We will be having our first...    oh  41.463159   \n",
       "6455  📣 SPECIAL EVENT 📣  We will be having our first...    oh  41.463159   \n",
       "1194  Updated 5-03-21  *THE FOLLOWING LIST OF CARS A...    mn  45.925259   \n",
       "...                                                 ...   ...        ...   \n",
       "8628  2020 Ram 2500 6\" LIFTED LARAMIE CREW 4X4 Truck...    tx  33.391700   \n",
       "6243  2016 GMC Sierra 2500 Denali Truck1 OWNER 2016 ...    id  47.658400   \n",
       "2021  2019 Chevrolet Silverado 3500 HD LTZ Z71 4x4 *...    wa  46.234838   \n",
       "6069  CALL OR TEXT 512-914-8066  www.GETADIESEL.com ...    tx  30.663000   \n",
       "8461  Beautiful Platinum F250. Deleted DPF, MBRP exh...    mi  42.027300   \n",
       "\n",
       "            long              posting_date price_category  \\\n",
       "9702 -117.445000  2021-04-12T23:04:05-0700            low   \n",
       "8240  -93.620300  2021-04-26T11:54:48-0500            low   \n",
       "4017  -81.646343  2021-04-30T11:54:05-0400            low   \n",
       "6455  -81.646343  2021-04-05T11:19:54-0400            low   \n",
       "1194  -94.346037  2021-05-04T12:01:14-0500            low   \n",
       "...          ...                       ...            ...   \n",
       "8628 -111.924900  2021-04-14T21:01:34-0600           high   \n",
       "6243 -117.156800  2021-04-29T13:12:36-0700           high   \n",
       "2021 -119.128015  2021-04-10T13:26:04-0700           high   \n",
       "6069  -97.931600  2021-05-04T10:19:32-0500           high   \n",
       "8461  -85.824500  2021-04-24T09:09:13-0400           high   \n",
       "\n",
       "                          date  \n",
       "9702 2021-04-13 06:04:05+00:00  \n",
       "8240 2021-04-26 16:54:48+00:00  \n",
       "4017 2021-04-30 15:54:05+00:00  \n",
       "6455 2021-04-05 15:19:54+00:00  \n",
       "1194 2021-05-04 17:01:14+00:00  \n",
       "...                        ...  \n",
       "8628 2021-04-15 03:01:34+00:00  \n",
       "6243 2021-04-29 20:12:36+00:00  \n",
       "2021 2021-04-10 20:26:04+00:00  \n",
       "6069 2021-05-04 15:19:32+00:00  \n",
       "8461 2021-04-24 13:09:13+00:00  \n",
       "\n",
       "[9451 rows x 20 columns]"
      ]
     },
     "execution_count": 833,
     "metadata": {},
     "output_type": "execute_result"
    }
   ],
   "source": [
    "df_anoamalya.sort_values(by='price')"
   ]
  },
  {
   "cell_type": "markdown",
   "id": "69359501-ce49-48ff-b42c-90d72d523405",
   "metadata": {},
   "source": [
    "Записи с аномальными ценами удалены. Продолжим поиск аномалий."
   ]
  },
  {
   "cell_type": "code",
   "execution_count": 834,
   "id": "52502c16-2c4c-4616-ac90-9f3d9333e027",
   "metadata": {
    "tags": []
   },
   "outputs": [
    {
     "data": {
      "text/html": [
       "<div>\n",
       "<style scoped>\n",
       "    .dataframe tbody tr th:only-of-type {\n",
       "        vertical-align: middle;\n",
       "    }\n",
       "\n",
       "    .dataframe tbody tr th {\n",
       "        vertical-align: top;\n",
       "    }\n",
       "\n",
       "    .dataframe thead th {\n",
       "        text-align: right;\n",
       "    }\n",
       "</style>\n",
       "<table border=\"1\" class=\"dataframe\">\n",
       "  <thead>\n",
       "    <tr style=\"text-align: right;\">\n",
       "      <th></th>\n",
       "      <th>id</th>\n",
       "      <th>price</th>\n",
       "      <th>year</th>\n",
       "      <th>odometer</th>\n",
       "      <th>lat</th>\n",
       "      <th>long</th>\n",
       "    </tr>\n",
       "  </thead>\n",
       "  <tbody>\n",
       "    <tr>\n",
       "      <th>count</th>\n",
       "      <td>9.451000e+03</td>\n",
       "      <td>9451.000000</td>\n",
       "      <td>9451.000000</td>\n",
       "      <td>9451.000000</td>\n",
       "      <td>9451.000000</td>\n",
       "      <td>9451.000000</td>\n",
       "    </tr>\n",
       "    <tr>\n",
       "      <th>mean</th>\n",
       "      <td>7.311558e+09</td>\n",
       "      <td>18791.327267</td>\n",
       "      <td>2011.009629</td>\n",
       "      <td>93929.389059</td>\n",
       "      <td>38.596392</td>\n",
       "      <td>-93.929857</td>\n",
       "    </tr>\n",
       "    <tr>\n",
       "      <th>std</th>\n",
       "      <td>4.369697e+06</td>\n",
       "      <td>13600.939771</td>\n",
       "      <td>9.438636</td>\n",
       "      <td>63067.606248</td>\n",
       "      <td>5.724239</td>\n",
       "      <td>17.795703</td>\n",
       "    </tr>\n",
       "    <tr>\n",
       "      <th>min</th>\n",
       "      <td>7.301586e+09</td>\n",
       "      <td>500.000000</td>\n",
       "      <td>1915.000000</td>\n",
       "      <td>0.000000</td>\n",
       "      <td>19.541726</td>\n",
       "      <td>-158.069300</td>\n",
       "    </tr>\n",
       "    <tr>\n",
       "      <th>25%</th>\n",
       "      <td>7.308183e+09</td>\n",
       "      <td>7797.000000</td>\n",
       "      <td>2008.000000</td>\n",
       "      <td>39656.000000</td>\n",
       "      <td>34.892100</td>\n",
       "      <td>-107.495450</td>\n",
       "    </tr>\n",
       "    <tr>\n",
       "      <th>50%</th>\n",
       "      <td>7.312782e+09</td>\n",
       "      <td>15590.000000</td>\n",
       "      <td>2013.000000</td>\n",
       "      <td>89307.000000</td>\n",
       "      <td>39.300000</td>\n",
       "      <td>-87.947800</td>\n",
       "    </tr>\n",
       "    <tr>\n",
       "      <th>75%</th>\n",
       "      <td>7.315292e+09</td>\n",
       "      <td>27990.000000</td>\n",
       "      <td>2017.000000</td>\n",
       "      <td>137516.500000</td>\n",
       "      <td>42.400679</td>\n",
       "      <td>-80.690000</td>\n",
       "    </tr>\n",
       "    <tr>\n",
       "      <th>max</th>\n",
       "      <td>7.317090e+09</td>\n",
       "      <td>74000.000000</td>\n",
       "      <td>2022.000000</td>\n",
       "      <td>283466.000000</td>\n",
       "      <td>64.947500</td>\n",
       "      <td>94.163200</td>\n",
       "    </tr>\n",
       "  </tbody>\n",
       "</table>\n",
       "</div>"
      ],
      "text/plain": [
       "                 id         price         year       odometer          lat  \\\n",
       "count  9.451000e+03   9451.000000  9451.000000    9451.000000  9451.000000   \n",
       "mean   7.311558e+09  18791.327267  2011.009629   93929.389059    38.596392   \n",
       "std    4.369697e+06  13600.939771     9.438636   63067.606248     5.724239   \n",
       "min    7.301586e+09    500.000000  1915.000000       0.000000    19.541726   \n",
       "25%    7.308183e+09   7797.000000  2008.000000   39656.000000    34.892100   \n",
       "50%    7.312782e+09  15590.000000  2013.000000   89307.000000    39.300000   \n",
       "75%    7.315292e+09  27990.000000  2017.000000  137516.500000    42.400679   \n",
       "max    7.317090e+09  74000.000000  2022.000000  283466.000000    64.947500   \n",
       "\n",
       "              long  \n",
       "count  9451.000000  \n",
       "mean    -93.929857  \n",
       "std      17.795703  \n",
       "min    -158.069300  \n",
       "25%    -107.495450  \n",
       "50%     -87.947800  \n",
       "75%     -80.690000  \n",
       "max      94.163200  "
      ]
     },
     "execution_count": 834,
     "metadata": {},
     "output_type": "execute_result"
    }
   ],
   "source": [
    "df_anoamalya.describe()"
   ]
  },
  {
   "cell_type": "code",
   "execution_count": 835,
   "id": "db2401f9-b67a-48e6-81c7-2b549903b232",
   "metadata": {
    "tags": []
   },
   "outputs": [
    {
     "data": {
      "text/plain": [
       "(1983, 2039)"
      ]
     },
     "execution_count": 835,
     "metadata": {},
     "output_type": "execute_result"
    }
   ],
   "source": [
    "# year\n",
    "calculate_outliers_3sigma(df_anoamalya.year)"
   ]
  },
  {
   "cell_type": "markdown",
   "id": "79987980-9578-45d0-a694-cd24dccc3576",
   "metadata": {},
   "source": [
    "Есть выбрасы на нижней границе."
   ]
  },
  {
   "cell_type": "code",
   "execution_count": 836,
   "id": "c7c01f8f-599f-4804-9c8b-82362ab66e80",
   "metadata": {
    "tags": []
   },
   "outputs": [
    {
     "data": {
      "text/html": [
       "<div>\n",
       "<style scoped>\n",
       "    .dataframe tbody tr th:only-of-type {\n",
       "        vertical-align: middle;\n",
       "    }\n",
       "\n",
       "    .dataframe tbody tr th {\n",
       "        vertical-align: top;\n",
       "    }\n",
       "\n",
       "    .dataframe thead th {\n",
       "        text-align: right;\n",
       "    }\n",
       "</style>\n",
       "<table border=\"1\" class=\"dataframe\">\n",
       "  <thead>\n",
       "    <tr style=\"text-align: right;\">\n",
       "      <th></th>\n",
       "      <th>id</th>\n",
       "      <th>url</th>\n",
       "      <th>region</th>\n",
       "      <th>region_url</th>\n",
       "      <th>price</th>\n",
       "      <th>year</th>\n",
       "      <th>manufacturer</th>\n",
       "      <th>model</th>\n",
       "      <th>fuel</th>\n",
       "      <th>odometer</th>\n",
       "      <th>title_status</th>\n",
       "      <th>transmission</th>\n",
       "      <th>image_url</th>\n",
       "      <th>description</th>\n",
       "      <th>state</th>\n",
       "      <th>lat</th>\n",
       "      <th>long</th>\n",
       "      <th>posting_date</th>\n",
       "      <th>price_category</th>\n",
       "      <th>date</th>\n",
       "    </tr>\n",
       "  </thead>\n",
       "  <tbody>\n",
       "    <tr>\n",
       "      <th>401</th>\n",
       "      <td>7308847796</td>\n",
       "      <td>https://billings.craigslist.org/cto/d/columbus...</td>\n",
       "      <td>billings</td>\n",
       "      <td>https://billings.craigslist.org</td>\n",
       "      <td>5000</td>\n",
       "      <td>1915</td>\n",
       "      <td>ford</td>\n",
       "      <td>model t</td>\n",
       "      <td>gas</td>\n",
       "      <td>12345</td>\n",
       "      <td>clean</td>\n",
       "      <td>manual</td>\n",
       "      <td>https://images.craigslist.org/01616_88aseKpgub...</td>\n",
       "      <td>Things included New Rootlieb front and rear fe...</td>\n",
       "      <td>mt</td>\n",
       "      <td>45.626200</td>\n",
       "      <td>-109.257100</td>\n",
       "      <td>2021-04-18T12:20:03-0600</td>\n",
       "      <td>low</td>\n",
       "      <td>2021-04-18 18:20:03+00:00</td>\n",
       "    </tr>\n",
       "    <tr>\n",
       "      <th>6342</th>\n",
       "      <td>7314390836</td>\n",
       "      <td>https://kansascity.craigslist.org/ctd/d/odessa...</td>\n",
       "      <td>kansas city, MO</td>\n",
       "      <td>https://kansascity.craigslist.org</td>\n",
       "      <td>14950</td>\n",
       "      <td>1923</td>\n",
       "      <td>ford</td>\n",
       "      <td>t-bucket</td>\n",
       "      <td>gas</td>\n",
       "      <td>15000</td>\n",
       "      <td>clean</td>\n",
       "      <td>automatic</td>\n",
       "      <td>https://images.craigslist.org/00E0E_kfyzxZlR3y...</td>\n",
       "      <td>1923 T bucket 550ci 700Hp BBC World product he...</td>\n",
       "      <td>ks</td>\n",
       "      <td>38.982900</td>\n",
       "      <td>-93.975700</td>\n",
       "      <td>2021-04-29T12:12:18-0500</td>\n",
       "      <td>medium</td>\n",
       "      <td>2021-04-29 17:12:18+00:00</td>\n",
       "    </tr>\n",
       "    <tr>\n",
       "      <th>5014</th>\n",
       "      <td>7313024973</td>\n",
       "      <td>https://prescott.craigslist.org/cto/d/cottonwo...</td>\n",
       "      <td>prescott</td>\n",
       "      <td>https://prescott.craigslist.org</td>\n",
       "      <td>18500</td>\n",
       "      <td>1927</td>\n",
       "      <td>chevrolet</td>\n",
       "      <td>coupe</td>\n",
       "      <td>gas</td>\n",
       "      <td>100</td>\n",
       "      <td>clean</td>\n",
       "      <td>manual</td>\n",
       "      <td>https://images.craigslist.org/00r0r_j4bp7r0piT...</td>\n",
       "      <td>1927 Chevy Capitol A Coupe, all original, 2nd ...</td>\n",
       "      <td>az</td>\n",
       "      <td>34.571326</td>\n",
       "      <td>-112.104943</td>\n",
       "      <td>2021-04-26T13:52:28-0700</td>\n",
       "      <td>medium</td>\n",
       "      <td>2021-04-26 20:52:28+00:00</td>\n",
       "    </tr>\n",
       "    <tr>\n",
       "      <th>6476</th>\n",
       "      <td>7312752494</td>\n",
       "      <td>https://rochester.craigslist.org/cto/d/hilton-...</td>\n",
       "      <td>rochester</td>\n",
       "      <td>https://rochester.craigslist.org</td>\n",
       "      <td>45000</td>\n",
       "      <td>1928</td>\n",
       "      <td>ford</td>\n",
       "      <td>sport coupe</td>\n",
       "      <td>gas</td>\n",
       "      <td>2520</td>\n",
       "      <td>clean</td>\n",
       "      <td>automatic</td>\n",
       "      <td>https://images.craigslist.org/00q0q_gUJUnEwtJi...</td>\n",
       "      <td>This 1928 Ford Model A Sport Coupe, was a 2008...</td>\n",
       "      <td>ny</td>\n",
       "      <td>43.273081</td>\n",
       "      <td>-77.795563</td>\n",
       "      <td>2021-04-26T09:39:22-0400</td>\n",
       "      <td>high</td>\n",
       "      <td>2021-04-26 13:39:22+00:00</td>\n",
       "    </tr>\n",
       "    <tr>\n",
       "      <th>6329</th>\n",
       "      <td>7316455114</td>\n",
       "      <td>https://tucson.craigslist.org/cto/d/tucson-192...</td>\n",
       "      <td>tucson</td>\n",
       "      <td>https://tucson.craigslist.org</td>\n",
       "      <td>7800</td>\n",
       "      <td>1928</td>\n",
       "      <td>other</td>\n",
       "      <td>1928 Crysler</td>\n",
       "      <td>gas</td>\n",
       "      <td>100</td>\n",
       "      <td>clean</td>\n",
       "      <td>automatic</td>\n",
       "      <td>https://images.craigslist.org/00B0B_1FiYNYzHas...</td>\n",
       "      <td>Here for sale is a nice Rat Rod, the body is a...</td>\n",
       "      <td>az</td>\n",
       "      <td>32.188659</td>\n",
       "      <td>-110.769482</td>\n",
       "      <td>2021-05-03T14:52:05-0700</td>\n",
       "      <td>low</td>\n",
       "      <td>2021-05-03 21:52:05+00:00</td>\n",
       "    </tr>\n",
       "    <tr>\n",
       "      <th>...</th>\n",
       "      <td>...</td>\n",
       "      <td>...</td>\n",
       "      <td>...</td>\n",
       "      <td>...</td>\n",
       "      <td>...</td>\n",
       "      <td>...</td>\n",
       "      <td>...</td>\n",
       "      <td>...</td>\n",
       "      <td>...</td>\n",
       "      <td>...</td>\n",
       "      <td>...</td>\n",
       "      <td>...</td>\n",
       "      <td>...</td>\n",
       "      <td>...</td>\n",
       "      <td>...</td>\n",
       "      <td>...</td>\n",
       "      <td>...</td>\n",
       "      <td>...</td>\n",
       "      <td>...</td>\n",
       "      <td>...</td>\n",
       "    </tr>\n",
       "    <tr>\n",
       "      <th>754</th>\n",
       "      <td>7310994464</td>\n",
       "      <td>https://odessa.craigslist.org/cto/d/kermit-cj-...</td>\n",
       "      <td>odessa / midland</td>\n",
       "      <td>https://odessa.craigslist.org</td>\n",
       "      <td>18000</td>\n",
       "      <td>1981</td>\n",
       "      <td>jeep</td>\n",
       "      <td>cj8 scrambler</td>\n",
       "      <td>gas</td>\n",
       "      <td>100000</td>\n",
       "      <td>clean</td>\n",
       "      <td>manual</td>\n",
       "      <td>https://images.craigslist.org/00C0C_5M6O9m9wWB...</td>\n",
       "      <td>Cj8 Sbc 350 4x4 starts right up lots of new pa...</td>\n",
       "      <td>tx</td>\n",
       "      <td>31.855000</td>\n",
       "      <td>-103.091300</td>\n",
       "      <td>2021-04-22T14:15:07-0500</td>\n",
       "      <td>medium</td>\n",
       "      <td>2021-04-22 19:15:07+00:00</td>\n",
       "    </tr>\n",
       "    <tr>\n",
       "      <th>7195</th>\n",
       "      <td>7311978609</td>\n",
       "      <td>https://utica.craigslist.org/cto/d/yorkville-1...</td>\n",
       "      <td>utica-rome-oneida</td>\n",
       "      <td>https://utica.craigslist.org</td>\n",
       "      <td>12500</td>\n",
       "      <td>1981</td>\n",
       "      <td>chevrolet</td>\n",
       "      <td>corvette</td>\n",
       "      <td>gas</td>\n",
       "      <td>61300</td>\n",
       "      <td>clean</td>\n",
       "      <td>manual</td>\n",
       "      <td>https://images.craigslist.org/00404_byQQeo6QAo...</td>\n",
       "      <td>Up for sale is my 1981 Chevrolet Corvette. It ...</td>\n",
       "      <td>ny</td>\n",
       "      <td>43.111600</td>\n",
       "      <td>-75.275600</td>\n",
       "      <td>2021-04-24T14:18:17-0400</td>\n",
       "      <td>medium</td>\n",
       "      <td>2021-04-24 18:18:17+00:00</td>\n",
       "    </tr>\n",
       "    <tr>\n",
       "      <th>2628</th>\n",
       "      <td>7311865329</td>\n",
       "      <td>https://modesto.craigslist.org/cto/d/brea-1982...</td>\n",
       "      <td>modesto</td>\n",
       "      <td>https://modesto.craigslist.org</td>\n",
       "      <td>18500</td>\n",
       "      <td>1982</td>\n",
       "      <td>gmc</td>\n",
       "      <td>2500 pick up</td>\n",
       "      <td>gas</td>\n",
       "      <td>121000</td>\n",
       "      <td>clean</td>\n",
       "      <td>automatic</td>\n",
       "      <td>https://images.craigslist.org/00h0h_lDr8q6BOtN...</td>\n",
       "      <td>1982 GMC PICK UP 2500 - 2 WHEEL DRIVE 350 CHEV...</td>\n",
       "      <td>ca</td>\n",
       "      <td>33.929100</td>\n",
       "      <td>-117.884500</td>\n",
       "      <td>2021-04-24T08:20:05-0700</td>\n",
       "      <td>medium</td>\n",
       "      <td>2021-04-24 15:20:05+00:00</td>\n",
       "    </tr>\n",
       "    <tr>\n",
       "      <th>3857</th>\n",
       "      <td>7315271528</td>\n",
       "      <td>https://sarasota.craigslist.org/ctd/d/bradento...</td>\n",
       "      <td>sarasota-bradenton</td>\n",
       "      <td>https://sarasota.craigslist.org</td>\n",
       "      <td>30000</td>\n",
       "      <td>1982</td>\n",
       "      <td>datsun</td>\n",
       "      <td>280zx</td>\n",
       "      <td>gas</td>\n",
       "      <td>59808</td>\n",
       "      <td>clean</td>\n",
       "      <td>manual</td>\n",
       "      <td>https://images.craigslist.org/00T0T_bxT95PSrsu...</td>\n",
       "      <td>1982 *Datsun* *280ZX* Turbo Hatchback - $30,00...</td>\n",
       "      <td>fl</td>\n",
       "      <td>27.479823</td>\n",
       "      <td>-82.571497</td>\n",
       "      <td>2021-05-01T10:12:55-0400</td>\n",
       "      <td>high</td>\n",
       "      <td>2021-05-01 14:12:55+00:00</td>\n",
       "    </tr>\n",
       "    <tr>\n",
       "      <th>4337</th>\n",
       "      <td>7310883946</td>\n",
       "      <td>https://longisland.craigslist.org/cto/d/baypor...</td>\n",
       "      <td>long island</td>\n",
       "      <td>https://longisland.craigslist.org</td>\n",
       "      <td>8000</td>\n",
       "      <td>1982</td>\n",
       "      <td>mercedes-benz</td>\n",
       "      <td>benz 300sd</td>\n",
       "      <td>diesel</td>\n",
       "      <td>216000</td>\n",
       "      <td>clean</td>\n",
       "      <td>automatic</td>\n",
       "      <td>https://images.craigslist.org/01111_dD0nC6o252...</td>\n",
       "      <td>Excellent running condition,Drive anywhere  pe...</td>\n",
       "      <td>ny</td>\n",
       "      <td>40.744400</td>\n",
       "      <td>-73.054200</td>\n",
       "      <td>2021-04-22T12:18:34-0400</td>\n",
       "      <td>low</td>\n",
       "      <td>2021-04-22 16:18:34+00:00</td>\n",
       "    </tr>\n",
       "  </tbody>\n",
       "</table>\n",
       "<p>186 rows × 20 columns</p>\n",
       "</div>"
      ],
      "text/plain": [
       "              id                                                url  \\\n",
       "401   7308847796  https://billings.craigslist.org/cto/d/columbus...   \n",
       "6342  7314390836  https://kansascity.craigslist.org/ctd/d/odessa...   \n",
       "5014  7313024973  https://prescott.craigslist.org/cto/d/cottonwo...   \n",
       "6476  7312752494  https://rochester.craigslist.org/cto/d/hilton-...   \n",
       "6329  7316455114  https://tucson.craigslist.org/cto/d/tucson-192...   \n",
       "...          ...                                                ...   \n",
       "754   7310994464  https://odessa.craigslist.org/cto/d/kermit-cj-...   \n",
       "7195  7311978609  https://utica.craigslist.org/cto/d/yorkville-1...   \n",
       "2628  7311865329  https://modesto.craigslist.org/cto/d/brea-1982...   \n",
       "3857  7315271528  https://sarasota.craigslist.org/ctd/d/bradento...   \n",
       "4337  7310883946  https://longisland.craigslist.org/cto/d/baypor...   \n",
       "\n",
       "                  region                         region_url  price  year  \\\n",
       "401             billings    https://billings.craigslist.org   5000  1915   \n",
       "6342     kansas city, MO  https://kansascity.craigslist.org  14950  1923   \n",
       "5014            prescott    https://prescott.craigslist.org  18500  1927   \n",
       "6476           rochester   https://rochester.craigslist.org  45000  1928   \n",
       "6329              tucson      https://tucson.craigslist.org   7800  1928   \n",
       "...                  ...                                ...    ...   ...   \n",
       "754     odessa / midland      https://odessa.craigslist.org  18000  1981   \n",
       "7195   utica-rome-oneida       https://utica.craigslist.org  12500  1981   \n",
       "2628             modesto     https://modesto.craigslist.org  18500  1982   \n",
       "3857  sarasota-bradenton    https://sarasota.craigslist.org  30000  1982   \n",
       "4337         long island  https://longisland.craigslist.org   8000  1982   \n",
       "\n",
       "       manufacturer          model    fuel  odometer title_status  \\\n",
       "401            ford        model t     gas     12345        clean   \n",
       "6342           ford       t-bucket     gas     15000        clean   \n",
       "5014      chevrolet          coupe     gas       100        clean   \n",
       "6476           ford    sport coupe     gas      2520        clean   \n",
       "6329          other   1928 Crysler     gas       100        clean   \n",
       "...             ...            ...     ...       ...          ...   \n",
       "754            jeep  cj8 scrambler     gas    100000        clean   \n",
       "7195      chevrolet       corvette     gas     61300        clean   \n",
       "2628            gmc   2500 pick up     gas    121000        clean   \n",
       "3857         datsun          280zx     gas     59808        clean   \n",
       "4337  mercedes-benz     benz 300sd  diesel    216000        clean   \n",
       "\n",
       "     transmission                                          image_url  \\\n",
       "401        manual  https://images.craigslist.org/01616_88aseKpgub...   \n",
       "6342    automatic  https://images.craigslist.org/00E0E_kfyzxZlR3y...   \n",
       "5014       manual  https://images.craigslist.org/00r0r_j4bp7r0piT...   \n",
       "6476    automatic  https://images.craigslist.org/00q0q_gUJUnEwtJi...   \n",
       "6329    automatic  https://images.craigslist.org/00B0B_1FiYNYzHas...   \n",
       "...           ...                                                ...   \n",
       "754        manual  https://images.craigslist.org/00C0C_5M6O9m9wWB...   \n",
       "7195       manual  https://images.craigslist.org/00404_byQQeo6QAo...   \n",
       "2628    automatic  https://images.craigslist.org/00h0h_lDr8q6BOtN...   \n",
       "3857       manual  https://images.craigslist.org/00T0T_bxT95PSrsu...   \n",
       "4337    automatic  https://images.craigslist.org/01111_dD0nC6o252...   \n",
       "\n",
       "                                            description state        lat  \\\n",
       "401   Things included New Rootlieb front and rear fe...    mt  45.626200   \n",
       "6342  1923 T bucket 550ci 700Hp BBC World product he...    ks  38.982900   \n",
       "5014  1927 Chevy Capitol A Coupe, all original, 2nd ...    az  34.571326   \n",
       "6476  This 1928 Ford Model A Sport Coupe, was a 2008...    ny  43.273081   \n",
       "6329  Here for sale is a nice Rat Rod, the body is a...    az  32.188659   \n",
       "...                                                 ...   ...        ...   \n",
       "754   Cj8 Sbc 350 4x4 starts right up lots of new pa...    tx  31.855000   \n",
       "7195  Up for sale is my 1981 Chevrolet Corvette. It ...    ny  43.111600   \n",
       "2628  1982 GMC PICK UP 2500 - 2 WHEEL DRIVE 350 CHEV...    ca  33.929100   \n",
       "3857  1982 *Datsun* *280ZX* Turbo Hatchback - $30,00...    fl  27.479823   \n",
       "4337  Excellent running condition,Drive anywhere  pe...    ny  40.744400   \n",
       "\n",
       "            long              posting_date price_category  \\\n",
       "401  -109.257100  2021-04-18T12:20:03-0600            low   \n",
       "6342  -93.975700  2021-04-29T12:12:18-0500         medium   \n",
       "5014 -112.104943  2021-04-26T13:52:28-0700         medium   \n",
       "6476  -77.795563  2021-04-26T09:39:22-0400           high   \n",
       "6329 -110.769482  2021-05-03T14:52:05-0700            low   \n",
       "...          ...                       ...            ...   \n",
       "754  -103.091300  2021-04-22T14:15:07-0500         medium   \n",
       "7195  -75.275600  2021-04-24T14:18:17-0400         medium   \n",
       "2628 -117.884500  2021-04-24T08:20:05-0700         medium   \n",
       "3857  -82.571497  2021-05-01T10:12:55-0400           high   \n",
       "4337  -73.054200  2021-04-22T12:18:34-0400            low   \n",
       "\n",
       "                          date  \n",
       "401  2021-04-18 18:20:03+00:00  \n",
       "6342 2021-04-29 17:12:18+00:00  \n",
       "5014 2021-04-26 20:52:28+00:00  \n",
       "6476 2021-04-26 13:39:22+00:00  \n",
       "6329 2021-05-03 21:52:05+00:00  \n",
       "...                        ...  \n",
       "754  2021-04-22 19:15:07+00:00  \n",
       "7195 2021-04-24 18:18:17+00:00  \n",
       "2628 2021-04-24 15:20:05+00:00  \n",
       "3857 2021-05-01 14:12:55+00:00  \n",
       "4337 2021-04-22 16:18:34+00:00  \n",
       "\n",
       "[186 rows x 20 columns]"
      ]
     },
     "execution_count": 836,
     "metadata": {},
     "output_type": "execute_result"
    }
   ],
   "source": [
    "df_anoamalya[df_anoamalya['year'] < calculate_outliers_3sigma(df_anoamalya.year)[0]].sort_values(by='year')"
   ]
  },
  {
   "cell_type": "markdown",
   "id": "9220b185-66a4-4ea5-b0fe-c9b173062c7d",
   "metadata": {},
   "source": [
    "Всего 186 аномальных записи. Будем считать это ошибками в данных и удалим эти записи "
   ]
  },
  {
   "cell_type": "code",
   "execution_count": 837,
   "id": "7cde7210-8cc0-4889-9feb-eec1add564a1",
   "metadata": {
    "tags": []
   },
   "outputs": [],
   "source": [
    " df_anoamalya = df_anoamalya[df_anoamalya['year'] >= calculate_outliers_3sigma(df_anoamalya.year)[0]]"
   ]
  },
  {
   "cell_type": "code",
   "execution_count": 838,
   "id": "650c208d-71c9-4e1a-bc88-fea8e2f24dd5",
   "metadata": {
    "tags": []
   },
   "outputs": [
    {
     "data": {
      "text/html": [
       "<div>\n",
       "<style scoped>\n",
       "    .dataframe tbody tr th:only-of-type {\n",
       "        vertical-align: middle;\n",
       "    }\n",
       "\n",
       "    .dataframe tbody tr th {\n",
       "        vertical-align: top;\n",
       "    }\n",
       "\n",
       "    .dataframe thead th {\n",
       "        text-align: right;\n",
       "    }\n",
       "</style>\n",
       "<table border=\"1\" class=\"dataframe\">\n",
       "  <thead>\n",
       "    <tr style=\"text-align: right;\">\n",
       "      <th></th>\n",
       "      <th>id</th>\n",
       "      <th>url</th>\n",
       "      <th>region</th>\n",
       "      <th>region_url</th>\n",
       "      <th>price</th>\n",
       "      <th>year</th>\n",
       "      <th>manufacturer</th>\n",
       "      <th>model</th>\n",
       "      <th>fuel</th>\n",
       "      <th>odometer</th>\n",
       "      <th>title_status</th>\n",
       "      <th>transmission</th>\n",
       "      <th>image_url</th>\n",
       "      <th>description</th>\n",
       "      <th>state</th>\n",
       "      <th>lat</th>\n",
       "      <th>long</th>\n",
       "      <th>posting_date</th>\n",
       "      <th>price_category</th>\n",
       "      <th>date</th>\n",
       "    </tr>\n",
       "  </thead>\n",
       "  <tbody>\n",
       "  </tbody>\n",
       "</table>\n",
       "</div>"
      ],
      "text/plain": [
       "Empty DataFrame\n",
       "Columns: [id, url, region, region_url, price, year, manufacturer, model, fuel, odometer, title_status, transmission, image_url, description, state, lat, long, posting_date, price_category, date]\n",
       "Index: []"
      ]
     },
     "execution_count": 838,
     "metadata": {},
     "output_type": "execute_result"
    }
   ],
   "source": [
    "df_anoamalya[df_anoamalya['year'] < 1983].sort_values(by='year')"
   ]
  },
  {
   "cell_type": "markdown",
   "id": "fbe289b0-863b-46e5-ad8c-9578b3f813a3",
   "metadata": {},
   "source": [
    "Еще раз проверим выбросы по году выпуска автомобиля."
   ]
  },
  {
   "cell_type": "code",
   "execution_count": 839,
   "id": "fb707c1c-c49e-4945-94b1-c1ed32f4988f",
   "metadata": {
    "tags": []
   },
   "outputs": [
    {
     "data": {
      "text/plain": [
       "(1993, 2031)"
      ]
     },
     "execution_count": 839,
     "metadata": {},
     "output_type": "execute_result"
    }
   ],
   "source": [
    "calculate_outliers_3sigma(df_anoamalya.year)"
   ]
  },
  {
   "cell_type": "markdown",
   "id": "57bb0c66-54b7-4a03-a765-d6027b50d36b",
   "metadata": {},
   "source": [
    "Диапазон крайних значений уменьшился, т.к. мы выкинули аномальные значения. Посмотрим, сколько теперь машин выходят за предены допустимых значений по году выпуска."
   ]
  },
  {
   "cell_type": "code",
   "execution_count": 840,
   "id": "19e3dd34-4f71-4dc1-9f3f-45939cfb0e1c",
   "metadata": {
    "tags": []
   },
   "outputs": [
    {
     "data": {
      "text/html": [
       "<div>\n",
       "<style scoped>\n",
       "    .dataframe tbody tr th:only-of-type {\n",
       "        vertical-align: middle;\n",
       "    }\n",
       "\n",
       "    .dataframe tbody tr th {\n",
       "        vertical-align: top;\n",
       "    }\n",
       "\n",
       "    .dataframe thead th {\n",
       "        text-align: right;\n",
       "    }\n",
       "</style>\n",
       "<table border=\"1\" class=\"dataframe\">\n",
       "  <thead>\n",
       "    <tr style=\"text-align: right;\">\n",
       "      <th></th>\n",
       "      <th>id</th>\n",
       "      <th>url</th>\n",
       "      <th>region</th>\n",
       "      <th>region_url</th>\n",
       "      <th>price</th>\n",
       "      <th>year</th>\n",
       "      <th>manufacturer</th>\n",
       "      <th>model</th>\n",
       "      <th>fuel</th>\n",
       "      <th>odometer</th>\n",
       "      <th>title_status</th>\n",
       "      <th>transmission</th>\n",
       "      <th>image_url</th>\n",
       "      <th>description</th>\n",
       "      <th>state</th>\n",
       "      <th>lat</th>\n",
       "      <th>long</th>\n",
       "      <th>posting_date</th>\n",
       "      <th>price_category</th>\n",
       "      <th>date</th>\n",
       "    </tr>\n",
       "  </thead>\n",
       "  <tbody>\n",
       "    <tr>\n",
       "      <th>145</th>\n",
       "      <td>7316938454</td>\n",
       "      <td>https://duluth.craigslist.org/cto/d/calumet-83...</td>\n",
       "      <td>duluth / superior</td>\n",
       "      <td>https://duluth.craigslist.org</td>\n",
       "      <td>4000</td>\n",
       "      <td>1983</td>\n",
       "      <td>chevrolet</td>\n",
       "      <td>c10 short box</td>\n",
       "      <td>gas</td>\n",
       "      <td>0</td>\n",
       "      <td>clean</td>\n",
       "      <td>automatic</td>\n",
       "      <td>https://images.craigslist.org/00P0P_6I2TfYDHbN...</td>\n",
       "      <td>Arizona  project started. new 350 4 bolt main ...</td>\n",
       "      <td>mn</td>\n",
       "      <td>47.394400</td>\n",
       "      <td>-93.24620</td>\n",
       "      <td>2021-05-04T15:55:58-0500</td>\n",
       "      <td>low</td>\n",
       "      <td>2021-05-04 20:55:58+00:00</td>\n",
       "    </tr>\n",
       "    <tr>\n",
       "      <th>5744</th>\n",
       "      <td>7314414405</td>\n",
       "      <td>https://newjersey.craigslist.org/cto/d/wood-ri...</td>\n",
       "      <td>north jersey</td>\n",
       "      <td>https://newjersey.craigslist.org</td>\n",
       "      <td>4000</td>\n",
       "      <td>1983</td>\n",
       "      <td>other</td>\n",
       "      <td>oldsmobile delta 88</td>\n",
       "      <td>gas</td>\n",
       "      <td>21000</td>\n",
       "      <td>clean</td>\n",
       "      <td>automatic</td>\n",
       "      <td>https://images.craigslist.org/00l0l_bGNuYC2RCT...</td>\n",
       "      <td>1983 DELTA 88 BROUGHAM 2 DR.NICE CAR RUNS AND ...</td>\n",
       "      <td>nj</td>\n",
       "      <td>40.840300</td>\n",
       "      <td>-74.09250</td>\n",
       "      <td>2021-04-29T13:51:43-0400</td>\n",
       "      <td>low</td>\n",
       "      <td>2021-04-29 17:51:43+00:00</td>\n",
       "    </tr>\n",
       "    <tr>\n",
       "      <th>5665</th>\n",
       "      <td>7303126550</td>\n",
       "      <td>https://athensga.craigslist.org/cto/d/hull-83-...</td>\n",
       "      <td>athens</td>\n",
       "      <td>https://athensga.craigslist.org</td>\n",
       "      <td>8888</td>\n",
       "      <td>1983</td>\n",
       "      <td>chevrolet</td>\n",
       "      <td>blazer k5</td>\n",
       "      <td>gas</td>\n",
       "      <td>60000</td>\n",
       "      <td>clean</td>\n",
       "      <td>automatic</td>\n",
       "      <td>https://images.craigslist.org/00B0B_5h6Ogc4YrP...</td>\n",
       "      <td>83 Silverado Blazer K-5 454 4x4 Lifted Runs. F...</td>\n",
       "      <td>ga</td>\n",
       "      <td>34.047800</td>\n",
       "      <td>-83.31100</td>\n",
       "      <td>2021-04-07T11:24:31-0400</td>\n",
       "      <td>low</td>\n",
       "      <td>2021-04-07 15:24:31+00:00</td>\n",
       "    </tr>\n",
       "    <tr>\n",
       "      <th>6457</th>\n",
       "      <td>7304937568</td>\n",
       "      <td>https://cosprings.craigslist.org/cto/d/colorad...</td>\n",
       "      <td>colorado springs</td>\n",
       "      <td>https://cosprings.craigslist.org</td>\n",
       "      <td>3600</td>\n",
       "      <td>1983</td>\n",
       "      <td>mercedes-benz</td>\n",
       "      <td>benz</td>\n",
       "      <td>diesel</td>\n",
       "      <td>150000</td>\n",
       "      <td>clean</td>\n",
       "      <td>automatic</td>\n",
       "      <td>https://images.craigslist.org/00a0a_ahtG5kcs9I...</td>\n",
       "      <td>THIS VEHICLE WAS IMPOUNDED BY MY TOW COMPANY (...</td>\n",
       "      <td>co</td>\n",
       "      <td>38.852000</td>\n",
       "      <td>-104.77350</td>\n",
       "      <td>2021-04-10T16:36:41-0600</td>\n",
       "      <td>low</td>\n",
       "      <td>2021-04-10 22:36:41+00:00</td>\n",
       "    </tr>\n",
       "    <tr>\n",
       "      <th>4687</th>\n",
       "      <td>7305352613</td>\n",
       "      <td>https://columbus.craigslist.org/cto/d/west-che...</td>\n",
       "      <td>columbus</td>\n",
       "      <td>https://columbus.craigslist.org</td>\n",
       "      <td>20500</td>\n",
       "      <td>1983</td>\n",
       "      <td>mercury</td>\n",
       "      <td>capri</td>\n",
       "      <td>gas</td>\n",
       "      <td>56000</td>\n",
       "      <td>clean</td>\n",
       "      <td>manual</td>\n",
       "      <td>https://images.craigslist.org/00101_hKwN0k5kMV...</td>\n",
       "      <td>Numbers Matching motor &amp; trans (5.0 liter w/5 ...</td>\n",
       "      <td>oh</td>\n",
       "      <td>39.340200</td>\n",
       "      <td>-84.39980</td>\n",
       "      <td>2021-04-11T17:25:24-0400</td>\n",
       "      <td>medium</td>\n",
       "      <td>2021-04-11 21:25:24+00:00</td>\n",
       "    </tr>\n",
       "    <tr>\n",
       "      <th>...</th>\n",
       "      <td>...</td>\n",
       "      <td>...</td>\n",
       "      <td>...</td>\n",
       "      <td>...</td>\n",
       "      <td>...</td>\n",
       "      <td>...</td>\n",
       "      <td>...</td>\n",
       "      <td>...</td>\n",
       "      <td>...</td>\n",
       "      <td>...</td>\n",
       "      <td>...</td>\n",
       "      <td>...</td>\n",
       "      <td>...</td>\n",
       "      <td>...</td>\n",
       "      <td>...</td>\n",
       "      <td>...</td>\n",
       "      <td>...</td>\n",
       "      <td>...</td>\n",
       "      <td>...</td>\n",
       "      <td>...</td>\n",
       "    </tr>\n",
       "    <tr>\n",
       "      <th>4436</th>\n",
       "      <td>7304355524</td>\n",
       "      <td>https://santabarbara.craigslist.org/cto/d/sant...</td>\n",
       "      <td>santa barbara</td>\n",
       "      <td>https://santabarbara.craigslist.org</td>\n",
       "      <td>9000</td>\n",
       "      <td>1992</td>\n",
       "      <td>gmc</td>\n",
       "      <td>sierra 1500 extended cab</td>\n",
       "      <td>gas</td>\n",
       "      <td>73211</td>\n",
       "      <td>clean</td>\n",
       "      <td>automatic</td>\n",
       "      <td>https://images.craigslist.org/00z0z_bj6menJnbq...</td>\n",
       "      <td>See attached window sticker.</td>\n",
       "      <td>ca</td>\n",
       "      <td>34.429600</td>\n",
       "      <td>-119.85940</td>\n",
       "      <td>2021-04-09T13:19:49-0700</td>\n",
       "      <td>low</td>\n",
       "      <td>2021-04-09 20:19:49+00:00</td>\n",
       "    </tr>\n",
       "    <tr>\n",
       "      <th>7937</th>\n",
       "      <td>7315749457</td>\n",
       "      <td>https://detroit.craigslist.org/okl/cto/d/west-...</td>\n",
       "      <td>detroit metro</td>\n",
       "      <td>https://detroit.craigslist.org</td>\n",
       "      <td>2500</td>\n",
       "      <td>1992</td>\n",
       "      <td>mazda</td>\n",
       "      <td>b2600i 4x4</td>\n",
       "      <td>gas</td>\n",
       "      <td>111000</td>\n",
       "      <td>clean</td>\n",
       "      <td>manual</td>\n",
       "      <td>https://images.craigslist.org/00F0F_gh3tUGz4ma...</td>\n",
       "      <td>1992 Mazda B2600i Extra Cab 4x4. 111,000 miles...</td>\n",
       "      <td>mi</td>\n",
       "      <td>42.542400</td>\n",
       "      <td>-83.37930</td>\n",
       "      <td>2021-05-02T11:06:17-0400</td>\n",
       "      <td>low</td>\n",
       "      <td>2021-05-02 15:06:17+00:00</td>\n",
       "    </tr>\n",
       "    <tr>\n",
       "      <th>2861</th>\n",
       "      <td>7310721927</td>\n",
       "      <td>https://modesto.craigslist.org/cto/d/turlock-1...</td>\n",
       "      <td>modesto</td>\n",
       "      <td>https://modesto.craigslist.org</td>\n",
       "      <td>5800</td>\n",
       "      <td>1992</td>\n",
       "      <td>ford</td>\n",
       "      <td>f-150</td>\n",
       "      <td>gas</td>\n",
       "      <td>178000</td>\n",
       "      <td>clean</td>\n",
       "      <td>automatic</td>\n",
       "      <td>https://images.craigslist.org/01515_fqaxcbgdXp...</td>\n",
       "      <td>Have a 1992 Ford F-150 for sale. V8 with Autom...</td>\n",
       "      <td>ca</td>\n",
       "      <td>37.492775</td>\n",
       "      <td>-120.86669</td>\n",
       "      <td>2021-04-21T23:00:30-0700</td>\n",
       "      <td>low</td>\n",
       "      <td>2021-04-22 06:00:30+00:00</td>\n",
       "    </tr>\n",
       "    <tr>\n",
       "      <th>3306</th>\n",
       "      <td>7309455588</td>\n",
       "      <td>https://lexington.craigslist.org/cto/d/versail...</td>\n",
       "      <td>lexington</td>\n",
       "      <td>https://lexington.craigslist.org</td>\n",
       "      <td>13200</td>\n",
       "      <td>1992</td>\n",
       "      <td>lexus</td>\n",
       "      <td>sc300</td>\n",
       "      <td>gas</td>\n",
       "      <td>55000</td>\n",
       "      <td>clean</td>\n",
       "      <td>manual</td>\n",
       "      <td>https://images.craigslist.org/00808_aj6pI4dse2...</td>\n",
       "      <td>1992 Lexus SC300. Built 2JZ w Garrett turbo. D...</td>\n",
       "      <td>ky</td>\n",
       "      <td>38.041300</td>\n",
       "      <td>-84.72870</td>\n",
       "      <td>2021-04-19T16:12:27-0400</td>\n",
       "      <td>medium</td>\n",
       "      <td>2021-04-19 20:12:27+00:00</td>\n",
       "    </tr>\n",
       "    <tr>\n",
       "      <th>8226</th>\n",
       "      <td>7313097691</td>\n",
       "      <td>https://maine.craigslist.org/cto/d/nobleboro-c...</td>\n",
       "      <td>maine</td>\n",
       "      <td>https://maine.craigslist.org</td>\n",
       "      <td>10000</td>\n",
       "      <td>1992</td>\n",
       "      <td>other</td>\n",
       "      <td>international 4900</td>\n",
       "      <td>diesel</td>\n",
       "      <td>53000</td>\n",
       "      <td>clean</td>\n",
       "      <td>automatic</td>\n",
       "      <td>https://images.craigslist.org/01717_fJW0o9yVim...</td>\n",
       "      <td>1992 international bucket crane truck white 2 ...</td>\n",
       "      <td>me</td>\n",
       "      <td>44.094300</td>\n",
       "      <td>-69.48280</td>\n",
       "      <td>2021-04-26T19:16:15-0400</td>\n",
       "      <td>medium</td>\n",
       "      <td>2021-04-26 23:16:15+00:00</td>\n",
       "    </tr>\n",
       "  </tbody>\n",
       "</table>\n",
       "<p>135 rows × 20 columns</p>\n",
       "</div>"
      ],
      "text/plain": [
       "              id                                                url  \\\n",
       "145   7316938454  https://duluth.craigslist.org/cto/d/calumet-83...   \n",
       "5744  7314414405  https://newjersey.craigslist.org/cto/d/wood-ri...   \n",
       "5665  7303126550  https://athensga.craigslist.org/cto/d/hull-83-...   \n",
       "6457  7304937568  https://cosprings.craigslist.org/cto/d/colorad...   \n",
       "4687  7305352613  https://columbus.craigslist.org/cto/d/west-che...   \n",
       "...          ...                                                ...   \n",
       "4436  7304355524  https://santabarbara.craigslist.org/cto/d/sant...   \n",
       "7937  7315749457  https://detroit.craigslist.org/okl/cto/d/west-...   \n",
       "2861  7310721927  https://modesto.craigslist.org/cto/d/turlock-1...   \n",
       "3306  7309455588  https://lexington.craigslist.org/cto/d/versail...   \n",
       "8226  7313097691  https://maine.craigslist.org/cto/d/nobleboro-c...   \n",
       "\n",
       "                 region                           region_url  price  year  \\\n",
       "145   duluth / superior        https://duluth.craigslist.org   4000  1983   \n",
       "5744       north jersey     https://newjersey.craigslist.org   4000  1983   \n",
       "5665             athens      https://athensga.craigslist.org   8888  1983   \n",
       "6457   colorado springs     https://cosprings.craigslist.org   3600  1983   \n",
       "4687           columbus      https://columbus.craigslist.org  20500  1983   \n",
       "...                 ...                                  ...    ...   ...   \n",
       "4436      santa barbara  https://santabarbara.craigslist.org   9000  1992   \n",
       "7937      detroit metro       https://detroit.craigslist.org   2500  1992   \n",
       "2861            modesto       https://modesto.craigslist.org   5800  1992   \n",
       "3306          lexington     https://lexington.craigslist.org  13200  1992   \n",
       "8226              maine         https://maine.craigslist.org  10000  1992   \n",
       "\n",
       "       manufacturer                     model    fuel  odometer title_status  \\\n",
       "145       chevrolet             c10 short box     gas         0        clean   \n",
       "5744          other       oldsmobile delta 88     gas     21000        clean   \n",
       "5665      chevrolet                 blazer k5     gas     60000        clean   \n",
       "6457  mercedes-benz                      benz  diesel    150000        clean   \n",
       "4687        mercury                     capri     gas     56000        clean   \n",
       "...             ...                       ...     ...       ...          ...   \n",
       "4436            gmc  sierra 1500 extended cab     gas     73211        clean   \n",
       "7937          mazda                b2600i 4x4     gas    111000        clean   \n",
       "2861           ford                     f-150     gas    178000        clean   \n",
       "3306          lexus                     sc300     gas     55000        clean   \n",
       "8226          other        international 4900  diesel     53000        clean   \n",
       "\n",
       "     transmission                                          image_url  \\\n",
       "145     automatic  https://images.craigslist.org/00P0P_6I2TfYDHbN...   \n",
       "5744    automatic  https://images.craigslist.org/00l0l_bGNuYC2RCT...   \n",
       "5665    automatic  https://images.craigslist.org/00B0B_5h6Ogc4YrP...   \n",
       "6457    automatic  https://images.craigslist.org/00a0a_ahtG5kcs9I...   \n",
       "4687       manual  https://images.craigslist.org/00101_hKwN0k5kMV...   \n",
       "...           ...                                                ...   \n",
       "4436    automatic  https://images.craigslist.org/00z0z_bj6menJnbq...   \n",
       "7937       manual  https://images.craigslist.org/00F0F_gh3tUGz4ma...   \n",
       "2861    automatic  https://images.craigslist.org/01515_fqaxcbgdXp...   \n",
       "3306       manual  https://images.craigslist.org/00808_aj6pI4dse2...   \n",
       "8226    automatic  https://images.craigslist.org/01717_fJW0o9yVim...   \n",
       "\n",
       "                                            description state        lat  \\\n",
       "145   Arizona  project started. new 350 4 bolt main ...    mn  47.394400   \n",
       "5744  1983 DELTA 88 BROUGHAM 2 DR.NICE CAR RUNS AND ...    nj  40.840300   \n",
       "5665  83 Silverado Blazer K-5 454 4x4 Lifted Runs. F...    ga  34.047800   \n",
       "6457  THIS VEHICLE WAS IMPOUNDED BY MY TOW COMPANY (...    co  38.852000   \n",
       "4687  Numbers Matching motor & trans (5.0 liter w/5 ...    oh  39.340200   \n",
       "...                                                 ...   ...        ...   \n",
       "4436                       See attached window sticker.    ca  34.429600   \n",
       "7937  1992 Mazda B2600i Extra Cab 4x4. 111,000 miles...    mi  42.542400   \n",
       "2861  Have a 1992 Ford F-150 for sale. V8 with Autom...    ca  37.492775   \n",
       "3306  1992 Lexus SC300. Built 2JZ w Garrett turbo. D...    ky  38.041300   \n",
       "8226  1992 international bucket crane truck white 2 ...    me  44.094300   \n",
       "\n",
       "           long              posting_date price_category  \\\n",
       "145   -93.24620  2021-05-04T15:55:58-0500            low   \n",
       "5744  -74.09250  2021-04-29T13:51:43-0400            low   \n",
       "5665  -83.31100  2021-04-07T11:24:31-0400            low   \n",
       "6457 -104.77350  2021-04-10T16:36:41-0600            low   \n",
       "4687  -84.39980  2021-04-11T17:25:24-0400         medium   \n",
       "...         ...                       ...            ...   \n",
       "4436 -119.85940  2021-04-09T13:19:49-0700            low   \n",
       "7937  -83.37930  2021-05-02T11:06:17-0400            low   \n",
       "2861 -120.86669  2021-04-21T23:00:30-0700            low   \n",
       "3306  -84.72870  2021-04-19T16:12:27-0400         medium   \n",
       "8226  -69.48280  2021-04-26T19:16:15-0400         medium   \n",
       "\n",
       "                          date  \n",
       "145  2021-05-04 20:55:58+00:00  \n",
       "5744 2021-04-29 17:51:43+00:00  \n",
       "5665 2021-04-07 15:24:31+00:00  \n",
       "6457 2021-04-10 22:36:41+00:00  \n",
       "4687 2021-04-11 21:25:24+00:00  \n",
       "...                        ...  \n",
       "4436 2021-04-09 20:19:49+00:00  \n",
       "7937 2021-05-02 15:06:17+00:00  \n",
       "2861 2021-04-22 06:00:30+00:00  \n",
       "3306 2021-04-19 20:12:27+00:00  \n",
       "8226 2021-04-26 23:16:15+00:00  \n",
       "\n",
       "[135 rows x 20 columns]"
      ]
     },
     "execution_count": 840,
     "metadata": {},
     "output_type": "execute_result"
    }
   ],
   "source": [
    "df_anoamalya[df_anoamalya['year'] < calculate_outliers_3sigma(df_anoamalya.year)[0]].sort_values('year')"
   ]
  },
  {
   "cell_type": "code",
   "execution_count": null,
   "id": "617efa82-fa7f-4740-9f37-e24a03142602",
   "metadata": {},
   "outputs": [],
   "source": []
  },
  {
   "cell_type": "markdown",
   "id": "91f96b91-bef1-4ecd-941c-1c078846d127",
   "metadata": {},
   "source": [
    "Еще раз удалим выбросы по датам."
   ]
  },
  {
   "cell_type": "code",
   "execution_count": 841,
   "id": "76dbba1d-3d34-4c9f-8236-12efbee9312c",
   "metadata": {
    "tags": []
   },
   "outputs": [],
   "source": [
    " df_anoamalya = df_anoamalya[df_anoamalya['year'] >= calculate_outliers_3sigma(df_anoamalya.year)[0]]"
   ]
  },
  {
   "cell_type": "code",
   "execution_count": 842,
   "id": "a1f6e492-5deb-4dfb-a208-e4faa5496956",
   "metadata": {
    "tags": []
   },
   "outputs": [
    {
     "data": {
      "text/plain": [
       "(9130, 20)"
      ]
     },
     "execution_count": 842,
     "metadata": {},
     "output_type": "execute_result"
    }
   ],
   "source": [
    "df_anoamalya.shape"
   ]
  },
  {
   "cell_type": "markdown",
   "id": "48e4df7d-9410-4291-8ccf-ef90f5c99b6a",
   "metadata": {},
   "source": [
    "И еще раз проверим год выпуска авто на предмет выбрасов."
   ]
  },
  {
   "cell_type": "code",
   "execution_count": 843,
   "id": "858d7e2b-376c-4a14-ac22-31f5b70d1599",
   "metadata": {
    "tags": []
   },
   "outputs": [
    {
     "data": {
      "text/plain": [
       "(1995, 2029)"
      ]
     },
     "execution_count": 843,
     "metadata": {},
     "output_type": "execute_result"
    }
   ],
   "source": [
    "calculate_outliers_3sigma(df_anoamalya.year)"
   ]
  },
  {
   "cell_type": "code",
   "execution_count": 844,
   "id": "2ba6655c-5075-476a-830c-43d7bca2987c",
   "metadata": {
    "tags": []
   },
   "outputs": [
    {
     "data": {
      "text/html": [
       "<div>\n",
       "<style scoped>\n",
       "    .dataframe tbody tr th:only-of-type {\n",
       "        vertical-align: middle;\n",
       "    }\n",
       "\n",
       "    .dataframe tbody tr th {\n",
       "        vertical-align: top;\n",
       "    }\n",
       "\n",
       "    .dataframe thead th {\n",
       "        text-align: right;\n",
       "    }\n",
       "</style>\n",
       "<table border=\"1\" class=\"dataframe\">\n",
       "  <thead>\n",
       "    <tr style=\"text-align: right;\">\n",
       "      <th></th>\n",
       "      <th>id</th>\n",
       "      <th>url</th>\n",
       "      <th>region</th>\n",
       "      <th>region_url</th>\n",
       "      <th>price</th>\n",
       "      <th>year</th>\n",
       "      <th>manufacturer</th>\n",
       "      <th>model</th>\n",
       "      <th>fuel</th>\n",
       "      <th>odometer</th>\n",
       "      <th>title_status</th>\n",
       "      <th>transmission</th>\n",
       "      <th>image_url</th>\n",
       "      <th>description</th>\n",
       "      <th>state</th>\n",
       "      <th>lat</th>\n",
       "      <th>long</th>\n",
       "      <th>posting_date</th>\n",
       "      <th>price_category</th>\n",
       "      <th>date</th>\n",
       "    </tr>\n",
       "  </thead>\n",
       "  <tbody>\n",
       "    <tr>\n",
       "      <th>5265</th>\n",
       "      <td>7310718931</td>\n",
       "      <td>https://abilene.craigslist.org/cto/d/may-1993-...</td>\n",
       "      <td>abilene</td>\n",
       "      <td>https://abilene.craigslist.org</td>\n",
       "      <td>26000</td>\n",
       "      <td>1993</td>\n",
       "      <td>dodge</td>\n",
       "      <td>w350</td>\n",
       "      <td>diesel</td>\n",
       "      <td>146000</td>\n",
       "      <td>clean</td>\n",
       "      <td>manual</td>\n",
       "      <td>https://images.craigslist.org/00Z0Z_1E4FcOKJPe...</td>\n",
       "      <td>This truck runs and drives great . Looks sharp...</td>\n",
       "      <td>tx</td>\n",
       "      <td>31.957100</td>\n",
       "      <td>-98.965600</td>\n",
       "      <td>2021-04-22T00:33:32-0500</td>\n",
       "      <td>high</td>\n",
       "      <td>2021-04-22 05:33:32+00:00</td>\n",
       "    </tr>\n",
       "    <tr>\n",
       "      <th>6202</th>\n",
       "      <td>7316601055</td>\n",
       "      <td>https://phoenix.craigslist.org/evl/cto/d/chand...</td>\n",
       "      <td>phoenix</td>\n",
       "      <td>https://phoenix.craigslist.org</td>\n",
       "      <td>5000</td>\n",
       "      <td>1993</td>\n",
       "      <td>jeep</td>\n",
       "      <td>grand cherokee</td>\n",
       "      <td>gas</td>\n",
       "      <td>150000</td>\n",
       "      <td>clean</td>\n",
       "      <td>automatic</td>\n",
       "      <td>https://images.craigslist.org/00N0N_irMnBe2P9j...</td>\n",
       "      <td>I am selling my Jeep Grand Cherokee Rock Crawl...</td>\n",
       "      <td>az</td>\n",
       "      <td>33.310500</td>\n",
       "      <td>-111.823900</td>\n",
       "      <td>2021-05-03T22:11:59-0700</td>\n",
       "      <td>low</td>\n",
       "      <td>2021-05-04 05:11:59+00:00</td>\n",
       "    </tr>\n",
       "    <tr>\n",
       "      <th>3643</th>\n",
       "      <td>7316362501</td>\n",
       "      <td>https://losangeles.craigslist.org/lac/cto/d/lo...</td>\n",
       "      <td>los angeles</td>\n",
       "      <td>https://losangeles.craigslist.org</td>\n",
       "      <td>3000</td>\n",
       "      <td>1993</td>\n",
       "      <td>lincoln</td>\n",
       "      <td>town car</td>\n",
       "      <td>gas</td>\n",
       "      <td>130000</td>\n",
       "      <td>clean</td>\n",
       "      <td>automatic</td>\n",
       "      <td>https://images.craigslist.org/01212_gM2qUCXD0n...</td>\n",
       "      <td>1993 Lincoln Town Car Runs Great ,Automatic  A...</td>\n",
       "      <td>ca</td>\n",
       "      <td>34.104000</td>\n",
       "      <td>-118.292500</td>\n",
       "      <td>2021-05-03T12:11:05-0700</td>\n",
       "      <td>low</td>\n",
       "      <td>2021-05-03 19:11:05+00:00</td>\n",
       "    </tr>\n",
       "    <tr>\n",
       "      <th>7533</th>\n",
       "      <td>7315947302</td>\n",
       "      <td>https://honolulu.craigslist.org/oah/cto/d/pear...</td>\n",
       "      <td>hawaii</td>\n",
       "      <td>https://honolulu.craigslist.org</td>\n",
       "      <td>4500</td>\n",
       "      <td>1993</td>\n",
       "      <td>toyota</td>\n",
       "      <td>pickup</td>\n",
       "      <td>gas</td>\n",
       "      <td>239000</td>\n",
       "      <td>clean</td>\n",
       "      <td>automatic</td>\n",
       "      <td>https://images.craigslist.org/00z0z_bbeiRMCysy...</td>\n",
       "      <td>Runs good, 239K, automatic, stereo, new tires ...</td>\n",
       "      <td>hi</td>\n",
       "      <td>21.390800</td>\n",
       "      <td>-157.933200</td>\n",
       "      <td>2021-05-02T11:43:55-1000</td>\n",
       "      <td>low</td>\n",
       "      <td>2021-05-02 21:43:55+00:00</td>\n",
       "    </tr>\n",
       "    <tr>\n",
       "      <th>5519</th>\n",
       "      <td>7309765540</td>\n",
       "      <td>https://fortwayne.craigslist.org/cto/d/fort-wa...</td>\n",
       "      <td>fort wayne</td>\n",
       "      <td>https://fortwayne.craigslist.org</td>\n",
       "      <td>5000</td>\n",
       "      <td>1993</td>\n",
       "      <td>bmw</td>\n",
       "      <td>318i</td>\n",
       "      <td>gas</td>\n",
       "      <td>168000</td>\n",
       "      <td>rebuilt</td>\n",
       "      <td>manual</td>\n",
       "      <td>https://images.craigslist.org/00j0j_gEEBY04BGR...</td>\n",
       "      <td>1993 BMW 318i Manual  Selling as I have 2 othe...</td>\n",
       "      <td>in</td>\n",
       "      <td>41.045600</td>\n",
       "      <td>-85.305800</td>\n",
       "      <td>2021-04-20T10:00:37-0400</td>\n",
       "      <td>low</td>\n",
       "      <td>2021-04-20 14:00:37+00:00</td>\n",
       "    </tr>\n",
       "    <tr>\n",
       "      <th>8653</th>\n",
       "      <td>7307770854</td>\n",
       "      <td>https://fairbanks.craigslist.org/cto/d/fort-gr...</td>\n",
       "      <td>fairbanks</td>\n",
       "      <td>https://fairbanks.craigslist.org</td>\n",
       "      <td>3000</td>\n",
       "      <td>1993</td>\n",
       "      <td>gmc</td>\n",
       "      <td>school bus</td>\n",
       "      <td>diesel</td>\n",
       "      <td>180000</td>\n",
       "      <td>clean</td>\n",
       "      <td>manual</td>\n",
       "      <td>https://images.craigslist.org/00l0l_lJVmSRPORC...</td>\n",
       "      <td>1993 School bus for sale. Manual transmission....</td>\n",
       "      <td>ak</td>\n",
       "      <td>64.037800</td>\n",
       "      <td>-145.732200</td>\n",
       "      <td>2021-04-16T08:38:31-0800</td>\n",
       "      <td>low</td>\n",
       "      <td>2021-04-16 16:38:31+00:00</td>\n",
       "    </tr>\n",
       "    <tr>\n",
       "      <th>1922</th>\n",
       "      <td>7316388032</td>\n",
       "      <td>https://eauclaire.craigslist.org/cto/d/eau-cla...</td>\n",
       "      <td>eau claire</td>\n",
       "      <td>https://eauclaire.craigslist.org</td>\n",
       "      <td>1000</td>\n",
       "      <td>1993</td>\n",
       "      <td>chevrolet</td>\n",
       "      <td>grumman</td>\n",
       "      <td>gas</td>\n",
       "      <td>175000</td>\n",
       "      <td>clean</td>\n",
       "      <td>automatic</td>\n",
       "      <td>https://images.craigslist.org/00I0I_jFeGMrToQA...</td>\n",
       "      <td>1993 Gruman Olson box truck. 350 chevy engine ...</td>\n",
       "      <td>wi</td>\n",
       "      <td>44.861522</td>\n",
       "      <td>-91.445847</td>\n",
       "      <td>2021-05-03T14:53:43-0500</td>\n",
       "      <td>low</td>\n",
       "      <td>2021-05-03 19:53:43+00:00</td>\n",
       "    </tr>\n",
       "    <tr>\n",
       "      <th>445</th>\n",
       "      <td>7311674587</td>\n",
       "      <td>https://bozeman.craigslist.org/cto/d/bozeman-1...</td>\n",
       "      <td>bozeman</td>\n",
       "      <td>https://bozeman.craigslist.org</td>\n",
       "      <td>1000</td>\n",
       "      <td>1993</td>\n",
       "      <td>other</td>\n",
       "      <td>isuzu pickup</td>\n",
       "      <td>gas</td>\n",
       "      <td>156165</td>\n",
       "      <td>clean</td>\n",
       "      <td>manual</td>\n",
       "      <td>https://images.craigslist.org/00q0q_2E7MLZ1k5F...</td>\n",
       "      <td>Good running engine that is apart right now be...</td>\n",
       "      <td>mt</td>\n",
       "      <td>45.613836</td>\n",
       "      <td>-111.062715</td>\n",
       "      <td>2021-04-23T18:48:35-0600</td>\n",
       "      <td>low</td>\n",
       "      <td>2021-04-24 00:48:35+00:00</td>\n",
       "    </tr>\n",
       "    <tr>\n",
       "      <th>350</th>\n",
       "      <td>7315510783</td>\n",
       "      <td>https://orangecounty.craigslist.org/cto/d/el-t...</td>\n",
       "      <td>orange county</td>\n",
       "      <td>https://orangecounty.craigslist.org</td>\n",
       "      <td>1200</td>\n",
       "      <td>1993</td>\n",
       "      <td>chevrolet</td>\n",
       "      <td>caprice classic</td>\n",
       "      <td>gas</td>\n",
       "      <td>143000</td>\n",
       "      <td>clean</td>\n",
       "      <td>other</td>\n",
       "      <td>https://images.craigslist.org/00B0B_3raPWgVJaJ...</td>\n",
       "      <td>1993  Chevrolet Caprice classic LS, new tires,...</td>\n",
       "      <td>ca</td>\n",
       "      <td>33.591600</td>\n",
       "      <td>-117.698500</td>\n",
       "      <td>2021-05-01T14:14:57-0700</td>\n",
       "      <td>low</td>\n",
       "      <td>2021-05-01 21:14:57+00:00</td>\n",
       "    </tr>\n",
       "    <tr>\n",
       "      <th>8765</th>\n",
       "      <td>7313475358</td>\n",
       "      <td>https://spokane.craigslist.org/cto/d/1993-toyo...</td>\n",
       "      <td>spokane / coeur d'alene</td>\n",
       "      <td>https://spokane.craigslist.org</td>\n",
       "      <td>28000</td>\n",
       "      <td>1993</td>\n",
       "      <td>toyota</td>\n",
       "      <td>land cruiser kzj71</td>\n",
       "      <td>diesel</td>\n",
       "      <td>140000</td>\n",
       "      <td>clean</td>\n",
       "      <td>automatic</td>\n",
       "      <td>https://images.craigslist.org/00C0C_gAScK3DsXf...</td>\n",
       "      <td>Imported few years ago 93 Toyota Land Cruiser ...</td>\n",
       "      <td>id</td>\n",
       "      <td>47.755600</td>\n",
       "      <td>-117.414600</td>\n",
       "      <td>2021-04-27T12:10:14-0700</td>\n",
       "      <td>high</td>\n",
       "      <td>2021-04-27 19:10:14+00:00</td>\n",
       "    </tr>\n",
       "    <tr>\n",
       "      <th>5618</th>\n",
       "      <td>7316330961</td>\n",
       "      <td>https://portland.craigslist.org/clc/cto/d/dama...</td>\n",
       "      <td>portland</td>\n",
       "      <td>https://portland.craigslist.org</td>\n",
       "      <td>6500</td>\n",
       "      <td>1993</td>\n",
       "      <td>chevrolet</td>\n",
       "      <td>silverado 1500</td>\n",
       "      <td>gas</td>\n",
       "      <td>80000</td>\n",
       "      <td>clean</td>\n",
       "      <td>manual</td>\n",
       "      <td>https://images.craigslist.org/00g0g_c2SlQ4P1R6...</td>\n",
       "      <td>1993 Chevy Silverado 1500 only 80,000 miles on...</td>\n",
       "      <td>or</td>\n",
       "      <td>45.418166</td>\n",
       "      <td>-122.392845</td>\n",
       "      <td>2021-05-03T11:22:11-0700</td>\n",
       "      <td>low</td>\n",
       "      <td>2021-05-03 18:22:11+00:00</td>\n",
       "    </tr>\n",
       "    <tr>\n",
       "      <th>8541</th>\n",
       "      <td>7313991969</td>\n",
       "      <td>https://sarasota.craigslist.org/ctd/d/sarasota...</td>\n",
       "      <td>sarasota-bradenton</td>\n",
       "      <td>https://sarasota.craigslist.org</td>\n",
       "      <td>3999</td>\n",
       "      <td>1994</td>\n",
       "      <td>other</td>\n",
       "      <td>1994 accura integra</td>\n",
       "      <td>gas</td>\n",
       "      <td>1</td>\n",
       "      <td>clean</td>\n",
       "      <td>automatic</td>\n",
       "      <td>https://images.craigslist.org/00o0o_6JmkSUzRNu...</td>\n",
       "      <td>OFFICE LINE--941-351-6777   Clean title, fair ...</td>\n",
       "      <td>fl</td>\n",
       "      <td>27.407200</td>\n",
       "      <td>-82.530300</td>\n",
       "      <td>2021-04-28T15:37:05-0400</td>\n",
       "      <td>low</td>\n",
       "      <td>2021-04-28 19:37:05+00:00</td>\n",
       "    </tr>\n",
       "    <tr>\n",
       "      <th>8460</th>\n",
       "      <td>7315131826</td>\n",
       "      <td>https://lasvegas.craigslist.org/ctd/d/henderso...</td>\n",
       "      <td>las vegas</td>\n",
       "      <td>https://lasvegas.craigslist.org</td>\n",
       "      <td>42980</td>\n",
       "      <td>1994</td>\n",
       "      <td>other</td>\n",
       "      <td>Bentley Turbo R</td>\n",
       "      <td>gas</td>\n",
       "      <td>56411</td>\n",
       "      <td>clean</td>\n",
       "      <td>automatic</td>\n",
       "      <td>https://images.craigslist.org/00L0L_4zNUr29hb2...</td>\n",
       "      <td>1994 BENTLEY TURBO RPrice: $42,980.00Basic Inf...</td>\n",
       "      <td>nv</td>\n",
       "      <td>36.063910</td>\n",
       "      <td>-115.021630</td>\n",
       "      <td>2021-04-30T18:16:07-0700</td>\n",
       "      <td>high</td>\n",
       "      <td>2021-05-01 01:16:07+00:00</td>\n",
       "    </tr>\n",
       "    <tr>\n",
       "      <th>8393</th>\n",
       "      <td>7307462861</td>\n",
       "      <td>https://akroncanton.craigslist.org/ctd/d/lakem...</td>\n",
       "      <td>akron / canton</td>\n",
       "      <td>https://akroncanton.craigslist.org</td>\n",
       "      <td>16995</td>\n",
       "      <td>1994</td>\n",
       "      <td>chevrolet</td>\n",
       "      <td>camaro z28</td>\n",
       "      <td>gas</td>\n",
       "      <td>12779</td>\n",
       "      <td>clean</td>\n",
       "      <td>manual</td>\n",
       "      <td>https://images.craigslist.org/00F0F_GAyCfIsJDe...</td>\n",
       "      <td>1994 CHEVROLET CAMARO    * 1994 Chevy Camaro Z...</td>\n",
       "      <td>oh</td>\n",
       "      <td>41.030417</td>\n",
       "      <td>-81.393266</td>\n",
       "      <td>2021-04-15T18:54:05-0400</td>\n",
       "      <td>medium</td>\n",
       "      <td>2021-04-15 22:54:05+00:00</td>\n",
       "    </tr>\n",
       "    <tr>\n",
       "      <th>7430</th>\n",
       "      <td>7307925805</td>\n",
       "      <td>https://onslow.craigslist.org/ctd/d/richlands-...</td>\n",
       "      <td>jacksonville</td>\n",
       "      <td>https://onslow.craigslist.org</td>\n",
       "      <td>5900</td>\n",
       "      <td>1994</td>\n",
       "      <td>ford</td>\n",
       "      <td>f600</td>\n",
       "      <td>gas</td>\n",
       "      <td>113000</td>\n",
       "      <td>clean</td>\n",
       "      <td>automatic</td>\n",
       "      <td>https://images.craigslist.org/00w0w_1tkczK9J6m...</td>\n",
       "      <td>1994 Ford F600, One Owner (New Hanover County)...</td>\n",
       "      <td>nc</td>\n",
       "      <td>34.844585</td>\n",
       "      <td>-77.532599</td>\n",
       "      <td>2021-04-16T16:37:28-0400</td>\n",
       "      <td>low</td>\n",
       "      <td>2021-04-16 20:37:28+00:00</td>\n",
       "    </tr>\n",
       "    <tr>\n",
       "      <th>7224</th>\n",
       "      <td>7312411975</td>\n",
       "      <td>https://littlerock.craigslist.org/cto/d/cabot-...</td>\n",
       "      <td>little rock</td>\n",
       "      <td>https://littlerock.craigslist.org</td>\n",
       "      <td>6500</td>\n",
       "      <td>1994</td>\n",
       "      <td>chevrolet</td>\n",
       "      <td>corvette</td>\n",
       "      <td>gas</td>\n",
       "      <td>119656</td>\n",
       "      <td>clean</td>\n",
       "      <td>automatic</td>\n",
       "      <td>https://images.craigslist.org/01111_b6ElUM0uh6...</td>\n",
       "      <td>94 c4 Chevy corvette, 5.7 liter LT1, automatic...</td>\n",
       "      <td>ar</td>\n",
       "      <td>34.962779</td>\n",
       "      <td>-92.086201</td>\n",
       "      <td>2021-04-25T12:46:44-0500</td>\n",
       "      <td>low</td>\n",
       "      <td>2021-04-25 17:46:44+00:00</td>\n",
       "    </tr>\n",
       "    <tr>\n",
       "      <th>6978</th>\n",
       "      <td>7306239801</td>\n",
       "      <td>https://mohave.craigslist.org/cto/d/fort-mohav...</td>\n",
       "      <td>mohave county</td>\n",
       "      <td>https://mohave.craigslist.org</td>\n",
       "      <td>1200</td>\n",
       "      <td>1994</td>\n",
       "      <td>chevrolet</td>\n",
       "      <td>silverado 1500</td>\n",
       "      <td>gas</td>\n",
       "      <td>78785</td>\n",
       "      <td>clean</td>\n",
       "      <td>automatic</td>\n",
       "      <td>https://images.craigslist.org/00E0E_lc3n6p6oqy...</td>\n",
       "      <td>1994 Chevrolet C/K Pickup 1500 Silverado for s...</td>\n",
       "      <td>az</td>\n",
       "      <td>35.032273</td>\n",
       "      <td>-114.577296</td>\n",
       "      <td>2021-04-13T10:22:54-0700</td>\n",
       "      <td>low</td>\n",
       "      <td>2021-04-13 17:22:54+00:00</td>\n",
       "    </tr>\n",
       "    <tr>\n",
       "      <th>6696</th>\n",
       "      <td>7316341861</td>\n",
       "      <td>https://holland.craigslist.org/cto/d/holland-9...</td>\n",
       "      <td>holland</td>\n",
       "      <td>https://holland.craigslist.org</td>\n",
       "      <td>2800</td>\n",
       "      <td>1994</td>\n",
       "      <td>ford</td>\n",
       "      <td>ranger 4x4</td>\n",
       "      <td>gas</td>\n",
       "      <td>190000</td>\n",
       "      <td>clean</td>\n",
       "      <td>automatic</td>\n",
       "      <td>https://images.craigslist.org/00909_dFbbKe1AhP...</td>\n",
       "      <td>Oldie but goodie ! The good 4.0 (single timing...</td>\n",
       "      <td>mi</td>\n",
       "      <td>42.769200</td>\n",
       "      <td>-86.116400</td>\n",
       "      <td>2021-05-03T14:39:01-0400</td>\n",
       "      <td>low</td>\n",
       "      <td>2021-05-03 18:39:01+00:00</td>\n",
       "    </tr>\n",
       "    <tr>\n",
       "      <th>8784</th>\n",
       "      <td>7315071161</td>\n",
       "      <td>https://omaha.craigslist.org/ctd/d/blair-1994-...</td>\n",
       "      <td>omaha / council bluffs</td>\n",
       "      <td>https://omaha.craigslist.org</td>\n",
       "      <td>3250</td>\n",
       "      <td>1994</td>\n",
       "      <td>other</td>\n",
       "      <td>oldsmobile cutlass ciera</td>\n",
       "      <td>gas</td>\n",
       "      <td>58000</td>\n",
       "      <td>clean</td>\n",
       "      <td>automatic</td>\n",
       "      <td>https://images.craigslist.org/00000_gf5I6DGkgX...</td>\n",
       "      <td>Make: Oldsmobile Model: Cutlass Ciera Model Ye...</td>\n",
       "      <td>ia</td>\n",
       "      <td>41.545400</td>\n",
       "      <td>-96.161700</td>\n",
       "      <td>2021-04-30T17:40:12-0500</td>\n",
       "      <td>low</td>\n",
       "      <td>2021-04-30 22:40:12+00:00</td>\n",
       "    </tr>\n",
       "    <tr>\n",
       "      <th>9013</th>\n",
       "      <td>7316875336</td>\n",
       "      <td>https://cleveland.craigslist.org/cto/d/solon-1...</td>\n",
       "      <td>cleveland</td>\n",
       "      <td>https://cleveland.craigslist.org</td>\n",
       "      <td>2500</td>\n",
       "      <td>1994</td>\n",
       "      <td>ford</td>\n",
       "      <td>mustang gt</td>\n",
       "      <td>gas</td>\n",
       "      <td>94686</td>\n",
       "      <td>clean</td>\n",
       "      <td>other</td>\n",
       "      <td>https://images.craigslist.org/00X0X_hNm8WxJY4R...</td>\n",
       "      <td>A laser red 1994 Mustang GT vert with no engin...</td>\n",
       "      <td>oh</td>\n",
       "      <td>41.386600</td>\n",
       "      <td>-81.442100</td>\n",
       "      <td>2021-05-04T15:06:57-0400</td>\n",
       "      <td>low</td>\n",
       "      <td>2021-05-04 19:06:57+00:00</td>\n",
       "    </tr>\n",
       "    <tr>\n",
       "      <th>6124</th>\n",
       "      <td>7316404190</td>\n",
       "      <td>https://fortcollins.craigslist.org/cto/d/winds...</td>\n",
       "      <td>fort collins / north CO</td>\n",
       "      <td>https://fortcollins.craigslist.org</td>\n",
       "      <td>3500</td>\n",
       "      <td>1994</td>\n",
       "      <td>chevrolet</td>\n",
       "      <td>silverado</td>\n",
       "      <td>gas</td>\n",
       "      <td>272000</td>\n",
       "      <td>clean</td>\n",
       "      <td>manual</td>\n",
       "      <td>https://images.craigslist.org/00P0P_4xYzTu6eTv...</td>\n",
       "      <td>Good running and clean truck for its age. Topp...</td>\n",
       "      <td>co</td>\n",
       "      <td>40.483700</td>\n",
       "      <td>-104.899400</td>\n",
       "      <td>2021-05-03T14:20:00-0600</td>\n",
       "      <td>low</td>\n",
       "      <td>2021-05-03 20:20:00+00:00</td>\n",
       "    </tr>\n",
       "    <tr>\n",
       "      <th>13</th>\n",
       "      <td>7317089086</td>\n",
       "      <td>https://seattle.craigslist.org/see/ctd/d/portl...</td>\n",
       "      <td>seattle-tacoma</td>\n",
       "      <td>https://seattle.craigslist.org</td>\n",
       "      <td>14995</td>\n",
       "      <td>1994</td>\n",
       "      <td>ford</td>\n",
       "      <td>e-series van universal by glaval designer luxu...</td>\n",
       "      <td>gas</td>\n",
       "      <td>156925</td>\n",
       "      <td>clean</td>\n",
       "      <td>automatic</td>\n",
       "      <td>https://images.craigslist.org/00r0r_13JUlXZOMl...</td>\n",
       "      <td>Priced to Sell: $14,9951994 Ford E-Series Van ...</td>\n",
       "      <td>wa</td>\n",
       "      <td>45.391373</td>\n",
       "      <td>-122.613533</td>\n",
       "      <td>2021-05-04T20:22:11-0700</td>\n",
       "      <td>medium</td>\n",
       "      <td>2021-05-05 03:22:11+00:00</td>\n",
       "    </tr>\n",
       "    <tr>\n",
       "      <th>4056</th>\n",
       "      <td>7314802372</td>\n",
       "      <td>https://stlouis.craigslist.org/cto/d/fenton-19...</td>\n",
       "      <td>st louis, MO</td>\n",
       "      <td>https://stlouis.craigslist.org</td>\n",
       "      <td>14500</td>\n",
       "      <td>1994</td>\n",
       "      <td>chevrolet</td>\n",
       "      <td>corvette convertible</td>\n",
       "      <td>gas</td>\n",
       "      <td>35051</td>\n",
       "      <td>clean</td>\n",
       "      <td>automatic</td>\n",
       "      <td>https://images.craigslist.org/00M0M_fuP3eCKtrM...</td>\n",
       "      <td>Selling my 1994 Corvette Convertible, Red with...</td>\n",
       "      <td>il</td>\n",
       "      <td>38.501500</td>\n",
       "      <td>-90.468300</td>\n",
       "      <td>2021-04-30T09:54:46-0500</td>\n",
       "      <td>medium</td>\n",
       "      <td>2021-04-30 14:54:46+00:00</td>\n",
       "    </tr>\n",
       "    <tr>\n",
       "      <th>3170</th>\n",
       "      <td>7304335747</td>\n",
       "      <td>https://fayetteville.craigslist.org/cto/d/faye...</td>\n",
       "      <td>fayetteville</td>\n",
       "      <td>https://fayetteville.craigslist.org</td>\n",
       "      <td>1500</td>\n",
       "      <td>1994</td>\n",
       "      <td>cadillac</td>\n",
       "      <td>deville</td>\n",
       "      <td>gas</td>\n",
       "      <td>182000</td>\n",
       "      <td>clean</td>\n",
       "      <td>automatic</td>\n",
       "      <td>https://images.craigslist.org/00p0p_TMYOLBxryX...</td>\n",
       "      <td>1994 Cadillac Deville  182,000 miles, clean bo...</td>\n",
       "      <td>nc</td>\n",
       "      <td>35.058300</td>\n",
       "      <td>-79.008000</td>\n",
       "      <td>2021-04-09T15:46:16-0400</td>\n",
       "      <td>low</td>\n",
       "      <td>2021-04-09 19:46:16+00:00</td>\n",
       "    </tr>\n",
       "    <tr>\n",
       "      <th>2944</th>\n",
       "      <td>7316254515</td>\n",
       "      <td>https://omaha.craigslist.org/cto/d/havelock-19...</td>\n",
       "      <td>omaha / council bluffs</td>\n",
       "      <td>https://omaha.craigslist.org</td>\n",
       "      <td>15900</td>\n",
       "      <td>1994</td>\n",
       "      <td>ram</td>\n",
       "      <td>deisel cummins 3500</td>\n",
       "      <td>diesel</td>\n",
       "      <td>114000</td>\n",
       "      <td>clean</td>\n",
       "      <td>manual</td>\n",
       "      <td>https://images.craigslist.org/00x0x_cVzp9JmWuq...</td>\n",
       "      <td>1994 Dodge Ram 3500 2wd RWD 5.9 Cummins Turbo ...</td>\n",
       "      <td>ia</td>\n",
       "      <td>42.841100</td>\n",
       "      <td>-94.725200</td>\n",
       "      <td>2021-05-03T11:26:25-0500</td>\n",
       "      <td>medium</td>\n",
       "      <td>2021-05-03 16:26:25+00:00</td>\n",
       "    </tr>\n",
       "    <tr>\n",
       "      <th>2829</th>\n",
       "      <td>7302351318</td>\n",
       "      <td>https://medford.craigslist.org/ctd/d/grants-pa...</td>\n",
       "      <td>medford-ashland</td>\n",
       "      <td>https://medford.craigslist.org</td>\n",
       "      <td>3499</td>\n",
       "      <td>1994</td>\n",
       "      <td>mercury</td>\n",
       "      <td>grand marquis</td>\n",
       "      <td>gas</td>\n",
       "      <td>111700</td>\n",
       "      <td>clean</td>\n",
       "      <td>automatic</td>\n",
       "      <td>https://images.craigslist.org/00W0W_4Z9Q3sZLqo...</td>\n",
       "      <td>*****LOW MILES, STRONG-RUNNING CAR, VERY WELL ...</td>\n",
       "      <td>or</td>\n",
       "      <td>42.457435</td>\n",
       "      <td>-123.320814</td>\n",
       "      <td>2021-04-05T15:56:40-0700</td>\n",
       "      <td>low</td>\n",
       "      <td>2021-04-05 22:56:40+00:00</td>\n",
       "    </tr>\n",
       "    <tr>\n",
       "      <th>2488</th>\n",
       "      <td>7314090075</td>\n",
       "      <td>https://hartford.craigslist.org/cto/d/middleto...</td>\n",
       "      <td>hartford</td>\n",
       "      <td>https://hartford.craigslist.org</td>\n",
       "      <td>10500</td>\n",
       "      <td>1994</td>\n",
       "      <td>ford</td>\n",
       "      <td>f350</td>\n",
       "      <td>diesel</td>\n",
       "      <td>186000</td>\n",
       "      <td>clean</td>\n",
       "      <td>automatic</td>\n",
       "      <td>https://images.craigslist.org/00808_epi8iOoI1o...</td>\n",
       "      <td>1994 ford f350 7.3 idi turbo  4×4.  for sale. ...</td>\n",
       "      <td>ct</td>\n",
       "      <td>41.556900</td>\n",
       "      <td>-72.665200</td>\n",
       "      <td>2021-04-28T18:48:46-0400</td>\n",
       "      <td>medium</td>\n",
       "      <td>2021-04-28 22:48:46+00:00</td>\n",
       "    </tr>\n",
       "    <tr>\n",
       "      <th>2361</th>\n",
       "      <td>7308961447</td>\n",
       "      <td>https://valdosta.craigslist.org/cto/d/douglas-...</td>\n",
       "      <td>valdosta</td>\n",
       "      <td>https://valdosta.craigslist.org</td>\n",
       "      <td>9000</td>\n",
       "      <td>1994</td>\n",
       "      <td>jeep</td>\n",
       "      <td>wrangler</td>\n",
       "      <td>gas</td>\n",
       "      <td>108000</td>\n",
       "      <td>clean</td>\n",
       "      <td>manual</td>\n",
       "      <td>https://images.craigslist.org/01111_fDmAGB6XfP...</td>\n",
       "      <td>1994 Jeep Wrangler in excellent condition. Rus...</td>\n",
       "      <td>ga</td>\n",
       "      <td>31.501304</td>\n",
       "      <td>-82.849355</td>\n",
       "      <td>2021-04-18T17:51:10-0400</td>\n",
       "      <td>low</td>\n",
       "      <td>2021-04-18 21:51:10+00:00</td>\n",
       "    </tr>\n",
       "    <tr>\n",
       "      <th>1658</th>\n",
       "      <td>7315771854</td>\n",
       "      <td>https://houston.craigslist.org/cto/d/houston-1...</td>\n",
       "      <td>houston</td>\n",
       "      <td>https://houston.craigslist.org</td>\n",
       "      <td>7200</td>\n",
       "      <td>1994</td>\n",
       "      <td>ford</td>\n",
       "      <td>f150 4x4</td>\n",
       "      <td>gas</td>\n",
       "      <td>138000</td>\n",
       "      <td>clean</td>\n",
       "      <td>automatic</td>\n",
       "      <td>https://images.craigslist.org/00z0z_d2zH6zzOwZ...</td>\n",
       "      <td>ebay auction: ITEM NUMBER 114784366450 Vehicle...</td>\n",
       "      <td>tx</td>\n",
       "      <td>29.799100</td>\n",
       "      <td>-95.411800</td>\n",
       "      <td>2021-05-02T10:54:13-0500</td>\n",
       "      <td>low</td>\n",
       "      <td>2021-05-02 15:54:13+00:00</td>\n",
       "    </tr>\n",
       "    <tr>\n",
       "      <th>1380</th>\n",
       "      <td>7310753183</td>\n",
       "      <td>https://eastnc.craigslist.org/cto/d/goldsboro-...</td>\n",
       "      <td>eastern NC</td>\n",
       "      <td>https://eastnc.craigslist.org</td>\n",
       "      <td>3800</td>\n",
       "      <td>1994</td>\n",
       "      <td>ford</td>\n",
       "      <td>f350</td>\n",
       "      <td>gas</td>\n",
       "      <td>0</td>\n",
       "      <td>clean</td>\n",
       "      <td>automatic</td>\n",
       "      <td>https://images.craigslist.org/00T0T_P7qkgOOmqb...</td>\n",
       "      <td>F350  Runs very good 351 Windsor Dually Goosen...</td>\n",
       "      <td>nc</td>\n",
       "      <td>35.366400</td>\n",
       "      <td>-77.922100</td>\n",
       "      <td>2021-04-22T07:35:07-0400</td>\n",
       "      <td>low</td>\n",
       "      <td>2021-04-22 11:35:07+00:00</td>\n",
       "    </tr>\n",
       "    <tr>\n",
       "      <th>1285</th>\n",
       "      <td>7308091590</td>\n",
       "      <td>https://greenbay.craigslist.org/ctd/d/green-ba...</td>\n",
       "      <td>green bay</td>\n",
       "      <td>https://greenbay.craigslist.org</td>\n",
       "      <td>29990</td>\n",
       "      <td>1994</td>\n",
       "      <td>chevrolet</td>\n",
       "      <td>silverado</td>\n",
       "      <td>gas</td>\n",
       "      <td>32454</td>\n",
       "      <td>clean</td>\n",
       "      <td>automatic</td>\n",
       "      <td>https://images.craigslist.org/01212_1VizKeSM5v...</td>\n",
       "      <td>1994 Chevy Silverado 1500 Regular Cab Step Sid...</td>\n",
       "      <td>wi</td>\n",
       "      <td>44.497500</td>\n",
       "      <td>-88.032400</td>\n",
       "      <td>2021-04-16T22:26:07-0500</td>\n",
       "      <td>high</td>\n",
       "      <td>2021-04-17 03:26:07+00:00</td>\n",
       "    </tr>\n",
       "    <tr>\n",
       "      <th>1179</th>\n",
       "      <td>7308926413</td>\n",
       "      <td>https://southjersey.craigslist.org/cto/d/swede...</td>\n",
       "      <td>south jersey</td>\n",
       "      <td>https://southjersey.craigslist.org</td>\n",
       "      <td>9500</td>\n",
       "      <td>1994</td>\n",
       "      <td>subaru</td>\n",
       "      <td>svx</td>\n",
       "      <td>gas</td>\n",
       "      <td>88000</td>\n",
       "      <td>clean</td>\n",
       "      <td>automatic</td>\n",
       "      <td>https://images.craigslist.org/00M0M_lRPxgUI1lc...</td>\n",
       "      <td>1994 Subaru SVX, green but vinyl wrapped grey,...</td>\n",
       "      <td>nj</td>\n",
       "      <td>39.771000</td>\n",
       "      <td>-75.356600</td>\n",
       "      <td>2021-04-18T16:39:02-0400</td>\n",
       "      <td>low</td>\n",
       "      <td>2021-04-18 20:39:02+00:00</td>\n",
       "    </tr>\n",
       "    <tr>\n",
       "      <th>1082</th>\n",
       "      <td>7312999827</td>\n",
       "      <td>https://southjersey.craigslist.org/cto/d/atco-...</td>\n",
       "      <td>south jersey</td>\n",
       "      <td>https://southjersey.craigslist.org</td>\n",
       "      <td>2000</td>\n",
       "      <td>1994</td>\n",
       "      <td>honda</td>\n",
       "      <td>civic lx</td>\n",
       "      <td>gas</td>\n",
       "      <td>95858</td>\n",
       "      <td>clean</td>\n",
       "      <td>automatic</td>\n",
       "      <td>https://images.craigslist.org/00L0L_cYkqiYtqy3...</td>\n",
       "      <td>Runs and drives  Just needs vss sensor  window...</td>\n",
       "      <td>nj</td>\n",
       "      <td>39.760000</td>\n",
       "      <td>-74.866500</td>\n",
       "      <td>2021-04-26T16:09:34-0400</td>\n",
       "      <td>low</td>\n",
       "      <td>2021-04-26 20:09:34+00:00</td>\n",
       "    </tr>\n",
       "    <tr>\n",
       "      <th>288</th>\n",
       "      <td>7315425827</td>\n",
       "      <td>https://reno.craigslist.org/ctd/d/reno-1994-ch...</td>\n",
       "      <td>reno / tahoe</td>\n",
       "      <td>https://reno.craigslist.org</td>\n",
       "      <td>1850</td>\n",
       "      <td>1994</td>\n",
       "      <td>chevrolet</td>\n",
       "      <td>s10 pickup</td>\n",
       "      <td>gas</td>\n",
       "      <td>207585</td>\n",
       "      <td>clean</td>\n",
       "      <td>automatic</td>\n",
       "      <td>https://images.craigslist.org/00i0i_iB5ud02wSl...</td>\n",
       "      <td>1994 Chevy S-10 extra cab. Pick up truck 4WD, ...</td>\n",
       "      <td>ca</td>\n",
       "      <td>39.513054</td>\n",
       "      <td>-119.775415</td>\n",
       "      <td>2021-05-01T11:38:16-0700</td>\n",
       "      <td>low</td>\n",
       "      <td>2021-05-01 18:38:16+00:00</td>\n",
       "    </tr>\n",
       "    <tr>\n",
       "      <th>146</th>\n",
       "      <td>7315501888</td>\n",
       "      <td>https://boise.craigslist.org/cto/d/boise-1994-...</td>\n",
       "      <td>boise</td>\n",
       "      <td>https://boise.craigslist.org</td>\n",
       "      <td>1500</td>\n",
       "      <td>1994</td>\n",
       "      <td>ford</td>\n",
       "      <td>f150</td>\n",
       "      <td>gas</td>\n",
       "      <td>233659</td>\n",
       "      <td>clean</td>\n",
       "      <td>manual</td>\n",
       "      <td>https://images.craigslist.org/00K0K_cSEkfT8I3k...</td>\n",
       "      <td>I’m at selling my 1994 Ford F-150 233,000 mile...</td>\n",
       "      <td>id</td>\n",
       "      <td>43.632200</td>\n",
       "      <td>-116.205200</td>\n",
       "      <td>2021-05-01T14:57:16-0600</td>\n",
       "      <td>low</td>\n",
       "      <td>2021-05-01 20:57:16+00:00</td>\n",
       "    </tr>\n",
       "    <tr>\n",
       "      <th>9797</th>\n",
       "      <td>7310017390</td>\n",
       "      <td>https://fayetteville.craigslist.org/cto/d/haml...</td>\n",
       "      <td>fayetteville</td>\n",
       "      <td>https://fayetteville.craigslist.org</td>\n",
       "      <td>4800</td>\n",
       "      <td>1994</td>\n",
       "      <td>buick</td>\n",
       "      <td>park ave ultra</td>\n",
       "      <td>gas</td>\n",
       "      <td>93000</td>\n",
       "      <td>clean</td>\n",
       "      <td>automatic</td>\n",
       "      <td>https://images.craigslist.org/00L0L_d5JocK3KmL...</td>\n",
       "      <td>94 Buick Park Ave Ultra with the superxharged ...</td>\n",
       "      <td>nc</td>\n",
       "      <td>34.917400</td>\n",
       "      <td>-79.683500</td>\n",
       "      <td>2021-04-20T16:31:59-0400</td>\n",
       "      <td>low</td>\n",
       "      <td>2021-04-20 20:31:59+00:00</td>\n",
       "    </tr>\n",
       "    <tr>\n",
       "      <th>9921</th>\n",
       "      <td>7311566144</td>\n",
       "      <td>https://chico.craigslist.org/cto/d/chico-1994-...</td>\n",
       "      <td>chico</td>\n",
       "      <td>https://chico.craigslist.org</td>\n",
       "      <td>16000</td>\n",
       "      <td>1994</td>\n",
       "      <td>ford</td>\n",
       "      <td>f250</td>\n",
       "      <td>gas</td>\n",
       "      <td>32500</td>\n",
       "      <td>clean</td>\n",
       "      <td>automatic</td>\n",
       "      <td>https://images.craigslist.org/01010_343KkgTaHo...</td>\n",
       "      <td>Up for sale is this 32,000 original mile Ford ...</td>\n",
       "      <td>ca</td>\n",
       "      <td>39.745800</td>\n",
       "      <td>-121.844400</td>\n",
       "      <td>2021-04-23T13:51:20-0700</td>\n",
       "      <td>medium</td>\n",
       "      <td>2021-04-23 20:51:20+00:00</td>\n",
       "    </tr>\n",
       "  </tbody>\n",
       "</table>\n",
       "</div>"
      ],
      "text/plain": [
       "              id                                                url  \\\n",
       "5265  7310718931  https://abilene.craigslist.org/cto/d/may-1993-...   \n",
       "6202  7316601055  https://phoenix.craigslist.org/evl/cto/d/chand...   \n",
       "3643  7316362501  https://losangeles.craigslist.org/lac/cto/d/lo...   \n",
       "7533  7315947302  https://honolulu.craigslist.org/oah/cto/d/pear...   \n",
       "5519  7309765540  https://fortwayne.craigslist.org/cto/d/fort-wa...   \n",
       "8653  7307770854  https://fairbanks.craigslist.org/cto/d/fort-gr...   \n",
       "1922  7316388032  https://eauclaire.craigslist.org/cto/d/eau-cla...   \n",
       "445   7311674587  https://bozeman.craigslist.org/cto/d/bozeman-1...   \n",
       "350   7315510783  https://orangecounty.craigslist.org/cto/d/el-t...   \n",
       "8765  7313475358  https://spokane.craigslist.org/cto/d/1993-toyo...   \n",
       "5618  7316330961  https://portland.craigslist.org/clc/cto/d/dama...   \n",
       "8541  7313991969  https://sarasota.craigslist.org/ctd/d/sarasota...   \n",
       "8460  7315131826  https://lasvegas.craigslist.org/ctd/d/henderso...   \n",
       "8393  7307462861  https://akroncanton.craigslist.org/ctd/d/lakem...   \n",
       "7430  7307925805  https://onslow.craigslist.org/ctd/d/richlands-...   \n",
       "7224  7312411975  https://littlerock.craigslist.org/cto/d/cabot-...   \n",
       "6978  7306239801  https://mohave.craigslist.org/cto/d/fort-mohav...   \n",
       "6696  7316341861  https://holland.craigslist.org/cto/d/holland-9...   \n",
       "8784  7315071161  https://omaha.craigslist.org/ctd/d/blair-1994-...   \n",
       "9013  7316875336  https://cleveland.craigslist.org/cto/d/solon-1...   \n",
       "6124  7316404190  https://fortcollins.craigslist.org/cto/d/winds...   \n",
       "13    7317089086  https://seattle.craigslist.org/see/ctd/d/portl...   \n",
       "4056  7314802372  https://stlouis.craigslist.org/cto/d/fenton-19...   \n",
       "3170  7304335747  https://fayetteville.craigslist.org/cto/d/faye...   \n",
       "2944  7316254515  https://omaha.craigslist.org/cto/d/havelock-19...   \n",
       "2829  7302351318  https://medford.craigslist.org/ctd/d/grants-pa...   \n",
       "2488  7314090075  https://hartford.craigslist.org/cto/d/middleto...   \n",
       "2361  7308961447  https://valdosta.craigslist.org/cto/d/douglas-...   \n",
       "1658  7315771854  https://houston.craigslist.org/cto/d/houston-1...   \n",
       "1380  7310753183  https://eastnc.craigslist.org/cto/d/goldsboro-...   \n",
       "1285  7308091590  https://greenbay.craigslist.org/ctd/d/green-ba...   \n",
       "1179  7308926413  https://southjersey.craigslist.org/cto/d/swede...   \n",
       "1082  7312999827  https://southjersey.craigslist.org/cto/d/atco-...   \n",
       "288   7315425827  https://reno.craigslist.org/ctd/d/reno-1994-ch...   \n",
       "146   7315501888  https://boise.craigslist.org/cto/d/boise-1994-...   \n",
       "9797  7310017390  https://fayetteville.craigslist.org/cto/d/haml...   \n",
       "9921  7311566144  https://chico.craigslist.org/cto/d/chico-1994-...   \n",
       "\n",
       "                       region                           region_url  price  \\\n",
       "5265                  abilene       https://abilene.craigslist.org  26000   \n",
       "6202                  phoenix       https://phoenix.craigslist.org   5000   \n",
       "3643              los angeles    https://losangeles.craigslist.org   3000   \n",
       "7533                   hawaii      https://honolulu.craigslist.org   4500   \n",
       "5519               fort wayne     https://fortwayne.craigslist.org   5000   \n",
       "8653                fairbanks     https://fairbanks.craigslist.org   3000   \n",
       "1922               eau claire     https://eauclaire.craigslist.org   1000   \n",
       "445                   bozeman       https://bozeman.craigslist.org   1000   \n",
       "350             orange county  https://orangecounty.craigslist.org   1200   \n",
       "8765  spokane / coeur d'alene       https://spokane.craigslist.org  28000   \n",
       "5618                 portland      https://portland.craigslist.org   6500   \n",
       "8541       sarasota-bradenton      https://sarasota.craigslist.org   3999   \n",
       "8460                las vegas      https://lasvegas.craigslist.org  42980   \n",
       "8393           akron / canton   https://akroncanton.craigslist.org  16995   \n",
       "7430             jacksonville        https://onslow.craigslist.org   5900   \n",
       "7224              little rock    https://littlerock.craigslist.org   6500   \n",
       "6978            mohave county        https://mohave.craigslist.org   1200   \n",
       "6696                  holland       https://holland.craigslist.org   2800   \n",
       "8784   omaha / council bluffs         https://omaha.craigslist.org   3250   \n",
       "9013                cleveland     https://cleveland.craigslist.org   2500   \n",
       "6124  fort collins / north CO   https://fortcollins.craigslist.org   3500   \n",
       "13             seattle-tacoma       https://seattle.craigslist.org  14995   \n",
       "4056             st louis, MO       https://stlouis.craigslist.org  14500   \n",
       "3170             fayetteville  https://fayetteville.craigslist.org   1500   \n",
       "2944   omaha / council bluffs         https://omaha.craigslist.org  15900   \n",
       "2829          medford-ashland       https://medford.craigslist.org   3499   \n",
       "2488                 hartford      https://hartford.craigslist.org  10500   \n",
       "2361                 valdosta      https://valdosta.craigslist.org   9000   \n",
       "1658                  houston       https://houston.craigslist.org   7200   \n",
       "1380               eastern NC        https://eastnc.craigslist.org   3800   \n",
       "1285                green bay      https://greenbay.craigslist.org  29990   \n",
       "1179             south jersey   https://southjersey.craigslist.org   9500   \n",
       "1082             south jersey   https://southjersey.craigslist.org   2000   \n",
       "288              reno / tahoe          https://reno.craigslist.org   1850   \n",
       "146                     boise         https://boise.craigslist.org   1500   \n",
       "9797             fayetteville  https://fayetteville.craigslist.org   4800   \n",
       "9921                    chico         https://chico.craigslist.org  16000   \n",
       "\n",
       "      year manufacturer                                              model  \\\n",
       "5265  1993        dodge                                               w350   \n",
       "6202  1993         jeep                                     grand cherokee   \n",
       "3643  1993      lincoln                                           town car   \n",
       "7533  1993       toyota                                             pickup   \n",
       "5519  1993          bmw                                               318i   \n",
       "8653  1993          gmc                                         school bus   \n",
       "1922  1993    chevrolet                                            grumman   \n",
       "445   1993        other                                       isuzu pickup   \n",
       "350   1993    chevrolet                                    caprice classic   \n",
       "8765  1993       toyota                                 land cruiser kzj71   \n",
       "5618  1993    chevrolet                                     silverado 1500   \n",
       "8541  1994        other                                1994 accura integra   \n",
       "8460  1994        other                                    Bentley Turbo R   \n",
       "8393  1994    chevrolet                                         camaro z28   \n",
       "7430  1994         ford                                               f600   \n",
       "7224  1994    chevrolet                                           corvette   \n",
       "6978  1994    chevrolet                                     silverado 1500   \n",
       "6696  1994         ford                                         ranger 4x4   \n",
       "8784  1994        other                           oldsmobile cutlass ciera   \n",
       "9013  1994         ford                                         mustang gt   \n",
       "6124  1994    chevrolet                                          silverado   \n",
       "13    1994         ford  e-series van universal by glaval designer luxu...   \n",
       "4056  1994    chevrolet                               corvette convertible   \n",
       "3170  1994     cadillac                                            deville   \n",
       "2944  1994          ram                                deisel cummins 3500   \n",
       "2829  1994      mercury                                      grand marquis   \n",
       "2488  1994         ford                                               f350   \n",
       "2361  1994         jeep                                           wrangler   \n",
       "1658  1994         ford                                           f150 4x4   \n",
       "1380  1994         ford                                               f350   \n",
       "1285  1994    chevrolet                                          silverado   \n",
       "1179  1994       subaru                                                svx   \n",
       "1082  1994        honda                                           civic lx   \n",
       "288   1994    chevrolet                                         s10 pickup   \n",
       "146   1994         ford                                               f150   \n",
       "9797  1994        buick                                     park ave ultra   \n",
       "9921  1994         ford                                               f250   \n",
       "\n",
       "        fuel  odometer title_status transmission  \\\n",
       "5265  diesel    146000        clean       manual   \n",
       "6202     gas    150000        clean    automatic   \n",
       "3643     gas    130000        clean    automatic   \n",
       "7533     gas    239000        clean    automatic   \n",
       "5519     gas    168000      rebuilt       manual   \n",
       "8653  diesel    180000        clean       manual   \n",
       "1922     gas    175000        clean    automatic   \n",
       "445      gas    156165        clean       manual   \n",
       "350      gas    143000        clean        other   \n",
       "8765  diesel    140000        clean    automatic   \n",
       "5618     gas     80000        clean       manual   \n",
       "8541     gas         1        clean    automatic   \n",
       "8460     gas     56411        clean    automatic   \n",
       "8393     gas     12779        clean       manual   \n",
       "7430     gas    113000        clean    automatic   \n",
       "7224     gas    119656        clean    automatic   \n",
       "6978     gas     78785        clean    automatic   \n",
       "6696     gas    190000        clean    automatic   \n",
       "8784     gas     58000        clean    automatic   \n",
       "9013     gas     94686        clean        other   \n",
       "6124     gas    272000        clean       manual   \n",
       "13       gas    156925        clean    automatic   \n",
       "4056     gas     35051        clean    automatic   \n",
       "3170     gas    182000        clean    automatic   \n",
       "2944  diesel    114000        clean       manual   \n",
       "2829     gas    111700        clean    automatic   \n",
       "2488  diesel    186000        clean    automatic   \n",
       "2361     gas    108000        clean       manual   \n",
       "1658     gas    138000        clean    automatic   \n",
       "1380     gas         0        clean    automatic   \n",
       "1285     gas     32454        clean    automatic   \n",
       "1179     gas     88000        clean    automatic   \n",
       "1082     gas     95858        clean    automatic   \n",
       "288      gas    207585        clean    automatic   \n",
       "146      gas    233659        clean       manual   \n",
       "9797     gas     93000        clean    automatic   \n",
       "9921     gas     32500        clean    automatic   \n",
       "\n",
       "                                              image_url  \\\n",
       "5265  https://images.craigslist.org/00Z0Z_1E4FcOKJPe...   \n",
       "6202  https://images.craigslist.org/00N0N_irMnBe2P9j...   \n",
       "3643  https://images.craigslist.org/01212_gM2qUCXD0n...   \n",
       "7533  https://images.craigslist.org/00z0z_bbeiRMCysy...   \n",
       "5519  https://images.craigslist.org/00j0j_gEEBY04BGR...   \n",
       "8653  https://images.craigslist.org/00l0l_lJVmSRPORC...   \n",
       "1922  https://images.craigslist.org/00I0I_jFeGMrToQA...   \n",
       "445   https://images.craigslist.org/00q0q_2E7MLZ1k5F...   \n",
       "350   https://images.craigslist.org/00B0B_3raPWgVJaJ...   \n",
       "8765  https://images.craigslist.org/00C0C_gAScK3DsXf...   \n",
       "5618  https://images.craigslist.org/00g0g_c2SlQ4P1R6...   \n",
       "8541  https://images.craigslist.org/00o0o_6JmkSUzRNu...   \n",
       "8460  https://images.craigslist.org/00L0L_4zNUr29hb2...   \n",
       "8393  https://images.craigslist.org/00F0F_GAyCfIsJDe...   \n",
       "7430  https://images.craigslist.org/00w0w_1tkczK9J6m...   \n",
       "7224  https://images.craigslist.org/01111_b6ElUM0uh6...   \n",
       "6978  https://images.craigslist.org/00E0E_lc3n6p6oqy...   \n",
       "6696  https://images.craigslist.org/00909_dFbbKe1AhP...   \n",
       "8784  https://images.craigslist.org/00000_gf5I6DGkgX...   \n",
       "9013  https://images.craigslist.org/00X0X_hNm8WxJY4R...   \n",
       "6124  https://images.craigslist.org/00P0P_4xYzTu6eTv...   \n",
       "13    https://images.craigslist.org/00r0r_13JUlXZOMl...   \n",
       "4056  https://images.craigslist.org/00M0M_fuP3eCKtrM...   \n",
       "3170  https://images.craigslist.org/00p0p_TMYOLBxryX...   \n",
       "2944  https://images.craigslist.org/00x0x_cVzp9JmWuq...   \n",
       "2829  https://images.craigslist.org/00W0W_4Z9Q3sZLqo...   \n",
       "2488  https://images.craigslist.org/00808_epi8iOoI1o...   \n",
       "2361  https://images.craigslist.org/01111_fDmAGB6XfP...   \n",
       "1658  https://images.craigslist.org/00z0z_d2zH6zzOwZ...   \n",
       "1380  https://images.craigslist.org/00T0T_P7qkgOOmqb...   \n",
       "1285  https://images.craigslist.org/01212_1VizKeSM5v...   \n",
       "1179  https://images.craigslist.org/00M0M_lRPxgUI1lc...   \n",
       "1082  https://images.craigslist.org/00L0L_cYkqiYtqy3...   \n",
       "288   https://images.craigslist.org/00i0i_iB5ud02wSl...   \n",
       "146   https://images.craigslist.org/00K0K_cSEkfT8I3k...   \n",
       "9797  https://images.craigslist.org/00L0L_d5JocK3KmL...   \n",
       "9921  https://images.craigslist.org/01010_343KkgTaHo...   \n",
       "\n",
       "                                            description state        lat  \\\n",
       "5265  This truck runs and drives great . Looks sharp...    tx  31.957100   \n",
       "6202  I am selling my Jeep Grand Cherokee Rock Crawl...    az  33.310500   \n",
       "3643  1993 Lincoln Town Car Runs Great ,Automatic  A...    ca  34.104000   \n",
       "7533  Runs good, 239K, automatic, stereo, new tires ...    hi  21.390800   \n",
       "5519  1993 BMW 318i Manual  Selling as I have 2 othe...    in  41.045600   \n",
       "8653  1993 School bus for sale. Manual transmission....    ak  64.037800   \n",
       "1922  1993 Gruman Olson box truck. 350 chevy engine ...    wi  44.861522   \n",
       "445   Good running engine that is apart right now be...    mt  45.613836   \n",
       "350   1993  Chevrolet Caprice classic LS, new tires,...    ca  33.591600   \n",
       "8765  Imported few years ago 93 Toyota Land Cruiser ...    id  47.755600   \n",
       "5618  1993 Chevy Silverado 1500 only 80,000 miles on...    or  45.418166   \n",
       "8541  OFFICE LINE--941-351-6777   Clean title, fair ...    fl  27.407200   \n",
       "8460  1994 BENTLEY TURBO RPrice: $42,980.00Basic Inf...    nv  36.063910   \n",
       "8393  1994 CHEVROLET CAMARO    * 1994 Chevy Camaro Z...    oh  41.030417   \n",
       "7430  1994 Ford F600, One Owner (New Hanover County)...    nc  34.844585   \n",
       "7224  94 c4 Chevy corvette, 5.7 liter LT1, automatic...    ar  34.962779   \n",
       "6978  1994 Chevrolet C/K Pickup 1500 Silverado for s...    az  35.032273   \n",
       "6696  Oldie but goodie ! The good 4.0 (single timing...    mi  42.769200   \n",
       "8784  Make: Oldsmobile Model: Cutlass Ciera Model Ye...    ia  41.545400   \n",
       "9013  A laser red 1994 Mustang GT vert with no engin...    oh  41.386600   \n",
       "6124  Good running and clean truck for its age. Topp...    co  40.483700   \n",
       "13    Priced to Sell: $14,9951994 Ford E-Series Van ...    wa  45.391373   \n",
       "4056  Selling my 1994 Corvette Convertible, Red with...    il  38.501500   \n",
       "3170  1994 Cadillac Deville  182,000 miles, clean bo...    nc  35.058300   \n",
       "2944  1994 Dodge Ram 3500 2wd RWD 5.9 Cummins Turbo ...    ia  42.841100   \n",
       "2829  *****LOW MILES, STRONG-RUNNING CAR, VERY WELL ...    or  42.457435   \n",
       "2488  1994 ford f350 7.3 idi turbo  4×4.  for sale. ...    ct  41.556900   \n",
       "2361  1994 Jeep Wrangler in excellent condition. Rus...    ga  31.501304   \n",
       "1658  ebay auction: ITEM NUMBER 114784366450 Vehicle...    tx  29.799100   \n",
       "1380  F350  Runs very good 351 Windsor Dually Goosen...    nc  35.366400   \n",
       "1285  1994 Chevy Silverado 1500 Regular Cab Step Sid...    wi  44.497500   \n",
       "1179  1994 Subaru SVX, green but vinyl wrapped grey,...    nj  39.771000   \n",
       "1082  Runs and drives  Just needs vss sensor  window...    nj  39.760000   \n",
       "288   1994 Chevy S-10 extra cab. Pick up truck 4WD, ...    ca  39.513054   \n",
       "146   I’m at selling my 1994 Ford F-150 233,000 mile...    id  43.632200   \n",
       "9797  94 Buick Park Ave Ultra with the superxharged ...    nc  34.917400   \n",
       "9921  Up for sale is this 32,000 original mile Ford ...    ca  39.745800   \n",
       "\n",
       "            long              posting_date price_category  \\\n",
       "5265  -98.965600  2021-04-22T00:33:32-0500           high   \n",
       "6202 -111.823900  2021-05-03T22:11:59-0700            low   \n",
       "3643 -118.292500  2021-05-03T12:11:05-0700            low   \n",
       "7533 -157.933200  2021-05-02T11:43:55-1000            low   \n",
       "5519  -85.305800  2021-04-20T10:00:37-0400            low   \n",
       "8653 -145.732200  2021-04-16T08:38:31-0800            low   \n",
       "1922  -91.445847  2021-05-03T14:53:43-0500            low   \n",
       "445  -111.062715  2021-04-23T18:48:35-0600            low   \n",
       "350  -117.698500  2021-05-01T14:14:57-0700            low   \n",
       "8765 -117.414600  2021-04-27T12:10:14-0700           high   \n",
       "5618 -122.392845  2021-05-03T11:22:11-0700            low   \n",
       "8541  -82.530300  2021-04-28T15:37:05-0400            low   \n",
       "8460 -115.021630  2021-04-30T18:16:07-0700           high   \n",
       "8393  -81.393266  2021-04-15T18:54:05-0400         medium   \n",
       "7430  -77.532599  2021-04-16T16:37:28-0400            low   \n",
       "7224  -92.086201  2021-04-25T12:46:44-0500            low   \n",
       "6978 -114.577296  2021-04-13T10:22:54-0700            low   \n",
       "6696  -86.116400  2021-05-03T14:39:01-0400            low   \n",
       "8784  -96.161700  2021-04-30T17:40:12-0500            low   \n",
       "9013  -81.442100  2021-05-04T15:06:57-0400            low   \n",
       "6124 -104.899400  2021-05-03T14:20:00-0600            low   \n",
       "13   -122.613533  2021-05-04T20:22:11-0700         medium   \n",
       "4056  -90.468300  2021-04-30T09:54:46-0500         medium   \n",
       "3170  -79.008000  2021-04-09T15:46:16-0400            low   \n",
       "2944  -94.725200  2021-05-03T11:26:25-0500         medium   \n",
       "2829 -123.320814  2021-04-05T15:56:40-0700            low   \n",
       "2488  -72.665200  2021-04-28T18:48:46-0400         medium   \n",
       "2361  -82.849355  2021-04-18T17:51:10-0400            low   \n",
       "1658  -95.411800  2021-05-02T10:54:13-0500            low   \n",
       "1380  -77.922100  2021-04-22T07:35:07-0400            low   \n",
       "1285  -88.032400  2021-04-16T22:26:07-0500           high   \n",
       "1179  -75.356600  2021-04-18T16:39:02-0400            low   \n",
       "1082  -74.866500  2021-04-26T16:09:34-0400            low   \n",
       "288  -119.775415  2021-05-01T11:38:16-0700            low   \n",
       "146  -116.205200  2021-05-01T14:57:16-0600            low   \n",
       "9797  -79.683500  2021-04-20T16:31:59-0400            low   \n",
       "9921 -121.844400  2021-04-23T13:51:20-0700         medium   \n",
       "\n",
       "                          date  \n",
       "5265 2021-04-22 05:33:32+00:00  \n",
       "6202 2021-05-04 05:11:59+00:00  \n",
       "3643 2021-05-03 19:11:05+00:00  \n",
       "7533 2021-05-02 21:43:55+00:00  \n",
       "5519 2021-04-20 14:00:37+00:00  \n",
       "8653 2021-04-16 16:38:31+00:00  \n",
       "1922 2021-05-03 19:53:43+00:00  \n",
       "445  2021-04-24 00:48:35+00:00  \n",
       "350  2021-05-01 21:14:57+00:00  \n",
       "8765 2021-04-27 19:10:14+00:00  \n",
       "5618 2021-05-03 18:22:11+00:00  \n",
       "8541 2021-04-28 19:37:05+00:00  \n",
       "8460 2021-05-01 01:16:07+00:00  \n",
       "8393 2021-04-15 22:54:05+00:00  \n",
       "7430 2021-04-16 20:37:28+00:00  \n",
       "7224 2021-04-25 17:46:44+00:00  \n",
       "6978 2021-04-13 17:22:54+00:00  \n",
       "6696 2021-05-03 18:39:01+00:00  \n",
       "8784 2021-04-30 22:40:12+00:00  \n",
       "9013 2021-05-04 19:06:57+00:00  \n",
       "6124 2021-05-03 20:20:00+00:00  \n",
       "13   2021-05-05 03:22:11+00:00  \n",
       "4056 2021-04-30 14:54:46+00:00  \n",
       "3170 2021-04-09 19:46:16+00:00  \n",
       "2944 2021-05-03 16:26:25+00:00  \n",
       "2829 2021-04-05 22:56:40+00:00  \n",
       "2488 2021-04-28 22:48:46+00:00  \n",
       "2361 2021-04-18 21:51:10+00:00  \n",
       "1658 2021-05-02 15:54:13+00:00  \n",
       "1380 2021-04-22 11:35:07+00:00  \n",
       "1285 2021-04-17 03:26:07+00:00  \n",
       "1179 2021-04-18 20:39:02+00:00  \n",
       "1082 2021-04-26 20:09:34+00:00  \n",
       "288  2021-05-01 18:38:16+00:00  \n",
       "146  2021-05-01 20:57:16+00:00  \n",
       "9797 2021-04-20 20:31:59+00:00  \n",
       "9921 2021-04-23 20:51:20+00:00  "
      ]
     },
     "execution_count": 844,
     "metadata": {},
     "output_type": "execute_result"
    }
   ],
   "source": [
    "df_anoamalya[df_anoamalya['year'] < calculate_outliers_3sigma(df_anoamalya.year)[0]].sort_values('year')"
   ]
  },
  {
   "cell_type": "code",
   "execution_count": 845,
   "id": "a9db4b63-1012-4c16-a7dc-78b3ddec2b62",
   "metadata": {
    "tags": []
   },
   "outputs": [
    {
     "data": {
      "text/plain": [
       "id                37\n",
       "url               37\n",
       "region            37\n",
       "region_url        37\n",
       "price             37\n",
       "year              37\n",
       "manufacturer      37\n",
       "model             37\n",
       "fuel              37\n",
       "odometer          37\n",
       "title_status      37\n",
       "transmission      37\n",
       "image_url         37\n",
       "description       37\n",
       "state             37\n",
       "lat               37\n",
       "long              37\n",
       "posting_date      37\n",
       "price_category    37\n",
       "date              37\n",
       "dtype: int64"
      ]
     },
     "execution_count": 845,
     "metadata": {},
     "output_type": "execute_result"
    }
   ],
   "source": [
    "df_anoamalya[df_anoamalya['year'] < calculate_outliers_3sigma(df_anoamalya.year)[0]].count()"
   ]
  },
  {
   "cell_type": "markdown",
   "id": "cc526120-e550-41e4-84c2-6e0d49b96352",
   "metadata": {},
   "source": [
    "37 записей не попадают в диапазон. Построим ящик с усами. "
   ]
  },
  {
   "cell_type": "code",
   "execution_count": 846,
   "id": "f677ecd8-9fa3-4255-9c4d-df655eef3cee",
   "metadata": {
    "tags": []
   },
   "outputs": [
    {
     "data": {
      "image/png": "[encoded data removed]",
      "text/plain": [
       "<Figure size 500x700 with 1 Axes>"
      ]
     },
     "metadata": {},
     "output_type": "display_data"
    }
   ],
   "source": [
    "from matplotlib.ticker import FormatStrFormatter\n",
    "fig, ax = plt.subplots(figsize=(5,7))\n",
    "#plt.figure(figsize=(5,15))\n",
    "ax.boxplot(df_anoamalya['year'])\n",
    "ax.set_ylabel('Год выпуска')\n",
    "ax.set_title('Аномалии в годе выпуска авто')\n",
    "ax.yaxis.set_major_formatter(FormatStrFormatter('%.0f'))"
   ]
  },
  {
   "cell_type": "markdown",
   "id": "fc1ccd59-ec7f-489f-b0b1-5deda4c59471",
   "metadata": {},
   "source": [
    "Еще раз удалим выбросы"
   ]
  },
  {
   "cell_type": "code",
   "execution_count": 847,
   "id": "4696ba6a-26c9-4256-8b75-48ec3bc6ad38",
   "metadata": {
    "tags": []
   },
   "outputs": [],
   "source": [
    "df_anoamalya = df_anoamalya[df_anoamalya['year'] >= calculate_outliers_3sigma(df_anoamalya.year)[0]]"
   ]
  },
  {
   "cell_type": "markdown",
   "id": "c0604bdf-783e-4916-8ac3-28aa9cc7a159",
   "metadata": {},
   "source": [
    "И еще раз проверим год выпуска авто на предмет выбрасов.\n",
    "\n",
    "\n"
   ]
  },
  {
   "cell_type": "markdown",
   "id": "5e818368-aa2a-4f50-9123-6ca5ddebb985",
   "metadata": {},
   "source": [
    "Осталась проверить пробег - колонка \"odometer\""
   ]
  },
  {
   "cell_type": "code",
   "execution_count": 848,
   "id": "fe1e4f8e-b260-4e81-85a0-a94ffd7563a4",
   "metadata": {
    "tags": []
   },
   "outputs": [
    {
     "data": {
      "text/plain": [
       "(1996, 2029)"
      ]
     },
     "execution_count": 848,
     "metadata": {},
     "output_type": "execute_result"
    }
   ],
   "source": [
    "calculate_outliers_3sigma(df_anoamalya.year)"
   ]
  },
  {
   "cell_type": "markdown",
   "id": "e7dc50c7-b8ee-4e63-b3dc-4191f2de7fc6",
   "metadata": {},
   "source": [
    "Главное - это вовремя остановиться. В базе остались автомобили 1995 года выпуска, но я думаю, что это не критичный выброс."
   ]
  },
  {
   "cell_type": "code",
   "execution_count": 849,
   "id": "e997ba59-f60d-416f-b535-d9e1a98efdd2",
   "metadata": {
    "tags": []
   },
   "outputs": [
    {
     "data": {
      "text/plain": [
       "(9093, 20)"
      ]
     },
     "execution_count": 849,
     "metadata": {},
     "output_type": "execute_result"
    }
   ],
   "source": [
    "df_anoamalya.shape"
   ]
  },
  {
   "cell_type": "code",
   "execution_count": 850,
   "id": "f13b0c5a-3f77-47f4-8e58-cb06345969d2",
   "metadata": {
    "tags": []
   },
   "outputs": [
    {
     "data": {
      "text/html": [
       "<div>\n",
       "<style scoped>\n",
       "    .dataframe tbody tr th:only-of-type {\n",
       "        vertical-align: middle;\n",
       "    }\n",
       "\n",
       "    .dataframe tbody tr th {\n",
       "        vertical-align: top;\n",
       "    }\n",
       "\n",
       "    .dataframe thead th {\n",
       "        text-align: right;\n",
       "    }\n",
       "</style>\n",
       "<table border=\"1\" class=\"dataframe\">\n",
       "  <thead>\n",
       "    <tr style=\"text-align: right;\">\n",
       "      <th></th>\n",
       "      <th>id</th>\n",
       "      <th>price</th>\n",
       "      <th>year</th>\n",
       "      <th>odometer</th>\n",
       "      <th>lat</th>\n",
       "      <th>long</th>\n",
       "    </tr>\n",
       "  </thead>\n",
       "  <tbody>\n",
       "    <tr>\n",
       "      <th>count</th>\n",
       "      <td>9.093000e+03</td>\n",
       "      <td>9093.000000</td>\n",
       "      <td>9093.000000</td>\n",
       "      <td>9093.000000</td>\n",
       "      <td>9093.000000</td>\n",
       "      <td>9093.000000</td>\n",
       "    </tr>\n",
       "    <tr>\n",
       "      <th>mean</th>\n",
       "      <td>7.311529e+09</td>\n",
       "      <td>18986.205543</td>\n",
       "      <td>2012.392060</td>\n",
       "      <td>94506.638953</td>\n",
       "      <td>38.586953</td>\n",
       "      <td>-93.821281</td>\n",
       "    </tr>\n",
       "    <tr>\n",
       "      <th>std</th>\n",
       "      <td>4.378600e+06</td>\n",
       "      <td>13622.681136</td>\n",
       "      <td>5.550644</td>\n",
       "      <td>62985.759757</td>\n",
       "      <td>5.715836</td>\n",
       "      <td>17.746180</td>\n",
       "    </tr>\n",
       "    <tr>\n",
       "      <th>min</th>\n",
       "      <td>7.301586e+09</td>\n",
       "      <td>500.000000</td>\n",
       "      <td>1995.000000</td>\n",
       "      <td>0.000000</td>\n",
       "      <td>19.541726</td>\n",
       "      <td>-158.069300</td>\n",
       "    </tr>\n",
       "    <tr>\n",
       "      <th>25%</th>\n",
       "      <td>7.308105e+09</td>\n",
       "      <td>7900.000000</td>\n",
       "      <td>2008.000000</td>\n",
       "      <td>39902.000000</td>\n",
       "      <td>34.934438</td>\n",
       "      <td>-106.620000</td>\n",
       "    </tr>\n",
       "    <tr>\n",
       "      <th>50%</th>\n",
       "      <td>7.312745e+09</td>\n",
       "      <td>15990.000000</td>\n",
       "      <td>2013.000000</td>\n",
       "      <td>90000.000000</td>\n",
       "      <td>39.300000</td>\n",
       "      <td>-87.865100</td>\n",
       "    </tr>\n",
       "    <tr>\n",
       "      <th>75%</th>\n",
       "      <td>7.315280e+09</td>\n",
       "      <td>27990.000000</td>\n",
       "      <td>2017.000000</td>\n",
       "      <td>138361.000000</td>\n",
       "      <td>42.370000</td>\n",
       "      <td>-80.686200</td>\n",
       "    </tr>\n",
       "    <tr>\n",
       "      <th>max</th>\n",
       "      <td>7.317090e+09</td>\n",
       "      <td>74000.000000</td>\n",
       "      <td>2022.000000</td>\n",
       "      <td>283466.000000</td>\n",
       "      <td>64.947500</td>\n",
       "      <td>94.163200</td>\n",
       "    </tr>\n",
       "  </tbody>\n",
       "</table>\n",
       "</div>"
      ],
      "text/plain": [
       "                 id         price         year       odometer          lat  \\\n",
       "count  9.093000e+03   9093.000000  9093.000000    9093.000000  9093.000000   \n",
       "mean   7.311529e+09  18986.205543  2012.392060   94506.638953    38.586953   \n",
       "std    4.378600e+06  13622.681136     5.550644   62985.759757     5.715836   \n",
       "min    7.301586e+09    500.000000  1995.000000       0.000000    19.541726   \n",
       "25%    7.308105e+09   7900.000000  2008.000000   39902.000000    34.934438   \n",
       "50%    7.312745e+09  15990.000000  2013.000000   90000.000000    39.300000   \n",
       "75%    7.315280e+09  27990.000000  2017.000000  138361.000000    42.370000   \n",
       "max    7.317090e+09  74000.000000  2022.000000  283466.000000    64.947500   \n",
       "\n",
       "              long  \n",
       "count  9093.000000  \n",
       "mean    -93.821281  \n",
       "std      17.746180  \n",
       "min    -158.069300  \n",
       "25%    -106.620000  \n",
       "50%     -87.865100  \n",
       "75%     -80.686200  \n",
       "max      94.163200  "
      ]
     },
     "execution_count": 850,
     "metadata": {},
     "output_type": "execute_result"
    }
   ],
   "source": [
    "df_anoamalya.describe()"
   ]
  },
  {
   "cell_type": "code",
   "execution_count": 851,
   "id": "e3946097-6ef2-4e42-ad81-90e215d9d490",
   "metadata": {
    "tags": []
   },
   "outputs": [
    {
     "data": {
      "text/plain": [
       "(-94451, 283464)"
      ]
     },
     "execution_count": 851,
     "metadata": {},
     "output_type": "execute_result"
    }
   ],
   "source": [
    "calculate_outliers_3sigma(df_anoamalya.odometer)"
   ]
  },
  {
   "cell_type": "code",
   "execution_count": 852,
   "id": "89b11305-902d-42bb-a491-eeee9c63db46",
   "metadata": {
    "tags": []
   },
   "outputs": [
    {
     "data": {
      "text/html": [
       "<div>\n",
       "<style scoped>\n",
       "    .dataframe tbody tr th:only-of-type {\n",
       "        vertical-align: middle;\n",
       "    }\n",
       "\n",
       "    .dataframe tbody tr th {\n",
       "        vertical-align: top;\n",
       "    }\n",
       "\n",
       "    .dataframe thead th {\n",
       "        text-align: right;\n",
       "    }\n",
       "</style>\n",
       "<table border=\"1\" class=\"dataframe\">\n",
       "  <thead>\n",
       "    <tr style=\"text-align: right;\">\n",
       "      <th></th>\n",
       "      <th>id</th>\n",
       "      <th>url</th>\n",
       "      <th>region</th>\n",
       "      <th>region_url</th>\n",
       "      <th>price</th>\n",
       "      <th>year</th>\n",
       "      <th>manufacturer</th>\n",
       "      <th>model</th>\n",
       "      <th>fuel</th>\n",
       "      <th>odometer</th>\n",
       "      <th>title_status</th>\n",
       "      <th>transmission</th>\n",
       "      <th>image_url</th>\n",
       "      <th>description</th>\n",
       "      <th>state</th>\n",
       "      <th>lat</th>\n",
       "      <th>long</th>\n",
       "      <th>posting_date</th>\n",
       "      <th>price_category</th>\n",
       "      <th>date</th>\n",
       "    </tr>\n",
       "  </thead>\n",
       "  <tbody>\n",
       "    <tr>\n",
       "      <th>27</th>\n",
       "      <td>7311516735</td>\n",
       "      <td>https://easttexas.craigslist.org/cto/d/lufkin-...</td>\n",
       "      <td>tyler / east TX</td>\n",
       "      <td>https://easttexas.craigslist.org</td>\n",
       "      <td>17000</td>\n",
       "      <td>2003</td>\n",
       "      <td>dodge</td>\n",
       "      <td>3500</td>\n",
       "      <td>diesel</td>\n",
       "      <td>283466</td>\n",
       "      <td>clean</td>\n",
       "      <td>automatic</td>\n",
       "      <td>https://images.craigslist.org/00Q0Q_8WsRzpw9LV...</td>\n",
       "      <td>2003 Dodge 3500 4x4 diesel dually. It has 307k...</td>\n",
       "      <td>tx</td>\n",
       "      <td>31.270000</td>\n",
       "      <td>-94.646900</td>\n",
       "      <td>2021-04-23T14:27:25-0500</td>\n",
       "      <td>medium</td>\n",
       "      <td>2021-04-23 19:27:25+00:00</td>\n",
       "    </tr>\n",
       "    <tr>\n",
       "      <th>6809</th>\n",
       "      <td>7313373665</td>\n",
       "      <td>https://sanantonio.craigslist.org/cto/d/san-an...</td>\n",
       "      <td>san antonio</td>\n",
       "      <td>https://sanantonio.craigslist.org</td>\n",
       "      <td>15995</td>\n",
       "      <td>2008</td>\n",
       "      <td>ford</td>\n",
       "      <td>f-350 dually diesel 4x4</td>\n",
       "      <td>diesel</td>\n",
       "      <td>283466</td>\n",
       "      <td>clean</td>\n",
       "      <td>automatic</td>\n",
       "      <td>https://images.craigslist.org/00D0D_lhJJnmJfpi...</td>\n",
       "      <td>2008 Ford F-350 Crew Cab Dually Lariat Super D...</td>\n",
       "      <td>tx</td>\n",
       "      <td>29.649500</td>\n",
       "      <td>-98.613700</td>\n",
       "      <td>2021-04-27T11:28:59-0500</td>\n",
       "      <td>medium</td>\n",
       "      <td>2021-04-27 16:28:59+00:00</td>\n",
       "    </tr>\n",
       "    <tr>\n",
       "      <th>6760</th>\n",
       "      <td>7312674681</td>\n",
       "      <td>https://indianapolis.craigslist.org/cto/d/ande...</td>\n",
       "      <td>indianapolis</td>\n",
       "      <td>https://indianapolis.craigslist.org</td>\n",
       "      <td>950</td>\n",
       "      <td>2005</td>\n",
       "      <td>nissan</td>\n",
       "      <td>altima</td>\n",
       "      <td>gas</td>\n",
       "      <td>283466</td>\n",
       "      <td>clean</td>\n",
       "      <td>automatic</td>\n",
       "      <td>https://images.craigslist.org/00707_6rGv2wnfLg...</td>\n",
       "      <td>Great Spring time side project for a mechanic....</td>\n",
       "      <td>in</td>\n",
       "      <td>40.130900</td>\n",
       "      <td>-85.653600</td>\n",
       "      <td>2021-04-26T00:59:41-0400</td>\n",
       "      <td>low</td>\n",
       "      <td>2021-04-26 04:59:41+00:00</td>\n",
       "    </tr>\n",
       "    <tr>\n",
       "      <th>6756</th>\n",
       "      <td>7316252969</td>\n",
       "      <td>https://portland.craigslist.org/grg/cto/d/unde...</td>\n",
       "      <td>portland</td>\n",
       "      <td>https://portland.craigslist.org</td>\n",
       "      <td>12000</td>\n",
       "      <td>2009</td>\n",
       "      <td>chevrolet</td>\n",
       "      <td>silverado 2500 hd</td>\n",
       "      <td>gas</td>\n",
       "      <td>283466</td>\n",
       "      <td>clean</td>\n",
       "      <td>automatic</td>\n",
       "      <td>https://images.craigslist.org/00f0f_7AtEppWTdt...</td>\n",
       "      <td>Great condition Chevy 2500 was used as a lease...</td>\n",
       "      <td>or</td>\n",
       "      <td>45.671100</td>\n",
       "      <td>-121.539100</td>\n",
       "      <td>2021-05-03T09:24:07-0700</td>\n",
       "      <td>medium</td>\n",
       "      <td>2021-05-03 16:24:07+00:00</td>\n",
       "    </tr>\n",
       "    <tr>\n",
       "      <th>6643</th>\n",
       "      <td>7316810207</td>\n",
       "      <td>https://stlouis.craigslist.org/cto/d/saint-lou...</td>\n",
       "      <td>st louis, MO</td>\n",
       "      <td>https://stlouis.craigslist.org</td>\n",
       "      <td>10000</td>\n",
       "      <td>2010</td>\n",
       "      <td>mercedes-benz</td>\n",
       "      <td>benz</td>\n",
       "      <td>diesel</td>\n",
       "      <td>283466</td>\n",
       "      <td>clean</td>\n",
       "      <td>automatic</td>\n",
       "      <td>https://images.craigslist.org/00R0R_3HDwz2JBwi...</td>\n",
       "      <td>Cargo Van does great at hauling cargo between ...</td>\n",
       "      <td>il</td>\n",
       "      <td>38.524400</td>\n",
       "      <td>-90.274500</td>\n",
       "      <td>2021-05-04T12:24:09-0500</td>\n",
       "      <td>medium</td>\n",
       "      <td>2021-05-04 17:24:09+00:00</td>\n",
       "    </tr>\n",
       "    <tr>\n",
       "      <th>...</th>\n",
       "      <td>...</td>\n",
       "      <td>...</td>\n",
       "      <td>...</td>\n",
       "      <td>...</td>\n",
       "      <td>...</td>\n",
       "      <td>...</td>\n",
       "      <td>...</td>\n",
       "      <td>...</td>\n",
       "      <td>...</td>\n",
       "      <td>...</td>\n",
       "      <td>...</td>\n",
       "      <td>...</td>\n",
       "      <td>...</td>\n",
       "      <td>...</td>\n",
       "      <td>...</td>\n",
       "      <td>...</td>\n",
       "      <td>...</td>\n",
       "      <td>...</td>\n",
       "      <td>...</td>\n",
       "      <td>...</td>\n",
       "    </tr>\n",
       "    <tr>\n",
       "      <th>2417</th>\n",
       "      <td>7313545271</td>\n",
       "      <td>https://charleston.craigslist.org/cto/d/north-...</td>\n",
       "      <td>charleston</td>\n",
       "      <td>https://charleston.craigslist.org</td>\n",
       "      <td>22000</td>\n",
       "      <td>2012</td>\n",
       "      <td>other</td>\n",
       "      <td>Frtlner Cascadia</td>\n",
       "      <td>diesel</td>\n",
       "      <td>283466</td>\n",
       "      <td>clean</td>\n",
       "      <td>manual</td>\n",
       "      <td>https://images.craigslist.org/00303_eEnTeSi3C7...</td>\n",
       "      <td>I have a cascadia with Detroit DD15 engine and...</td>\n",
       "      <td>sc</td>\n",
       "      <td>32.853000</td>\n",
       "      <td>-79.991300</td>\n",
       "      <td>2021-04-27T17:13:19-0400</td>\n",
       "      <td>medium</td>\n",
       "      <td>2021-04-27 21:13:19+00:00</td>\n",
       "    </tr>\n",
       "    <tr>\n",
       "      <th>2236</th>\n",
       "      <td>7315948614</td>\n",
       "      <td>https://littlerock.craigslist.org/cto/d/little...</td>\n",
       "      <td>little rock</td>\n",
       "      <td>https://littlerock.craigslist.org</td>\n",
       "      <td>6000</td>\n",
       "      <td>2002</td>\n",
       "      <td>ford</td>\n",
       "      <td>f250</td>\n",
       "      <td>diesel</td>\n",
       "      <td>283466</td>\n",
       "      <td>clean</td>\n",
       "      <td>automatic</td>\n",
       "      <td>https://images.craigslist.org/00E0E_lt1oiyK429...</td>\n",
       "      <td>2003 Ford f250 one owner very very clean 7.3 d...</td>\n",
       "      <td>ar</td>\n",
       "      <td>34.765910</td>\n",
       "      <td>-92.338715</td>\n",
       "      <td>2021-05-02T16:47:04-0500</td>\n",
       "      <td>low</td>\n",
       "      <td>2021-05-02 21:47:04+00:00</td>\n",
       "    </tr>\n",
       "    <tr>\n",
       "      <th>1986</th>\n",
       "      <td>7313793455</td>\n",
       "      <td>https://columbiamo.craigslist.org/ctd/d/cuba-2...</td>\n",
       "      <td>columbia / jeff city</td>\n",
       "      <td>https://columbiamo.craigslist.org</td>\n",
       "      <td>3500</td>\n",
       "      <td>2004</td>\n",
       "      <td>honda</td>\n",
       "      <td>odyssey</td>\n",
       "      <td>gas</td>\n",
       "      <td>283466</td>\n",
       "      <td>clean</td>\n",
       "      <td>automatic</td>\n",
       "      <td>https://images.craigslist.org/00A0A_eNZzHMsbbi...</td>\n",
       "      <td>2004 Honda Odyssey 5dr EX - CALL  2004 - Honda...</td>\n",
       "      <td>mo</td>\n",
       "      <td>38.057080</td>\n",
       "      <td>-91.401701</td>\n",
       "      <td>2021-04-28T09:08:09-0500</td>\n",
       "      <td>low</td>\n",
       "      <td>2021-04-28 14:08:09+00:00</td>\n",
       "    </tr>\n",
       "    <tr>\n",
       "      <th>1849</th>\n",
       "      <td>7312946811</td>\n",
       "      <td>https://ventura.craigslist.org/cto/d/oxnard-20...</td>\n",
       "      <td>ventura county</td>\n",
       "      <td>https://ventura.craigslist.org</td>\n",
       "      <td>8500</td>\n",
       "      <td>2004</td>\n",
       "      <td>toyota</td>\n",
       "      <td>tacoma</td>\n",
       "      <td>gas</td>\n",
       "      <td>283466</td>\n",
       "      <td>clean</td>\n",
       "      <td>automatic</td>\n",
       "      <td>https://images.craigslist.org/00404_8uGW1bL4yk...</td>\n",
       "      <td>Vehicle is in great condition. Brakes and tire...</td>\n",
       "      <td>ca</td>\n",
       "      <td>34.171896</td>\n",
       "      <td>-119.229555</td>\n",
       "      <td>2021-04-26T11:42:52-0700</td>\n",
       "      <td>low</td>\n",
       "      <td>2021-04-26 18:42:52+00:00</td>\n",
       "    </tr>\n",
       "    <tr>\n",
       "      <th>9500</th>\n",
       "      <td>7311709925</td>\n",
       "      <td>https://greatfalls.craigslist.org/cto/d/havre-...</td>\n",
       "      <td>great falls</td>\n",
       "      <td>https://greatfalls.craigslist.org</td>\n",
       "      <td>7000</td>\n",
       "      <td>2005</td>\n",
       "      <td>chevrolet</td>\n",
       "      <td>silverado</td>\n",
       "      <td>gas</td>\n",
       "      <td>283466</td>\n",
       "      <td>clean</td>\n",
       "      <td>automatic</td>\n",
       "      <td>https://images.craigslist.org/00808_hX52l6571o...</td>\n",
       "      <td>2005 Chevy 1500 LS, has 290k miles on it but h...</td>\n",
       "      <td>mt</td>\n",
       "      <td>48.542862</td>\n",
       "      <td>-109.695310</td>\n",
       "      <td>2021-04-23T20:41:47-0600</td>\n",
       "      <td>low</td>\n",
       "      <td>2021-04-24 02:41:47+00:00</td>\n",
       "    </tr>\n",
       "  </tbody>\n",
       "</table>\n",
       "<p>83 rows × 20 columns</p>\n",
       "</div>"
      ],
      "text/plain": [
       "              id                                                url  \\\n",
       "27    7311516735  https://easttexas.craigslist.org/cto/d/lufkin-...   \n",
       "6809  7313373665  https://sanantonio.craigslist.org/cto/d/san-an...   \n",
       "6760  7312674681  https://indianapolis.craigslist.org/cto/d/ande...   \n",
       "6756  7316252969  https://portland.craigslist.org/grg/cto/d/unde...   \n",
       "6643  7316810207  https://stlouis.craigslist.org/cto/d/saint-lou...   \n",
       "...          ...                                                ...   \n",
       "2417  7313545271  https://charleston.craigslist.org/cto/d/north-...   \n",
       "2236  7315948614  https://littlerock.craigslist.org/cto/d/little...   \n",
       "1986  7313793455  https://columbiamo.craigslist.org/ctd/d/cuba-2...   \n",
       "1849  7312946811  https://ventura.craigslist.org/cto/d/oxnard-20...   \n",
       "9500  7311709925  https://greatfalls.craigslist.org/cto/d/havre-...   \n",
       "\n",
       "                    region                           region_url  price  year  \\\n",
       "27         tyler / east TX     https://easttexas.craigslist.org  17000  2003   \n",
       "6809           san antonio    https://sanantonio.craigslist.org  15995  2008   \n",
       "6760          indianapolis  https://indianapolis.craigslist.org    950  2005   \n",
       "6756              portland      https://portland.craigslist.org  12000  2009   \n",
       "6643          st louis, MO       https://stlouis.craigslist.org  10000  2010   \n",
       "...                    ...                                  ...    ...   ...   \n",
       "2417            charleston    https://charleston.craigslist.org  22000  2012   \n",
       "2236           little rock    https://littlerock.craigslist.org   6000  2002   \n",
       "1986  columbia / jeff city    https://columbiamo.craigslist.org   3500  2004   \n",
       "1849        ventura county       https://ventura.craigslist.org   8500  2004   \n",
       "9500           great falls    https://greatfalls.craigslist.org   7000  2005   \n",
       "\n",
       "       manufacturer                    model    fuel  odometer title_status  \\\n",
       "27            dodge                     3500  diesel    283466        clean   \n",
       "6809           ford  f-350 dually diesel 4x4  diesel    283466        clean   \n",
       "6760         nissan                   altima     gas    283466        clean   \n",
       "6756      chevrolet        silverado 2500 hd     gas    283466        clean   \n",
       "6643  mercedes-benz                     benz  diesel    283466        clean   \n",
       "...             ...                      ...     ...       ...          ...   \n",
       "2417          other         Frtlner Cascadia  diesel    283466        clean   \n",
       "2236           ford                     f250  diesel    283466        clean   \n",
       "1986          honda                  odyssey     gas    283466        clean   \n",
       "1849         toyota                   tacoma     gas    283466        clean   \n",
       "9500      chevrolet                silverado     gas    283466        clean   \n",
       "\n",
       "     transmission                                          image_url  \\\n",
       "27      automatic  https://images.craigslist.org/00Q0Q_8WsRzpw9LV...   \n",
       "6809    automatic  https://images.craigslist.org/00D0D_lhJJnmJfpi...   \n",
       "6760    automatic  https://images.craigslist.org/00707_6rGv2wnfLg...   \n",
       "6756    automatic  https://images.craigslist.org/00f0f_7AtEppWTdt...   \n",
       "6643    automatic  https://images.craigslist.org/00R0R_3HDwz2JBwi...   \n",
       "...           ...                                                ...   \n",
       "2417       manual  https://images.craigslist.org/00303_eEnTeSi3C7...   \n",
       "2236    automatic  https://images.craigslist.org/00E0E_lt1oiyK429...   \n",
       "1986    automatic  https://images.craigslist.org/00A0A_eNZzHMsbbi...   \n",
       "1849    automatic  https://images.craigslist.org/00404_8uGW1bL4yk...   \n",
       "9500    automatic  https://images.craigslist.org/00808_hX52l6571o...   \n",
       "\n",
       "                                            description state        lat  \\\n",
       "27    2003 Dodge 3500 4x4 diesel dually. It has 307k...    tx  31.270000   \n",
       "6809  2008 Ford F-350 Crew Cab Dually Lariat Super D...    tx  29.649500   \n",
       "6760  Great Spring time side project for a mechanic....    in  40.130900   \n",
       "6756  Great condition Chevy 2500 was used as a lease...    or  45.671100   \n",
       "6643  Cargo Van does great at hauling cargo between ...    il  38.524400   \n",
       "...                                                 ...   ...        ...   \n",
       "2417  I have a cascadia with Detroit DD15 engine and...    sc  32.853000   \n",
       "2236  2003 Ford f250 one owner very very clean 7.3 d...    ar  34.765910   \n",
       "1986  2004 Honda Odyssey 5dr EX - CALL  2004 - Honda...    mo  38.057080   \n",
       "1849  Vehicle is in great condition. Brakes and tire...    ca  34.171896   \n",
       "9500  2005 Chevy 1500 LS, has 290k miles on it but h...    mt  48.542862   \n",
       "\n",
       "            long              posting_date price_category  \\\n",
       "27    -94.646900  2021-04-23T14:27:25-0500         medium   \n",
       "6809  -98.613700  2021-04-27T11:28:59-0500         medium   \n",
       "6760  -85.653600  2021-04-26T00:59:41-0400            low   \n",
       "6756 -121.539100  2021-05-03T09:24:07-0700         medium   \n",
       "6643  -90.274500  2021-05-04T12:24:09-0500         medium   \n",
       "...          ...                       ...            ...   \n",
       "2417  -79.991300  2021-04-27T17:13:19-0400         medium   \n",
       "2236  -92.338715  2021-05-02T16:47:04-0500            low   \n",
       "1986  -91.401701  2021-04-28T09:08:09-0500            low   \n",
       "1849 -119.229555  2021-04-26T11:42:52-0700            low   \n",
       "9500 -109.695310  2021-04-23T20:41:47-0600            low   \n",
       "\n",
       "                          date  \n",
       "27   2021-04-23 19:27:25+00:00  \n",
       "6809 2021-04-27 16:28:59+00:00  \n",
       "6760 2021-04-26 04:59:41+00:00  \n",
       "6756 2021-05-03 16:24:07+00:00  \n",
       "6643 2021-05-04 17:24:09+00:00  \n",
       "...                        ...  \n",
       "2417 2021-04-27 21:13:19+00:00  \n",
       "2236 2021-05-02 21:47:04+00:00  \n",
       "1986 2021-04-28 14:08:09+00:00  \n",
       "1849 2021-04-26 18:42:52+00:00  \n",
       "9500 2021-04-24 02:41:47+00:00  \n",
       "\n",
       "[83 rows x 20 columns]"
      ]
     },
     "execution_count": 852,
     "metadata": {},
     "output_type": "execute_result"
    }
   ],
   "source": [
    "df_anoamalya[df_anoamalya['odometer'] > calculate_outliers_3sigma(df_anoamalya.odometer)[1]].sort_values(by='odometer')"
   ]
  },
  {
   "cell_type": "code",
   "execution_count": 853,
   "id": "fbc704ce-7900-47dc-bead-653c12560531",
   "metadata": {
    "tags": []
   },
   "outputs": [
    {
     "data": {
      "text/plain": [
       "99.9992944480114"
      ]
     },
     "execution_count": 853,
     "metadata": {},
     "output_type": "execute_result"
    }
   ],
   "source": [
    "calculate_outliers_3sigma(df_anoamalya.odometer)[1] * 100 /  283466"
   ]
  },
  {
   "cell_type": "markdown",
   "id": "db993e51-ca1c-44e8-84c3-781c2be5dedf",
   "metadata": {},
   "source": [
    "Максимальные пробег у автомобилей превышает верхнюю границу диапазона на 0,00071%\n",
    "Можно считать, что по пробегу выбросов нет."
   ]
  },
  {
   "cell_type": "markdown",
   "id": "ee8243e2-a0f2-4664-9782-f8f70a688132",
   "metadata": {},
   "source": [
    "Проверим зависимость стоимости автомобиля от его года выпуска. \n",
    "Создадим датафреим, содержащий годом выпуска автомобиля и средрнюю стоимостью втомобиля за этот год."
   ]
  },
  {
   "cell_type": "code",
   "execution_count": 854,
   "id": "aa697580-a4a9-4d7e-a4bb-0abc460d5849",
   "metadata": {
    "tags": []
   },
   "outputs": [
    {
     "data": {
      "text/html": [
       "<div>\n",
       "<style scoped>\n",
       "    .dataframe tbody tr th:only-of-type {\n",
       "        vertical-align: middle;\n",
       "    }\n",
       "\n",
       "    .dataframe tbody tr th {\n",
       "        vertical-align: top;\n",
       "    }\n",
       "\n",
       "    .dataframe thead th {\n",
       "        text-align: right;\n",
       "    }\n",
       "</style>\n",
       "<table border=\"1\" class=\"dataframe\">\n",
       "  <thead>\n",
       "    <tr style=\"text-align: right;\">\n",
       "      <th></th>\n",
       "      <th>year</th>\n",
       "      <th>price_mean</th>\n",
       "    </tr>\n",
       "  </thead>\n",
       "  <tbody>\n",
       "    <tr>\n",
       "      <th>0</th>\n",
       "      <td>1995</td>\n",
       "      <td>9816.625000</td>\n",
       "    </tr>\n",
       "    <tr>\n",
       "      <th>1</th>\n",
       "      <td>1996</td>\n",
       "      <td>9362.960000</td>\n",
       "    </tr>\n",
       "    <tr>\n",
       "      <th>2</th>\n",
       "      <td>1997</td>\n",
       "      <td>6393.372093</td>\n",
       "    </tr>\n",
       "    <tr>\n",
       "      <th>3</th>\n",
       "      <td>1998</td>\n",
       "      <td>6666.313725</td>\n",
       "    </tr>\n",
       "    <tr>\n",
       "      <th>4</th>\n",
       "      <td>1999</td>\n",
       "      <td>7194.717949</td>\n",
       "    </tr>\n",
       "    <tr>\n",
       "      <th>5</th>\n",
       "      <td>2000</td>\n",
       "      <td>8416.090909</td>\n",
       "    </tr>\n",
       "    <tr>\n",
       "      <th>6</th>\n",
       "      <td>2001</td>\n",
       "      <td>7461.578947</td>\n",
       "    </tr>\n",
       "    <tr>\n",
       "      <th>7</th>\n",
       "      <td>2002</td>\n",
       "      <td>6834.655172</td>\n",
       "    </tr>\n",
       "    <tr>\n",
       "      <th>8</th>\n",
       "      <td>2003</td>\n",
       "      <td>7743.420455</td>\n",
       "    </tr>\n",
       "    <tr>\n",
       "      <th>9</th>\n",
       "      <td>2004</td>\n",
       "      <td>7893.769608</td>\n",
       "    </tr>\n",
       "    <tr>\n",
       "      <th>10</th>\n",
       "      <td>2005</td>\n",
       "      <td>8535.864754</td>\n",
       "    </tr>\n",
       "    <tr>\n",
       "      <th>11</th>\n",
       "      <td>2006</td>\n",
       "      <td>8692.664207</td>\n",
       "    </tr>\n",
       "    <tr>\n",
       "      <th>12</th>\n",
       "      <td>2007</td>\n",
       "      <td>8577.195251</td>\n",
       "    </tr>\n",
       "    <tr>\n",
       "      <th>13</th>\n",
       "      <td>2008</td>\n",
       "      <td>9597.753425</td>\n",
       "    </tr>\n",
       "    <tr>\n",
       "      <th>14</th>\n",
       "      <td>2009</td>\n",
       "      <td>9678.322581</td>\n",
       "    </tr>\n",
       "    <tr>\n",
       "      <th>15</th>\n",
       "      <td>2010</td>\n",
       "      <td>11345.071856</td>\n",
       "    </tr>\n",
       "    <tr>\n",
       "      <th>16</th>\n",
       "      <td>2011</td>\n",
       "      <td>13190.302174</td>\n",
       "    </tr>\n",
       "    <tr>\n",
       "      <th>17</th>\n",
       "      <td>2012</td>\n",
       "      <td>14914.211091</td>\n",
       "    </tr>\n",
       "    <tr>\n",
       "      <th>18</th>\n",
       "      <td>2013</td>\n",
       "      <td>16457.248109</td>\n",
       "    </tr>\n",
       "    <tr>\n",
       "      <th>19</th>\n",
       "      <td>2014</td>\n",
       "      <td>19302.434295</td>\n",
       "    </tr>\n",
       "    <tr>\n",
       "      <th>20</th>\n",
       "      <td>2015</td>\n",
       "      <td>22521.183099</td>\n",
       "    </tr>\n",
       "    <tr>\n",
       "      <th>21</th>\n",
       "      <td>2016</td>\n",
       "      <td>23832.859574</td>\n",
       "    </tr>\n",
       "    <tr>\n",
       "      <th>22</th>\n",
       "      <td>2017</td>\n",
       "      <td>27425.419231</td>\n",
       "    </tr>\n",
       "    <tr>\n",
       "      <th>23</th>\n",
       "      <td>2018</td>\n",
       "      <td>29313.741313</td>\n",
       "    </tr>\n",
       "    <tr>\n",
       "      <th>24</th>\n",
       "      <td>2019</td>\n",
       "      <td>34291.596803</td>\n",
       "    </tr>\n",
       "    <tr>\n",
       "      <th>25</th>\n",
       "      <td>2020</td>\n",
       "      <td>35443.705584</td>\n",
       "    </tr>\n",
       "    <tr>\n",
       "      <th>26</th>\n",
       "      <td>2021</td>\n",
       "      <td>27719.051282</td>\n",
       "    </tr>\n",
       "    <tr>\n",
       "      <th>27</th>\n",
       "      <td>2022</td>\n",
       "      <td>15249.000000</td>\n",
       "    </tr>\n",
       "  </tbody>\n",
       "</table>\n",
       "</div>"
      ],
      "text/plain": [
       "    year    price_mean\n",
       "0   1995   9816.625000\n",
       "1   1996   9362.960000\n",
       "2   1997   6393.372093\n",
       "3   1998   6666.313725\n",
       "4   1999   7194.717949\n",
       "5   2000   8416.090909\n",
       "6   2001   7461.578947\n",
       "7   2002   6834.655172\n",
       "8   2003   7743.420455\n",
       "9   2004   7893.769608\n",
       "10  2005   8535.864754\n",
       "11  2006   8692.664207\n",
       "12  2007   8577.195251\n",
       "13  2008   9597.753425\n",
       "14  2009   9678.322581\n",
       "15  2010  11345.071856\n",
       "16  2011  13190.302174\n",
       "17  2012  14914.211091\n",
       "18  2013  16457.248109\n",
       "19  2014  19302.434295\n",
       "20  2015  22521.183099\n",
       "21  2016  23832.859574\n",
       "22  2017  27425.419231\n",
       "23  2018  29313.741313\n",
       "24  2019  34291.596803\n",
       "25  2020  35443.705584\n",
       "26  2021  27719.051282\n",
       "27  2022  15249.000000"
      ]
     },
     "execution_count": 854,
     "metadata": {},
     "output_type": "execute_result"
    }
   ],
   "source": [
    "year_price = df_anoamalya.groupby(['year']).agg({'price':'mean'})\n",
    "year_price = year_price.rename(columns={'price':'price_mean'})\n",
    "year_price.reset_index(inplace=True)\n",
    "year_price"
   ]
  },
  {
   "cell_type": "code",
   "execution_count": null,
   "id": "b67faf69-8d96-4262-9954-21157bfc25bc",
   "metadata": {},
   "outputs": [],
   "source": []
  },
  {
   "cell_type": "code",
   "execution_count": null,
   "id": "e0d17ebc-9173-457f-80f7-825c2d67968c",
   "metadata": {},
   "outputs": [],
   "source": []
  },
  {
   "cell_type": "markdown",
   "id": "6f0d73cf-8408-4950-bd74-538abdd2a79d",
   "metadata": {},
   "source": [
    "Построим диаграмму рассеяния для визуализации зависимости средрней стоимости от года выпуска автомобиля."
   ]
  },
  {
   "cell_type": "code",
   "execution_count": 855,
   "id": "f5351de5-3c55-4754-b79b-dd4f71b90765",
   "metadata": {
    "tags": []
   },
   "outputs": [
    {
     "data": {
      "image/png": "[encoded data removed]",
      "text/plain": [
       "<Figure size 640x480 with 1 Axes>"
      ]
     },
     "metadata": {},
     "output_type": "display_data"
    }
   ],
   "source": [
    "plt.scatter(year_price['year'], year_price['price_mean'])\n",
    "plt.xlabel('Год выпуска')\n",
    "plt.ylabel('Средняя стоимость')\n",
    "plt.title('Диаграмма зависимость стоимости авто от года выпуска')\n",
    "plt.show()"
   ]
  },
  {
   "cell_type": "markdown",
   "id": "279f096a-0e37-4fd2-8aa5-a72924b2bff6",
   "metadata": {},
   "source": [
    "Прослеживается общая тенденция: чем старше автомобиль, тем стоимость его ниже. Но автомобили за 2021 и 2022 годы подозрительно дешево стоят. Проверим количество автомобилей по годам. Возможно, просто еще мало статистики набралось за  2021 и 2022 годы."
   ]
  },
  {
   "cell_type": "code",
   "execution_count": 856,
   "id": "780e153e-bd3c-4d95-9053-a3db1b0220b6",
   "metadata": {
    "tags": []
   },
   "outputs": [
    {
     "data": {
      "text/html": [
       "<div>\n",
       "<style scoped>\n",
       "    .dataframe tbody tr th:only-of-type {\n",
       "        vertical-align: middle;\n",
       "    }\n",
       "\n",
       "    .dataframe tbody tr th {\n",
       "        vertical-align: top;\n",
       "    }\n",
       "\n",
       "    .dataframe thead th {\n",
       "        text-align: right;\n",
       "    }\n",
       "</style>\n",
       "<table border=\"1\" class=\"dataframe\">\n",
       "  <thead>\n",
       "    <tr style=\"text-align: right;\">\n",
       "      <th></th>\n",
       "      <th>id</th>\n",
       "    </tr>\n",
       "    <tr>\n",
       "      <th>year</th>\n",
       "      <th></th>\n",
       "    </tr>\n",
       "  </thead>\n",
       "  <tbody>\n",
       "    <tr>\n",
       "      <th>1995</th>\n",
       "      <td>32</td>\n",
       "    </tr>\n",
       "    <tr>\n",
       "      <th>1996</th>\n",
       "      <td>25</td>\n",
       "    </tr>\n",
       "    <tr>\n",
       "      <th>1997</th>\n",
       "      <td>43</td>\n",
       "    </tr>\n",
       "    <tr>\n",
       "      <th>1998</th>\n",
       "      <td>51</td>\n",
       "    </tr>\n",
       "    <tr>\n",
       "      <th>1999</th>\n",
       "      <td>78</td>\n",
       "    </tr>\n",
       "    <tr>\n",
       "      <th>2000</th>\n",
       "      <td>77</td>\n",
       "    </tr>\n",
       "    <tr>\n",
       "      <th>2001</th>\n",
       "      <td>114</td>\n",
       "    </tr>\n",
       "    <tr>\n",
       "      <th>2002</th>\n",
       "      <td>145</td>\n",
       "    </tr>\n",
       "    <tr>\n",
       "      <th>2003</th>\n",
       "      <td>176</td>\n",
       "    </tr>\n",
       "    <tr>\n",
       "      <th>2004</th>\n",
       "      <td>204</td>\n",
       "    </tr>\n",
       "    <tr>\n",
       "      <th>2005</th>\n",
       "      <td>244</td>\n",
       "    </tr>\n",
       "    <tr>\n",
       "      <th>2006</th>\n",
       "      <td>271</td>\n",
       "    </tr>\n",
       "    <tr>\n",
       "      <th>2007</th>\n",
       "      <td>379</td>\n",
       "    </tr>\n",
       "    <tr>\n",
       "      <th>2008</th>\n",
       "      <td>438</td>\n",
       "    </tr>\n",
       "    <tr>\n",
       "      <th>2009</th>\n",
       "      <td>279</td>\n",
       "    </tr>\n",
       "    <tr>\n",
       "      <th>2010</th>\n",
       "      <td>334</td>\n",
       "    </tr>\n",
       "    <tr>\n",
       "      <th>2011</th>\n",
       "      <td>460</td>\n",
       "    </tr>\n",
       "    <tr>\n",
       "      <th>2012</th>\n",
       "      <td>559</td>\n",
       "    </tr>\n",
       "    <tr>\n",
       "      <th>2013</th>\n",
       "      <td>661</td>\n",
       "    </tr>\n",
       "    <tr>\n",
       "      <th>2014</th>\n",
       "      <td>624</td>\n",
       "    </tr>\n",
       "    <tr>\n",
       "      <th>2015</th>\n",
       "      <td>639</td>\n",
       "    </tr>\n",
       "    <tr>\n",
       "      <th>2016</th>\n",
       "      <td>705</td>\n",
       "    </tr>\n",
       "    <tr>\n",
       "      <th>2017</th>\n",
       "      <td>780</td>\n",
       "    </tr>\n",
       "    <tr>\n",
       "      <th>2018</th>\n",
       "      <td>777</td>\n",
       "    </tr>\n",
       "    <tr>\n",
       "      <th>2019</th>\n",
       "      <td>563</td>\n",
       "    </tr>\n",
       "    <tr>\n",
       "      <th>2020</th>\n",
       "      <td>394</td>\n",
       "    </tr>\n",
       "    <tr>\n",
       "      <th>2021</th>\n",
       "      <td>39</td>\n",
       "    </tr>\n",
       "    <tr>\n",
       "      <th>2022</th>\n",
       "      <td>2</td>\n",
       "    </tr>\n",
       "  </tbody>\n",
       "</table>\n",
       "</div>"
      ],
      "text/plain": [
       "       id\n",
       "year     \n",
       "1995   32\n",
       "1996   25\n",
       "1997   43\n",
       "1998   51\n",
       "1999   78\n",
       "2000   77\n",
       "2001  114\n",
       "2002  145\n",
       "2003  176\n",
       "2004  204\n",
       "2005  244\n",
       "2006  271\n",
       "2007  379\n",
       "2008  438\n",
       "2009  279\n",
       "2010  334\n",
       "2011  460\n",
       "2012  559\n",
       "2013  661\n",
       "2014  624\n",
       "2015  639\n",
       "2016  705\n",
       "2017  780\n",
       "2018  777\n",
       "2019  563\n",
       "2020  394\n",
       "2021   39\n",
       "2022    2"
      ]
     },
     "execution_count": 856,
     "metadata": {},
     "output_type": "execute_result"
    }
   ],
   "source": [
    "df_anoamalya.groupby(['year']).agg({'id':'count'})"
   ]
  },
  {
   "cell_type": "markdown",
   "id": "efcab4f4-6b93-4ed3-9598-228c0e4db70a",
   "metadata": {},
   "source": [
    "Автомобилей за 2021, 2022 года действительно не много. Данные по ним не репрезентативны. Удалим их."
   ]
  },
  {
   "cell_type": "code",
   "execution_count": 857,
   "id": "df59da74-6dd5-4ac1-b43f-17b3a77c1433",
   "metadata": {
    "tags": []
   },
   "outputs": [],
   "source": [
    "df_anoamalya = df_anoamalya[df_anoamalya['year'] < 2021]"
   ]
  },
  {
   "cell_type": "markdown",
   "id": "635007ed-2fe3-4d6f-b8e5-8cb7827761fc",
   "metadata": {},
   "source": [
    "Еще раз построим график зависимости стоимости автомобиля от года выпуска."
   ]
  },
  {
   "cell_type": "code",
   "execution_count": 858,
   "id": "865c1bca-3d30-43fb-b529-d7c5520e6b3c",
   "metadata": {
    "tags": []
   },
   "outputs": [
    {
     "data": {
      "text/html": [
       "<div>\n",
       "<style scoped>\n",
       "    .dataframe tbody tr th:only-of-type {\n",
       "        vertical-align: middle;\n",
       "    }\n",
       "\n",
       "    .dataframe tbody tr th {\n",
       "        vertical-align: top;\n",
       "    }\n",
       "\n",
       "    .dataframe thead th {\n",
       "        text-align: right;\n",
       "    }\n",
       "</style>\n",
       "<table border=\"1\" class=\"dataframe\">\n",
       "  <thead>\n",
       "    <tr style=\"text-align: right;\">\n",
       "      <th></th>\n",
       "      <th>year</th>\n",
       "      <th>price_mean</th>\n",
       "    </tr>\n",
       "  </thead>\n",
       "  <tbody>\n",
       "    <tr>\n",
       "      <th>0</th>\n",
       "      <td>1995</td>\n",
       "      <td>9816.625000</td>\n",
       "    </tr>\n",
       "    <tr>\n",
       "      <th>1</th>\n",
       "      <td>1996</td>\n",
       "      <td>9362.960000</td>\n",
       "    </tr>\n",
       "    <tr>\n",
       "      <th>2</th>\n",
       "      <td>1997</td>\n",
       "      <td>6393.372093</td>\n",
       "    </tr>\n",
       "    <tr>\n",
       "      <th>3</th>\n",
       "      <td>1998</td>\n",
       "      <td>6666.313725</td>\n",
       "    </tr>\n",
       "    <tr>\n",
       "      <th>4</th>\n",
       "      <td>1999</td>\n",
       "      <td>7194.717949</td>\n",
       "    </tr>\n",
       "    <tr>\n",
       "      <th>5</th>\n",
       "      <td>2000</td>\n",
       "      <td>8416.090909</td>\n",
       "    </tr>\n",
       "    <tr>\n",
       "      <th>6</th>\n",
       "      <td>2001</td>\n",
       "      <td>7461.578947</td>\n",
       "    </tr>\n",
       "    <tr>\n",
       "      <th>7</th>\n",
       "      <td>2002</td>\n",
       "      <td>6834.655172</td>\n",
       "    </tr>\n",
       "    <tr>\n",
       "      <th>8</th>\n",
       "      <td>2003</td>\n",
       "      <td>7743.420455</td>\n",
       "    </tr>\n",
       "    <tr>\n",
       "      <th>9</th>\n",
       "      <td>2004</td>\n",
       "      <td>7893.769608</td>\n",
       "    </tr>\n",
       "    <tr>\n",
       "      <th>10</th>\n",
       "      <td>2005</td>\n",
       "      <td>8535.864754</td>\n",
       "    </tr>\n",
       "    <tr>\n",
       "      <th>11</th>\n",
       "      <td>2006</td>\n",
       "      <td>8692.664207</td>\n",
       "    </tr>\n",
       "    <tr>\n",
       "      <th>12</th>\n",
       "      <td>2007</td>\n",
       "      <td>8577.195251</td>\n",
       "    </tr>\n",
       "    <tr>\n",
       "      <th>13</th>\n",
       "      <td>2008</td>\n",
       "      <td>9597.753425</td>\n",
       "    </tr>\n",
       "    <tr>\n",
       "      <th>14</th>\n",
       "      <td>2009</td>\n",
       "      <td>9678.322581</td>\n",
       "    </tr>\n",
       "    <tr>\n",
       "      <th>15</th>\n",
       "      <td>2010</td>\n",
       "      <td>11345.071856</td>\n",
       "    </tr>\n",
       "    <tr>\n",
       "      <th>16</th>\n",
       "      <td>2011</td>\n",
       "      <td>13190.302174</td>\n",
       "    </tr>\n",
       "    <tr>\n",
       "      <th>17</th>\n",
       "      <td>2012</td>\n",
       "      <td>14914.211091</td>\n",
       "    </tr>\n",
       "    <tr>\n",
       "      <th>18</th>\n",
       "      <td>2013</td>\n",
       "      <td>16457.248109</td>\n",
       "    </tr>\n",
       "    <tr>\n",
       "      <th>19</th>\n",
       "      <td>2014</td>\n",
       "      <td>19302.434295</td>\n",
       "    </tr>\n",
       "    <tr>\n",
       "      <th>20</th>\n",
       "      <td>2015</td>\n",
       "      <td>22521.183099</td>\n",
       "    </tr>\n",
       "    <tr>\n",
       "      <th>21</th>\n",
       "      <td>2016</td>\n",
       "      <td>23832.859574</td>\n",
       "    </tr>\n",
       "    <tr>\n",
       "      <th>22</th>\n",
       "      <td>2017</td>\n",
       "      <td>27425.419231</td>\n",
       "    </tr>\n",
       "    <tr>\n",
       "      <th>23</th>\n",
       "      <td>2018</td>\n",
       "      <td>29313.741313</td>\n",
       "    </tr>\n",
       "    <tr>\n",
       "      <th>24</th>\n",
       "      <td>2019</td>\n",
       "      <td>34291.596803</td>\n",
       "    </tr>\n",
       "    <tr>\n",
       "      <th>25</th>\n",
       "      <td>2020</td>\n",
       "      <td>35443.705584</td>\n",
       "    </tr>\n",
       "  </tbody>\n",
       "</table>\n",
       "</div>"
      ],
      "text/plain": [
       "    year    price_mean\n",
       "0   1995   9816.625000\n",
       "1   1996   9362.960000\n",
       "2   1997   6393.372093\n",
       "3   1998   6666.313725\n",
       "4   1999   7194.717949\n",
       "5   2000   8416.090909\n",
       "6   2001   7461.578947\n",
       "7   2002   6834.655172\n",
       "8   2003   7743.420455\n",
       "9   2004   7893.769608\n",
       "10  2005   8535.864754\n",
       "11  2006   8692.664207\n",
       "12  2007   8577.195251\n",
       "13  2008   9597.753425\n",
       "14  2009   9678.322581\n",
       "15  2010  11345.071856\n",
       "16  2011  13190.302174\n",
       "17  2012  14914.211091\n",
       "18  2013  16457.248109\n",
       "19  2014  19302.434295\n",
       "20  2015  22521.183099\n",
       "21  2016  23832.859574\n",
       "22  2017  27425.419231\n",
       "23  2018  29313.741313\n",
       "24  2019  34291.596803\n",
       "25  2020  35443.705584"
      ]
     },
     "execution_count": 858,
     "metadata": {},
     "output_type": "execute_result"
    }
   ],
   "source": [
    "year_price = df_anoamalya.groupby('year').agg({'price':'mean'})\n",
    "year_price = year_price.rename(columns={'price':'price_mean'})\n",
    "year_price.reset_index(inplace=True)\n",
    "year_price"
   ]
  },
  {
   "cell_type": "code",
   "execution_count": 859,
   "id": "39f28c12-c276-470b-a7a3-897c5e9cdd6a",
   "metadata": {
    "tags": []
   },
   "outputs": [
    {
     "data": {
      "image/png": "[encoded data removed]",
      "text/plain": [
       "<Figure size 640x480 with 1 Axes>"
      ]
     },
     "metadata": {},
     "output_type": "display_data"
    }
   ],
   "source": [
    "plt.figure()\n",
    "plt.plot(year_price['year'], year_price['price_mean'], color='blue', marker='D', markerfacecolor='orange')\n",
    "plt.xlabel('Год выпуска')\n",
    "plt.ylabel('Средняя стоимость')\n",
    "plt.title('Диаграмма зависимость стоимости авто от года выпуска')\n",
    "plt.show()"
   ]
  },
  {
   "cell_type": "markdown",
   "id": "23e47a7c-c2f9-4166-9086-5ae77dff107c",
   "metadata": {},
   "source": [
    "Проверим коэффициент корреляции."
   ]
  },
  {
   "cell_type": "code",
   "execution_count": 860,
   "id": "a0d69219-7205-4f78-b7b6-f85bc8264843",
   "metadata": {
    "tags": []
   },
   "outputs": [
    {
     "data": {
      "text/plain": [
       "0.8619876524644405"
      ]
     },
     "execution_count": 860,
     "metadata": {},
     "output_type": "execute_result"
    }
   ],
   "source": [
    "year_price['year'].corr(year_price['price_mean'])"
   ]
  },
  {
   "cell_type": "markdown",
   "id": "1350d298-8b45-4d70-9ce6-97b54a87a0d0",
   "metadata": {},
   "source": [
    "Опредененно существует сильная, прямая корреляция между годом выпуска и ценой автомобиля."
   ]
  },
  {
   "cell_type": "markdown",
   "id": "3c8e9244-0831-4ff8-b3eb-88cc93b635c9",
   "metadata": {
    "tags": []
   },
   "source": [
    "## Feature engineering"
   ]
  },
  {
   "cell_type": "markdown",
   "id": "93eec846-3819-4b4e-ab33-0bcf49176e4a",
   "metadata": {
    "tags": []
   },
   "source": [
    "### Создание новых признаков"
   ]
  },
  {
   "cell_type": "code",
   "execution_count": 861,
   "id": "9829b0b7-2afa-480e-b2b0-bbbd2a61267d",
   "metadata": {
    "tags": []
   },
   "outputs": [
    {
     "data": {
      "text/html": [
       "<div>\n",
       "<style scoped>\n",
       "    .dataframe tbody tr th:only-of-type {\n",
       "        vertical-align: middle;\n",
       "    }\n",
       "\n",
       "    .dataframe tbody tr th {\n",
       "        vertical-align: top;\n",
       "    }\n",
       "\n",
       "    .dataframe thead th {\n",
       "        text-align: right;\n",
       "    }\n",
       "</style>\n",
       "<table border=\"1\" class=\"dataframe\">\n",
       "  <thead>\n",
       "    <tr style=\"text-align: right;\">\n",
       "      <th></th>\n",
       "      <th>region</th>\n",
       "      <th>region_url</th>\n",
       "      <th>manufacturer</th>\n",
       "      <th>model</th>\n",
       "      <th>fuel</th>\n",
       "      <th>title_status</th>\n",
       "      <th>transmission</th>\n",
       "      <th>image_url</th>\n",
       "      <th>state</th>\n",
       "    </tr>\n",
       "  </thead>\n",
       "  <tbody>\n",
       "    <tr>\n",
       "      <th>count</th>\n",
       "      <td>9052</td>\n",
       "      <td>9052</td>\n",
       "      <td>9052</td>\n",
       "      <td>9052</td>\n",
       "      <td>9052</td>\n",
       "      <td>9052</td>\n",
       "      <td>9052</td>\n",
       "      <td>9052</td>\n",
       "      <td>9052</td>\n",
       "    </tr>\n",
       "    <tr>\n",
       "      <th>unique</th>\n",
       "      <td>391</td>\n",
       "      <td>403</td>\n",
       "      <td>39</td>\n",
       "      <td>3061</td>\n",
       "      <td>5</td>\n",
       "      <td>6</td>\n",
       "      <td>3</td>\n",
       "      <td>8177</td>\n",
       "      <td>51</td>\n",
       "    </tr>\n",
       "    <tr>\n",
       "      <th>top</th>\n",
       "      <td>kansas city, MO</td>\n",
       "      <td>https://kansascity.craigslist.org</td>\n",
       "      <td>ford</td>\n",
       "      <td>f-150</td>\n",
       "      <td>gas</td>\n",
       "      <td>clean</td>\n",
       "      <td>automatic</td>\n",
       "      <td>https://images.craigslist.org/00N0N_1xMPvfxRAI...</td>\n",
       "      <td>ca</td>\n",
       "    </tr>\n",
       "    <tr>\n",
       "      <th>freq</th>\n",
       "      <td>82</td>\n",
       "      <td>82</td>\n",
       "      <td>1490</td>\n",
       "      <td>143</td>\n",
       "      <td>7641</td>\n",
       "      <td>8761</td>\n",
       "      <td>7011</td>\n",
       "      <td>188</td>\n",
       "      <td>992</td>\n",
       "    </tr>\n",
       "  </tbody>\n",
       "</table>\n",
       "</div>"
      ],
      "text/plain": [
       "                 region                         region_url manufacturer  \\\n",
       "count              9052                               9052         9052   \n",
       "unique              391                                403           39   \n",
       "top     kansas city, MO  https://kansascity.craigslist.org         ford   \n",
       "freq                 82                                 82         1490   \n",
       "\n",
       "        model  fuel title_status transmission  \\\n",
       "count    9052  9052         9052         9052   \n",
       "unique   3061     5            6            3   \n",
       "top     f-150   gas        clean    automatic   \n",
       "freq      143  7641         8761         7011   \n",
       "\n",
       "                                                image_url state  \n",
       "count                                                9052  9052  \n",
       "unique                                               8177    51  \n",
       "top     https://images.craigslist.org/00N0N_1xMPvfxRAI...    ca  \n",
       "freq                                                  188   992  "
      ]
     },
     "execution_count": 861,
     "metadata": {},
     "output_type": "execute_result"
    }
   ],
   "source": [
    "df_anoamalya.loc[:,('region','region_url','manufacturer','model','fuel','title_status','transmission','image_url','state')].describe()"
   ]
  },
  {
   "cell_type": "code",
   "execution_count": 862,
   "id": "408087af-6a3d-4572-a3df-fbaffd8c8415",
   "metadata": {
    "tags": []
   },
   "outputs": [
    {
     "data": {
      "text/html": [
       "<div>\n",
       "<style scoped>\n",
       "    .dataframe tbody tr th:only-of-type {\n",
       "        vertical-align: middle;\n",
       "    }\n",
       "\n",
       "    .dataframe tbody tr th {\n",
       "        vertical-align: top;\n",
       "    }\n",
       "\n",
       "    .dataframe thead th {\n",
       "        text-align: right;\n",
       "    }\n",
       "</style>\n",
       "<table border=\"1\" class=\"dataframe\">\n",
       "  <thead>\n",
       "    <tr style=\"text-align: right;\">\n",
       "      <th></th>\n",
       "      <th>region</th>\n",
       "      <th>region_url</th>\n",
       "    </tr>\n",
       "  </thead>\n",
       "  <tbody>\n",
       "    <tr>\n",
       "      <th>0</th>\n",
       "      <td>chattanooga</td>\n",
       "      <td>https://chattanooga.craigslist.org</td>\n",
       "    </tr>\n",
       "    <tr>\n",
       "      <th>2</th>\n",
       "      <td>reno / tahoe</td>\n",
       "      <td>https://reno.craigslist.org</td>\n",
       "    </tr>\n",
       "    <tr>\n",
       "      <th>3</th>\n",
       "      <td>fayetteville</td>\n",
       "      <td>https://fayetteville.craigslist.org</td>\n",
       "    </tr>\n",
       "    <tr>\n",
       "      <th>5</th>\n",
       "      <td>knoxville</td>\n",
       "      <td>https://knoxville.craigslist.org</td>\n",
       "    </tr>\n",
       "    <tr>\n",
       "      <th>6</th>\n",
       "      <td>des moines</td>\n",
       "      <td>https://desmoines.craigslist.org</td>\n",
       "    </tr>\n",
       "    <tr>\n",
       "      <th>...</th>\n",
       "      <td>...</td>\n",
       "      <td>...</td>\n",
       "    </tr>\n",
       "    <tr>\n",
       "      <th>9995</th>\n",
       "      <td>chautauqua</td>\n",
       "      <td>https://chautauqua.craigslist.org</td>\n",
       "    </tr>\n",
       "    <tr>\n",
       "      <th>9996</th>\n",
       "      <td>binghamton</td>\n",
       "      <td>https://binghamton.craigslist.org</td>\n",
       "    </tr>\n",
       "    <tr>\n",
       "      <th>9997</th>\n",
       "      <td>salem</td>\n",
       "      <td>https://salem.craigslist.org</td>\n",
       "    </tr>\n",
       "    <tr>\n",
       "      <th>9998</th>\n",
       "      <td>madison</td>\n",
       "      <td>https://madison.craigslist.org</td>\n",
       "    </tr>\n",
       "    <tr>\n",
       "      <th>9999</th>\n",
       "      <td>norfolk / hampton roads</td>\n",
       "      <td>https://norfolk.craigslist.org</td>\n",
       "    </tr>\n",
       "  </tbody>\n",
       "</table>\n",
       "<p>9052 rows × 2 columns</p>\n",
       "</div>"
      ],
      "text/plain": [
       "                       region                           region_url\n",
       "0                 chattanooga   https://chattanooga.craigslist.org\n",
       "2                reno / tahoe          https://reno.craigslist.org\n",
       "3                fayetteville  https://fayetteville.craigslist.org\n",
       "5                   knoxville     https://knoxville.craigslist.org\n",
       "6                  des moines     https://desmoines.craigslist.org\n",
       "...                       ...                                  ...\n",
       "9995               chautauqua    https://chautauqua.craigslist.org\n",
       "9996               binghamton    https://binghamton.craigslist.org\n",
       "9997                    salem         https://salem.craigslist.org\n",
       "9998                  madison       https://madison.craigslist.org\n",
       "9999  norfolk / hampton roads       https://norfolk.craigslist.org\n",
       "\n",
       "[9052 rows x 2 columns]"
      ]
     },
     "execution_count": 862,
     "metadata": {},
     "output_type": "execute_result"
    }
   ],
   "source": [
    "df_anoamalya.loc[:,('region','region_url')]"
   ]
  },
  {
   "cell_type": "markdown",
   "id": "ff562b32-5e1e-4cc1-8186-e2ec842ba3ec",
   "metadata": {},
   "source": [
    "Сравним колонки \"region\" и \"region_url\". Вероятно, название региона совпедает с доманном третьего уровня в region_url"
   ]
  },
  {
   "cell_type": "code",
   "execution_count": 863,
   "id": "1f6587da-9c36-4df7-8f27-b72747b108aa",
   "metadata": {
    "tags": []
   },
   "outputs": [],
   "source": [
    "df_feat = df_anoamalya.copy()"
   ]
  },
  {
   "cell_type": "code",
   "execution_count": 864,
   "id": "042650a5-bb8c-48b7-b1f0-4a14efd3a8c5",
   "metadata": {
    "tags": []
   },
   "outputs": [],
   "source": [
    "df_feat['region_new'] = df_feat.region_url.apply(lambda x: x.lower().split('://')[1].split('.')[0])"
   ]
  },
  {
   "cell_type": "code",
   "execution_count": 865,
   "id": "e290e447-2958-4491-ae97-9ae8931d341e",
   "metadata": {
    "tags": []
   },
   "outputs": [
    {
     "data": {
      "text/plain": [
       "391"
      ]
     },
     "execution_count": 865,
     "metadata": {},
     "output_type": "execute_result"
    }
   ],
   "source": [
    "df_feat.region.nunique()"
   ]
  },
  {
   "cell_type": "code",
   "execution_count": 866,
   "id": "7fb8781f-fb15-483b-bee1-fe378877a1bc",
   "metadata": {
    "tags": []
   },
   "outputs": [
    {
     "data": {
      "text/plain": [
       "403"
      ]
     },
     "execution_count": 866,
     "metadata": {},
     "output_type": "execute_result"
    }
   ],
   "source": [
    "df_feat.region_new.nunique()"
   ]
  },
  {
   "cell_type": "code",
   "execution_count": 869,
   "id": "1beac264-b8e2-4019-aa2b-556442c7ea1d",
   "metadata": {
    "tags": []
   },
   "outputs": [
    {
     "data": {
      "text/plain": [
       "array(['reno / tahoe', 'des moines', 'grand rapids',\n",
       "       'omaha / council bluffs', 'rhode island', 'hawaii',\n",
       "       'fresno / madera', 'inland empire', 'south jersey', 'new haven',\n",
       "       'ft myers / SW florida', 'tyler / east TX', 'corpus christi',\n",
       "       'appleton-oshkosh-FDL', 'las vegas', 'greenville / upstate',\n",
       "       'anchorage / mat-su', 'port huron', 'olympic peninsula',\n",
       "       'san angelo', 'dallas / fort worth', 'SF bay area',\n",
       "       'fort collins / north CO', 'st cloud', 'colorado springs',\n",
       "       'yuba-sutter', 'san luis obispo', 'baton rouge', 'central NJ',\n",
       "       'killeen / temple / ft hood', 'jersey shore',\n",
       "       'kennewick-pasco-richland', 'western KY', 'kenai peninsula',\n",
       "       'detroit metro', 'battle creek', 'st louis, MO',\n",
       "       'dayton / springfield', 'kansas city, MO', 'orange county',\n",
       "       'champaign urbana', 'show low', 'sarasota-bradenton',\n",
       "       'tampa bay area', 'raleigh / durham / CH', 'seattle-tacoma',\n",
       "       'new york city', 'gold country', 'fargo / moorhead',\n",
       "       'south bend / michiana', 'sioux falls / SE SD',\n",
       "       \"spokane / coeur d'alene\", 'twin falls', 'lima / findlay',\n",
       "       'worcester / central MA', 'oklahoma city', 'los angeles',\n",
       "       'fayetteville', 'columbia / jeff city', 'san antonio',\n",
       "       'ventura county', 'monterey bay', 'south florida', 'lehigh valley',\n",
       "       'macon / warner robins', 'new hampshire', 'treasure coast',\n",
       "       'akron / canton', 'lewiston / clarkston', 'eastern NC',\n",
       "       'terre haute', 'eastern CT', 'grand island', 'long island',\n",
       "       'fort wayne', 'myrtle beach', 'scranton / wilkes-barre',\n",
       "       'daytona beach', 'savannah / hinesville', 'western massachusetts',\n",
       "       'huntington-ashland', 'el paso', 'winston-salem', 'western slope',\n",
       "       'st george', 'minneapolis / st paul', 'palm springs',\n",
       "       'santa fe / taos', 'norfolk / hampton roads', 'northwest GA',\n",
       "       'washington, DC', 'glens falls', 'new river valley',\n",
       "       'oregon coast', 'san diego', 'las cruces', 'rochester',\n",
       "       'springfield', 'rapid city / west SD', 'saginaw-midland-baycity',\n",
       "       'wichita falls', 'parkersburg-marietta', 'florida keys',\n",
       "       'southwest michigan', 'little rock', 'quad cities, IA/IL',\n",
       "       'visalia-tulare', 'plattsburgh-adirondacks',\n",
       "       'huntsville / decatur', 'columbus', 'southern maryland',\n",
       "       'finger lakes', 'hudson valley', 'green bay', 'eau claire',\n",
       "       'upper peninsula', 'cedar rapids', 'mcallen / edinburg',\n",
       "       'birmingham', 'southwest MN', 'north jersey', 'utica-rome-oneida',\n",
       "       'victoria', 'skagit / island / SJI', 'medford-ashland',\n",
       "       'salt lake city', 'moses lake', 'east idaho', 'cumberland valley',\n",
       "       'western maryland', 'great falls', 'southern illinois',\n",
       "       'santa barbara', 'kenosha-racine', 'odessa / midland',\n",
       "       'zanesville / cambridge', 'athens', 'mohave county', 'tri-cities',\n",
       "       'duluth / superior', 'gadsden-anniston', 'sioux city',\n",
       "       'northwest OK', 'pullman / moscow', 'new orleans', 'northwest CT',\n",
       "       'hilton head', 'manhattan', 'central michigan', 'siskiyou county',\n",
       "       'east oregon', 'space coast', 'hickory / lenoir',\n",
       "       'north central FL', 'twin tiers NY/PA', 'humboldt county',\n",
       "       'mattoon-charleston', 'monroe', 'la crosse',\n",
       "       'scottsbluff / panhandle', 'tuscarawas co', 'heartland florida',\n",
       "       'the thumb', 'ann arbor', 'eastern shore', 'muncie / anderson',\n",
       "       'sierra vista', 'jacksonville', 'elmira-corning',\n",
       "       'bloomington-normal', 'beaumont / port arthur', 'hanford-corcoran',\n",
       "       'northern panhandle', 'southeast missouri', 'santa maria',\n",
       "       'fort dodge', 'lafayette / west lafayette', 'altoona-johnstown',\n",
       "       'potsdam-canton-massena', 'jackson', 'iowa city', 'southwest KS',\n",
       "       'flagstaff / sedona', 'charleston', 'northwest KS',\n",
       "       'southeast alaska', 'cape cod / islands', 'college station',\n",
       "       'state college', 'florence', 'bowling green', 'eastern kentucky',\n",
       "       'clovis / portales', 'north mississippi', 'lake of the ozarks',\n",
       "       'mason city', 'okaloosa / walton', 'san marcos',\n",
       "       'corvallis/albany', 'south coast', 'southeast IA',\n",
       "       'eastern montana', 'central louisiana', 'lake charles',\n",
       "       'northern WI', 'albany', 'mendocino county', 'imperial county',\n",
       "       'north platte', 'southwest VA', 'northern michigan', 'la salle co',\n",
       "       'ogden-clearfield', 'florence / muscle shoals', 'southwest MS',\n",
       "       'south dakota', 'st joseph', 'del rio / eagle pass', 'fort smith',\n",
       "       'panama city', 'roswell / carlsbad', 'eastern panhandle',\n",
       "       'north dakota', 'waterloo / cedar falls', 'eastern CO',\n",
       "       'grand forks', 'klamath falls', 'richmond', 'gulfport / biloxi',\n",
       "       'high rockies', 'northeast SD', 'outer banks', 'st augustine'],\n",
       "      dtype=object)"
      ]
     },
     "execution_count": 869,
     "metadata": {},
     "output_type": "execute_result"
    }
   ],
   "source": [
    "df_feat[df_feat['region'] != df_feat['region_new']].region.unique()"
   ]
  },
  {
   "cell_type": "markdown",
   "id": "04884f22-d09a-4b6f-a626-1347cec87077",
   "metadata": {},
   "source": [
    "Возьмем от region только первую часть до символа '/', избавимся от пробелов и запишим в новую колонку"
   ]
  },
  {
   "cell_type": "code",
   "execution_count": 870,
   "id": "5d89394d-ce37-4f78-b22a-3eefce831eb8",
   "metadata": {
    "tags": []
   },
   "outputs": [],
   "source": [
    "df_feat['region_corrected'] =  df_feat.region.apply(lambda x: x.split('/')[0].replace(' ', '').split('-')[0])"
   ]
  },
  {
   "cell_type": "code",
   "execution_count": 871,
   "id": "794ad8d1-22c3-4f2c-8b29-c7fe0b8d64ba",
   "metadata": {
    "tags": []
   },
   "outputs": [
    {
     "data": {
      "text/html": [
       "<div>\n",
       "<style scoped>\n",
       "    .dataframe tbody tr th:only-of-type {\n",
       "        vertical-align: middle;\n",
       "    }\n",
       "\n",
       "    .dataframe tbody tr th {\n",
       "        vertical-align: top;\n",
       "    }\n",
       "\n",
       "    .dataframe thead th {\n",
       "        text-align: right;\n",
       "    }\n",
       "</style>\n",
       "<table border=\"1\" class=\"dataframe\">\n",
       "  <thead>\n",
       "    <tr style=\"text-align: right;\">\n",
       "      <th></th>\n",
       "      <th>region_corrected</th>\n",
       "      <th>region_new</th>\n",
       "    </tr>\n",
       "  </thead>\n",
       "  <tbody>\n",
       "    <tr>\n",
       "      <th>10</th>\n",
       "      <td>rhodeisland</td>\n",
       "      <td>providence</td>\n",
       "    </tr>\n",
       "    <tr>\n",
       "      <th>15</th>\n",
       "      <td>hawaii</td>\n",
       "      <td>honolulu</td>\n",
       "    </tr>\n",
       "    <tr>\n",
       "      <th>26</th>\n",
       "      <td>ftmyers</td>\n",
       "      <td>fortmyers</td>\n",
       "    </tr>\n",
       "    <tr>\n",
       "      <th>27</th>\n",
       "      <td>tyler</td>\n",
       "      <td>easttexas</td>\n",
       "    </tr>\n",
       "    <tr>\n",
       "      <th>47</th>\n",
       "      <td>olympicpeninsula</td>\n",
       "      <td>olympic</td>\n",
       "    </tr>\n",
       "    <tr>\n",
       "      <th>...</th>\n",
       "      <td>...</td>\n",
       "      <td>...</td>\n",
       "    </tr>\n",
       "    <tr>\n",
       "      <th>9966</th>\n",
       "      <td>rhodeisland</td>\n",
       "      <td>providence</td>\n",
       "    </tr>\n",
       "    <tr>\n",
       "      <th>9976</th>\n",
       "      <td>southeastalaska</td>\n",
       "      <td>juneau</td>\n",
       "    </tr>\n",
       "    <tr>\n",
       "      <th>9987</th>\n",
       "      <td>rochester</td>\n",
       "      <td>rmn</td>\n",
       "    </tr>\n",
       "    <tr>\n",
       "      <th>9992</th>\n",
       "      <td>centralNJ</td>\n",
       "      <td>cnj</td>\n",
       "    </tr>\n",
       "    <tr>\n",
       "      <th>9994</th>\n",
       "      <td>fayetteville</td>\n",
       "      <td>fayar</td>\n",
       "    </tr>\n",
       "  </tbody>\n",
       "</table>\n",
       "<p>2075 rows × 2 columns</p>\n",
       "</div>"
      ],
      "text/plain": [
       "      region_corrected  region_new\n",
       "10         rhodeisland  providence\n",
       "15              hawaii    honolulu\n",
       "26             ftmyers   fortmyers\n",
       "27               tyler   easttexas\n",
       "47    olympicpeninsula     olympic\n",
       "...                ...         ...\n",
       "9966       rhodeisland  providence\n",
       "9976   southeastalaska      juneau\n",
       "9987         rochester         rmn\n",
       "9992         centralNJ         cnj\n",
       "9994      fayetteville       fayar\n",
       "\n",
       "[2075 rows x 2 columns]"
      ]
     },
     "execution_count": 871,
     "metadata": {},
     "output_type": "execute_result"
    }
   ],
   "source": [
    "df_feat[df_feat['region_corrected'] != df_feat['region_new']].loc[0:,('region_corrected', 'region_new')]"
   ]
  },
  {
   "cell_type": "code",
   "execution_count": 872,
   "id": "0915165f-ae87-4ada-9344-9c8a26008570",
   "metadata": {
    "tags": []
   },
   "outputs": [
    {
     "data": {
      "text/plain": [
       "387"
      ]
     },
     "execution_count": 872,
     "metadata": {},
     "output_type": "execute_result"
    }
   ],
   "source": [
    "df_feat.region_corrected.nunique()"
   ]
  },
  {
   "cell_type": "code",
   "execution_count": 873,
   "id": "3a7f70d9-4b19-4a45-afc0-003eddae312a",
   "metadata": {
    "tags": []
   },
   "outputs": [
    {
     "data": {
      "text/plain": [
       "403"
      ]
     },
     "execution_count": 873,
     "metadata": {},
     "output_type": "execute_result"
    }
   ],
   "source": [
    "df_feat.region_new.nunique()"
   ]
  },
  {
   "cell_type": "markdown",
   "id": "051a0e79-2cb4-4d06-8244-6a976f621430",
   "metadata": {},
   "source": [
    "Несовпадоют назнания в 2075 записях. Это много, но что-то исправить уже не получится. Оставим пока обе колонки. Уникальных значений в обоих колонках не так много. Это хорошо - будет не так много колонок на этапе OneHotEncoder."
   ]
  },
  {
   "cell_type": "markdown",
   "id": "bc0bb4ca-cadc-4e4a-8689-a23a28119c96",
   "metadata": {},
   "source": [
    "Колонки manufacturer, model можно попробывать объеденить, чтобы получить идентификатор модели.  "
   ]
  },
  {
   "cell_type": "code",
   "execution_count": 874,
   "id": "e86637d1-e8a9-4497-9970-da77ebe3cee4",
   "metadata": {
    "tags": []
   },
   "outputs": [
    {
     "data": {
      "text/plain": [
       "3061"
      ]
     },
     "execution_count": 874,
     "metadata": {},
     "output_type": "execute_result"
    }
   ],
   "source": [
    "df_feat['model'].nunique()"
   ]
  },
  {
   "cell_type": "markdown",
   "id": "95b5655d-f7b9-4923-9719-27188465615c",
   "metadata": {},
   "source": [
    "Очень большое разнообразие моделей. Может в дальнейшем не хватить оперативной памяти для обработки массива данных. Возьмем только первое слово от модели"
   ]
  },
  {
   "cell_type": "code",
   "execution_count": 875,
   "id": "5b6d52dc-6052-4fea-8370-8f7de7562509",
   "metadata": {
    "tags": []
   },
   "outputs": [],
   "source": [
    "df_feat['short_model'] = df_feat.model.apply(lambda x: x.split(' ')[0])"
   ]
  },
  {
   "cell_type": "code",
   "execution_count": 876,
   "id": "813e3dec-a2cb-4400-9eb9-8dd9537c3094",
   "metadata": {
    "tags": []
   },
   "outputs": [
    {
     "data": {
      "text/plain": [
       "816"
      ]
     },
     "execution_count": 876,
     "metadata": {},
     "output_type": "execute_result"
    }
   ],
   "source": [
    "df_feat.short_model.nunique()"
   ]
  },
  {
   "cell_type": "code",
   "execution_count": 877,
   "id": "6f3b63ec-a692-4026-a3e9-88c48b8f6ad7",
   "metadata": {
    "tags": []
   },
   "outputs": [
    {
     "data": {
      "text/plain": [
       "39"
      ]
     },
     "execution_count": 877,
     "metadata": {},
     "output_type": "execute_result"
    }
   ],
   "source": [
    "df_feat['manufacturer'].nunique()"
   ]
  },
  {
   "cell_type": "code",
   "execution_count": 878,
   "id": "1afaa2a7-a098-43e8-9765-ce36a6419488",
   "metadata": {
    "tags": []
   },
   "outputs": [],
   "source": [
    "df_feat['manufacturer_model'] = df_feat.manufacturer + ': ' + df_feat.short_model"
   ]
  },
  {
   "cell_type": "code",
   "execution_count": 879,
   "id": "d701b48c-fae5-425d-9c4c-18e50110c31e",
   "metadata": {
    "tags": []
   },
   "outputs": [
    {
     "data": {
      "text/plain": [
       "866"
      ]
     },
     "execution_count": 879,
     "metadata": {},
     "output_type": "execute_result"
    }
   ],
   "source": [
    "df_feat.manufacturer_model.nunique()"
   ]
  },
  {
   "cell_type": "code",
   "execution_count": 880,
   "id": "e014e538-1e42-4f13-aec0-9e44aabb04ac",
   "metadata": {
    "tags": []
   },
   "outputs": [
    {
     "data": {
      "text/plain": [
       "0              ram: 2500\n",
       "2       volkswagen: golf\n",
       "3           toyota: rav4\n",
       "5                 bmw: 1\n",
       "6           ford: fusion\n",
       "              ...       \n",
       "9995        toyota: rav4\n",
       "9996      jeep: wrangler\n",
       "9997            audi: a3\n",
       "9998    porsche: cayenne\n",
       "9999           ram: 1500\n",
       "Name: manufacturer_model, Length: 9052, dtype: object"
      ]
     },
     "execution_count": 880,
     "metadata": {},
     "output_type": "execute_result"
    }
   ],
   "source": [
    "df_feat.manufacturer_model\n"
   ]
  },
  {
   "cell_type": "code",
   "execution_count": null,
   "id": "40d5f6fd-f05d-461e-9782-794da760cea8",
   "metadata": {},
   "outputs": [],
   "source": []
  },
  {
   "cell_type": "markdown",
   "id": "cfedd7b9-5198-4e1b-8d1c-97f188516d9d",
   "metadata": {},
   "source": [
    "Поработаем с длинной сообщения (поле description)"
   ]
  },
  {
   "cell_type": "code",
   "execution_count": 881,
   "id": "47676fa8-f9cf-4feb-bffa-d54e1f462f68",
   "metadata": {
    "tags": []
   },
   "outputs": [
    {
     "data": {
      "text/plain": [
       "0       4482\n",
       "2       4286\n",
       "3       3241\n",
       "5       4851\n",
       "6        344\n",
       "        ... \n",
       "9995    1710\n",
       "9996     948\n",
       "9997     909\n",
       "9998    3644\n",
       "9999    4483\n",
       "Name: desc_len, Length: 9052, dtype: int64"
      ]
     },
     "execution_count": 881,
     "metadata": {},
     "output_type": "execute_result"
    }
   ],
   "source": [
    "df_feat['desc_len'] = df_feat.apply(lambda x: len(x.description) , axis=1)\n",
    "df_feat['desc_len']"
   ]
  },
  {
   "cell_type": "code",
   "execution_count": 882,
   "id": "f39f000e-29bd-4e2a-943d-0b366a3e0f4e",
   "metadata": {
    "tags": []
   },
   "outputs": [
    {
     "data": {
      "image/png": "[encoded data removed]",
      "text/plain": [
       "<Figure size 1200x800 with 1 Axes>"
      ]
     },
     "metadata": {},
     "output_type": "display_data"
    }
   ],
   "source": [
    "colors = {'medium': 'orange', 'high': 'red', 'low': 'green',}\n",
    "\n",
    "fig, ax = plt.subplots(figsize=(12, 8))\n",
    "for price_category in colors:\n",
    "    color = colors[price_category]\n",
    "    data = df_feat[df_feat['price_category'] == price_category]\n",
    "\n",
    "    ax.hist(data['desc_len'], color=color, alpha=0.6, bins=20)\n",
    "    \n",
    "plt.ylabel('Количество')\n",
    "plt.xlabel('Количество символов в описании автомобиля')\n",
    "plt.title('Количество символов в описании в зависимости от ценовой категории автомобиля')\n",
    "plt.legend(colors, title=\"Ценовая категория\");"
   ]
  },
  {
   "cell_type": "markdown",
   "id": "62161d7c-f5d0-4970-80c4-e01a879ea867",
   "metadata": {},
   "source": [
    "Из графика видно, что дорогие авто чаще имеют более длинное описание, чем бюджетные машины, но как правило не более 5000 символов."
   ]
  },
  {
   "cell_type": "markdown",
   "id": "9c8074b4-2f2a-4e9c-ab0a-8f904f503443",
   "metadata": {
    "tags": []
   },
   "source": [
    "Год выпуска автомобиля. \n",
    "\n",
    "Создадим категориальный признак, указывающий на возраст авто:\n",
    "new — автомобиль позже 2014 года выпуска;\n",
    "average— автомобиль, выпущенный между 2006 и 2013 годом;\n",
    "old — автомобиль старше 2006 года выпуска."
   ]
  },
  {
   "cell_type": "code",
   "execution_count": 883,
   "id": "adeec6f2-a272-40c5-ba1e-21e06c3f27a6",
   "metadata": {
    "tags": []
   },
   "outputs": [
    {
     "data": {
      "text/plain": [
       "year\n",
       "1995     32\n",
       "1996     25\n",
       "1997     43\n",
       "1998     51\n",
       "1999     78\n",
       "2000     77\n",
       "2001    114\n",
       "2002    145\n",
       "2003    176\n",
       "2004    204\n",
       "2005    244\n",
       "2006    271\n",
       "2007    379\n",
       "2008    438\n",
       "2009    279\n",
       "2010    334\n",
       "2011    460\n",
       "2012    559\n",
       "2013    661\n",
       "2014    624\n",
       "2015    639\n",
       "2016    705\n",
       "2017    780\n",
       "2018    777\n",
       "2019    563\n",
       "2020    394\n",
       "Name: count, dtype: int64"
      ]
     },
     "execution_count": 883,
     "metadata": {},
     "output_type": "execute_result"
    }
   ],
   "source": [
    "df_feat['year'].value_counts().sort_index()"
   ]
  },
  {
   "cell_type": "code",
   "execution_count": 884,
   "id": "6a744f39-7690-4200-829f-b7908e9ad3e5",
   "metadata": {
    "tags": []
   },
   "outputs": [],
   "source": [
    "df_feat['age_category'] = df_feat.year.apply(lambda x: 'new' if x >= 2014 else ('average' if x < 2014 and x >= 2006 else 'old'))\n"
   ]
  },
  {
   "cell_type": "code",
   "execution_count": 885,
   "id": "b1d1edb3-bfbc-41b9-aa40-c49439a9b927",
   "metadata": {
    "tags": []
   },
   "outputs": [
    {
     "data": {
      "text/html": [
       "<div>\n",
       "<style scoped>\n",
       "    .dataframe tbody tr th:only-of-type {\n",
       "        vertical-align: middle;\n",
       "    }\n",
       "\n",
       "    .dataframe tbody tr th {\n",
       "        vertical-align: top;\n",
       "    }\n",
       "\n",
       "    .dataframe thead th {\n",
       "        text-align: right;\n",
       "    }\n",
       "</style>\n",
       "<table border=\"1\" class=\"dataframe\">\n",
       "  <thead>\n",
       "    <tr style=\"text-align: right;\">\n",
       "      <th></th>\n",
       "      <th>year</th>\n",
       "      <th>age_category</th>\n",
       "    </tr>\n",
       "  </thead>\n",
       "  <tbody>\n",
       "    <tr>\n",
       "      <th>0</th>\n",
       "      <td>2020</td>\n",
       "      <td>new</td>\n",
       "    </tr>\n",
       "    <tr>\n",
       "      <th>2</th>\n",
       "      <td>2017</td>\n",
       "      <td>new</td>\n",
       "    </tr>\n",
       "    <tr>\n",
       "      <th>3</th>\n",
       "      <td>2013</td>\n",
       "      <td>average</td>\n",
       "    </tr>\n",
       "    <tr>\n",
       "      <th>5</th>\n",
       "      <td>2012</td>\n",
       "      <td>average</td>\n",
       "    </tr>\n",
       "    <tr>\n",
       "      <th>6</th>\n",
       "      <td>2015</td>\n",
       "      <td>new</td>\n",
       "    </tr>\n",
       "    <tr>\n",
       "      <th>...</th>\n",
       "      <td>...</td>\n",
       "      <td>...</td>\n",
       "    </tr>\n",
       "    <tr>\n",
       "      <th>9995</th>\n",
       "      <td>2002</td>\n",
       "      <td>old</td>\n",
       "    </tr>\n",
       "    <tr>\n",
       "      <th>9996</th>\n",
       "      <td>2008</td>\n",
       "      <td>average</td>\n",
       "    </tr>\n",
       "    <tr>\n",
       "      <th>9997</th>\n",
       "      <td>2011</td>\n",
       "      <td>average</td>\n",
       "    </tr>\n",
       "    <tr>\n",
       "      <th>9998</th>\n",
       "      <td>2015</td>\n",
       "      <td>new</td>\n",
       "    </tr>\n",
       "    <tr>\n",
       "      <th>9999</th>\n",
       "      <td>2017</td>\n",
       "      <td>new</td>\n",
       "    </tr>\n",
       "  </tbody>\n",
       "</table>\n",
       "<p>9052 rows × 2 columns</p>\n",
       "</div>"
      ],
      "text/plain": [
       "      year age_category\n",
       "0     2020          new\n",
       "2     2017          new\n",
       "3     2013      average\n",
       "5     2012      average\n",
       "6     2015          new\n",
       "...    ...          ...\n",
       "9995  2002          old\n",
       "9996  2008      average\n",
       "9997  2011      average\n",
       "9998  2015          new\n",
       "9999  2017          new\n",
       "\n",
       "[9052 rows x 2 columns]"
      ]
     },
     "execution_count": 885,
     "metadata": {},
     "output_type": "execute_result"
    }
   ],
   "source": [
    "df_feat.loc[:,('year','age_category')]"
   ]
  },
  {
   "cell_type": "code",
   "execution_count": 886,
   "id": "bf99cacb-4909-4dc2-9fb0-8dd3ba518e3b",
   "metadata": {
    "tags": []
   },
   "outputs": [
    {
     "data": {
      "text/html": [
       "<div>\n",
       "<style scoped>\n",
       "    .dataframe tbody tr th:only-of-type {\n",
       "        vertical-align: middle;\n",
       "    }\n",
       "\n",
       "    .dataframe tbody tr th {\n",
       "        vertical-align: top;\n",
       "    }\n",
       "\n",
       "    .dataframe thead th {\n",
       "        text-align: right;\n",
       "    }\n",
       "</style>\n",
       "<table border=\"1\" class=\"dataframe\">\n",
       "  <thead>\n",
       "    <tr style=\"text-align: right;\">\n",
       "      <th></th>\n",
       "      <th>id</th>\n",
       "      <th>url</th>\n",
       "      <th>region</th>\n",
       "      <th>region_url</th>\n",
       "      <th>price</th>\n",
       "      <th>year</th>\n",
       "      <th>manufacturer</th>\n",
       "      <th>model</th>\n",
       "      <th>fuel</th>\n",
       "      <th>odometer</th>\n",
       "      <th>...</th>\n",
       "      <th>long</th>\n",
       "      <th>posting_date</th>\n",
       "      <th>price_category</th>\n",
       "      <th>date</th>\n",
       "      <th>region_new</th>\n",
       "      <th>region_corrected</th>\n",
       "      <th>short_model</th>\n",
       "      <th>manufacturer_model</th>\n",
       "      <th>desc_len</th>\n",
       "      <th>age_category</th>\n",
       "    </tr>\n",
       "  </thead>\n",
       "  <tbody>\n",
       "    <tr>\n",
       "      <th>0</th>\n",
       "      <td>7308295377</td>\n",
       "      <td>https://chattanooga.craigslist.org/ctd/d/chatt...</td>\n",
       "      <td>chattanooga</td>\n",
       "      <td>https://chattanooga.craigslist.org</td>\n",
       "      <td>54990</td>\n",
       "      <td>2020</td>\n",
       "      <td>ram</td>\n",
       "      <td>2500 crew cab big horn</td>\n",
       "      <td>diesel</td>\n",
       "      <td>27442</td>\n",
       "      <td>...</td>\n",
       "      <td>-85.250000</td>\n",
       "      <td>2021-04-17T12:30:50-0400</td>\n",
       "      <td>high</td>\n",
       "      <td>2021-04-17 16:30:50+00:00</td>\n",
       "      <td>chattanooga</td>\n",
       "      <td>chattanooga</td>\n",
       "      <td>2500</td>\n",
       "      <td>ram: 2500</td>\n",
       "      <td>4482</td>\n",
       "      <td>new</td>\n",
       "    </tr>\n",
       "    <tr>\n",
       "      <th>2</th>\n",
       "      <td>7313733749</td>\n",
       "      <td>https://reno.craigslist.org/ctd/d/atlanta-2017...</td>\n",
       "      <td>reno / tahoe</td>\n",
       "      <td>https://reno.craigslist.org</td>\n",
       "      <td>35590</td>\n",
       "      <td>2017</td>\n",
       "      <td>volkswagen</td>\n",
       "      <td>golf r hatchback</td>\n",
       "      <td>gas</td>\n",
       "      <td>14048</td>\n",
       "      <td>...</td>\n",
       "      <td>-84.411811</td>\n",
       "      <td>2021-04-28T03:52:20-0700</td>\n",
       "      <td>high</td>\n",
       "      <td>2021-04-28 10:52:20+00:00</td>\n",
       "      <td>reno</td>\n",
       "      <td>reno</td>\n",
       "      <td>golf</td>\n",
       "      <td>volkswagen: golf</td>\n",
       "      <td>4286</td>\n",
       "      <td>new</td>\n",
       "    </tr>\n",
       "    <tr>\n",
       "      <th>3</th>\n",
       "      <td>7308210929</td>\n",
       "      <td>https://fayetteville.craigslist.org/ctd/d/rale...</td>\n",
       "      <td>fayetteville</td>\n",
       "      <td>https://fayetteville.craigslist.org</td>\n",
       "      <td>14500</td>\n",
       "      <td>2013</td>\n",
       "      <td>toyota</td>\n",
       "      <td>rav4</td>\n",
       "      <td>gas</td>\n",
       "      <td>117291</td>\n",
       "      <td>...</td>\n",
       "      <td>-78.655304</td>\n",
       "      <td>2021-04-17T10:08:57-0400</td>\n",
       "      <td>medium</td>\n",
       "      <td>2021-04-17 14:08:57+00:00</td>\n",
       "      <td>fayetteville</td>\n",
       "      <td>fayetteville</td>\n",
       "      <td>rav4</td>\n",
       "      <td>toyota: rav4</td>\n",
       "      <td>3241</td>\n",
       "      <td>average</td>\n",
       "    </tr>\n",
       "    <tr>\n",
       "      <th>5</th>\n",
       "      <td>7303797340</td>\n",
       "      <td>https://knoxville.craigslist.org/ctd/d/knoxvil...</td>\n",
       "      <td>knoxville</td>\n",
       "      <td>https://knoxville.craigslist.org</td>\n",
       "      <td>14590</td>\n",
       "      <td>2012</td>\n",
       "      <td>bmw</td>\n",
       "      <td>1 series 128i coupe 2d</td>\n",
       "      <td>other</td>\n",
       "      <td>80465</td>\n",
       "      <td>...</td>\n",
       "      <td>-83.940000</td>\n",
       "      <td>2021-04-08T15:10:56-0400</td>\n",
       "      <td>medium</td>\n",
       "      <td>2021-04-08 19:10:56+00:00</td>\n",
       "      <td>knoxville</td>\n",
       "      <td>knoxville</td>\n",
       "      <td>1</td>\n",
       "      <td>bmw: 1</td>\n",
       "      <td>4851</td>\n",
       "      <td>average</td>\n",
       "    </tr>\n",
       "    <tr>\n",
       "      <th>6</th>\n",
       "      <td>7316793777</td>\n",
       "      <td>https://desmoines.craigslist.org/ctd/d/martens...</td>\n",
       "      <td>des moines</td>\n",
       "      <td>https://desmoines.craigslist.org</td>\n",
       "      <td>6700</td>\n",
       "      <td>2015</td>\n",
       "      <td>ford</td>\n",
       "      <td>fusion se</td>\n",
       "      <td>gas</td>\n",
       "      <td>149000</td>\n",
       "      <td>...</td>\n",
       "      <td>-93.735800</td>\n",
       "      <td>2021-05-04T11:59:42-0500</td>\n",
       "      <td>low</td>\n",
       "      <td>2021-05-04 16:59:42+00:00</td>\n",
       "      <td>desmoines</td>\n",
       "      <td>desmoines</td>\n",
       "      <td>fusion</td>\n",
       "      <td>ford: fusion</td>\n",
       "      <td>344</td>\n",
       "      <td>new</td>\n",
       "    </tr>\n",
       "  </tbody>\n",
       "</table>\n",
       "<p>5 rows × 26 columns</p>\n",
       "</div>"
      ],
      "text/plain": [
       "           id                                                url  \\\n",
       "0  7308295377  https://chattanooga.craigslist.org/ctd/d/chatt...   \n",
       "2  7313733749  https://reno.craigslist.org/ctd/d/atlanta-2017...   \n",
       "3  7308210929  https://fayetteville.craigslist.org/ctd/d/rale...   \n",
       "5  7303797340  https://knoxville.craigslist.org/ctd/d/knoxvil...   \n",
       "6  7316793777  https://desmoines.craigslist.org/ctd/d/martens...   \n",
       "\n",
       "         region                           region_url  price  year  \\\n",
       "0   chattanooga   https://chattanooga.craigslist.org  54990  2020   \n",
       "2  reno / tahoe          https://reno.craigslist.org  35590  2017   \n",
       "3  fayetteville  https://fayetteville.craigslist.org  14500  2013   \n",
       "5     knoxville     https://knoxville.craigslist.org  14590  2012   \n",
       "6    des moines     https://desmoines.craigslist.org   6700  2015   \n",
       "\n",
       "  manufacturer                   model    fuel  odometer  ...       long  \\\n",
       "0          ram  2500 crew cab big horn  diesel     27442  ... -85.250000   \n",
       "2   volkswagen        golf r hatchback     gas     14048  ... -84.411811   \n",
       "3       toyota                    rav4     gas    117291  ... -78.655304   \n",
       "5          bmw  1 series 128i coupe 2d   other     80465  ... -83.940000   \n",
       "6         ford               fusion se     gas    149000  ... -93.735800   \n",
       "\n",
       "               posting_date price_category                      date  \\\n",
       "0  2021-04-17T12:30:50-0400           high 2021-04-17 16:30:50+00:00   \n",
       "2  2021-04-28T03:52:20-0700           high 2021-04-28 10:52:20+00:00   \n",
       "3  2021-04-17T10:08:57-0400         medium 2021-04-17 14:08:57+00:00   \n",
       "5  2021-04-08T15:10:56-0400         medium 2021-04-08 19:10:56+00:00   \n",
       "6  2021-05-04T11:59:42-0500            low 2021-05-04 16:59:42+00:00   \n",
       "\n",
       "     region_new  region_corrected  short_model manufacturer_model desc_len  \\\n",
       "0   chattanooga       chattanooga         2500          ram: 2500     4482   \n",
       "2          reno              reno         golf   volkswagen: golf     4286   \n",
       "3  fayetteville      fayetteville         rav4       toyota: rav4     3241   \n",
       "5     knoxville         knoxville            1             bmw: 1     4851   \n",
       "6     desmoines         desmoines       fusion       ford: fusion      344   \n",
       "\n",
       "  age_category  \n",
       "0          new  \n",
       "2          new  \n",
       "3      average  \n",
       "5      average  \n",
       "6          new  \n",
       "\n",
       "[5 rows x 26 columns]"
      ]
     },
     "execution_count": 886,
     "metadata": {},
     "output_type": "execute_result"
    }
   ],
   "source": [
    "df_feat.head()\n"
   ]
  },
  {
   "cell_type": "markdown",
   "id": "d518f8ba-ca84-4a1e-9dc6-22b3a56f84c4",
   "metadata": {
    "tags": []
   },
   "source": [
    "### Преобразование категориальных переменных"
   ]
  },
  {
   "cell_type": "code",
   "execution_count": 887,
   "id": "23bec64d-27ab-4975-aec1-24154b27c431",
   "metadata": {
    "tags": []
   },
   "outputs": [
    {
     "data": {
      "text/plain": [
       "array(['diesel', 'gas', 'other', 'electric', 'hybrid'], dtype=object)"
      ]
     },
     "execution_count": 887,
     "metadata": {},
     "output_type": "execute_result"
    }
   ],
   "source": [
    "df_feat.fuel.unique()"
   ]
  },
  {
   "cell_type": "code",
   "execution_count": 888,
   "id": "8c1be188-c617-4821-bb57-43721170adbe",
   "metadata": {
    "tags": []
   },
   "outputs": [],
   "source": [
    "ohe = OneHotEncoder(sparse_output=False)"
   ]
  },
  {
   "cell_type": "code",
   "execution_count": 889,
   "id": "d0811bff-7fe9-4ee5-ac94-593f706a9b5b",
   "metadata": {
    "tags": []
   },
   "outputs": [
    {
     "data": {
      "text/html": [
       "<style>#sk-container-id-30 {color: black;}#sk-container-id-30 pre{padding: 0;}#sk-container-id-30 div.sk-toggleable {background-color: white;}#sk-container-id-30 label.sk-toggleable__label {cursor: pointer;display: block;width: 100%;margin-bottom: 0;padding: 0.3em;box-sizing: border-box;text-align: center;}#sk-container-id-30 label.sk-toggleable__label-arrow:before {content: \"▸\";float: left;margin-right: 0.25em;color: #696969;}#sk-container-id-30 label.sk-toggleable__label-arrow:hover:before {color: black;}#sk-container-id-30 div.sk-estimator:hover label.sk-toggleable__label-arrow:before {color: black;}#sk-container-id-30 div.sk-toggleable__content {max-height: 0;max-width: 0;overflow: hidden;text-align: left;background-color: #f0f8ff;}#sk-container-id-30 div.sk-toggleable__content pre {margin: 0.2em;color: black;border-radius: 0.25em;background-color: #f0f8ff;}#sk-container-id-30 input.sk-toggleable__control:checked~div.sk-toggleable__content {max-height: 200px;max-width: 100%;overflow: auto;}#sk-container-id-30 input.sk-toggleable__control:checked~label.sk-toggleable__label-arrow:before {content: \"▾\";}#sk-container-id-30 div.sk-estimator input.sk-toggleable__control:checked~label.sk-toggleable__label {background-color: #d4ebff;}#sk-container-id-30 div.sk-label input.sk-toggleable__control:checked~label.sk-toggleable__label {background-color: #d4ebff;}#sk-container-id-30 input.sk-hidden--visually {border: 0;clip: rect(1px 1px 1px 1px);clip: rect(1px, 1px, 1px, 1px);height: 1px;margin: -1px;overflow: hidden;padding: 0;position: absolute;width: 1px;}#sk-container-id-30 div.sk-estimator {font-family: monospace;background-color: #f0f8ff;border: 1px dotted black;border-radius: 0.25em;box-sizing: border-box;margin-bottom: 0.5em;}#sk-container-id-30 div.sk-estimator:hover {background-color: #d4ebff;}#sk-container-id-30 div.sk-parallel-item::after {content: \"\";width: 100%;border-bottom: 1px solid gray;flex-grow: 1;}#sk-container-id-30 div.sk-label:hover label.sk-toggleable__label {background-color: #d4ebff;}#sk-container-id-30 div.sk-serial::before {content: \"\";position: absolute;border-left: 1px solid gray;box-sizing: border-box;top: 0;bottom: 0;left: 50%;z-index: 0;}#sk-container-id-30 div.sk-serial {display: flex;flex-direction: column;align-items: center;background-color: white;padding-right: 0.2em;padding-left: 0.2em;position: relative;}#sk-container-id-30 div.sk-item {position: relative;z-index: 1;}#sk-container-id-30 div.sk-parallel {display: flex;align-items: stretch;justify-content: center;background-color: white;position: relative;}#sk-container-id-30 div.sk-item::before, #sk-container-id-30 div.sk-parallel-item::before {content: \"\";position: absolute;border-left: 1px solid gray;box-sizing: border-box;top: 0;bottom: 0;left: 50%;z-index: -1;}#sk-container-id-30 div.sk-parallel-item {display: flex;flex-direction: column;z-index: 1;position: relative;background-color: white;}#sk-container-id-30 div.sk-parallel-item:first-child::after {align-self: flex-end;width: 50%;}#sk-container-id-30 div.sk-parallel-item:last-child::after {align-self: flex-start;width: 50%;}#sk-container-id-30 div.sk-parallel-item:only-child::after {width: 0;}#sk-container-id-30 div.sk-dashed-wrapped {border: 1px dashed gray;margin: 0 0.4em 0.5em 0.4em;box-sizing: border-box;padding-bottom: 0.4em;background-color: white;}#sk-container-id-30 div.sk-label label {font-family: monospace;font-weight: bold;display: inline-block;line-height: 1.2em;}#sk-container-id-30 div.sk-label-container {text-align: center;}#sk-container-id-30 div.sk-container {/* jupyter's `normalize.less` sets `[hidden] { display: none; }` but bootstrap.min.css set `[hidden] { display: none !important; }` so we also need the `!important` here to be able to override the default hidden behavior on the sphinx rendered scikit-learn.org. See: https://github.com/scikit-learn/scikit-learn/issues/21755 */display: inline-block !important;position: relative;}#sk-container-id-30 div.sk-text-repr-fallback {display: none;}</style><div id=\"sk-container-id-30\" class=\"sk-top-container\"><div class=\"sk-text-repr-fallback\"><pre>OneHotEncoder(sparse_output=False)</pre><b>In a Jupyter environment, please rerun this cell to show the HTML representation or trust the notebook. <br />On GitHub, the HTML representation is unable to render, please try loading this page with nbviewer.org.</b></div><div class=\"sk-container\" hidden><div class=\"sk-item\"><div class=\"sk-estimator sk-toggleable\"><input class=\"sk-toggleable__control sk-hidden--visually\" id=\"sk-estimator-id-30\" type=\"checkbox\" checked><label for=\"sk-estimator-id-30\" class=\"sk-toggleable__label sk-toggleable__label-arrow\">OneHotEncoder</label><div class=\"sk-toggleable__content\"><pre>OneHotEncoder(sparse_output=False)</pre></div></div></div></div></div>"
      ],
      "text/plain": [
       "OneHotEncoder(sparse_output=False)"
      ]
     },
     "execution_count": 889,
     "metadata": {},
     "output_type": "execute_result"
    }
   ],
   "source": [
    "ohe.fit(df_feat[['fuel']])"
   ]
  },
  {
   "cell_type": "code",
   "execution_count": 890,
   "id": "725a3c50-d1b6-48aa-8c1b-ba6f742afeb2",
   "metadata": {
    "tags": []
   },
   "outputs": [
    {
     "data": {
      "text/plain": [
       "array([[1., 0., 0., 0., 0.],\n",
       "       [0., 0., 1., 0., 0.],\n",
       "       [0., 0., 1., 0., 0.],\n",
       "       ...,\n",
       "       [0., 0., 1., 0., 0.],\n",
       "       [0., 0., 0., 1., 0.],\n",
       "       [0., 0., 1., 0., 0.]])"
      ]
     },
     "execution_count": 890,
     "metadata": {},
     "output_type": "execute_result"
    }
   ],
   "source": [
    "ohe_fuel = ohe.transform(df_feat[['fuel']])\n",
    "ohe_fuel"
   ]
  },
  {
   "cell_type": "code",
   "execution_count": 891,
   "id": "75e6da11-a439-4918-a4d3-caa33879b70f",
   "metadata": {
    "tags": []
   },
   "outputs": [
    {
     "data": {
      "text/plain": [
       "(9052, 5)"
      ]
     },
     "execution_count": 891,
     "metadata": {},
     "output_type": "execute_result"
    }
   ],
   "source": [
    "ohe_fuel.shape"
   ]
  },
  {
   "cell_type": "code",
   "execution_count": 892,
   "id": "bbc86d02-014c-485a-8920-00f09843afa5",
   "metadata": {
    "tags": []
   },
   "outputs": [
    {
     "data": {
      "text/plain": [
       "array([['diesel'],\n",
       "       ['gas'],\n",
       "       ['gas'],\n",
       "       ...,\n",
       "       ['gas'],\n",
       "       ['hybrid'],\n",
       "       ['gas']], dtype=object)"
      ]
     },
     "execution_count": 892,
     "metadata": {},
     "output_type": "execute_result"
    }
   ],
   "source": [
    "ohe.inverse_transform(ohe_fuel)"
   ]
  },
  {
   "cell_type": "code",
   "execution_count": 893,
   "id": "6b6c87cc-acb4-4972-ab12-37658f2cf2c6",
   "metadata": {
    "tags": []
   },
   "outputs": [
    {
     "data": {
      "text/plain": [
       "[array(['diesel', 'electric', 'gas', 'hybrid', 'other'], dtype=object)]"
      ]
     },
     "execution_count": 893,
     "metadata": {},
     "output_type": "execute_result"
    }
   ],
   "source": [
    "ohe.categories_"
   ]
  },
  {
   "cell_type": "code",
   "execution_count": 894,
   "id": "1b0a40a3-967f-412d-92f4-bcf527dee0f2",
   "metadata": {
    "tags": []
   },
   "outputs": [
    {
     "data": {
      "text/plain": [
       "array(['fuel_diesel', 'fuel_electric', 'fuel_gas', 'fuel_hybrid',\n",
       "       'fuel_other'], dtype=object)"
      ]
     },
     "execution_count": 894,
     "metadata": {},
     "output_type": "execute_result"
    }
   ],
   "source": [
    "ohe.get_feature_names_out()"
   ]
  },
  {
   "cell_type": "code",
   "execution_count": 895,
   "id": "503eebc0-ca4e-4fbb-a431-7acdac36d4ab",
   "metadata": {
    "tags": []
   },
   "outputs": [],
   "source": [
    "df_feat[ohe.get_feature_names_out()] = ohe_fuel"
   ]
  },
  {
   "cell_type": "code",
   "execution_count": 896,
   "id": "4cd61491-47d9-4f51-abb2-6773509ed7c5",
   "metadata": {
    "tags": []
   },
   "outputs": [
    {
     "data": {
      "text/html": [
       "<div>\n",
       "<style scoped>\n",
       "    .dataframe tbody tr th:only-of-type {\n",
       "        vertical-align: middle;\n",
       "    }\n",
       "\n",
       "    .dataframe tbody tr th {\n",
       "        vertical-align: top;\n",
       "    }\n",
       "\n",
       "    .dataframe thead th {\n",
       "        text-align: right;\n",
       "    }\n",
       "</style>\n",
       "<table border=\"1\" class=\"dataframe\">\n",
       "  <thead>\n",
       "    <tr style=\"text-align: right;\">\n",
       "      <th></th>\n",
       "      <th>id</th>\n",
       "      <th>url</th>\n",
       "      <th>region</th>\n",
       "      <th>region_url</th>\n",
       "      <th>price</th>\n",
       "      <th>year</th>\n",
       "      <th>manufacturer</th>\n",
       "      <th>model</th>\n",
       "      <th>fuel</th>\n",
       "      <th>odometer</th>\n",
       "      <th>...</th>\n",
       "      <th>region_corrected</th>\n",
       "      <th>short_model</th>\n",
       "      <th>manufacturer_model</th>\n",
       "      <th>desc_len</th>\n",
       "      <th>age_category</th>\n",
       "      <th>fuel_diesel</th>\n",
       "      <th>fuel_electric</th>\n",
       "      <th>fuel_gas</th>\n",
       "      <th>fuel_hybrid</th>\n",
       "      <th>fuel_other</th>\n",
       "    </tr>\n",
       "  </thead>\n",
       "  <tbody>\n",
       "    <tr>\n",
       "      <th>0</th>\n",
       "      <td>7308295377</td>\n",
       "      <td>https://chattanooga.craigslist.org/ctd/d/chatt...</td>\n",
       "      <td>chattanooga</td>\n",
       "      <td>https://chattanooga.craigslist.org</td>\n",
       "      <td>54990</td>\n",
       "      <td>2020</td>\n",
       "      <td>ram</td>\n",
       "      <td>2500 crew cab big horn</td>\n",
       "      <td>diesel</td>\n",
       "      <td>27442</td>\n",
       "      <td>...</td>\n",
       "      <td>chattanooga</td>\n",
       "      <td>2500</td>\n",
       "      <td>ram: 2500</td>\n",
       "      <td>4482</td>\n",
       "      <td>new</td>\n",
       "      <td>1.0</td>\n",
       "      <td>0.0</td>\n",
       "      <td>0.0</td>\n",
       "      <td>0.0</td>\n",
       "      <td>0.0</td>\n",
       "    </tr>\n",
       "    <tr>\n",
       "      <th>2</th>\n",
       "      <td>7313733749</td>\n",
       "      <td>https://reno.craigslist.org/ctd/d/atlanta-2017...</td>\n",
       "      <td>reno / tahoe</td>\n",
       "      <td>https://reno.craigslist.org</td>\n",
       "      <td>35590</td>\n",
       "      <td>2017</td>\n",
       "      <td>volkswagen</td>\n",
       "      <td>golf r hatchback</td>\n",
       "      <td>gas</td>\n",
       "      <td>14048</td>\n",
       "      <td>...</td>\n",
       "      <td>reno</td>\n",
       "      <td>golf</td>\n",
       "      <td>volkswagen: golf</td>\n",
       "      <td>4286</td>\n",
       "      <td>new</td>\n",
       "      <td>0.0</td>\n",
       "      <td>0.0</td>\n",
       "      <td>1.0</td>\n",
       "      <td>0.0</td>\n",
       "      <td>0.0</td>\n",
       "    </tr>\n",
       "    <tr>\n",
       "      <th>3</th>\n",
       "      <td>7308210929</td>\n",
       "      <td>https://fayetteville.craigslist.org/ctd/d/rale...</td>\n",
       "      <td>fayetteville</td>\n",
       "      <td>https://fayetteville.craigslist.org</td>\n",
       "      <td>14500</td>\n",
       "      <td>2013</td>\n",
       "      <td>toyota</td>\n",
       "      <td>rav4</td>\n",
       "      <td>gas</td>\n",
       "      <td>117291</td>\n",
       "      <td>...</td>\n",
       "      <td>fayetteville</td>\n",
       "      <td>rav4</td>\n",
       "      <td>toyota: rav4</td>\n",
       "      <td>3241</td>\n",
       "      <td>average</td>\n",
       "      <td>0.0</td>\n",
       "      <td>0.0</td>\n",
       "      <td>1.0</td>\n",
       "      <td>0.0</td>\n",
       "      <td>0.0</td>\n",
       "    </tr>\n",
       "    <tr>\n",
       "      <th>5</th>\n",
       "      <td>7303797340</td>\n",
       "      <td>https://knoxville.craigslist.org/ctd/d/knoxvil...</td>\n",
       "      <td>knoxville</td>\n",
       "      <td>https://knoxville.craigslist.org</td>\n",
       "      <td>14590</td>\n",
       "      <td>2012</td>\n",
       "      <td>bmw</td>\n",
       "      <td>1 series 128i coupe 2d</td>\n",
       "      <td>other</td>\n",
       "      <td>80465</td>\n",
       "      <td>...</td>\n",
       "      <td>knoxville</td>\n",
       "      <td>1</td>\n",
       "      <td>bmw: 1</td>\n",
       "      <td>4851</td>\n",
       "      <td>average</td>\n",
       "      <td>0.0</td>\n",
       "      <td>0.0</td>\n",
       "      <td>0.0</td>\n",
       "      <td>0.0</td>\n",
       "      <td>1.0</td>\n",
       "    </tr>\n",
       "    <tr>\n",
       "      <th>6</th>\n",
       "      <td>7316793777</td>\n",
       "      <td>https://desmoines.craigslist.org/ctd/d/martens...</td>\n",
       "      <td>des moines</td>\n",
       "      <td>https://desmoines.craigslist.org</td>\n",
       "      <td>6700</td>\n",
       "      <td>2015</td>\n",
       "      <td>ford</td>\n",
       "      <td>fusion se</td>\n",
       "      <td>gas</td>\n",
       "      <td>149000</td>\n",
       "      <td>...</td>\n",
       "      <td>desmoines</td>\n",
       "      <td>fusion</td>\n",
       "      <td>ford: fusion</td>\n",
       "      <td>344</td>\n",
       "      <td>new</td>\n",
       "      <td>0.0</td>\n",
       "      <td>0.0</td>\n",
       "      <td>1.0</td>\n",
       "      <td>0.0</td>\n",
       "      <td>0.0</td>\n",
       "    </tr>\n",
       "  </tbody>\n",
       "</table>\n",
       "<p>5 rows × 31 columns</p>\n",
       "</div>"
      ],
      "text/plain": [
       "           id                                                url  \\\n",
       "0  7308295377  https://chattanooga.craigslist.org/ctd/d/chatt...   \n",
       "2  7313733749  https://reno.craigslist.org/ctd/d/atlanta-2017...   \n",
       "3  7308210929  https://fayetteville.craigslist.org/ctd/d/rale...   \n",
       "5  7303797340  https://knoxville.craigslist.org/ctd/d/knoxvil...   \n",
       "6  7316793777  https://desmoines.craigslist.org/ctd/d/martens...   \n",
       "\n",
       "         region                           region_url  price  year  \\\n",
       "0   chattanooga   https://chattanooga.craigslist.org  54990  2020   \n",
       "2  reno / tahoe          https://reno.craigslist.org  35590  2017   \n",
       "3  fayetteville  https://fayetteville.craigslist.org  14500  2013   \n",
       "5     knoxville     https://knoxville.craigslist.org  14590  2012   \n",
       "6    des moines     https://desmoines.craigslist.org   6700  2015   \n",
       "\n",
       "  manufacturer                   model    fuel  odometer  ...  \\\n",
       "0          ram  2500 crew cab big horn  diesel     27442  ...   \n",
       "2   volkswagen        golf r hatchback     gas     14048  ...   \n",
       "3       toyota                    rav4     gas    117291  ...   \n",
       "5          bmw  1 series 128i coupe 2d   other     80465  ...   \n",
       "6         ford               fusion se     gas    149000  ...   \n",
       "\n",
       "  region_corrected short_model manufacturer_model desc_len age_category  \\\n",
       "0      chattanooga        2500          ram: 2500     4482          new   \n",
       "2             reno        golf   volkswagen: golf     4286          new   \n",
       "3     fayetteville        rav4       toyota: rav4     3241      average   \n",
       "5        knoxville           1             bmw: 1     4851      average   \n",
       "6        desmoines      fusion       ford: fusion      344          new   \n",
       "\n",
       "   fuel_diesel  fuel_electric fuel_gas fuel_hybrid fuel_other  \n",
       "0          1.0            0.0      0.0         0.0        0.0  \n",
       "2          0.0            0.0      1.0         0.0        0.0  \n",
       "3          0.0            0.0      1.0         0.0        0.0  \n",
       "5          0.0            0.0      0.0         0.0        1.0  \n",
       "6          0.0            0.0      1.0         0.0        0.0  \n",
       "\n",
       "[5 rows x 31 columns]"
      ]
     },
     "execution_count": 896,
     "metadata": {},
     "output_type": "execute_result"
    }
   ],
   "source": [
    "df_feat.head()"
   ]
  },
  {
   "cell_type": "code",
   "execution_count": 897,
   "id": "337230bd-50f7-42ee-9e36-89e00092dfaa",
   "metadata": {
    "tags": []
   },
   "outputs": [
    {
     "data": {
      "text/plain": [
       "403"
      ]
     },
     "execution_count": 897,
     "metadata": {},
     "output_type": "execute_result"
    }
   ],
   "source": [
    "df_feat.region_new.nunique()"
   ]
  },
  {
   "cell_type": "code",
   "execution_count": 898,
   "id": "dc9e760a-d342-4d51-97fd-ed01fd1b112b",
   "metadata": {
    "tags": []
   },
   "outputs": [
    {
     "data": {
      "text/plain": [
       "387"
      ]
     },
     "execution_count": 898,
     "metadata": {},
     "output_type": "execute_result"
    }
   ],
   "source": [
    "df_feat.region_corrected.nunique()"
   ]
  },
  {
   "cell_type": "markdown",
   "id": "160ada4c-984e-4a8c-a1c3-25ae6c9c4001",
   "metadata": {},
   "source": [
    "Поля region и region_url по сути своей означают одно и тоже - регион, где продается автомобиль. Но поскольку нам не удалось установить четкого соответствия между названием региона и полем url, добавим оба этих поля в виде ohe-hot матрицы."
   ]
  },
  {
   "cell_type": "code",
   "execution_count": 900,
   "id": "871adfa6-f475-4762-935c-797c962b3180",
   "metadata": {
    "tags": []
   },
   "outputs": [
    {
     "data": {
      "text/html": [
       "<style>#sk-container-id-31 {color: black;}#sk-container-id-31 pre{padding: 0;}#sk-container-id-31 div.sk-toggleable {background-color: white;}#sk-container-id-31 label.sk-toggleable__label {cursor: pointer;display: block;width: 100%;margin-bottom: 0;padding: 0.3em;box-sizing: border-box;text-align: center;}#sk-container-id-31 label.sk-toggleable__label-arrow:before {content: \"▸\";float: left;margin-right: 0.25em;color: #696969;}#sk-container-id-31 label.sk-toggleable__label-arrow:hover:before {color: black;}#sk-container-id-31 div.sk-estimator:hover label.sk-toggleable__label-arrow:before {color: black;}#sk-container-id-31 div.sk-toggleable__content {max-height: 0;max-width: 0;overflow: hidden;text-align: left;background-color: #f0f8ff;}#sk-container-id-31 div.sk-toggleable__content pre {margin: 0.2em;color: black;border-radius: 0.25em;background-color: #f0f8ff;}#sk-container-id-31 input.sk-toggleable__control:checked~div.sk-toggleable__content {max-height: 200px;max-width: 100%;overflow: auto;}#sk-container-id-31 input.sk-toggleable__control:checked~label.sk-toggleable__label-arrow:before {content: \"▾\";}#sk-container-id-31 div.sk-estimator input.sk-toggleable__control:checked~label.sk-toggleable__label {background-color: #d4ebff;}#sk-container-id-31 div.sk-label input.sk-toggleable__control:checked~label.sk-toggleable__label {background-color: #d4ebff;}#sk-container-id-31 input.sk-hidden--visually {border: 0;clip: rect(1px 1px 1px 1px);clip: rect(1px, 1px, 1px, 1px);height: 1px;margin: -1px;overflow: hidden;padding: 0;position: absolute;width: 1px;}#sk-container-id-31 div.sk-estimator {font-family: monospace;background-color: #f0f8ff;border: 1px dotted black;border-radius: 0.25em;box-sizing: border-box;margin-bottom: 0.5em;}#sk-container-id-31 div.sk-estimator:hover {background-color: #d4ebff;}#sk-container-id-31 div.sk-parallel-item::after {content: \"\";width: 100%;border-bottom: 1px solid gray;flex-grow: 1;}#sk-container-id-31 div.sk-label:hover label.sk-toggleable__label {background-color: #d4ebff;}#sk-container-id-31 div.sk-serial::before {content: \"\";position: absolute;border-left: 1px solid gray;box-sizing: border-box;top: 0;bottom: 0;left: 50%;z-index: 0;}#sk-container-id-31 div.sk-serial {display: flex;flex-direction: column;align-items: center;background-color: white;padding-right: 0.2em;padding-left: 0.2em;position: relative;}#sk-container-id-31 div.sk-item {position: relative;z-index: 1;}#sk-container-id-31 div.sk-parallel {display: flex;align-items: stretch;justify-content: center;background-color: white;position: relative;}#sk-container-id-31 div.sk-item::before, #sk-container-id-31 div.sk-parallel-item::before {content: \"\";position: absolute;border-left: 1px solid gray;box-sizing: border-box;top: 0;bottom: 0;left: 50%;z-index: -1;}#sk-container-id-31 div.sk-parallel-item {display: flex;flex-direction: column;z-index: 1;position: relative;background-color: white;}#sk-container-id-31 div.sk-parallel-item:first-child::after {align-self: flex-end;width: 50%;}#sk-container-id-31 div.sk-parallel-item:last-child::after {align-self: flex-start;width: 50%;}#sk-container-id-31 div.sk-parallel-item:only-child::after {width: 0;}#sk-container-id-31 div.sk-dashed-wrapped {border: 1px dashed gray;margin: 0 0.4em 0.5em 0.4em;box-sizing: border-box;padding-bottom: 0.4em;background-color: white;}#sk-container-id-31 div.sk-label label {font-family: monospace;font-weight: bold;display: inline-block;line-height: 1.2em;}#sk-container-id-31 div.sk-label-container {text-align: center;}#sk-container-id-31 div.sk-container {/* jupyter's `normalize.less` sets `[hidden] { display: none; }` but bootstrap.min.css set `[hidden] { display: none !important; }` so we also need the `!important` here to be able to override the default hidden behavior on the sphinx rendered scikit-learn.org. See: https://github.com/scikit-learn/scikit-learn/issues/21755 */display: inline-block !important;position: relative;}#sk-container-id-31 div.sk-text-repr-fallback {display: none;}</style><div id=\"sk-container-id-31\" class=\"sk-top-container\"><div class=\"sk-text-repr-fallback\"><pre>OneHotEncoder(sparse_output=False)</pre><b>In a Jupyter environment, please rerun this cell to show the HTML representation or trust the notebook. <br />On GitHub, the HTML representation is unable to render, please try loading this page with nbviewer.org.</b></div><div class=\"sk-container\" hidden><div class=\"sk-item\"><div class=\"sk-estimator sk-toggleable\"><input class=\"sk-toggleable__control sk-hidden--visually\" id=\"sk-estimator-id-31\" type=\"checkbox\" checked><label for=\"sk-estimator-id-31\" class=\"sk-toggleable__label sk-toggleable__label-arrow\">OneHotEncoder</label><div class=\"sk-toggleable__content\"><pre>OneHotEncoder(sparse_output=False)</pre></div></div></div></div></div>"
      ],
      "text/plain": [
       "OneHotEncoder(sparse_output=False)"
      ]
     },
     "execution_count": 900,
     "metadata": {},
     "output_type": "execute_result"
    }
   ],
   "source": [
    "ohe.fit(df_feat[['region_new']])"
   ]
  },
  {
   "cell_type": "code",
   "execution_count": 901,
   "id": "f8bc6479-faef-4457-b794-7010de577ccc",
   "metadata": {
    "tags": []
   },
   "outputs": [
    {
     "data": {
      "text/plain": [
       "array([[0., 0., 0., ..., 0., 0., 0.],\n",
       "       [0., 0., 0., ..., 0., 0., 0.],\n",
       "       [0., 0., 0., ..., 0., 0., 0.],\n",
       "       ...,\n",
       "       [0., 0., 0., ..., 0., 0., 0.],\n",
       "       [0., 0., 0., ..., 0., 0., 0.],\n",
       "       [0., 0., 0., ..., 0., 0., 0.]])"
      ]
     },
     "execution_count": 901,
     "metadata": {},
     "output_type": "execute_result"
    }
   ],
   "source": [
    "ohe_region_new = ohe.transform(df_feat[['region_new']])\n",
    "ohe_region_new"
   ]
  },
  {
   "cell_type": "code",
   "execution_count": 902,
   "id": "dc0e96ce-8d6b-457d-bcf8-4ca64eaaeb89",
   "metadata": {
    "tags": []
   },
   "outputs": [
    {
     "data": {
      "text/plain": [
       "(9052, 403)"
      ]
     },
     "execution_count": 902,
     "metadata": {},
     "output_type": "execute_result"
    }
   ],
   "source": [
    "ohe_region_new.shape"
   ]
  },
  {
   "cell_type": "code",
   "execution_count": 904,
   "id": "86e23153-287b-4039-880e-45d66e40f371",
   "metadata": {
    "tags": []
   },
   "outputs": [],
   "source": [
    "df_feat[ohe.get_feature_names_out()] = ohe_region_new"
   ]
  },
  {
   "cell_type": "code",
   "execution_count": 905,
   "id": "d149a635-6c5f-4faa-b3f8-f99a0bfb00e3",
   "metadata": {
    "tags": []
   },
   "outputs": [
    {
     "data": {
      "text/plain": [
       "(9052, 434)"
      ]
     },
     "execution_count": 905,
     "metadata": {},
     "output_type": "execute_result"
    }
   ],
   "source": [
    "df_feat.shape"
   ]
  },
  {
   "cell_type": "code",
   "execution_count": 906,
   "id": "8ef58912-06e7-4af7-80cd-18cca6081ebb",
   "metadata": {
    "tags": []
   },
   "outputs": [
    {
     "data": {
      "text/html": [
       "<div>\n",
       "<style scoped>\n",
       "    .dataframe tbody tr th:only-of-type {\n",
       "        vertical-align: middle;\n",
       "    }\n",
       "\n",
       "    .dataframe tbody tr th {\n",
       "        vertical-align: top;\n",
       "    }\n",
       "\n",
       "    .dataframe thead th {\n",
       "        text-align: right;\n",
       "    }\n",
       "</style>\n",
       "<table border=\"1\" class=\"dataframe\">\n",
       "  <thead>\n",
       "    <tr style=\"text-align: right;\">\n",
       "      <th></th>\n",
       "      <th>id</th>\n",
       "      <th>url</th>\n",
       "      <th>region</th>\n",
       "      <th>region_url</th>\n",
       "      <th>price</th>\n",
       "      <th>year</th>\n",
       "      <th>manufacturer</th>\n",
       "      <th>model</th>\n",
       "      <th>fuel</th>\n",
       "      <th>odometer</th>\n",
       "      <th>...</th>\n",
       "      <th>region_new_winchester</th>\n",
       "      <th>region_new_winstonsalem</th>\n",
       "      <th>region_new_worcester</th>\n",
       "      <th>region_new_wyoming</th>\n",
       "      <th>region_new_yakima</th>\n",
       "      <th>region_new_york</th>\n",
       "      <th>region_new_youngstown</th>\n",
       "      <th>region_new_yubasutter</th>\n",
       "      <th>region_new_yuma</th>\n",
       "      <th>region_new_zanesville</th>\n",
       "    </tr>\n",
       "  </thead>\n",
       "  <tbody>\n",
       "    <tr>\n",
       "      <th>0</th>\n",
       "      <td>7308295377</td>\n",
       "      <td>https://chattanooga.craigslist.org/ctd/d/chatt...</td>\n",
       "      <td>chattanooga</td>\n",
       "      <td>https://chattanooga.craigslist.org</td>\n",
       "      <td>54990</td>\n",
       "      <td>2020</td>\n",
       "      <td>ram</td>\n",
       "      <td>2500 crew cab big horn</td>\n",
       "      <td>diesel</td>\n",
       "      <td>27442</td>\n",
       "      <td>...</td>\n",
       "      <td>0.0</td>\n",
       "      <td>0.0</td>\n",
       "      <td>0.0</td>\n",
       "      <td>0.0</td>\n",
       "      <td>0.0</td>\n",
       "      <td>0.0</td>\n",
       "      <td>0.0</td>\n",
       "      <td>0.0</td>\n",
       "      <td>0.0</td>\n",
       "      <td>0.0</td>\n",
       "    </tr>\n",
       "    <tr>\n",
       "      <th>2</th>\n",
       "      <td>7313733749</td>\n",
       "      <td>https://reno.craigslist.org/ctd/d/atlanta-2017...</td>\n",
       "      <td>reno / tahoe</td>\n",
       "      <td>https://reno.craigslist.org</td>\n",
       "      <td>35590</td>\n",
       "      <td>2017</td>\n",
       "      <td>volkswagen</td>\n",
       "      <td>golf r hatchback</td>\n",
       "      <td>gas</td>\n",
       "      <td>14048</td>\n",
       "      <td>...</td>\n",
       "      <td>0.0</td>\n",
       "      <td>0.0</td>\n",
       "      <td>0.0</td>\n",
       "      <td>0.0</td>\n",
       "      <td>0.0</td>\n",
       "      <td>0.0</td>\n",
       "      <td>0.0</td>\n",
       "      <td>0.0</td>\n",
       "      <td>0.0</td>\n",
       "      <td>0.0</td>\n",
       "    </tr>\n",
       "    <tr>\n",
       "      <th>3</th>\n",
       "      <td>7308210929</td>\n",
       "      <td>https://fayetteville.craigslist.org/ctd/d/rale...</td>\n",
       "      <td>fayetteville</td>\n",
       "      <td>https://fayetteville.craigslist.org</td>\n",
       "      <td>14500</td>\n",
       "      <td>2013</td>\n",
       "      <td>toyota</td>\n",
       "      <td>rav4</td>\n",
       "      <td>gas</td>\n",
       "      <td>117291</td>\n",
       "      <td>...</td>\n",
       "      <td>0.0</td>\n",
       "      <td>0.0</td>\n",
       "      <td>0.0</td>\n",
       "      <td>0.0</td>\n",
       "      <td>0.0</td>\n",
       "      <td>0.0</td>\n",
       "      <td>0.0</td>\n",
       "      <td>0.0</td>\n",
       "      <td>0.0</td>\n",
       "      <td>0.0</td>\n",
       "    </tr>\n",
       "    <tr>\n",
       "      <th>5</th>\n",
       "      <td>7303797340</td>\n",
       "      <td>https://knoxville.craigslist.org/ctd/d/knoxvil...</td>\n",
       "      <td>knoxville</td>\n",
       "      <td>https://knoxville.craigslist.org</td>\n",
       "      <td>14590</td>\n",
       "      <td>2012</td>\n",
       "      <td>bmw</td>\n",
       "      <td>1 series 128i coupe 2d</td>\n",
       "      <td>other</td>\n",
       "      <td>80465</td>\n",
       "      <td>...</td>\n",
       "      <td>0.0</td>\n",
       "      <td>0.0</td>\n",
       "      <td>0.0</td>\n",
       "      <td>0.0</td>\n",
       "      <td>0.0</td>\n",
       "      <td>0.0</td>\n",
       "      <td>0.0</td>\n",
       "      <td>0.0</td>\n",
       "      <td>0.0</td>\n",
       "      <td>0.0</td>\n",
       "    </tr>\n",
       "    <tr>\n",
       "      <th>6</th>\n",
       "      <td>7316793777</td>\n",
       "      <td>https://desmoines.craigslist.org/ctd/d/martens...</td>\n",
       "      <td>des moines</td>\n",
       "      <td>https://desmoines.craigslist.org</td>\n",
       "      <td>6700</td>\n",
       "      <td>2015</td>\n",
       "      <td>ford</td>\n",
       "      <td>fusion se</td>\n",
       "      <td>gas</td>\n",
       "      <td>149000</td>\n",
       "      <td>...</td>\n",
       "      <td>0.0</td>\n",
       "      <td>0.0</td>\n",
       "      <td>0.0</td>\n",
       "      <td>0.0</td>\n",
       "      <td>0.0</td>\n",
       "      <td>0.0</td>\n",
       "      <td>0.0</td>\n",
       "      <td>0.0</td>\n",
       "      <td>0.0</td>\n",
       "      <td>0.0</td>\n",
       "    </tr>\n",
       "  </tbody>\n",
       "</table>\n",
       "<p>5 rows × 434 columns</p>\n",
       "</div>"
      ],
      "text/plain": [
       "           id                                                url  \\\n",
       "0  7308295377  https://chattanooga.craigslist.org/ctd/d/chatt...   \n",
       "2  7313733749  https://reno.craigslist.org/ctd/d/atlanta-2017...   \n",
       "3  7308210929  https://fayetteville.craigslist.org/ctd/d/rale...   \n",
       "5  7303797340  https://knoxville.craigslist.org/ctd/d/knoxvil...   \n",
       "6  7316793777  https://desmoines.craigslist.org/ctd/d/martens...   \n",
       "\n",
       "         region                           region_url  price  year  \\\n",
       "0   chattanooga   https://chattanooga.craigslist.org  54990  2020   \n",
       "2  reno / tahoe          https://reno.craigslist.org  35590  2017   \n",
       "3  fayetteville  https://fayetteville.craigslist.org  14500  2013   \n",
       "5     knoxville     https://knoxville.craigslist.org  14590  2012   \n",
       "6    des moines     https://desmoines.craigslist.org   6700  2015   \n",
       "\n",
       "  manufacturer                   model    fuel  odometer  ...  \\\n",
       "0          ram  2500 crew cab big horn  diesel     27442  ...   \n",
       "2   volkswagen        golf r hatchback     gas     14048  ...   \n",
       "3       toyota                    rav4     gas    117291  ...   \n",
       "5          bmw  1 series 128i coupe 2d   other     80465  ...   \n",
       "6         ford               fusion se     gas    149000  ...   \n",
       "\n",
       "  region_new_winchester region_new_winstonsalem region_new_worcester  \\\n",
       "0                   0.0                     0.0                  0.0   \n",
       "2                   0.0                     0.0                  0.0   \n",
       "3                   0.0                     0.0                  0.0   \n",
       "5                   0.0                     0.0                  0.0   \n",
       "6                   0.0                     0.0                  0.0   \n",
       "\n",
       "  region_new_wyoming region_new_yakima  region_new_york  \\\n",
       "0                0.0               0.0              0.0   \n",
       "2                0.0               0.0              0.0   \n",
       "3                0.0               0.0              0.0   \n",
       "5                0.0               0.0              0.0   \n",
       "6                0.0               0.0              0.0   \n",
       "\n",
       "   region_new_youngstown region_new_yubasutter region_new_yuma  \\\n",
       "0                    0.0                   0.0             0.0   \n",
       "2                    0.0                   0.0             0.0   \n",
       "3                    0.0                   0.0             0.0   \n",
       "5                    0.0                   0.0             0.0   \n",
       "6                    0.0                   0.0             0.0   \n",
       "\n",
       "  region_new_zanesville  \n",
       "0                   0.0  \n",
       "2                   0.0  \n",
       "3                   0.0  \n",
       "5                   0.0  \n",
       "6                   0.0  \n",
       "\n",
       "[5 rows x 434 columns]"
      ]
     },
     "execution_count": 906,
     "metadata": {},
     "output_type": "execute_result"
    }
   ],
   "source": [
    "df_feat.head()"
   ]
  },
  {
   "cell_type": "code",
   "execution_count": 907,
   "id": "36b4beaa-0633-4650-8e1e-33effa99865d",
   "metadata": {
    "tags": []
   },
   "outputs": [
    {
     "data": {
      "text/html": [
       "<style>#sk-container-id-32 {color: black;}#sk-container-id-32 pre{padding: 0;}#sk-container-id-32 div.sk-toggleable {background-color: white;}#sk-container-id-32 label.sk-toggleable__label {cursor: pointer;display: block;width: 100%;margin-bottom: 0;padding: 0.3em;box-sizing: border-box;text-align: center;}#sk-container-id-32 label.sk-toggleable__label-arrow:before {content: \"▸\";float: left;margin-right: 0.25em;color: #696969;}#sk-container-id-32 label.sk-toggleable__label-arrow:hover:before {color: black;}#sk-container-id-32 div.sk-estimator:hover label.sk-toggleable__label-arrow:before {color: black;}#sk-container-id-32 div.sk-toggleable__content {max-height: 0;max-width: 0;overflow: hidden;text-align: left;background-color: #f0f8ff;}#sk-container-id-32 div.sk-toggleable__content pre {margin: 0.2em;color: black;border-radius: 0.25em;background-color: #f0f8ff;}#sk-container-id-32 input.sk-toggleable__control:checked~div.sk-toggleable__content {max-height: 200px;max-width: 100%;overflow: auto;}#sk-container-id-32 input.sk-toggleable__control:checked~label.sk-toggleable__label-arrow:before {content: \"▾\";}#sk-container-id-32 div.sk-estimator input.sk-toggleable__control:checked~label.sk-toggleable__label {background-color: #d4ebff;}#sk-container-id-32 div.sk-label input.sk-toggleable__control:checked~label.sk-toggleable__label {background-color: #d4ebff;}#sk-container-id-32 input.sk-hidden--visually {border: 0;clip: rect(1px 1px 1px 1px);clip: rect(1px, 1px, 1px, 1px);height: 1px;margin: -1px;overflow: hidden;padding: 0;position: absolute;width: 1px;}#sk-container-id-32 div.sk-estimator {font-family: monospace;background-color: #f0f8ff;border: 1px dotted black;border-radius: 0.25em;box-sizing: border-box;margin-bottom: 0.5em;}#sk-container-id-32 div.sk-estimator:hover {background-color: #d4ebff;}#sk-container-id-32 div.sk-parallel-item::after {content: \"\";width: 100%;border-bottom: 1px solid gray;flex-grow: 1;}#sk-container-id-32 div.sk-label:hover label.sk-toggleable__label {background-color: #d4ebff;}#sk-container-id-32 div.sk-serial::before {content: \"\";position: absolute;border-left: 1px solid gray;box-sizing: border-box;top: 0;bottom: 0;left: 50%;z-index: 0;}#sk-container-id-32 div.sk-serial {display: flex;flex-direction: column;align-items: center;background-color: white;padding-right: 0.2em;padding-left: 0.2em;position: relative;}#sk-container-id-32 div.sk-item {position: relative;z-index: 1;}#sk-container-id-32 div.sk-parallel {display: flex;align-items: stretch;justify-content: center;background-color: white;position: relative;}#sk-container-id-32 div.sk-item::before, #sk-container-id-32 div.sk-parallel-item::before {content: \"\";position: absolute;border-left: 1px solid gray;box-sizing: border-box;top: 0;bottom: 0;left: 50%;z-index: -1;}#sk-container-id-32 div.sk-parallel-item {display: flex;flex-direction: column;z-index: 1;position: relative;background-color: white;}#sk-container-id-32 div.sk-parallel-item:first-child::after {align-self: flex-end;width: 50%;}#sk-container-id-32 div.sk-parallel-item:last-child::after {align-self: flex-start;width: 50%;}#sk-container-id-32 div.sk-parallel-item:only-child::after {width: 0;}#sk-container-id-32 div.sk-dashed-wrapped {border: 1px dashed gray;margin: 0 0.4em 0.5em 0.4em;box-sizing: border-box;padding-bottom: 0.4em;background-color: white;}#sk-container-id-32 div.sk-label label {font-family: monospace;font-weight: bold;display: inline-block;line-height: 1.2em;}#sk-container-id-32 div.sk-label-container {text-align: center;}#sk-container-id-32 div.sk-container {/* jupyter's `normalize.less` sets `[hidden] { display: none; }` but bootstrap.min.css set `[hidden] { display: none !important; }` so we also need the `!important` here to be able to override the default hidden behavior on the sphinx rendered scikit-learn.org. See: https://github.com/scikit-learn/scikit-learn/issues/21755 */display: inline-block !important;position: relative;}#sk-container-id-32 div.sk-text-repr-fallback {display: none;}</style><div id=\"sk-container-id-32\" class=\"sk-top-container\"><div class=\"sk-text-repr-fallback\"><pre>OneHotEncoder(sparse_output=False)</pre><b>In a Jupyter environment, please rerun this cell to show the HTML representation or trust the notebook. <br />On GitHub, the HTML representation is unable to render, please try loading this page with nbviewer.org.</b></div><div class=\"sk-container\" hidden><div class=\"sk-item\"><div class=\"sk-estimator sk-toggleable\"><input class=\"sk-toggleable__control sk-hidden--visually\" id=\"sk-estimator-id-32\" type=\"checkbox\" checked><label for=\"sk-estimator-id-32\" class=\"sk-toggleable__label sk-toggleable__label-arrow\">OneHotEncoder</label><div class=\"sk-toggleable__content\"><pre>OneHotEncoder(sparse_output=False)</pre></div></div></div></div></div>"
      ],
      "text/plain": [
       "OneHotEncoder(sparse_output=False)"
      ]
     },
     "execution_count": 907,
     "metadata": {},
     "output_type": "execute_result"
    }
   ],
   "source": [
    "ohe.fit(df_feat[['region_corrected']])"
   ]
  },
  {
   "cell_type": "code",
   "execution_count": 908,
   "id": "a83a1676-b984-4b41-a114-f94a1ce3f969",
   "metadata": {
    "tags": []
   },
   "outputs": [],
   "source": [
    "ohe_region_corrected = ohe.transform(df_feat[['region_corrected']])"
   ]
  },
  {
   "cell_type": "code",
   "execution_count": 909,
   "id": "de41ffa3-ff6f-40ad-b4fc-5d62a4b54b9e",
   "metadata": {
    "tags": []
   },
   "outputs": [
    {
     "data": {
      "text/plain": [
       "array([[0., 0., 0., ..., 0., 0., 0.],\n",
       "       [0., 0., 0., ..., 0., 0., 0.],\n",
       "       [0., 0., 0., ..., 0., 0., 0.],\n",
       "       ...,\n",
       "       [0., 0., 0., ..., 0., 0., 0.],\n",
       "       [0., 0., 0., ..., 0., 0., 0.],\n",
       "       [0., 0., 0., ..., 0., 0., 0.]])"
      ]
     },
     "execution_count": 909,
     "metadata": {},
     "output_type": "execute_result"
    }
   ],
   "source": [
    "ohe_region_corrected"
   ]
  },
  {
   "cell_type": "code",
   "execution_count": 910,
   "id": "52dd370e-1c2f-4757-84fb-a96f63ce6447",
   "metadata": {
    "tags": []
   },
   "outputs": [
    {
     "data": {
      "text/plain": [
       "(9052, 387)"
      ]
     },
     "execution_count": 910,
     "metadata": {},
     "output_type": "execute_result"
    }
   ],
   "source": [
    "ohe_region_corrected.shape"
   ]
  },
  {
   "cell_type": "code",
   "execution_count": 912,
   "id": "2c915019-e7f6-4f52-aba8-4e6b3917591d",
   "metadata": {
    "tags": []
   },
   "outputs": [],
   "source": [
    "df_feat[ohe.get_feature_names_out()] = ohe_region_corrected"
   ]
  },
  {
   "cell_type": "code",
   "execution_count": 682,
   "id": "6116d699-bcbc-45e3-b261-02149fdd8901",
   "metadata": {
    "tags": []
   },
   "outputs": [
    {
     "data": {
      "text/html": [
       "<div>\n",
       "<style scoped>\n",
       "    .dataframe tbody tr th:only-of-type {\n",
       "        vertical-align: middle;\n",
       "    }\n",
       "\n",
       "    .dataframe tbody tr th {\n",
       "        vertical-align: top;\n",
       "    }\n",
       "\n",
       "    .dataframe thead th {\n",
       "        text-align: right;\n",
       "    }\n",
       "</style>\n",
       "<table border=\"1\" class=\"dataframe\">\n",
       "  <thead>\n",
       "    <tr style=\"text-align: right;\">\n",
       "      <th></th>\n",
       "      <th>id</th>\n",
       "      <th>url</th>\n",
       "      <th>region</th>\n",
       "      <th>region_url</th>\n",
       "      <th>price</th>\n",
       "      <th>year</th>\n",
       "      <th>manufacturer</th>\n",
       "      <th>model</th>\n",
       "      <th>fuel</th>\n",
       "      <th>odometer</th>\n",
       "      <th>...</th>\n",
       "      <th>region_corrected_winchester</th>\n",
       "      <th>region_corrected_winston</th>\n",
       "      <th>region_corrected_worcester</th>\n",
       "      <th>region_corrected_wyoming</th>\n",
       "      <th>region_corrected_yakima</th>\n",
       "      <th>region_corrected_york</th>\n",
       "      <th>region_corrected_youngstown</th>\n",
       "      <th>region_corrected_yuba</th>\n",
       "      <th>region_corrected_yuma</th>\n",
       "      <th>region_corrected_zanesville</th>\n",
       "    </tr>\n",
       "  </thead>\n",
       "  <tbody>\n",
       "    <tr>\n",
       "      <th>0</th>\n",
       "      <td>7308295377</td>\n",
       "      <td>https://chattanooga.craigslist.org/ctd/d/chatt...</td>\n",
       "      <td>chattanooga</td>\n",
       "      <td>https://chattanooga.craigslist.org</td>\n",
       "      <td>54990</td>\n",
       "      <td>2020</td>\n",
       "      <td>ram</td>\n",
       "      <td>2500 crew cab big horn</td>\n",
       "      <td>diesel</td>\n",
       "      <td>27442</td>\n",
       "      <td>...</td>\n",
       "      <td>0.0</td>\n",
       "      <td>0.0</td>\n",
       "      <td>0.0</td>\n",
       "      <td>0.0</td>\n",
       "      <td>0.0</td>\n",
       "      <td>0.0</td>\n",
       "      <td>0.0</td>\n",
       "      <td>0.0</td>\n",
       "      <td>0.0</td>\n",
       "      <td>0.0</td>\n",
       "    </tr>\n",
       "    <tr>\n",
       "      <th>2</th>\n",
       "      <td>7313733749</td>\n",
       "      <td>https://reno.craigslist.org/ctd/d/atlanta-2017...</td>\n",
       "      <td>reno / tahoe</td>\n",
       "      <td>https://reno.craigslist.org</td>\n",
       "      <td>35590</td>\n",
       "      <td>2017</td>\n",
       "      <td>volkswagen</td>\n",
       "      <td>golf r hatchback</td>\n",
       "      <td>gas</td>\n",
       "      <td>14048</td>\n",
       "      <td>...</td>\n",
       "      <td>0.0</td>\n",
       "      <td>0.0</td>\n",
       "      <td>0.0</td>\n",
       "      <td>0.0</td>\n",
       "      <td>0.0</td>\n",
       "      <td>0.0</td>\n",
       "      <td>0.0</td>\n",
       "      <td>0.0</td>\n",
       "      <td>0.0</td>\n",
       "      <td>0.0</td>\n",
       "    </tr>\n",
       "    <tr>\n",
       "      <th>3</th>\n",
       "      <td>7308210929</td>\n",
       "      <td>https://fayetteville.craigslist.org/ctd/d/rale...</td>\n",
       "      <td>fayetteville</td>\n",
       "      <td>https://fayetteville.craigslist.org</td>\n",
       "      <td>14500</td>\n",
       "      <td>2013</td>\n",
       "      <td>toyota</td>\n",
       "      <td>rav4</td>\n",
       "      <td>gas</td>\n",
       "      <td>117291</td>\n",
       "      <td>...</td>\n",
       "      <td>0.0</td>\n",
       "      <td>0.0</td>\n",
       "      <td>0.0</td>\n",
       "      <td>0.0</td>\n",
       "      <td>0.0</td>\n",
       "      <td>0.0</td>\n",
       "      <td>0.0</td>\n",
       "      <td>0.0</td>\n",
       "      <td>0.0</td>\n",
       "      <td>0.0</td>\n",
       "    </tr>\n",
       "    <tr>\n",
       "      <th>5</th>\n",
       "      <td>7303797340</td>\n",
       "      <td>https://knoxville.craigslist.org/ctd/d/knoxvil...</td>\n",
       "      <td>knoxville</td>\n",
       "      <td>https://knoxville.craigslist.org</td>\n",
       "      <td>14590</td>\n",
       "      <td>2012</td>\n",
       "      <td>bmw</td>\n",
       "      <td>1 series 128i coupe 2d</td>\n",
       "      <td>other</td>\n",
       "      <td>80465</td>\n",
       "      <td>...</td>\n",
       "      <td>0.0</td>\n",
       "      <td>0.0</td>\n",
       "      <td>0.0</td>\n",
       "      <td>0.0</td>\n",
       "      <td>0.0</td>\n",
       "      <td>0.0</td>\n",
       "      <td>0.0</td>\n",
       "      <td>0.0</td>\n",
       "      <td>0.0</td>\n",
       "      <td>0.0</td>\n",
       "    </tr>\n",
       "    <tr>\n",
       "      <th>6</th>\n",
       "      <td>7316793777</td>\n",
       "      <td>https://desmoines.craigslist.org/ctd/d/martens...</td>\n",
       "      <td>des moines</td>\n",
       "      <td>https://desmoines.craigslist.org</td>\n",
       "      <td>6700</td>\n",
       "      <td>2015</td>\n",
       "      <td>ford</td>\n",
       "      <td>fusion se</td>\n",
       "      <td>gas</td>\n",
       "      <td>149000</td>\n",
       "      <td>...</td>\n",
       "      <td>0.0</td>\n",
       "      <td>0.0</td>\n",
       "      <td>0.0</td>\n",
       "      <td>0.0</td>\n",
       "      <td>0.0</td>\n",
       "      <td>0.0</td>\n",
       "      <td>0.0</td>\n",
       "      <td>0.0</td>\n",
       "      <td>0.0</td>\n",
       "      <td>0.0</td>\n",
       "    </tr>\n",
       "  </tbody>\n",
       "</table>\n",
       "<p>5 rows × 820 columns</p>\n",
       "</div>"
      ],
      "text/plain": [
       "           id                                                url  \\\n",
       "0  7308295377  https://chattanooga.craigslist.org/ctd/d/chatt...   \n",
       "2  7313733749  https://reno.craigslist.org/ctd/d/atlanta-2017...   \n",
       "3  7308210929  https://fayetteville.craigslist.org/ctd/d/rale...   \n",
       "5  7303797340  https://knoxville.craigslist.org/ctd/d/knoxvil...   \n",
       "6  7316793777  https://desmoines.craigslist.org/ctd/d/martens...   \n",
       "\n",
       "         region                           region_url  price  year  \\\n",
       "0   chattanooga   https://chattanooga.craigslist.org  54990  2020   \n",
       "2  reno / tahoe          https://reno.craigslist.org  35590  2017   \n",
       "3  fayetteville  https://fayetteville.craigslist.org  14500  2013   \n",
       "5     knoxville     https://knoxville.craigslist.org  14590  2012   \n",
       "6    des moines     https://desmoines.craigslist.org   6700  2015   \n",
       "\n",
       "  manufacturer                   model    fuel  odometer  ...  \\\n",
       "0          ram  2500 crew cab big horn  diesel     27442  ...   \n",
       "2   volkswagen        golf r hatchback     gas     14048  ...   \n",
       "3       toyota                    rav4     gas    117291  ...   \n",
       "5          bmw  1 series 128i coupe 2d   other     80465  ...   \n",
       "6         ford               fusion se     gas    149000  ...   \n",
       "\n",
       "  region_corrected_winchester region_corrected_winston  \\\n",
       "0                         0.0                      0.0   \n",
       "2                         0.0                      0.0   \n",
       "3                         0.0                      0.0   \n",
       "5                         0.0                      0.0   \n",
       "6                         0.0                      0.0   \n",
       "\n",
       "  region_corrected_worcester region_corrected_wyoming region_corrected_yakima  \\\n",
       "0                        0.0                      0.0                     0.0   \n",
       "2                        0.0                      0.0                     0.0   \n",
       "3                        0.0                      0.0                     0.0   \n",
       "5                        0.0                      0.0                     0.0   \n",
       "6                        0.0                      0.0                     0.0   \n",
       "\n",
       "   region_corrected_york  region_corrected_youngstown region_corrected_yuba  \\\n",
       "0                    0.0                          0.0                   0.0   \n",
       "2                    0.0                          0.0                   0.0   \n",
       "3                    0.0                          0.0                   0.0   \n",
       "5                    0.0                          0.0                   0.0   \n",
       "6                    0.0                          0.0                   0.0   \n",
       "\n",
       "  region_corrected_yuma region_corrected_zanesville  \n",
       "0                   0.0                         0.0  \n",
       "2                   0.0                         0.0  \n",
       "3                   0.0                         0.0  \n",
       "5                   0.0                         0.0  \n",
       "6                   0.0                         0.0  \n",
       "\n",
       "[5 rows x 820 columns]"
      ]
     },
     "execution_count": 682,
     "metadata": {},
     "output_type": "execute_result"
    }
   ],
   "source": [
    "df_feat.head()"
   ]
  },
  {
   "cell_type": "code",
   "execution_count": null,
   "id": "65aec8f7-c034-4c16-b386-f67c967f9d16",
   "metadata": {},
   "outputs": [],
   "source": []
  },
  {
   "cell_type": "code",
   "execution_count": 683,
   "id": "a638996f-a8f5-411a-bd54-0159ef90c79b",
   "metadata": {
    "tags": []
   },
   "outputs": [
    {
     "data": {
      "text/html": [
       "<style>#sk-container-id-22 {color: black;}#sk-container-id-22 pre{padding: 0;}#sk-container-id-22 div.sk-toggleable {background-color: white;}#sk-container-id-22 label.sk-toggleable__label {cursor: pointer;display: block;width: 100%;margin-bottom: 0;padding: 0.3em;box-sizing: border-box;text-align: center;}#sk-container-id-22 label.sk-toggleable__label-arrow:before {content: \"▸\";float: left;margin-right: 0.25em;color: #696969;}#sk-container-id-22 label.sk-toggleable__label-arrow:hover:before {color: black;}#sk-container-id-22 div.sk-estimator:hover label.sk-toggleable__label-arrow:before {color: black;}#sk-container-id-22 div.sk-toggleable__content {max-height: 0;max-width: 0;overflow: hidden;text-align: left;background-color: #f0f8ff;}#sk-container-id-22 div.sk-toggleable__content pre {margin: 0.2em;color: black;border-radius: 0.25em;background-color: #f0f8ff;}#sk-container-id-22 input.sk-toggleable__control:checked~div.sk-toggleable__content {max-height: 200px;max-width: 100%;overflow: auto;}#sk-container-id-22 input.sk-toggleable__control:checked~label.sk-toggleable__label-arrow:before {content: \"▾\";}#sk-container-id-22 div.sk-estimator input.sk-toggleable__control:checked~label.sk-toggleable__label {background-color: #d4ebff;}#sk-container-id-22 div.sk-label input.sk-toggleable__control:checked~label.sk-toggleable__label {background-color: #d4ebff;}#sk-container-id-22 input.sk-hidden--visually {border: 0;clip: rect(1px 1px 1px 1px);clip: rect(1px, 1px, 1px, 1px);height: 1px;margin: -1px;overflow: hidden;padding: 0;position: absolute;width: 1px;}#sk-container-id-22 div.sk-estimator {font-family: monospace;background-color: #f0f8ff;border: 1px dotted black;border-radius: 0.25em;box-sizing: border-box;margin-bottom: 0.5em;}#sk-container-id-22 div.sk-estimator:hover {background-color: #d4ebff;}#sk-container-id-22 div.sk-parallel-item::after {content: \"\";width: 100%;border-bottom: 1px solid gray;flex-grow: 1;}#sk-container-id-22 div.sk-label:hover label.sk-toggleable__label {background-color: #d4ebff;}#sk-container-id-22 div.sk-serial::before {content: \"\";position: absolute;border-left: 1px solid gray;box-sizing: border-box;top: 0;bottom: 0;left: 50%;z-index: 0;}#sk-container-id-22 div.sk-serial {display: flex;flex-direction: column;align-items: center;background-color: white;padding-right: 0.2em;padding-left: 0.2em;position: relative;}#sk-container-id-22 div.sk-item {position: relative;z-index: 1;}#sk-container-id-22 div.sk-parallel {display: flex;align-items: stretch;justify-content: center;background-color: white;position: relative;}#sk-container-id-22 div.sk-item::before, #sk-container-id-22 div.sk-parallel-item::before {content: \"\";position: absolute;border-left: 1px solid gray;box-sizing: border-box;top: 0;bottom: 0;left: 50%;z-index: -1;}#sk-container-id-22 div.sk-parallel-item {display: flex;flex-direction: column;z-index: 1;position: relative;background-color: white;}#sk-container-id-22 div.sk-parallel-item:first-child::after {align-self: flex-end;width: 50%;}#sk-container-id-22 div.sk-parallel-item:last-child::after {align-self: flex-start;width: 50%;}#sk-container-id-22 div.sk-parallel-item:only-child::after {width: 0;}#sk-container-id-22 div.sk-dashed-wrapped {border: 1px dashed gray;margin: 0 0.4em 0.5em 0.4em;box-sizing: border-box;padding-bottom: 0.4em;background-color: white;}#sk-container-id-22 div.sk-label label {font-family: monospace;font-weight: bold;display: inline-block;line-height: 1.2em;}#sk-container-id-22 div.sk-label-container {text-align: center;}#sk-container-id-22 div.sk-container {/* jupyter's `normalize.less` sets `[hidden] { display: none; }` but bootstrap.min.css set `[hidden] { display: none !important; }` so we also need the `!important` here to be able to override the default hidden behavior on the sphinx rendered scikit-learn.org. See: https://github.com/scikit-learn/scikit-learn/issues/21755 */display: inline-block !important;position: relative;}#sk-container-id-22 div.sk-text-repr-fallback {display: none;}</style><div id=\"sk-container-id-22\" class=\"sk-top-container\"><div class=\"sk-text-repr-fallback\"><pre>OneHotEncoder(sparse_output=False)</pre><b>In a Jupyter environment, please rerun this cell to show the HTML representation or trust the notebook. <br />On GitHub, the HTML representation is unable to render, please try loading this page with nbviewer.org.</b></div><div class=\"sk-container\" hidden><div class=\"sk-item\"><div class=\"sk-estimator sk-toggleable\"><input class=\"sk-toggleable__control sk-hidden--visually\" id=\"sk-estimator-id-22\" type=\"checkbox\" checked><label for=\"sk-estimator-id-22\" class=\"sk-toggleable__label sk-toggleable__label-arrow\">OneHotEncoder</label><div class=\"sk-toggleable__content\"><pre>OneHotEncoder(sparse_output=False)</pre></div></div></div></div></div>"
      ],
      "text/plain": [
       "OneHotEncoder(sparse_output=False)"
      ]
     },
     "execution_count": 683,
     "metadata": {},
     "output_type": "execute_result"
    }
   ],
   "source": [
    "ohe.fit(df_feat[['manufacturer_model']])"
   ]
  },
  {
   "cell_type": "code",
   "execution_count": 684,
   "id": "84265736-ad6d-4eeb-b653-1abf74a58a34",
   "metadata": {
    "tags": []
   },
   "outputs": [],
   "source": [
    "ohe_manufacturer_model = ohe.transform(df_feat[['manufacturer_model']])"
   ]
  },
  {
   "cell_type": "code",
   "execution_count": 685,
   "id": "743b82b8-ec42-472a-90ae-ad0998954ebc",
   "metadata": {
    "tags": []
   },
   "outputs": [
    {
     "data": {
      "text/plain": [
       "(9052, 3085)"
      ]
     },
     "execution_count": 685,
     "metadata": {},
     "output_type": "execute_result"
    }
   ],
   "source": [
    "ohe_manufacturer_model.shape"
   ]
  },
  {
   "cell_type": "code",
   "execution_count": 688,
   "id": "18536b7d-6d2d-4dcd-b1f5-cdc99540b775",
   "metadata": {
    "tags": []
   },
   "outputs": [
    {
     "data": {
      "text/html": [
       "<div>\n",
       "<style scoped>\n",
       "    .dataframe tbody tr th:only-of-type {\n",
       "        vertical-align: middle;\n",
       "    }\n",
       "\n",
       "    .dataframe tbody tr th {\n",
       "        vertical-align: top;\n",
       "    }\n",
       "\n",
       "    .dataframe thead th {\n",
       "        text-align: right;\n",
       "    }\n",
       "</style>\n",
       "<table border=\"1\" class=\"dataframe\">\n",
       "  <thead>\n",
       "    <tr style=\"text-align: right;\">\n",
       "      <th></th>\n",
       "      <th>id</th>\n",
       "      <th>url</th>\n",
       "      <th>region</th>\n",
       "      <th>region_url</th>\n",
       "      <th>price</th>\n",
       "      <th>year</th>\n",
       "      <th>manufacturer</th>\n",
       "      <th>model</th>\n",
       "      <th>fuel</th>\n",
       "      <th>odometer</th>\n",
       "      <th>...</th>\n",
       "      <th>manufacturer_model_volvo: xc60 3.2 sport utility 4d</th>\n",
       "      <th>manufacturer_model_volvo: xc60 t5 drive-e premier</th>\n",
       "      <th>manufacturer_model_volvo: xc60 t5 inscription sport</th>\n",
       "      <th>manufacturer_model_volvo: xc60 t5 premier sport</th>\n",
       "      <th>manufacturer_model_volvo: xc60 t6 inscription sport</th>\n",
       "      <th>manufacturer_model_volvo: xc70</th>\n",
       "      <th>manufacturer_model_volvo: xc70 awd</th>\n",
       "      <th>manufacturer_model_volvo: xc90</th>\n",
       "      <th>manufacturer_model_volvo: xc90 awd</th>\n",
       "      <th>manufacturer_model_volvo: xc90 t6 r design awd gas</th>\n",
       "    </tr>\n",
       "  </thead>\n",
       "  <tbody>\n",
       "    <tr>\n",
       "      <th>0</th>\n",
       "      <td>7308295377</td>\n",
       "      <td>https://chattanooga.craigslist.org/ctd/d/chatt...</td>\n",
       "      <td>chattanooga</td>\n",
       "      <td>https://chattanooga.craigslist.org</td>\n",
       "      <td>54990</td>\n",
       "      <td>2020</td>\n",
       "      <td>ram</td>\n",
       "      <td>2500 crew cab big horn</td>\n",
       "      <td>diesel</td>\n",
       "      <td>27442</td>\n",
       "      <td>...</td>\n",
       "      <td>0.0</td>\n",
       "      <td>0.0</td>\n",
       "      <td>0.0</td>\n",
       "      <td>0.0</td>\n",
       "      <td>0.0</td>\n",
       "      <td>0.0</td>\n",
       "      <td>0.0</td>\n",
       "      <td>0.0</td>\n",
       "      <td>0.0</td>\n",
       "      <td>0.0</td>\n",
       "    </tr>\n",
       "    <tr>\n",
       "      <th>2</th>\n",
       "      <td>7313733749</td>\n",
       "      <td>https://reno.craigslist.org/ctd/d/atlanta-2017...</td>\n",
       "      <td>reno / tahoe</td>\n",
       "      <td>https://reno.craigslist.org</td>\n",
       "      <td>35590</td>\n",
       "      <td>2017</td>\n",
       "      <td>volkswagen</td>\n",
       "      <td>golf r hatchback</td>\n",
       "      <td>gas</td>\n",
       "      <td>14048</td>\n",
       "      <td>...</td>\n",
       "      <td>0.0</td>\n",
       "      <td>0.0</td>\n",
       "      <td>0.0</td>\n",
       "      <td>0.0</td>\n",
       "      <td>0.0</td>\n",
       "      <td>0.0</td>\n",
       "      <td>0.0</td>\n",
       "      <td>0.0</td>\n",
       "      <td>0.0</td>\n",
       "      <td>0.0</td>\n",
       "    </tr>\n",
       "    <tr>\n",
       "      <th>3</th>\n",
       "      <td>7308210929</td>\n",
       "      <td>https://fayetteville.craigslist.org/ctd/d/rale...</td>\n",
       "      <td>fayetteville</td>\n",
       "      <td>https://fayetteville.craigslist.org</td>\n",
       "      <td>14500</td>\n",
       "      <td>2013</td>\n",
       "      <td>toyota</td>\n",
       "      <td>rav4</td>\n",
       "      <td>gas</td>\n",
       "      <td>117291</td>\n",
       "      <td>...</td>\n",
       "      <td>0.0</td>\n",
       "      <td>0.0</td>\n",
       "      <td>0.0</td>\n",
       "      <td>0.0</td>\n",
       "      <td>0.0</td>\n",
       "      <td>0.0</td>\n",
       "      <td>0.0</td>\n",
       "      <td>0.0</td>\n",
       "      <td>0.0</td>\n",
       "      <td>0.0</td>\n",
       "    </tr>\n",
       "    <tr>\n",
       "      <th>5</th>\n",
       "      <td>7303797340</td>\n",
       "      <td>https://knoxville.craigslist.org/ctd/d/knoxvil...</td>\n",
       "      <td>knoxville</td>\n",
       "      <td>https://knoxville.craigslist.org</td>\n",
       "      <td>14590</td>\n",
       "      <td>2012</td>\n",
       "      <td>bmw</td>\n",
       "      <td>1 series 128i coupe 2d</td>\n",
       "      <td>other</td>\n",
       "      <td>80465</td>\n",
       "      <td>...</td>\n",
       "      <td>0.0</td>\n",
       "      <td>0.0</td>\n",
       "      <td>0.0</td>\n",
       "      <td>0.0</td>\n",
       "      <td>0.0</td>\n",
       "      <td>0.0</td>\n",
       "      <td>0.0</td>\n",
       "      <td>0.0</td>\n",
       "      <td>0.0</td>\n",
       "      <td>0.0</td>\n",
       "    </tr>\n",
       "    <tr>\n",
       "      <th>6</th>\n",
       "      <td>7316793777</td>\n",
       "      <td>https://desmoines.craigslist.org/ctd/d/martens...</td>\n",
       "      <td>des moines</td>\n",
       "      <td>https://desmoines.craigslist.org</td>\n",
       "      <td>6700</td>\n",
       "      <td>2015</td>\n",
       "      <td>ford</td>\n",
       "      <td>fusion se</td>\n",
       "      <td>gas</td>\n",
       "      <td>149000</td>\n",
       "      <td>...</td>\n",
       "      <td>0.0</td>\n",
       "      <td>0.0</td>\n",
       "      <td>0.0</td>\n",
       "      <td>0.0</td>\n",
       "      <td>0.0</td>\n",
       "      <td>0.0</td>\n",
       "      <td>0.0</td>\n",
       "      <td>0.0</td>\n",
       "      <td>0.0</td>\n",
       "      <td>0.0</td>\n",
       "    </tr>\n",
       "  </tbody>\n",
       "</table>\n",
       "<p>5 rows × 3905 columns</p>\n",
       "</div>"
      ],
      "text/plain": [
       "           id                                                url  \\\n",
       "0  7308295377  https://chattanooga.craigslist.org/ctd/d/chatt...   \n",
       "2  7313733749  https://reno.craigslist.org/ctd/d/atlanta-2017...   \n",
       "3  7308210929  https://fayetteville.craigslist.org/ctd/d/rale...   \n",
       "5  7303797340  https://knoxville.craigslist.org/ctd/d/knoxvil...   \n",
       "6  7316793777  https://desmoines.craigslist.org/ctd/d/martens...   \n",
       "\n",
       "         region                           region_url  price  year  \\\n",
       "0   chattanooga   https://chattanooga.craigslist.org  54990  2020   \n",
       "2  reno / tahoe          https://reno.craigslist.org  35590  2017   \n",
       "3  fayetteville  https://fayetteville.craigslist.org  14500  2013   \n",
       "5     knoxville     https://knoxville.craigslist.org  14590  2012   \n",
       "6    des moines     https://desmoines.craigslist.org   6700  2015   \n",
       "\n",
       "  manufacturer                   model    fuel  odometer  ...  \\\n",
       "0          ram  2500 crew cab big horn  diesel     27442  ...   \n",
       "2   volkswagen        golf r hatchback     gas     14048  ...   \n",
       "3       toyota                    rav4     gas    117291  ...   \n",
       "5          bmw  1 series 128i coupe 2d   other     80465  ...   \n",
       "6         ford               fusion se     gas    149000  ...   \n",
       "\n",
       "  manufacturer_model_volvo: xc60 3.2 sport utility 4d  \\\n",
       "0                                                0.0    \n",
       "2                                                0.0    \n",
       "3                                                0.0    \n",
       "5                                                0.0    \n",
       "6                                                0.0    \n",
       "\n",
       "  manufacturer_model_volvo: xc60 t5 drive-e premier  \\\n",
       "0                                               0.0   \n",
       "2                                               0.0   \n",
       "3                                               0.0   \n",
       "5                                               0.0   \n",
       "6                                               0.0   \n",
       "\n",
       "  manufacturer_model_volvo: xc60 t5 inscription sport  \\\n",
       "0                                                0.0    \n",
       "2                                                0.0    \n",
       "3                                                0.0    \n",
       "5                                                0.0    \n",
       "6                                                0.0    \n",
       "\n",
       "  manufacturer_model_volvo: xc60 t5 premier sport  \\\n",
       "0                                             0.0   \n",
       "2                                             0.0   \n",
       "3                                             0.0   \n",
       "5                                             0.0   \n",
       "6                                             0.0   \n",
       "\n",
       "  manufacturer_model_volvo: xc60 t6 inscription sport  \\\n",
       "0                                                0.0    \n",
       "2                                                0.0    \n",
       "3                                                0.0    \n",
       "5                                                0.0    \n",
       "6                                                0.0    \n",
       "\n",
       "   manufacturer_model_volvo: xc70  manufacturer_model_volvo: xc70 awd  \\\n",
       "0                             0.0                                 0.0   \n",
       "2                             0.0                                 0.0   \n",
       "3                             0.0                                 0.0   \n",
       "5                             0.0                                 0.0   \n",
       "6                             0.0                                 0.0   \n",
       "\n",
       "  manufacturer_model_volvo: xc90 manufacturer_model_volvo: xc90 awd  \\\n",
       "0                            0.0                                0.0   \n",
       "2                            0.0                                0.0   \n",
       "3                            0.0                                0.0   \n",
       "5                            0.0                                0.0   \n",
       "6                            0.0                                0.0   \n",
       "\n",
       "  manufacturer_model_volvo: xc90 t6 r design awd gas  \n",
       "0                                                0.0  \n",
       "2                                                0.0  \n",
       "3                                                0.0  \n",
       "5                                                0.0  \n",
       "6                                                0.0  \n",
       "\n",
       "[5 rows x 3905 columns]"
      ]
     },
     "execution_count": 688,
     "metadata": {},
     "output_type": "execute_result"
    }
   ],
   "source": [
    "df_feat[ohe.get_feature_names_out()] = ohe_manufacturer_model\n",
    "df_feat.head()"
   ]
  },
  {
   "cell_type": "code",
   "execution_count": 689,
   "id": "d6f60100-fc46-4346-8839-fefabcf60bc4",
   "metadata": {
    "tags": []
   },
   "outputs": [
    {
     "data": {
      "text/html": [
       "<div>\n",
       "<style scoped>\n",
       "    .dataframe tbody tr th:only-of-type {\n",
       "        vertical-align: middle;\n",
       "    }\n",
       "\n",
       "    .dataframe tbody tr th {\n",
       "        vertical-align: top;\n",
       "    }\n",
       "\n",
       "    .dataframe thead th {\n",
       "        text-align: right;\n",
       "    }\n",
       "</style>\n",
       "<table border=\"1\" class=\"dataframe\">\n",
       "  <thead>\n",
       "    <tr style=\"text-align: right;\">\n",
       "      <th></th>\n",
       "      <th>title_status</th>\n",
       "      <th>transmission</th>\n",
       "    </tr>\n",
       "  </thead>\n",
       "  <tbody>\n",
       "    <tr>\n",
       "      <th>0</th>\n",
       "      <td>clean</td>\n",
       "      <td>other</td>\n",
       "    </tr>\n",
       "    <tr>\n",
       "      <th>2</th>\n",
       "      <td>clean</td>\n",
       "      <td>other</td>\n",
       "    </tr>\n",
       "    <tr>\n",
       "      <th>3</th>\n",
       "      <td>clean</td>\n",
       "      <td>automatic</td>\n",
       "    </tr>\n",
       "    <tr>\n",
       "      <th>5</th>\n",
       "      <td>clean</td>\n",
       "      <td>other</td>\n",
       "    </tr>\n",
       "    <tr>\n",
       "      <th>6</th>\n",
       "      <td>clean</td>\n",
       "      <td>automatic</td>\n",
       "    </tr>\n",
       "    <tr>\n",
       "      <th>...</th>\n",
       "      <td>...</td>\n",
       "      <td>...</td>\n",
       "    </tr>\n",
       "    <tr>\n",
       "      <th>9995</th>\n",
       "      <td>clean</td>\n",
       "      <td>automatic</td>\n",
       "    </tr>\n",
       "    <tr>\n",
       "      <th>9996</th>\n",
       "      <td>clean</td>\n",
       "      <td>other</td>\n",
       "    </tr>\n",
       "    <tr>\n",
       "      <th>9997</th>\n",
       "      <td>clean</td>\n",
       "      <td>automatic</td>\n",
       "    </tr>\n",
       "    <tr>\n",
       "      <th>9998</th>\n",
       "      <td>clean</td>\n",
       "      <td>automatic</td>\n",
       "    </tr>\n",
       "    <tr>\n",
       "      <th>9999</th>\n",
       "      <td>clean</td>\n",
       "      <td>other</td>\n",
       "    </tr>\n",
       "  </tbody>\n",
       "</table>\n",
       "<p>9052 rows × 2 columns</p>\n",
       "</div>"
      ],
      "text/plain": [
       "     title_status transmission\n",
       "0           clean        other\n",
       "2           clean        other\n",
       "3           clean    automatic\n",
       "5           clean        other\n",
       "6           clean    automatic\n",
       "...           ...          ...\n",
       "9995        clean    automatic\n",
       "9996        clean        other\n",
       "9997        clean    automatic\n",
       "9998        clean    automatic\n",
       "9999        clean        other\n",
       "\n",
       "[9052 rows x 2 columns]"
      ]
     },
     "execution_count": 689,
     "metadata": {},
     "output_type": "execute_result"
    }
   ],
   "source": [
    "df_feat.loc[:, ('title_status','transmission')]"
   ]
  },
  {
   "cell_type": "code",
   "execution_count": 690,
   "id": "82f8ebfc-df4b-471c-b3e9-0bf6c2bb3d22",
   "metadata": {
    "tags": []
   },
   "outputs": [
    {
     "data": {
      "text/plain": [
       "title_status\n",
       "clean         8761\n",
       "rebuilt        163\n",
       "salvage         88\n",
       "lien            32\n",
       "missing          6\n",
       "parts only       2\n",
       "Name: count, dtype: int64"
      ]
     },
     "execution_count": 690,
     "metadata": {},
     "output_type": "execute_result"
    }
   ],
   "source": [
    "df_feat.title_status.value_counts()"
   ]
  },
  {
   "cell_type": "code",
   "execution_count": 691,
   "id": "0b35765e-5f17-4245-8b68-3f441720d32d",
   "metadata": {
    "tags": []
   },
   "outputs": [
    {
     "data": {
      "text/plain": [
       "transmission\n",
       "automatic    7011\n",
       "other        1588\n",
       "manual        453\n",
       "Name: count, dtype: int64"
      ]
     },
     "execution_count": 691,
     "metadata": {},
     "output_type": "execute_result"
    }
   ],
   "source": [
    "df_feat.transmission.value_counts()"
   ]
  },
  {
   "cell_type": "code",
   "execution_count": 916,
   "id": "d690b08a-88c5-424f-a784-fde4d813068e",
   "metadata": {
    "tags": []
   },
   "outputs": [
    {
     "data": {
      "text/html": [
       "<style>#sk-container-id-33 {color: black;}#sk-container-id-33 pre{padding: 0;}#sk-container-id-33 div.sk-toggleable {background-color: white;}#sk-container-id-33 label.sk-toggleable__label {cursor: pointer;display: block;width: 100%;margin-bottom: 0;padding: 0.3em;box-sizing: border-box;text-align: center;}#sk-container-id-33 label.sk-toggleable__label-arrow:before {content: \"▸\";float: left;margin-right: 0.25em;color: #696969;}#sk-container-id-33 label.sk-toggleable__label-arrow:hover:before {color: black;}#sk-container-id-33 div.sk-estimator:hover label.sk-toggleable__label-arrow:before {color: black;}#sk-container-id-33 div.sk-toggleable__content {max-height: 0;max-width: 0;overflow: hidden;text-align: left;background-color: #f0f8ff;}#sk-container-id-33 div.sk-toggleable__content pre {margin: 0.2em;color: black;border-radius: 0.25em;background-color: #f0f8ff;}#sk-container-id-33 input.sk-toggleable__control:checked~div.sk-toggleable__content {max-height: 200px;max-width: 100%;overflow: auto;}#sk-container-id-33 input.sk-toggleable__control:checked~label.sk-toggleable__label-arrow:before {content: \"▾\";}#sk-container-id-33 div.sk-estimator input.sk-toggleable__control:checked~label.sk-toggleable__label {background-color: #d4ebff;}#sk-container-id-33 div.sk-label input.sk-toggleable__control:checked~label.sk-toggleable__label {background-color: #d4ebff;}#sk-container-id-33 input.sk-hidden--visually {border: 0;clip: rect(1px 1px 1px 1px);clip: rect(1px, 1px, 1px, 1px);height: 1px;margin: -1px;overflow: hidden;padding: 0;position: absolute;width: 1px;}#sk-container-id-33 div.sk-estimator {font-family: monospace;background-color: #f0f8ff;border: 1px dotted black;border-radius: 0.25em;box-sizing: border-box;margin-bottom: 0.5em;}#sk-container-id-33 div.sk-estimator:hover {background-color: #d4ebff;}#sk-container-id-33 div.sk-parallel-item::after {content: \"\";width: 100%;border-bottom: 1px solid gray;flex-grow: 1;}#sk-container-id-33 div.sk-label:hover label.sk-toggleable__label {background-color: #d4ebff;}#sk-container-id-33 div.sk-serial::before {content: \"\";position: absolute;border-left: 1px solid gray;box-sizing: border-box;top: 0;bottom: 0;left: 50%;z-index: 0;}#sk-container-id-33 div.sk-serial {display: flex;flex-direction: column;align-items: center;background-color: white;padding-right: 0.2em;padding-left: 0.2em;position: relative;}#sk-container-id-33 div.sk-item {position: relative;z-index: 1;}#sk-container-id-33 div.sk-parallel {display: flex;align-items: stretch;justify-content: center;background-color: white;position: relative;}#sk-container-id-33 div.sk-item::before, #sk-container-id-33 div.sk-parallel-item::before {content: \"\";position: absolute;border-left: 1px solid gray;box-sizing: border-box;top: 0;bottom: 0;left: 50%;z-index: -1;}#sk-container-id-33 div.sk-parallel-item {display: flex;flex-direction: column;z-index: 1;position: relative;background-color: white;}#sk-container-id-33 div.sk-parallel-item:first-child::after {align-self: flex-end;width: 50%;}#sk-container-id-33 div.sk-parallel-item:last-child::after {align-self: flex-start;width: 50%;}#sk-container-id-33 div.sk-parallel-item:only-child::after {width: 0;}#sk-container-id-33 div.sk-dashed-wrapped {border: 1px dashed gray;margin: 0 0.4em 0.5em 0.4em;box-sizing: border-box;padding-bottom: 0.4em;background-color: white;}#sk-container-id-33 div.sk-label label {font-family: monospace;font-weight: bold;display: inline-block;line-height: 1.2em;}#sk-container-id-33 div.sk-label-container {text-align: center;}#sk-container-id-33 div.sk-container {/* jupyter's `normalize.less` sets `[hidden] { display: none; }` but bootstrap.min.css set `[hidden] { display: none !important; }` so we also need the `!important` here to be able to override the default hidden behavior on the sphinx rendered scikit-learn.org. See: https://github.com/scikit-learn/scikit-learn/issues/21755 */display: inline-block !important;position: relative;}#sk-container-id-33 div.sk-text-repr-fallback {display: none;}</style><div id=\"sk-container-id-33\" class=\"sk-top-container\"><div class=\"sk-text-repr-fallback\"><pre>OneHotEncoder(sparse_output=False)</pre><b>In a Jupyter environment, please rerun this cell to show the HTML representation or trust the notebook. <br />On GitHub, the HTML representation is unable to render, please try loading this page with nbviewer.org.</b></div><div class=\"sk-container\" hidden><div class=\"sk-item\"><div class=\"sk-estimator sk-toggleable\"><input class=\"sk-toggleable__control sk-hidden--visually\" id=\"sk-estimator-id-33\" type=\"checkbox\" checked><label for=\"sk-estimator-id-33\" class=\"sk-toggleable__label sk-toggleable__label-arrow\">OneHotEncoder</label><div class=\"sk-toggleable__content\"><pre>OneHotEncoder(sparse_output=False)</pre></div></div></div></div></div>"
      ],
      "text/plain": [
       "OneHotEncoder(sparse_output=False)"
      ]
     },
     "execution_count": 916,
     "metadata": {},
     "output_type": "execute_result"
    }
   ],
   "source": [
    "ohe.fit(df_feat[['title_status', 'transmission']])"
   ]
  },
  {
   "cell_type": "code",
   "execution_count": 917,
   "id": "6f2ca6c5-ff13-4d8f-9d90-decc3013eb41",
   "metadata": {
    "tags": []
   },
   "outputs": [],
   "source": [
    "ohe_status = ohe.transform(df_feat[['title_status', 'transmission']])"
   ]
  },
  {
   "cell_type": "code",
   "execution_count": 918,
   "id": "c03829f3-11b5-40a0-b2db-1b78793b41ca",
   "metadata": {
    "tags": []
   },
   "outputs": [
    {
     "data": {
      "text/plain": [
       "array([[1., 0., 0., ..., 0., 0., 1.],\n",
       "       [1., 0., 0., ..., 0., 0., 1.],\n",
       "       [1., 0., 0., ..., 1., 0., 0.],\n",
       "       ...,\n",
       "       [1., 0., 0., ..., 1., 0., 0.],\n",
       "       [1., 0., 0., ..., 1., 0., 0.],\n",
       "       [1., 0., 0., ..., 0., 0., 1.]])"
      ]
     },
     "execution_count": 918,
     "metadata": {},
     "output_type": "execute_result"
    }
   ],
   "source": [
    "ohe_status"
   ]
  },
  {
   "cell_type": "code",
   "execution_count": 920,
   "id": "03b880cc-8312-4d12-a16d-7c29e67324a7",
   "metadata": {
    "tags": []
   },
   "outputs": [],
   "source": [
    "df_feat[ohe.get_feature_names_out()] = ohe_status"
   ]
  },
  {
   "cell_type": "code",
   "execution_count": 921,
   "id": "ad5453c2-5e7d-4e3b-b0a7-bf45c3fb7b01",
   "metadata": {
    "tags": []
   },
   "outputs": [
    {
     "data": {
      "text/plain": [
       "51"
      ]
     },
     "execution_count": 921,
     "metadata": {},
     "output_type": "execute_result"
    }
   ],
   "source": [
    "df_feat.state.nunique()"
   ]
  },
  {
   "cell_type": "code",
   "execution_count": 922,
   "id": "bd46f063-1bfe-48a5-81ea-86c91524c25c",
   "metadata": {
    "tags": []
   },
   "outputs": [
    {
     "data": {
      "text/html": [
       "<style>#sk-container-id-34 {color: black;}#sk-container-id-34 pre{padding: 0;}#sk-container-id-34 div.sk-toggleable {background-color: white;}#sk-container-id-34 label.sk-toggleable__label {cursor: pointer;display: block;width: 100%;margin-bottom: 0;padding: 0.3em;box-sizing: border-box;text-align: center;}#sk-container-id-34 label.sk-toggleable__label-arrow:before {content: \"▸\";float: left;margin-right: 0.25em;color: #696969;}#sk-container-id-34 label.sk-toggleable__label-arrow:hover:before {color: black;}#sk-container-id-34 div.sk-estimator:hover label.sk-toggleable__label-arrow:before {color: black;}#sk-container-id-34 div.sk-toggleable__content {max-height: 0;max-width: 0;overflow: hidden;text-align: left;background-color: #f0f8ff;}#sk-container-id-34 div.sk-toggleable__content pre {margin: 0.2em;color: black;border-radius: 0.25em;background-color: #f0f8ff;}#sk-container-id-34 input.sk-toggleable__control:checked~div.sk-toggleable__content {max-height: 200px;max-width: 100%;overflow: auto;}#sk-container-id-34 input.sk-toggleable__control:checked~label.sk-toggleable__label-arrow:before {content: \"▾\";}#sk-container-id-34 div.sk-estimator input.sk-toggleable__control:checked~label.sk-toggleable__label {background-color: #d4ebff;}#sk-container-id-34 div.sk-label input.sk-toggleable__control:checked~label.sk-toggleable__label {background-color: #d4ebff;}#sk-container-id-34 input.sk-hidden--visually {border: 0;clip: rect(1px 1px 1px 1px);clip: rect(1px, 1px, 1px, 1px);height: 1px;margin: -1px;overflow: hidden;padding: 0;position: absolute;width: 1px;}#sk-container-id-34 div.sk-estimator {font-family: monospace;background-color: #f0f8ff;border: 1px dotted black;border-radius: 0.25em;box-sizing: border-box;margin-bottom: 0.5em;}#sk-container-id-34 div.sk-estimator:hover {background-color: #d4ebff;}#sk-container-id-34 div.sk-parallel-item::after {content: \"\";width: 100%;border-bottom: 1px solid gray;flex-grow: 1;}#sk-container-id-34 div.sk-label:hover label.sk-toggleable__label {background-color: #d4ebff;}#sk-container-id-34 div.sk-serial::before {content: \"\";position: absolute;border-left: 1px solid gray;box-sizing: border-box;top: 0;bottom: 0;left: 50%;z-index: 0;}#sk-container-id-34 div.sk-serial {display: flex;flex-direction: column;align-items: center;background-color: white;padding-right: 0.2em;padding-left: 0.2em;position: relative;}#sk-container-id-34 div.sk-item {position: relative;z-index: 1;}#sk-container-id-34 div.sk-parallel {display: flex;align-items: stretch;justify-content: center;background-color: white;position: relative;}#sk-container-id-34 div.sk-item::before, #sk-container-id-34 div.sk-parallel-item::before {content: \"\";position: absolute;border-left: 1px solid gray;box-sizing: border-box;top: 0;bottom: 0;left: 50%;z-index: -1;}#sk-container-id-34 div.sk-parallel-item {display: flex;flex-direction: column;z-index: 1;position: relative;background-color: white;}#sk-container-id-34 div.sk-parallel-item:first-child::after {align-self: flex-end;width: 50%;}#sk-container-id-34 div.sk-parallel-item:last-child::after {align-self: flex-start;width: 50%;}#sk-container-id-34 div.sk-parallel-item:only-child::after {width: 0;}#sk-container-id-34 div.sk-dashed-wrapped {border: 1px dashed gray;margin: 0 0.4em 0.5em 0.4em;box-sizing: border-box;padding-bottom: 0.4em;background-color: white;}#sk-container-id-34 div.sk-label label {font-family: monospace;font-weight: bold;display: inline-block;line-height: 1.2em;}#sk-container-id-34 div.sk-label-container {text-align: center;}#sk-container-id-34 div.sk-container {/* jupyter's `normalize.less` sets `[hidden] { display: none; }` but bootstrap.min.css set `[hidden] { display: none !important; }` so we also need the `!important` here to be able to override the default hidden behavior on the sphinx rendered scikit-learn.org. See: https://github.com/scikit-learn/scikit-learn/issues/21755 */display: inline-block !important;position: relative;}#sk-container-id-34 div.sk-text-repr-fallback {display: none;}</style><div id=\"sk-container-id-34\" class=\"sk-top-container\"><div class=\"sk-text-repr-fallback\"><pre>OneHotEncoder(sparse_output=False)</pre><b>In a Jupyter environment, please rerun this cell to show the HTML representation or trust the notebook. <br />On GitHub, the HTML representation is unable to render, please try loading this page with nbviewer.org.</b></div><div class=\"sk-container\" hidden><div class=\"sk-item\"><div class=\"sk-estimator sk-toggleable\"><input class=\"sk-toggleable__control sk-hidden--visually\" id=\"sk-estimator-id-34\" type=\"checkbox\" checked><label for=\"sk-estimator-id-34\" class=\"sk-toggleable__label sk-toggleable__label-arrow\">OneHotEncoder</label><div class=\"sk-toggleable__content\"><pre>OneHotEncoder(sparse_output=False)</pre></div></div></div></div></div>"
      ],
      "text/plain": [
       "OneHotEncoder(sparse_output=False)"
      ]
     },
     "execution_count": 922,
     "metadata": {},
     "output_type": "execute_result"
    }
   ],
   "source": [
    "ohe.fit(df_feat[['state']])"
   ]
  },
  {
   "cell_type": "code",
   "execution_count": 923,
   "id": "a9ebb50a-9599-4fb8-9d46-4b6894d71181",
   "metadata": {
    "tags": []
   },
   "outputs": [],
   "source": [
    "ohe_state = ohe.transform(df_feat[['state']])"
   ]
  },
  {
   "cell_type": "code",
   "execution_count": 925,
   "id": "34125591-bfb3-4289-b9a9-9c035526de1b",
   "metadata": {
    "tags": []
   },
   "outputs": [],
   "source": [
    "df_feat[ohe.get_feature_names_out()] = ohe_state"
   ]
  },
  {
   "cell_type": "code",
   "execution_count": 926,
   "id": "2e4cf2a1-03af-4512-8b31-c67313e48715",
   "metadata": {
    "tags": []
   },
   "outputs": [
    {
     "data": {
      "text/plain": [
       "(9052, 881)"
      ]
     },
     "execution_count": 926,
     "metadata": {},
     "output_type": "execute_result"
    }
   ],
   "source": [
    "df_feat.shape"
   ]
  },
  {
   "cell_type": "code",
   "execution_count": 933,
   "id": "35fb5ea6-01be-4cf1-ba63-50312240ba10",
   "metadata": {
    "tags": []
   },
   "outputs": [
    {
     "data": {
      "text/plain": [
       "866"
      ]
     },
     "execution_count": 933,
     "metadata": {},
     "output_type": "execute_result"
    }
   ],
   "source": [
    "df_feat.manufacturer_model.nunique()"
   ]
  },
  {
   "cell_type": "code",
   "execution_count": 932,
   "id": "de3ad129-9382-4b7a-90a1-0b7c2136a71e",
   "metadata": {
    "tags": []
   },
   "outputs": [
    {
     "data": {
      "text/html": [
       "<style>#sk-container-id-35 {color: black;}#sk-container-id-35 pre{padding: 0;}#sk-container-id-35 div.sk-toggleable {background-color: white;}#sk-container-id-35 label.sk-toggleable__label {cursor: pointer;display: block;width: 100%;margin-bottom: 0;padding: 0.3em;box-sizing: border-box;text-align: center;}#sk-container-id-35 label.sk-toggleable__label-arrow:before {content: \"▸\";float: left;margin-right: 0.25em;color: #696969;}#sk-container-id-35 label.sk-toggleable__label-arrow:hover:before {color: black;}#sk-container-id-35 div.sk-estimator:hover label.sk-toggleable__label-arrow:before {color: black;}#sk-container-id-35 div.sk-toggleable__content {max-height: 0;max-width: 0;overflow: hidden;text-align: left;background-color: #f0f8ff;}#sk-container-id-35 div.sk-toggleable__content pre {margin: 0.2em;color: black;border-radius: 0.25em;background-color: #f0f8ff;}#sk-container-id-35 input.sk-toggleable__control:checked~div.sk-toggleable__content {max-height: 200px;max-width: 100%;overflow: auto;}#sk-container-id-35 input.sk-toggleable__control:checked~label.sk-toggleable__label-arrow:before {content: \"▾\";}#sk-container-id-35 div.sk-estimator input.sk-toggleable__control:checked~label.sk-toggleable__label {background-color: #d4ebff;}#sk-container-id-35 div.sk-label input.sk-toggleable__control:checked~label.sk-toggleable__label {background-color: #d4ebff;}#sk-container-id-35 input.sk-hidden--visually {border: 0;clip: rect(1px 1px 1px 1px);clip: rect(1px, 1px, 1px, 1px);height: 1px;margin: -1px;overflow: hidden;padding: 0;position: absolute;width: 1px;}#sk-container-id-35 div.sk-estimator {font-family: monospace;background-color: #f0f8ff;border: 1px dotted black;border-radius: 0.25em;box-sizing: border-box;margin-bottom: 0.5em;}#sk-container-id-35 div.sk-estimator:hover {background-color: #d4ebff;}#sk-container-id-35 div.sk-parallel-item::after {content: \"\";width: 100%;border-bottom: 1px solid gray;flex-grow: 1;}#sk-container-id-35 div.sk-label:hover label.sk-toggleable__label {background-color: #d4ebff;}#sk-container-id-35 div.sk-serial::before {content: \"\";position: absolute;border-left: 1px solid gray;box-sizing: border-box;top: 0;bottom: 0;left: 50%;z-index: 0;}#sk-container-id-35 div.sk-serial {display: flex;flex-direction: column;align-items: center;background-color: white;padding-right: 0.2em;padding-left: 0.2em;position: relative;}#sk-container-id-35 div.sk-item {position: relative;z-index: 1;}#sk-container-id-35 div.sk-parallel {display: flex;align-items: stretch;justify-content: center;background-color: white;position: relative;}#sk-container-id-35 div.sk-item::before, #sk-container-id-35 div.sk-parallel-item::before {content: \"\";position: absolute;border-left: 1px solid gray;box-sizing: border-box;top: 0;bottom: 0;left: 50%;z-index: -1;}#sk-container-id-35 div.sk-parallel-item {display: flex;flex-direction: column;z-index: 1;position: relative;background-color: white;}#sk-container-id-35 div.sk-parallel-item:first-child::after {align-self: flex-end;width: 50%;}#sk-container-id-35 div.sk-parallel-item:last-child::after {align-self: flex-start;width: 50%;}#sk-container-id-35 div.sk-parallel-item:only-child::after {width: 0;}#sk-container-id-35 div.sk-dashed-wrapped {border: 1px dashed gray;margin: 0 0.4em 0.5em 0.4em;box-sizing: border-box;padding-bottom: 0.4em;background-color: white;}#sk-container-id-35 div.sk-label label {font-family: monospace;font-weight: bold;display: inline-block;line-height: 1.2em;}#sk-container-id-35 div.sk-label-container {text-align: center;}#sk-container-id-35 div.sk-container {/* jupyter's `normalize.less` sets `[hidden] { display: none; }` but bootstrap.min.css set `[hidden] { display: none !important; }` so we also need the `!important` here to be able to override the default hidden behavior on the sphinx rendered scikit-learn.org. See: https://github.com/scikit-learn/scikit-learn/issues/21755 */display: inline-block !important;position: relative;}#sk-container-id-35 div.sk-text-repr-fallback {display: none;}</style><div id=\"sk-container-id-35\" class=\"sk-top-container\"><div class=\"sk-text-repr-fallback\"><pre>OneHotEncoder(sparse_output=False)</pre><b>In a Jupyter environment, please rerun this cell to show the HTML representation or trust the notebook. <br />On GitHub, the HTML representation is unable to render, please try loading this page with nbviewer.org.</b></div><div class=\"sk-container\" hidden><div class=\"sk-item\"><div class=\"sk-estimator sk-toggleable\"><input class=\"sk-toggleable__control sk-hidden--visually\" id=\"sk-estimator-id-35\" type=\"checkbox\" checked><label for=\"sk-estimator-id-35\" class=\"sk-toggleable__label sk-toggleable__label-arrow\">OneHotEncoder</label><div class=\"sk-toggleable__content\"><pre>OneHotEncoder(sparse_output=False)</pre></div></div></div></div></div>"
      ],
      "text/plain": [
       "OneHotEncoder(sparse_output=False)"
      ]
     },
     "execution_count": 932,
     "metadata": {},
     "output_type": "execute_result"
    }
   ],
   "source": [
    "ohe.fit(df_feat[['manufacturer_model']])"
   ]
  },
  {
   "cell_type": "code",
   "execution_count": 934,
   "id": "d63fc6db-01fa-4cc1-aba1-bcf51bd18ca1",
   "metadata": {
    "tags": []
   },
   "outputs": [],
   "source": [
    "ohe_state = ohe.transform(df_feat[['manufacturer_model']])"
   ]
  },
  {
   "cell_type": "code",
   "execution_count": 937,
   "id": "c751aa68-b862-424b-8598-822442af519d",
   "metadata": {
    "tags": []
   },
   "outputs": [],
   "source": [
    "df_feat[ohe.get_feature_names_out()] = ohe_state"
   ]
  },
  {
   "cell_type": "code",
   "execution_count": 938,
   "id": "8ce542d0-d025-4cac-a459-e1d1d236f29b",
   "metadata": {
    "tags": []
   },
   "outputs": [
    {
     "data": {
      "text/html": [
       "<div>\n",
       "<style scoped>\n",
       "    .dataframe tbody tr th:only-of-type {\n",
       "        vertical-align: middle;\n",
       "    }\n",
       "\n",
       "    .dataframe tbody tr th {\n",
       "        vertical-align: top;\n",
       "    }\n",
       "\n",
       "    .dataframe thead th {\n",
       "        text-align: right;\n",
       "    }\n",
       "</style>\n",
       "<table border=\"1\" class=\"dataframe\">\n",
       "  <thead>\n",
       "    <tr style=\"text-align: right;\">\n",
       "      <th></th>\n",
       "      <th>id</th>\n",
       "      <th>url</th>\n",
       "      <th>region</th>\n",
       "      <th>region_url</th>\n",
       "      <th>price</th>\n",
       "      <th>year</th>\n",
       "      <th>manufacturer</th>\n",
       "      <th>model</th>\n",
       "      <th>fuel</th>\n",
       "      <th>odometer</th>\n",
       "      <th>...</th>\n",
       "      <th>manufacturer_model_volvo: tractor</th>\n",
       "      <th>manufacturer_model_volvo: v50</th>\n",
       "      <th>manufacturer_model_volvo: v60</th>\n",
       "      <th>manufacturer_model_volvo: v90</th>\n",
       "      <th>manufacturer_model_volvo: vnl</th>\n",
       "      <th>manufacturer_model_volvo: xc</th>\n",
       "      <th>manufacturer_model_volvo: xc40</th>\n",
       "      <th>manufacturer_model_volvo: xc60</th>\n",
       "      <th>manufacturer_model_volvo: xc70</th>\n",
       "      <th>manufacturer_model_volvo: xc90</th>\n",
       "    </tr>\n",
       "  </thead>\n",
       "  <tbody>\n",
       "    <tr>\n",
       "      <th>0</th>\n",
       "      <td>7308295377</td>\n",
       "      <td>https://chattanooga.craigslist.org/ctd/d/chatt...</td>\n",
       "      <td>chattanooga</td>\n",
       "      <td>https://chattanooga.craigslist.org</td>\n",
       "      <td>54990</td>\n",
       "      <td>2020</td>\n",
       "      <td>ram</td>\n",
       "      <td>2500 crew cab big horn</td>\n",
       "      <td>diesel</td>\n",
       "      <td>27442</td>\n",
       "      <td>...</td>\n",
       "      <td>0.0</td>\n",
       "      <td>0.0</td>\n",
       "      <td>0.0</td>\n",
       "      <td>0.0</td>\n",
       "      <td>0.0</td>\n",
       "      <td>0.0</td>\n",
       "      <td>0.0</td>\n",
       "      <td>0.0</td>\n",
       "      <td>0.0</td>\n",
       "      <td>0.0</td>\n",
       "    </tr>\n",
       "    <tr>\n",
       "      <th>2</th>\n",
       "      <td>7313733749</td>\n",
       "      <td>https://reno.craigslist.org/ctd/d/atlanta-2017...</td>\n",
       "      <td>reno / tahoe</td>\n",
       "      <td>https://reno.craigslist.org</td>\n",
       "      <td>35590</td>\n",
       "      <td>2017</td>\n",
       "      <td>volkswagen</td>\n",
       "      <td>golf r hatchback</td>\n",
       "      <td>gas</td>\n",
       "      <td>14048</td>\n",
       "      <td>...</td>\n",
       "      <td>0.0</td>\n",
       "      <td>0.0</td>\n",
       "      <td>0.0</td>\n",
       "      <td>0.0</td>\n",
       "      <td>0.0</td>\n",
       "      <td>0.0</td>\n",
       "      <td>0.0</td>\n",
       "      <td>0.0</td>\n",
       "      <td>0.0</td>\n",
       "      <td>0.0</td>\n",
       "    </tr>\n",
       "    <tr>\n",
       "      <th>3</th>\n",
       "      <td>7308210929</td>\n",
       "      <td>https://fayetteville.craigslist.org/ctd/d/rale...</td>\n",
       "      <td>fayetteville</td>\n",
       "      <td>https://fayetteville.craigslist.org</td>\n",
       "      <td>14500</td>\n",
       "      <td>2013</td>\n",
       "      <td>toyota</td>\n",
       "      <td>rav4</td>\n",
       "      <td>gas</td>\n",
       "      <td>117291</td>\n",
       "      <td>...</td>\n",
       "      <td>0.0</td>\n",
       "      <td>0.0</td>\n",
       "      <td>0.0</td>\n",
       "      <td>0.0</td>\n",
       "      <td>0.0</td>\n",
       "      <td>0.0</td>\n",
       "      <td>0.0</td>\n",
       "      <td>0.0</td>\n",
       "      <td>0.0</td>\n",
       "      <td>0.0</td>\n",
       "    </tr>\n",
       "    <tr>\n",
       "      <th>5</th>\n",
       "      <td>7303797340</td>\n",
       "      <td>https://knoxville.craigslist.org/ctd/d/knoxvil...</td>\n",
       "      <td>knoxville</td>\n",
       "      <td>https://knoxville.craigslist.org</td>\n",
       "      <td>14590</td>\n",
       "      <td>2012</td>\n",
       "      <td>bmw</td>\n",
       "      <td>1 series 128i coupe 2d</td>\n",
       "      <td>other</td>\n",
       "      <td>80465</td>\n",
       "      <td>...</td>\n",
       "      <td>0.0</td>\n",
       "      <td>0.0</td>\n",
       "      <td>0.0</td>\n",
       "      <td>0.0</td>\n",
       "      <td>0.0</td>\n",
       "      <td>0.0</td>\n",
       "      <td>0.0</td>\n",
       "      <td>0.0</td>\n",
       "      <td>0.0</td>\n",
       "      <td>0.0</td>\n",
       "    </tr>\n",
       "    <tr>\n",
       "      <th>6</th>\n",
       "      <td>7316793777</td>\n",
       "      <td>https://desmoines.craigslist.org/ctd/d/martens...</td>\n",
       "      <td>des moines</td>\n",
       "      <td>https://desmoines.craigslist.org</td>\n",
       "      <td>6700</td>\n",
       "      <td>2015</td>\n",
       "      <td>ford</td>\n",
       "      <td>fusion se</td>\n",
       "      <td>gas</td>\n",
       "      <td>149000</td>\n",
       "      <td>...</td>\n",
       "      <td>0.0</td>\n",
       "      <td>0.0</td>\n",
       "      <td>0.0</td>\n",
       "      <td>0.0</td>\n",
       "      <td>0.0</td>\n",
       "      <td>0.0</td>\n",
       "      <td>0.0</td>\n",
       "      <td>0.0</td>\n",
       "      <td>0.0</td>\n",
       "      <td>0.0</td>\n",
       "    </tr>\n",
       "  </tbody>\n",
       "</table>\n",
       "<p>5 rows × 1747 columns</p>\n",
       "</div>"
      ],
      "text/plain": [
       "           id                                                url  \\\n",
       "0  7308295377  https://chattanooga.craigslist.org/ctd/d/chatt...   \n",
       "2  7313733749  https://reno.craigslist.org/ctd/d/atlanta-2017...   \n",
       "3  7308210929  https://fayetteville.craigslist.org/ctd/d/rale...   \n",
       "5  7303797340  https://knoxville.craigslist.org/ctd/d/knoxvil...   \n",
       "6  7316793777  https://desmoines.craigslist.org/ctd/d/martens...   \n",
       "\n",
       "         region                           region_url  price  year  \\\n",
       "0   chattanooga   https://chattanooga.craigslist.org  54990  2020   \n",
       "2  reno / tahoe          https://reno.craigslist.org  35590  2017   \n",
       "3  fayetteville  https://fayetteville.craigslist.org  14500  2013   \n",
       "5     knoxville     https://knoxville.craigslist.org  14590  2012   \n",
       "6    des moines     https://desmoines.craigslist.org   6700  2015   \n",
       "\n",
       "  manufacturer                   model    fuel  odometer  ...  \\\n",
       "0          ram  2500 crew cab big horn  diesel     27442  ...   \n",
       "2   volkswagen        golf r hatchback     gas     14048  ...   \n",
       "3       toyota                    rav4     gas    117291  ...   \n",
       "5          bmw  1 series 128i coupe 2d   other     80465  ...   \n",
       "6         ford               fusion se     gas    149000  ...   \n",
       "\n",
       "  manufacturer_model_volvo: tractor manufacturer_model_volvo: v50  \\\n",
       "0                               0.0                           0.0   \n",
       "2                               0.0                           0.0   \n",
       "3                               0.0                           0.0   \n",
       "5                               0.0                           0.0   \n",
       "6                               0.0                           0.0   \n",
       "\n",
       "  manufacturer_model_volvo: v60 manufacturer_model_volvo: v90  \\\n",
       "0                           0.0                           0.0   \n",
       "2                           0.0                           0.0   \n",
       "3                           0.0                           0.0   \n",
       "5                           0.0                           0.0   \n",
       "6                           0.0                           0.0   \n",
       "\n",
       "  manufacturer_model_volvo: vnl  manufacturer_model_volvo: xc  \\\n",
       "0                           0.0                           0.0   \n",
       "2                           0.0                           0.0   \n",
       "3                           0.0                           0.0   \n",
       "5                           0.0                           0.0   \n",
       "6                           0.0                           0.0   \n",
       "\n",
       "   manufacturer_model_volvo: xc40 manufacturer_model_volvo: xc60  \\\n",
       "0                             0.0                            0.0   \n",
       "2                             0.0                            0.0   \n",
       "3                             0.0                            0.0   \n",
       "5                             0.0                            0.0   \n",
       "6                             0.0                            0.0   \n",
       "\n",
       "  manufacturer_model_volvo: xc70 manufacturer_model_volvo: xc90  \n",
       "0                            0.0                            0.0  \n",
       "2                            0.0                            0.0  \n",
       "3                            0.0                            0.0  \n",
       "5                            0.0                            0.0  \n",
       "6                            0.0                            0.0  \n",
       "\n",
       "[5 rows x 1747 columns]"
      ]
     },
     "execution_count": 938,
     "metadata": {},
     "output_type": "execute_result"
    }
   ],
   "source": [
    "df_feat.head()"
   ]
  },
  {
   "cell_type": "code",
   "execution_count": 939,
   "id": "5c2b28f5-5124-460f-8d6b-b35c0604bf41",
   "metadata": {},
   "outputs": [],
   "source": [
    "df_feat.to_csv('data\\df_feat.csv', index=False)"
   ]
  },
  {
   "cell_type": "markdown",
   "id": "8aa526cc-5931-477f-b853-2a6bcdf37823",
   "metadata": {},
   "source": [
    "### Нормализация данных"
   ]
  },
  {
   "cell_type": "code",
   "execution_count": 940,
   "id": "8c389041-144a-427e-b5fe-930615f9cc7c",
   "metadata": {
    "tags": []
   },
   "outputs": [
    {
     "data": {
      "text/html": [
       "<style>#sk-container-id-36 {color: black;}#sk-container-id-36 pre{padding: 0;}#sk-container-id-36 div.sk-toggleable {background-color: white;}#sk-container-id-36 label.sk-toggleable__label {cursor: pointer;display: block;width: 100%;margin-bottom: 0;padding: 0.3em;box-sizing: border-box;text-align: center;}#sk-container-id-36 label.sk-toggleable__label-arrow:before {content: \"▸\";float: left;margin-right: 0.25em;color: #696969;}#sk-container-id-36 label.sk-toggleable__label-arrow:hover:before {color: black;}#sk-container-id-36 div.sk-estimator:hover label.sk-toggleable__label-arrow:before {color: black;}#sk-container-id-36 div.sk-toggleable__content {max-height: 0;max-width: 0;overflow: hidden;text-align: left;background-color: #f0f8ff;}#sk-container-id-36 div.sk-toggleable__content pre {margin: 0.2em;color: black;border-radius: 0.25em;background-color: #f0f8ff;}#sk-container-id-36 input.sk-toggleable__control:checked~div.sk-toggleable__content {max-height: 200px;max-width: 100%;overflow: auto;}#sk-container-id-36 input.sk-toggleable__control:checked~label.sk-toggleable__label-arrow:before {content: \"▾\";}#sk-container-id-36 div.sk-estimator input.sk-toggleable__control:checked~label.sk-toggleable__label {background-color: #d4ebff;}#sk-container-id-36 div.sk-label input.sk-toggleable__control:checked~label.sk-toggleable__label {background-color: #d4ebff;}#sk-container-id-36 input.sk-hidden--visually {border: 0;clip: rect(1px 1px 1px 1px);clip: rect(1px, 1px, 1px, 1px);height: 1px;margin: -1px;overflow: hidden;padding: 0;position: absolute;width: 1px;}#sk-container-id-36 div.sk-estimator {font-family: monospace;background-color: #f0f8ff;border: 1px dotted black;border-radius: 0.25em;box-sizing: border-box;margin-bottom: 0.5em;}#sk-container-id-36 div.sk-estimator:hover {background-color: #d4ebff;}#sk-container-id-36 div.sk-parallel-item::after {content: \"\";width: 100%;border-bottom: 1px solid gray;flex-grow: 1;}#sk-container-id-36 div.sk-label:hover label.sk-toggleable__label {background-color: #d4ebff;}#sk-container-id-36 div.sk-serial::before {content: \"\";position: absolute;border-left: 1px solid gray;box-sizing: border-box;top: 0;bottom: 0;left: 50%;z-index: 0;}#sk-container-id-36 div.sk-serial {display: flex;flex-direction: column;align-items: center;background-color: white;padding-right: 0.2em;padding-left: 0.2em;position: relative;}#sk-container-id-36 div.sk-item {position: relative;z-index: 1;}#sk-container-id-36 div.sk-parallel {display: flex;align-items: stretch;justify-content: center;background-color: white;position: relative;}#sk-container-id-36 div.sk-item::before, #sk-container-id-36 div.sk-parallel-item::before {content: \"\";position: absolute;border-left: 1px solid gray;box-sizing: border-box;top: 0;bottom: 0;left: 50%;z-index: -1;}#sk-container-id-36 div.sk-parallel-item {display: flex;flex-direction: column;z-index: 1;position: relative;background-color: white;}#sk-container-id-36 div.sk-parallel-item:first-child::after {align-self: flex-end;width: 50%;}#sk-container-id-36 div.sk-parallel-item:last-child::after {align-self: flex-start;width: 50%;}#sk-container-id-36 div.sk-parallel-item:only-child::after {width: 0;}#sk-container-id-36 div.sk-dashed-wrapped {border: 1px dashed gray;margin: 0 0.4em 0.5em 0.4em;box-sizing: border-box;padding-bottom: 0.4em;background-color: white;}#sk-container-id-36 div.sk-label label {font-family: monospace;font-weight: bold;display: inline-block;line-height: 1.2em;}#sk-container-id-36 div.sk-label-container {text-align: center;}#sk-container-id-36 div.sk-container {/* jupyter's `normalize.less` sets `[hidden] { display: none; }` but bootstrap.min.css set `[hidden] { display: none !important; }` so we also need the `!important` here to be able to override the default hidden behavior on the sphinx rendered scikit-learn.org. See: https://github.com/scikit-learn/scikit-learn/issues/21755 */display: inline-block !important;position: relative;}#sk-container-id-36 div.sk-text-repr-fallback {display: none;}</style><div id=\"sk-container-id-36\" class=\"sk-top-container\"><div class=\"sk-text-repr-fallback\"><pre>StandardScaler()</pre><b>In a Jupyter environment, please rerun this cell to show the HTML representation or trust the notebook. <br />On GitHub, the HTML representation is unable to render, please try loading this page with nbviewer.org.</b></div><div class=\"sk-container\" hidden><div class=\"sk-item\"><div class=\"sk-estimator sk-toggleable\"><input class=\"sk-toggleable__control sk-hidden--visually\" id=\"sk-estimator-id-36\" type=\"checkbox\" checked><label for=\"sk-estimator-id-36\" class=\"sk-toggleable__label sk-toggleable__label-arrow\">StandardScaler</label><div class=\"sk-toggleable__content\"><pre>StandardScaler()</pre></div></div></div></div></div>"
      ],
      "text/plain": [
       "StandardScaler()"
      ]
     },
     "execution_count": 940,
     "metadata": {},
     "output_type": "execute_result"
    }
   ],
   "source": [
    "std_scaler = StandardScaler()\n",
    "std_scaler"
   ]
  },
  {
   "cell_type": "code",
   "execution_count": 941,
   "id": "a2226264-768e-4d60-9d48-a6dc3ccbeafe",
   "metadata": {
    "tags": []
   },
   "outputs": [
    {
     "data": {
      "text/html": [
       "<style>#sk-container-id-37 {color: black;}#sk-container-id-37 pre{padding: 0;}#sk-container-id-37 div.sk-toggleable {background-color: white;}#sk-container-id-37 label.sk-toggleable__label {cursor: pointer;display: block;width: 100%;margin-bottom: 0;padding: 0.3em;box-sizing: border-box;text-align: center;}#sk-container-id-37 label.sk-toggleable__label-arrow:before {content: \"▸\";float: left;margin-right: 0.25em;color: #696969;}#sk-container-id-37 label.sk-toggleable__label-arrow:hover:before {color: black;}#sk-container-id-37 div.sk-estimator:hover label.sk-toggleable__label-arrow:before {color: black;}#sk-container-id-37 div.sk-toggleable__content {max-height: 0;max-width: 0;overflow: hidden;text-align: left;background-color: #f0f8ff;}#sk-container-id-37 div.sk-toggleable__content pre {margin: 0.2em;color: black;border-radius: 0.25em;background-color: #f0f8ff;}#sk-container-id-37 input.sk-toggleable__control:checked~div.sk-toggleable__content {max-height: 200px;max-width: 100%;overflow: auto;}#sk-container-id-37 input.sk-toggleable__control:checked~label.sk-toggleable__label-arrow:before {content: \"▾\";}#sk-container-id-37 div.sk-estimator input.sk-toggleable__control:checked~label.sk-toggleable__label {background-color: #d4ebff;}#sk-container-id-37 div.sk-label input.sk-toggleable__control:checked~label.sk-toggleable__label {background-color: #d4ebff;}#sk-container-id-37 input.sk-hidden--visually {border: 0;clip: rect(1px 1px 1px 1px);clip: rect(1px, 1px, 1px, 1px);height: 1px;margin: -1px;overflow: hidden;padding: 0;position: absolute;width: 1px;}#sk-container-id-37 div.sk-estimator {font-family: monospace;background-color: #f0f8ff;border: 1px dotted black;border-radius: 0.25em;box-sizing: border-box;margin-bottom: 0.5em;}#sk-container-id-37 div.sk-estimator:hover {background-color: #d4ebff;}#sk-container-id-37 div.sk-parallel-item::after {content: \"\";width: 100%;border-bottom: 1px solid gray;flex-grow: 1;}#sk-container-id-37 div.sk-label:hover label.sk-toggleable__label {background-color: #d4ebff;}#sk-container-id-37 div.sk-serial::before {content: \"\";position: absolute;border-left: 1px solid gray;box-sizing: border-box;top: 0;bottom: 0;left: 50%;z-index: 0;}#sk-container-id-37 div.sk-serial {display: flex;flex-direction: column;align-items: center;background-color: white;padding-right: 0.2em;padding-left: 0.2em;position: relative;}#sk-container-id-37 div.sk-item {position: relative;z-index: 1;}#sk-container-id-37 div.sk-parallel {display: flex;align-items: stretch;justify-content: center;background-color: white;position: relative;}#sk-container-id-37 div.sk-item::before, #sk-container-id-37 div.sk-parallel-item::before {content: \"\";position: absolute;border-left: 1px solid gray;box-sizing: border-box;top: 0;bottom: 0;left: 50%;z-index: -1;}#sk-container-id-37 div.sk-parallel-item {display: flex;flex-direction: column;z-index: 1;position: relative;background-color: white;}#sk-container-id-37 div.sk-parallel-item:first-child::after {align-self: flex-end;width: 50%;}#sk-container-id-37 div.sk-parallel-item:last-child::after {align-self: flex-start;width: 50%;}#sk-container-id-37 div.sk-parallel-item:only-child::after {width: 0;}#sk-container-id-37 div.sk-dashed-wrapped {border: 1px dashed gray;margin: 0 0.4em 0.5em 0.4em;box-sizing: border-box;padding-bottom: 0.4em;background-color: white;}#sk-container-id-37 div.sk-label label {font-family: monospace;font-weight: bold;display: inline-block;line-height: 1.2em;}#sk-container-id-37 div.sk-label-container {text-align: center;}#sk-container-id-37 div.sk-container {/* jupyter's `normalize.less` sets `[hidden] { display: none; }` but bootstrap.min.css set `[hidden] { display: none !important; }` so we also need the `!important` here to be able to override the default hidden behavior on the sphinx rendered scikit-learn.org. See: https://github.com/scikit-learn/scikit-learn/issues/21755 */display: inline-block !important;position: relative;}#sk-container-id-37 div.sk-text-repr-fallback {display: none;}</style><div id=\"sk-container-id-37\" class=\"sk-top-container\"><div class=\"sk-text-repr-fallback\"><pre>StandardScaler()</pre><b>In a Jupyter environment, please rerun this cell to show the HTML representation or trust the notebook. <br />On GitHub, the HTML representation is unable to render, please try loading this page with nbviewer.org.</b></div><div class=\"sk-container\" hidden><div class=\"sk-item\"><div class=\"sk-estimator sk-toggleable\"><input class=\"sk-toggleable__control sk-hidden--visually\" id=\"sk-estimator-id-37\" type=\"checkbox\" checked><label for=\"sk-estimator-id-37\" class=\"sk-toggleable__label sk-toggleable__label-arrow\">StandardScaler</label><div class=\"sk-toggleable__content\"><pre>StandardScaler()</pre></div></div></div></div></div>"
      ],
      "text/plain": [
       "StandardScaler()"
      ]
     },
     "execution_count": 941,
     "metadata": {},
     "output_type": "execute_result"
    }
   ],
   "source": [
    "std_scaler.fit(df[['price','year','odometer','lat','long']])"
   ]
  },
  {
   "cell_type": "code",
   "execution_count": 942,
   "id": "a9e881af-72d1-4636-8ea1-8175fe790ef1",
   "metadata": {
    "tags": []
   },
   "outputs": [
    {
     "name": "stdout",
     "output_type": "stream",
     "text": [
      "[ 1.93825546e+04  2.01102388e+03  9.35708148e+04  3.85929267e+01\n",
      " -9.39577228e+01]\n",
      "[3.35898571e+08 8.96145556e+01 3.99922340e+09 3.40726264e+01\n",
      " 3.25001007e+02]\n"
     ]
    }
   ],
   "source": [
    "print(std_scaler.mean_)\n",
    "print(std_scaler.var_)"
   ]
  },
  {
   "cell_type": "code",
   "execution_count": 943,
   "id": "3b7fc751-81eb-4c12-a240-46188deed0d3",
   "metadata": {
    "tags": []
   },
   "outputs": [
    {
     "data": {
      "text/plain": [
       "array([[ 1.94283867,  0.94819904, -1.04568988, -0.60524585,  0.4830168 ],\n",
       "       [ 0.88432212,  0.63129193, -1.25748818, -0.82466461,  0.52951109],\n",
       "       [-0.26640541,  0.20874913,  0.37508547, -0.49287062,  0.84882415],\n",
       "       ...,\n",
       "       [-0.56677312, -0.00252228,  0.89521996,  1.0849392 , -1.6100165 ],\n",
       "       [ 0.68298572,  0.42002053, -0.50012821,  0.76006482,  0.25293884],\n",
       "       [ 0.68789637,  0.63129193, -0.91161211, -0.32942755,  0.97947271]])"
      ]
     },
     "execution_count": 943,
     "metadata": {},
     "output_type": "execute_result"
    }
   ],
   "source": [
    "std_sc = std_scaler.transform(df_feat[['price','year','odometer','lat','long']])\n",
    "std_sc"
   ]
  },
  {
   "cell_type": "code",
   "execution_count": 944,
   "id": "3907903c-bd47-4618-8844-cf59cedf7050",
   "metadata": {
    "tags": []
   },
   "outputs": [
    {
     "data": {
      "text/plain": [
       "array(['price', 'year', 'odometer', 'lat', 'long'], dtype=object)"
      ]
     },
     "execution_count": 944,
     "metadata": {},
     "output_type": "execute_result"
    }
   ],
   "source": [
    "std_scaler.get_feature_names_out()"
   ]
  },
  {
   "cell_type": "code",
   "execution_count": 945,
   "id": "b1e268e7-72eb-4e04-af99-4b07a4af5fd3",
   "metadata": {},
   "outputs": [],
   "source": [
    "df_sc = df_feat.copy() "
   ]
  },
  {
   "cell_type": "code",
   "execution_count": 946,
   "id": "275f6ae1-085c-4f6e-bd89-6264631e0cf4",
   "metadata": {
    "tags": []
   },
   "outputs": [],
   "source": [
    "df_sc[std_scaler.get_feature_names_out()] = std_sc"
   ]
  },
  {
   "cell_type": "code",
   "execution_count": 947,
   "id": "1612b1d2-53f4-4f7d-8d25-db362e7824bb",
   "metadata": {
    "tags": []
   },
   "outputs": [
    {
     "data": {
      "text/html": [
       "<div>\n",
       "<style scoped>\n",
       "    .dataframe tbody tr th:only-of-type {\n",
       "        vertical-align: middle;\n",
       "    }\n",
       "\n",
       "    .dataframe tbody tr th {\n",
       "        vertical-align: top;\n",
       "    }\n",
       "\n",
       "    .dataframe thead th {\n",
       "        text-align: right;\n",
       "    }\n",
       "</style>\n",
       "<table border=\"1\" class=\"dataframe\">\n",
       "  <thead>\n",
       "    <tr style=\"text-align: right;\">\n",
       "      <th></th>\n",
       "      <th>id</th>\n",
       "      <th>url</th>\n",
       "      <th>region</th>\n",
       "      <th>region_url</th>\n",
       "      <th>price</th>\n",
       "      <th>year</th>\n",
       "      <th>manufacturer</th>\n",
       "      <th>model</th>\n",
       "      <th>fuel</th>\n",
       "      <th>odometer</th>\n",
       "      <th>...</th>\n",
       "      <th>manufacturer_model_volvo: tractor</th>\n",
       "      <th>manufacturer_model_volvo: v50</th>\n",
       "      <th>manufacturer_model_volvo: v60</th>\n",
       "      <th>manufacturer_model_volvo: v90</th>\n",
       "      <th>manufacturer_model_volvo: vnl</th>\n",
       "      <th>manufacturer_model_volvo: xc</th>\n",
       "      <th>manufacturer_model_volvo: xc40</th>\n",
       "      <th>manufacturer_model_volvo: xc60</th>\n",
       "      <th>manufacturer_model_volvo: xc70</th>\n",
       "      <th>manufacturer_model_volvo: xc90</th>\n",
       "    </tr>\n",
       "  </thead>\n",
       "  <tbody>\n",
       "    <tr>\n",
       "      <th>0</th>\n",
       "      <td>7308295377</td>\n",
       "      <td>https://chattanooga.craigslist.org/ctd/d/chatt...</td>\n",
       "      <td>chattanooga</td>\n",
       "      <td>https://chattanooga.craigslist.org</td>\n",
       "      <td>1.942839</td>\n",
       "      <td>0.948199</td>\n",
       "      <td>ram</td>\n",
       "      <td>2500 crew cab big horn</td>\n",
       "      <td>diesel</td>\n",
       "      <td>-1.045690</td>\n",
       "      <td>...</td>\n",
       "      <td>0.0</td>\n",
       "      <td>0.0</td>\n",
       "      <td>0.0</td>\n",
       "      <td>0.0</td>\n",
       "      <td>0.0</td>\n",
       "      <td>0.0</td>\n",
       "      <td>0.0</td>\n",
       "      <td>0.0</td>\n",
       "      <td>0.0</td>\n",
       "      <td>0.0</td>\n",
       "    </tr>\n",
       "    <tr>\n",
       "      <th>2</th>\n",
       "      <td>7313733749</td>\n",
       "      <td>https://reno.craigslist.org/ctd/d/atlanta-2017...</td>\n",
       "      <td>reno / tahoe</td>\n",
       "      <td>https://reno.craigslist.org</td>\n",
       "      <td>0.884322</td>\n",
       "      <td>0.631292</td>\n",
       "      <td>volkswagen</td>\n",
       "      <td>golf r hatchback</td>\n",
       "      <td>gas</td>\n",
       "      <td>-1.257488</td>\n",
       "      <td>...</td>\n",
       "      <td>0.0</td>\n",
       "      <td>0.0</td>\n",
       "      <td>0.0</td>\n",
       "      <td>0.0</td>\n",
       "      <td>0.0</td>\n",
       "      <td>0.0</td>\n",
       "      <td>0.0</td>\n",
       "      <td>0.0</td>\n",
       "      <td>0.0</td>\n",
       "      <td>0.0</td>\n",
       "    </tr>\n",
       "    <tr>\n",
       "      <th>3</th>\n",
       "      <td>7308210929</td>\n",
       "      <td>https://fayetteville.craigslist.org/ctd/d/rale...</td>\n",
       "      <td>fayetteville</td>\n",
       "      <td>https://fayetteville.craigslist.org</td>\n",
       "      <td>-0.266405</td>\n",
       "      <td>0.208749</td>\n",
       "      <td>toyota</td>\n",
       "      <td>rav4</td>\n",
       "      <td>gas</td>\n",
       "      <td>0.375085</td>\n",
       "      <td>...</td>\n",
       "      <td>0.0</td>\n",
       "      <td>0.0</td>\n",
       "      <td>0.0</td>\n",
       "      <td>0.0</td>\n",
       "      <td>0.0</td>\n",
       "      <td>0.0</td>\n",
       "      <td>0.0</td>\n",
       "      <td>0.0</td>\n",
       "      <td>0.0</td>\n",
       "      <td>0.0</td>\n",
       "    </tr>\n",
       "    <tr>\n",
       "      <th>5</th>\n",
       "      <td>7303797340</td>\n",
       "      <td>https://knoxville.craigslist.org/ctd/d/knoxvil...</td>\n",
       "      <td>knoxville</td>\n",
       "      <td>https://knoxville.craigslist.org</td>\n",
       "      <td>-0.261495</td>\n",
       "      <td>0.103113</td>\n",
       "      <td>bmw</td>\n",
       "      <td>1 series 128i coupe 2d</td>\n",
       "      <td>other</td>\n",
       "      <td>-0.207241</td>\n",
       "      <td>...</td>\n",
       "      <td>0.0</td>\n",
       "      <td>0.0</td>\n",
       "      <td>0.0</td>\n",
       "      <td>0.0</td>\n",
       "      <td>0.0</td>\n",
       "      <td>0.0</td>\n",
       "      <td>0.0</td>\n",
       "      <td>0.0</td>\n",
       "      <td>0.0</td>\n",
       "      <td>0.0</td>\n",
       "    </tr>\n",
       "    <tr>\n",
       "      <th>6</th>\n",
       "      <td>7316793777</td>\n",
       "      <td>https://desmoines.craigslist.org/ctd/d/martens...</td>\n",
       "      <td>des moines</td>\n",
       "      <td>https://desmoines.craigslist.org</td>\n",
       "      <td>-0.691995</td>\n",
       "      <td>0.420021</td>\n",
       "      <td>ford</td>\n",
       "      <td>fusion se</td>\n",
       "      <td>gas</td>\n",
       "      <td>0.876497</td>\n",
       "      <td>...</td>\n",
       "      <td>0.0</td>\n",
       "      <td>0.0</td>\n",
       "      <td>0.0</td>\n",
       "      <td>0.0</td>\n",
       "      <td>0.0</td>\n",
       "      <td>0.0</td>\n",
       "      <td>0.0</td>\n",
       "      <td>0.0</td>\n",
       "      <td>0.0</td>\n",
       "      <td>0.0</td>\n",
       "    </tr>\n",
       "  </tbody>\n",
       "</table>\n",
       "<p>5 rows × 1747 columns</p>\n",
       "</div>"
      ],
      "text/plain": [
       "           id                                                url  \\\n",
       "0  7308295377  https://chattanooga.craigslist.org/ctd/d/chatt...   \n",
       "2  7313733749  https://reno.craigslist.org/ctd/d/atlanta-2017...   \n",
       "3  7308210929  https://fayetteville.craigslist.org/ctd/d/rale...   \n",
       "5  7303797340  https://knoxville.craigslist.org/ctd/d/knoxvil...   \n",
       "6  7316793777  https://desmoines.craigslist.org/ctd/d/martens...   \n",
       "\n",
       "         region                           region_url     price      year  \\\n",
       "0   chattanooga   https://chattanooga.craigslist.org  1.942839  0.948199   \n",
       "2  reno / tahoe          https://reno.craigslist.org  0.884322  0.631292   \n",
       "3  fayetteville  https://fayetteville.craigslist.org -0.266405  0.208749   \n",
       "5     knoxville     https://knoxville.craigslist.org -0.261495  0.103113   \n",
       "6    des moines     https://desmoines.craigslist.org -0.691995  0.420021   \n",
       "\n",
       "  manufacturer                   model    fuel  odometer  ...  \\\n",
       "0          ram  2500 crew cab big horn  diesel -1.045690  ...   \n",
       "2   volkswagen        golf r hatchback     gas -1.257488  ...   \n",
       "3       toyota                    rav4     gas  0.375085  ...   \n",
       "5          bmw  1 series 128i coupe 2d   other -0.207241  ...   \n",
       "6         ford               fusion se     gas  0.876497  ...   \n",
       "\n",
       "  manufacturer_model_volvo: tractor manufacturer_model_volvo: v50  \\\n",
       "0                               0.0                           0.0   \n",
       "2                               0.0                           0.0   \n",
       "3                               0.0                           0.0   \n",
       "5                               0.0                           0.0   \n",
       "6                               0.0                           0.0   \n",
       "\n",
       "  manufacturer_model_volvo: v60 manufacturer_model_volvo: v90  \\\n",
       "0                           0.0                           0.0   \n",
       "2                           0.0                           0.0   \n",
       "3                           0.0                           0.0   \n",
       "5                           0.0                           0.0   \n",
       "6                           0.0                           0.0   \n",
       "\n",
       "  manufacturer_model_volvo: vnl  manufacturer_model_volvo: xc  \\\n",
       "0                           0.0                           0.0   \n",
       "2                           0.0                           0.0   \n",
       "3                           0.0                           0.0   \n",
       "5                           0.0                           0.0   \n",
       "6                           0.0                           0.0   \n",
       "\n",
       "   manufacturer_model_volvo: xc40 manufacturer_model_volvo: xc60  \\\n",
       "0                             0.0                            0.0   \n",
       "2                             0.0                            0.0   \n",
       "3                             0.0                            0.0   \n",
       "5                             0.0                            0.0   \n",
       "6                             0.0                            0.0   \n",
       "\n",
       "  manufacturer_model_volvo: xc70 manufacturer_model_volvo: xc90  \n",
       "0                            0.0                            0.0  \n",
       "2                            0.0                            0.0  \n",
       "3                            0.0                            0.0  \n",
       "5                            0.0                            0.0  \n",
       "6                            0.0                            0.0  \n",
       "\n",
       "[5 rows x 1747 columns]"
      ]
     },
     "execution_count": 947,
     "metadata": {},
     "output_type": "execute_result"
    }
   ],
   "source": [
    "df_sc.head()"
   ]
  },
  {
   "cell_type": "code",
   "execution_count": 948,
   "id": "19b50236-f5ff-4ecf-9a42-dd3eae55eb7f",
   "metadata": {
    "tags": []
   },
   "outputs": [],
   "source": [
    "df_sc.to_csv('data\\df_sc', index=False)"
   ]
  },
  {
   "cell_type": "markdown",
   "id": "b6a994ea-8bc8-4904-883e-31f8734a409b",
   "metadata": {},
   "source": [
    "Извлечем из поля date месяц и день (год там везде 2021) и нормализуем их "
   ]
  },
  {
   "cell_type": "code",
   "execution_count": 949,
   "id": "f46ad930-623a-4248-808a-ad2ba5d8b2ed",
   "metadata": {
    "tags": []
   },
   "outputs": [
    {
     "data": {
      "text/plain": [
       "0       2021-04-17 16:30:50+00:00\n",
       "1       2021-04-28 10:52:20+00:00\n",
       "2       2021-04-17 14:08:57+00:00\n",
       "3       2021-04-08 19:10:56+00:00\n",
       "4       2021-05-04 16:59:42+00:00\n",
       "                  ...            \n",
       "9047    2021-04-10 20:33:57+00:00\n",
       "9048    2021-05-03 13:36:30+00:00\n",
       "9049    2021-04-22 19:14:01+00:00\n",
       "9050    2021-04-14 14:14:42+00:00\n",
       "9051    2021-04-24 17:50:49+00:00\n",
       "Name: date, Length: 9052, dtype: object"
      ]
     },
     "execution_count": 949,
     "metadata": {},
     "output_type": "execute_result"
    }
   ],
   "source": [
    "df_sc = pd.read_csv('data\\df_sc')\n",
    "df_sc.date"
   ]
  },
  {
   "cell_type": "code",
   "execution_count": 951,
   "id": "9d07fdd2-d9c2-418a-ba30-516c6ccf15ea",
   "metadata": {
    "tags": []
   },
   "outputs": [],
   "source": [
    "\n",
    "df_sc['date'] = pd.to_datetime(df_sc['posting_date'], utc=True)"
   ]
  },
  {
   "cell_type": "code",
   "execution_count": 952,
   "id": "921a5e62-0837-418a-8900-53fbf1be1472",
   "metadata": {
    "tags": []
   },
   "outputs": [],
   "source": [
    "day = []\n",
    "\n",
    "for i in range(len(df_sc)):\n",
    "    day.append([df_sc.date[i].day, df_sc.date[i].month])\n",
    "df_sc[['date_day','date_month']] = day"
   ]
  },
  {
   "cell_type": "code",
   "execution_count": 953,
   "id": "153d9a7e-bdd0-432d-96ca-658f66809379",
   "metadata": {
    "tags": []
   },
   "outputs": [
    {
     "data": {
      "text/html": [
       "<div>\n",
       "<style scoped>\n",
       "    .dataframe tbody tr th:only-of-type {\n",
       "        vertical-align: middle;\n",
       "    }\n",
       "\n",
       "    .dataframe tbody tr th {\n",
       "        vertical-align: top;\n",
       "    }\n",
       "\n",
       "    .dataframe thead th {\n",
       "        text-align: right;\n",
       "    }\n",
       "</style>\n",
       "<table border=\"1\" class=\"dataframe\">\n",
       "  <thead>\n",
       "    <tr style=\"text-align: right;\">\n",
       "      <th></th>\n",
       "      <th>date_day</th>\n",
       "      <th>date_month</th>\n",
       "    </tr>\n",
       "  </thead>\n",
       "  <tbody>\n",
       "    <tr>\n",
       "      <th>0</th>\n",
       "      <td>17</td>\n",
       "      <td>4</td>\n",
       "    </tr>\n",
       "    <tr>\n",
       "      <th>1</th>\n",
       "      <td>28</td>\n",
       "      <td>4</td>\n",
       "    </tr>\n",
       "    <tr>\n",
       "      <th>2</th>\n",
       "      <td>17</td>\n",
       "      <td>4</td>\n",
       "    </tr>\n",
       "    <tr>\n",
       "      <th>3</th>\n",
       "      <td>8</td>\n",
       "      <td>4</td>\n",
       "    </tr>\n",
       "    <tr>\n",
       "      <th>4</th>\n",
       "      <td>4</td>\n",
       "      <td>5</td>\n",
       "    </tr>\n",
       "    <tr>\n",
       "      <th>...</th>\n",
       "      <td>...</td>\n",
       "      <td>...</td>\n",
       "    </tr>\n",
       "    <tr>\n",
       "      <th>9047</th>\n",
       "      <td>10</td>\n",
       "      <td>4</td>\n",
       "    </tr>\n",
       "    <tr>\n",
       "      <th>9048</th>\n",
       "      <td>3</td>\n",
       "      <td>5</td>\n",
       "    </tr>\n",
       "    <tr>\n",
       "      <th>9049</th>\n",
       "      <td>22</td>\n",
       "      <td>4</td>\n",
       "    </tr>\n",
       "    <tr>\n",
       "      <th>9050</th>\n",
       "      <td>14</td>\n",
       "      <td>4</td>\n",
       "    </tr>\n",
       "    <tr>\n",
       "      <th>9051</th>\n",
       "      <td>24</td>\n",
       "      <td>4</td>\n",
       "    </tr>\n",
       "  </tbody>\n",
       "</table>\n",
       "<p>9052 rows × 2 columns</p>\n",
       "</div>"
      ],
      "text/plain": [
       "      date_day  date_month\n",
       "0           17           4\n",
       "1           28           4\n",
       "2           17           4\n",
       "3            8           4\n",
       "4            4           5\n",
       "...        ...         ...\n",
       "9047        10           4\n",
       "9048         3           5\n",
       "9049        22           4\n",
       "9050        14           4\n",
       "9051        24           4\n",
       "\n",
       "[9052 rows x 2 columns]"
      ]
     },
     "execution_count": 953,
     "metadata": {},
     "output_type": "execute_result"
    }
   ],
   "source": [
    "df_sc[['date_day','date_month']]"
   ]
  },
  {
   "cell_type": "code",
   "execution_count": 954,
   "id": "0c1bfbc2-03ef-467a-9196-2598b6c360b2",
   "metadata": {
    "tags": []
   },
   "outputs": [
    {
     "data": {
      "text/html": [
       "<style>#sk-container-id-38 {color: black;}#sk-container-id-38 pre{padding: 0;}#sk-container-id-38 div.sk-toggleable {background-color: white;}#sk-container-id-38 label.sk-toggleable__label {cursor: pointer;display: block;width: 100%;margin-bottom: 0;padding: 0.3em;box-sizing: border-box;text-align: center;}#sk-container-id-38 label.sk-toggleable__label-arrow:before {content: \"▸\";float: left;margin-right: 0.25em;color: #696969;}#sk-container-id-38 label.sk-toggleable__label-arrow:hover:before {color: black;}#sk-container-id-38 div.sk-estimator:hover label.sk-toggleable__label-arrow:before {color: black;}#sk-container-id-38 div.sk-toggleable__content {max-height: 0;max-width: 0;overflow: hidden;text-align: left;background-color: #f0f8ff;}#sk-container-id-38 div.sk-toggleable__content pre {margin: 0.2em;color: black;border-radius: 0.25em;background-color: #f0f8ff;}#sk-container-id-38 input.sk-toggleable__control:checked~div.sk-toggleable__content {max-height: 200px;max-width: 100%;overflow: auto;}#sk-container-id-38 input.sk-toggleable__control:checked~label.sk-toggleable__label-arrow:before {content: \"▾\";}#sk-container-id-38 div.sk-estimator input.sk-toggleable__control:checked~label.sk-toggleable__label {background-color: #d4ebff;}#sk-container-id-38 div.sk-label input.sk-toggleable__control:checked~label.sk-toggleable__label {background-color: #d4ebff;}#sk-container-id-38 input.sk-hidden--visually {border: 0;clip: rect(1px 1px 1px 1px);clip: rect(1px, 1px, 1px, 1px);height: 1px;margin: -1px;overflow: hidden;padding: 0;position: absolute;width: 1px;}#sk-container-id-38 div.sk-estimator {font-family: monospace;background-color: #f0f8ff;border: 1px dotted black;border-radius: 0.25em;box-sizing: border-box;margin-bottom: 0.5em;}#sk-container-id-38 div.sk-estimator:hover {background-color: #d4ebff;}#sk-container-id-38 div.sk-parallel-item::after {content: \"\";width: 100%;border-bottom: 1px solid gray;flex-grow: 1;}#sk-container-id-38 div.sk-label:hover label.sk-toggleable__label {background-color: #d4ebff;}#sk-container-id-38 div.sk-serial::before {content: \"\";position: absolute;border-left: 1px solid gray;box-sizing: border-box;top: 0;bottom: 0;left: 50%;z-index: 0;}#sk-container-id-38 div.sk-serial {display: flex;flex-direction: column;align-items: center;background-color: white;padding-right: 0.2em;padding-left: 0.2em;position: relative;}#sk-container-id-38 div.sk-item {position: relative;z-index: 1;}#sk-container-id-38 div.sk-parallel {display: flex;align-items: stretch;justify-content: center;background-color: white;position: relative;}#sk-container-id-38 div.sk-item::before, #sk-container-id-38 div.sk-parallel-item::before {content: \"\";position: absolute;border-left: 1px solid gray;box-sizing: border-box;top: 0;bottom: 0;left: 50%;z-index: -1;}#sk-container-id-38 div.sk-parallel-item {display: flex;flex-direction: column;z-index: 1;position: relative;background-color: white;}#sk-container-id-38 div.sk-parallel-item:first-child::after {align-self: flex-end;width: 50%;}#sk-container-id-38 div.sk-parallel-item:last-child::after {align-self: flex-start;width: 50%;}#sk-container-id-38 div.sk-parallel-item:only-child::after {width: 0;}#sk-container-id-38 div.sk-dashed-wrapped {border: 1px dashed gray;margin: 0 0.4em 0.5em 0.4em;box-sizing: border-box;padding-bottom: 0.4em;background-color: white;}#sk-container-id-38 div.sk-label label {font-family: monospace;font-weight: bold;display: inline-block;line-height: 1.2em;}#sk-container-id-38 div.sk-label-container {text-align: center;}#sk-container-id-38 div.sk-container {/* jupyter's `normalize.less` sets `[hidden] { display: none; }` but bootstrap.min.css set `[hidden] { display: none !important; }` so we also need the `!important` here to be able to override the default hidden behavior on the sphinx rendered scikit-learn.org. See: https://github.com/scikit-learn/scikit-learn/issues/21755 */display: inline-block !important;position: relative;}#sk-container-id-38 div.sk-text-repr-fallback {display: none;}</style><div id=\"sk-container-id-38\" class=\"sk-top-container\"><div class=\"sk-text-repr-fallback\"><pre>StandardScaler()</pre><b>In a Jupyter environment, please rerun this cell to show the HTML representation or trust the notebook. <br />On GitHub, the HTML representation is unable to render, please try loading this page with nbviewer.org.</b></div><div class=\"sk-container\" hidden><div class=\"sk-item\"><div class=\"sk-estimator sk-toggleable\"><input class=\"sk-toggleable__control sk-hidden--visually\" id=\"sk-estimator-id-38\" type=\"checkbox\" checked><label for=\"sk-estimator-id-38\" class=\"sk-toggleable__label sk-toggleable__label-arrow\">StandardScaler</label><div class=\"sk-toggleable__content\"><pre>StandardScaler()</pre></div></div></div></div></div>"
      ],
      "text/plain": [
       "StandardScaler()"
      ]
     },
     "execution_count": 954,
     "metadata": {},
     "output_type": "execute_result"
    }
   ],
   "source": [
    "std_scaler.fit(df_sc[['date_day','date_month']])"
   ]
  },
  {
   "cell_type": "code",
   "execution_count": 955,
   "id": "5fc9b5c8-1250-4c0a-9282-6b12fbde9754",
   "metadata": {
    "tags": []
   },
   "outputs": [
    {
     "data": {
      "text/plain": [
       "array([[ 0.17303755, -0.61310113],\n",
       "       [ 1.25953618, -0.61310113],\n",
       "       [ 0.17303755, -0.61310113],\n",
       "       ...,\n",
       "       [ 0.66690056, -0.61310113],\n",
       "       [-0.12328025, -0.61310113],\n",
       "       [ 0.86444577, -0.61310113]])"
      ]
     },
     "execution_count": 955,
     "metadata": {},
     "output_type": "execute_result"
    }
   ],
   "source": [
    "std_sc = std_scaler.transform(df_sc[['date_day','date_month']])\n",
    "std_sc"
   ]
  },
  {
   "cell_type": "code",
   "execution_count": 956,
   "id": "1edb3654-c168-4f68-8459-80723b61bb16",
   "metadata": {
    "tags": []
   },
   "outputs": [
    {
     "data": {
      "text/plain": [
       "array(['date_day', 'date_month'], dtype=object)"
      ]
     },
     "execution_count": 956,
     "metadata": {},
     "output_type": "execute_result"
    }
   ],
   "source": [
    "std_scaler.get_feature_names_out()"
   ]
  },
  {
   "cell_type": "code",
   "execution_count": 957,
   "id": "cecf7294-c38c-47eb-ad80-3c8a347cb6d9",
   "metadata": {
    "tags": []
   },
   "outputs": [],
   "source": [
    "df_sc[std_scaler.get_feature_names_out()] = std_sc"
   ]
  },
  {
   "cell_type": "code",
   "execution_count": 958,
   "id": "5c5aa64d-1531-416b-b56b-a56f87e769ed",
   "metadata": {
    "tags": []
   },
   "outputs": [
    {
     "data": {
      "text/html": [
       "<div>\n",
       "<style scoped>\n",
       "    .dataframe tbody tr th:only-of-type {\n",
       "        vertical-align: middle;\n",
       "    }\n",
       "\n",
       "    .dataframe tbody tr th {\n",
       "        vertical-align: top;\n",
       "    }\n",
       "\n",
       "    .dataframe thead th {\n",
       "        text-align: right;\n",
       "    }\n",
       "</style>\n",
       "<table border=\"1\" class=\"dataframe\">\n",
       "  <thead>\n",
       "    <tr style=\"text-align: right;\">\n",
       "      <th></th>\n",
       "      <th>date_day</th>\n",
       "      <th>date_month</th>\n",
       "    </tr>\n",
       "  </thead>\n",
       "  <tbody>\n",
       "    <tr>\n",
       "      <th>0</th>\n",
       "      <td>0.173038</td>\n",
       "      <td>-0.613101</td>\n",
       "    </tr>\n",
       "    <tr>\n",
       "      <th>1</th>\n",
       "      <td>1.259536</td>\n",
       "      <td>-0.613101</td>\n",
       "    </tr>\n",
       "    <tr>\n",
       "      <th>2</th>\n",
       "      <td>0.173038</td>\n",
       "      <td>-0.613101</td>\n",
       "    </tr>\n",
       "    <tr>\n",
       "      <th>3</th>\n",
       "      <td>-0.715916</td>\n",
       "      <td>-0.613101</td>\n",
       "    </tr>\n",
       "    <tr>\n",
       "      <th>4</th>\n",
       "      <td>-1.111006</td>\n",
       "      <td>1.631052</td>\n",
       "    </tr>\n",
       "    <tr>\n",
       "      <th>...</th>\n",
       "      <td>...</td>\n",
       "      <td>...</td>\n",
       "    </tr>\n",
       "    <tr>\n",
       "      <th>9047</th>\n",
       "      <td>-0.518371</td>\n",
       "      <td>-0.613101</td>\n",
       "    </tr>\n",
       "    <tr>\n",
       "      <th>9048</th>\n",
       "      <td>-1.209779</td>\n",
       "      <td>1.631052</td>\n",
       "    </tr>\n",
       "    <tr>\n",
       "      <th>9049</th>\n",
       "      <td>0.666901</td>\n",
       "      <td>-0.613101</td>\n",
       "    </tr>\n",
       "    <tr>\n",
       "      <th>9050</th>\n",
       "      <td>-0.123280</td>\n",
       "      <td>-0.613101</td>\n",
       "    </tr>\n",
       "    <tr>\n",
       "      <th>9051</th>\n",
       "      <td>0.864446</td>\n",
       "      <td>-0.613101</td>\n",
       "    </tr>\n",
       "  </tbody>\n",
       "</table>\n",
       "<p>9052 rows × 2 columns</p>\n",
       "</div>"
      ],
      "text/plain": [
       "      date_day  date_month\n",
       "0     0.173038   -0.613101\n",
       "1     1.259536   -0.613101\n",
       "2     0.173038   -0.613101\n",
       "3    -0.715916   -0.613101\n",
       "4    -1.111006    1.631052\n",
       "...        ...         ...\n",
       "9047 -0.518371   -0.613101\n",
       "9048 -1.209779    1.631052\n",
       "9049  0.666901   -0.613101\n",
       "9050 -0.123280   -0.613101\n",
       "9051  0.864446   -0.613101\n",
       "\n",
       "[9052 rows x 2 columns]"
      ]
     },
     "execution_count": 958,
     "metadata": {},
     "output_type": "execute_result"
    }
   ],
   "source": [
    "df_sc[['date_day','date_month']]"
   ]
  },
  {
   "cell_type": "markdown",
   "id": "58e8ce94-a125-44b4-9633-b69a4269015e",
   "metadata": {},
   "source": [
    "Удаление не информативных колонок"
   ]
  },
  {
   "cell_type": "code",
   "execution_count": 959,
   "id": "7a8e15f1-8f8a-48cc-87d0-543ccb15c514",
   "metadata": {
    "tags": []
   },
   "outputs": [
    {
     "data": {
      "text/plain": [
       "Index(['id', 'url', 'region', 'region_url', 'price', 'year', 'manufacturer',\n",
       "       'model', 'fuel', 'odometer',\n",
       "       ...\n",
       "       'manufacturer_model_volvo: v60', 'manufacturer_model_volvo: v90',\n",
       "       'manufacturer_model_volvo: vnl', 'manufacturer_model_volvo: xc',\n",
       "       'manufacturer_model_volvo: xc40', 'manufacturer_model_volvo: xc60',\n",
       "       'manufacturer_model_volvo: xc70', 'manufacturer_model_volvo: xc90',\n",
       "       'date_day', 'date_month'],\n",
       "      dtype='object', length=1749)"
      ]
     },
     "execution_count": 959,
     "metadata": {},
     "output_type": "execute_result"
    }
   ],
   "source": [
    "df_sc.columns"
   ]
  },
  {
   "cell_type": "code",
   "execution_count": 960,
   "id": "b49c52f1-0ea3-454e-9283-3501171e111a",
   "metadata": {
    "tags": []
   },
   "outputs": [],
   "source": [
    "df_final = df_sc.copy()\n"
   ]
  },
  {
   "cell_type": "code",
   "execution_count": 961,
   "id": "88f3a5b1-0ebf-4ed8-8384-32cb5fa8fc48",
   "metadata": {
    "tags": []
   },
   "outputs": [],
   "source": [
    "df_final = df_final.drop(['id', 'url', 'region', 'region_url', 'manufacturer', 'model', 'fuel'], axis=1)"
   ]
  },
  {
   "cell_type": "code",
   "execution_count": 962,
   "id": "efd9b0c9-d96b-4118-af0f-182ea4bb88aa",
   "metadata": {
    "tags": []
   },
   "outputs": [],
   "source": [
    "df_final = df_final.drop(['title_status','transmission','image_url','description','state'], axis=1)"
   ]
  },
  {
   "cell_type": "markdown",
   "id": "a016f8d1-425b-4961-9c30-4be2f1b62026",
   "metadata": {},
   "source": [
    "Забыл нормализовать price_category"
   ]
  },
  {
   "cell_type": "code",
   "execution_count": 963,
   "id": "19f436cf-7e56-48c9-a187-6c8ab66f4fb5",
   "metadata": {
    "tags": []
   },
   "outputs": [],
   "source": [
    "df_final['price_category_norm'] = df_final.price_category.apply(lambda x: 0 if x == 'low' else ( 1 if x == 'medium' else 2)) "
   ]
  },
  {
   "cell_type": "code",
   "execution_count": 964,
   "id": "df071786-5fe1-4bbc-8f80-f2cac2f81091",
   "metadata": {
    "tags": []
   },
   "outputs": [
    {
     "data": {
      "text/html": [
       "<div>\n",
       "<style scoped>\n",
       "    .dataframe tbody tr th:only-of-type {\n",
       "        vertical-align: middle;\n",
       "    }\n",
       "\n",
       "    .dataframe tbody tr th {\n",
       "        vertical-align: top;\n",
       "    }\n",
       "\n",
       "    .dataframe thead th {\n",
       "        text-align: right;\n",
       "    }\n",
       "</style>\n",
       "<table border=\"1\" class=\"dataframe\">\n",
       "  <thead>\n",
       "    <tr style=\"text-align: right;\">\n",
       "      <th></th>\n",
       "      <th>price_category_norm</th>\n",
       "      <th>price_category</th>\n",
       "    </tr>\n",
       "  </thead>\n",
       "  <tbody>\n",
       "    <tr>\n",
       "      <th>0</th>\n",
       "      <td>2</td>\n",
       "      <td>high</td>\n",
       "    </tr>\n",
       "    <tr>\n",
       "      <th>1</th>\n",
       "      <td>2</td>\n",
       "      <td>high</td>\n",
       "    </tr>\n",
       "    <tr>\n",
       "      <th>2</th>\n",
       "      <td>1</td>\n",
       "      <td>medium</td>\n",
       "    </tr>\n",
       "    <tr>\n",
       "      <th>3</th>\n",
       "      <td>1</td>\n",
       "      <td>medium</td>\n",
       "    </tr>\n",
       "    <tr>\n",
       "      <th>4</th>\n",
       "      <td>0</td>\n",
       "      <td>low</td>\n",
       "    </tr>\n",
       "    <tr>\n",
       "      <th>...</th>\n",
       "      <td>...</td>\n",
       "      <td>...</td>\n",
       "    </tr>\n",
       "    <tr>\n",
       "      <th>9047</th>\n",
       "      <td>0</td>\n",
       "      <td>low</td>\n",
       "    </tr>\n",
       "    <tr>\n",
       "      <th>9048</th>\n",
       "      <td>1</td>\n",
       "      <td>medium</td>\n",
       "    </tr>\n",
       "    <tr>\n",
       "      <th>9049</th>\n",
       "      <td>0</td>\n",
       "      <td>low</td>\n",
       "    </tr>\n",
       "    <tr>\n",
       "      <th>9050</th>\n",
       "      <td>2</td>\n",
       "      <td>high</td>\n",
       "    </tr>\n",
       "    <tr>\n",
       "      <th>9051</th>\n",
       "      <td>2</td>\n",
       "      <td>high</td>\n",
       "    </tr>\n",
       "  </tbody>\n",
       "</table>\n",
       "<p>9052 rows × 2 columns</p>\n",
       "</div>"
      ],
      "text/plain": [
       "      price_category_norm price_category\n",
       "0                       2           high\n",
       "1                       2           high\n",
       "2                       1         medium\n",
       "3                       1         medium\n",
       "4                       0            low\n",
       "...                   ...            ...\n",
       "9047                    0            low\n",
       "9048                    1         medium\n",
       "9049                    0            low\n",
       "9050                    2           high\n",
       "9051                    2           high\n",
       "\n",
       "[9052 rows x 2 columns]"
      ]
     },
     "execution_count": 964,
     "metadata": {},
     "output_type": "execute_result"
    }
   ],
   "source": [
    "df_final.loc[:,['price_category_norm', 'price_category']]"
   ]
  },
  {
   "cell_type": "code",
   "execution_count": 965,
   "id": "ce4a54a1-6b12-4aa9-8a62-6c94075b20dd",
   "metadata": {
    "tags": []
   },
   "outputs": [],
   "source": [
    "df_final = df_final.drop(['price', 'posting_date','price_category','date','region_new','region_corrected'], axis=1)\n"
   ]
  },
  {
   "cell_type": "markdown",
   "id": "2e892e84-e975-4485-852f-0e6306a50a57",
   "metadata": {},
   "source": [
    "Нормализация desc_len"
   ]
  },
  {
   "cell_type": "code",
   "execution_count": 966,
   "id": "d8c9c879-b5fe-49b9-9e3e-ce9692e6dde9",
   "metadata": {
    "tags": []
   },
   "outputs": [
    {
     "data": {
      "text/html": [
       "<style>#sk-container-id-39 {color: black;}#sk-container-id-39 pre{padding: 0;}#sk-container-id-39 div.sk-toggleable {background-color: white;}#sk-container-id-39 label.sk-toggleable__label {cursor: pointer;display: block;width: 100%;margin-bottom: 0;padding: 0.3em;box-sizing: border-box;text-align: center;}#sk-container-id-39 label.sk-toggleable__label-arrow:before {content: \"▸\";float: left;margin-right: 0.25em;color: #696969;}#sk-container-id-39 label.sk-toggleable__label-arrow:hover:before {color: black;}#sk-container-id-39 div.sk-estimator:hover label.sk-toggleable__label-arrow:before {color: black;}#sk-container-id-39 div.sk-toggleable__content {max-height: 0;max-width: 0;overflow: hidden;text-align: left;background-color: #f0f8ff;}#sk-container-id-39 div.sk-toggleable__content pre {margin: 0.2em;color: black;border-radius: 0.25em;background-color: #f0f8ff;}#sk-container-id-39 input.sk-toggleable__control:checked~div.sk-toggleable__content {max-height: 200px;max-width: 100%;overflow: auto;}#sk-container-id-39 input.sk-toggleable__control:checked~label.sk-toggleable__label-arrow:before {content: \"▾\";}#sk-container-id-39 div.sk-estimator input.sk-toggleable__control:checked~label.sk-toggleable__label {background-color: #d4ebff;}#sk-container-id-39 div.sk-label input.sk-toggleable__control:checked~label.sk-toggleable__label {background-color: #d4ebff;}#sk-container-id-39 input.sk-hidden--visually {border: 0;clip: rect(1px 1px 1px 1px);clip: rect(1px, 1px, 1px, 1px);height: 1px;margin: -1px;overflow: hidden;padding: 0;position: absolute;width: 1px;}#sk-container-id-39 div.sk-estimator {font-family: monospace;background-color: #f0f8ff;border: 1px dotted black;border-radius: 0.25em;box-sizing: border-box;margin-bottom: 0.5em;}#sk-container-id-39 div.sk-estimator:hover {background-color: #d4ebff;}#sk-container-id-39 div.sk-parallel-item::after {content: \"\";width: 100%;border-bottom: 1px solid gray;flex-grow: 1;}#sk-container-id-39 div.sk-label:hover label.sk-toggleable__label {background-color: #d4ebff;}#sk-container-id-39 div.sk-serial::before {content: \"\";position: absolute;border-left: 1px solid gray;box-sizing: border-box;top: 0;bottom: 0;left: 50%;z-index: 0;}#sk-container-id-39 div.sk-serial {display: flex;flex-direction: column;align-items: center;background-color: white;padding-right: 0.2em;padding-left: 0.2em;position: relative;}#sk-container-id-39 div.sk-item {position: relative;z-index: 1;}#sk-container-id-39 div.sk-parallel {display: flex;align-items: stretch;justify-content: center;background-color: white;position: relative;}#sk-container-id-39 div.sk-item::before, #sk-container-id-39 div.sk-parallel-item::before {content: \"\";position: absolute;border-left: 1px solid gray;box-sizing: border-box;top: 0;bottom: 0;left: 50%;z-index: -1;}#sk-container-id-39 div.sk-parallel-item {display: flex;flex-direction: column;z-index: 1;position: relative;background-color: white;}#sk-container-id-39 div.sk-parallel-item:first-child::after {align-self: flex-end;width: 50%;}#sk-container-id-39 div.sk-parallel-item:last-child::after {align-self: flex-start;width: 50%;}#sk-container-id-39 div.sk-parallel-item:only-child::after {width: 0;}#sk-container-id-39 div.sk-dashed-wrapped {border: 1px dashed gray;margin: 0 0.4em 0.5em 0.4em;box-sizing: border-box;padding-bottom: 0.4em;background-color: white;}#sk-container-id-39 div.sk-label label {font-family: monospace;font-weight: bold;display: inline-block;line-height: 1.2em;}#sk-container-id-39 div.sk-label-container {text-align: center;}#sk-container-id-39 div.sk-container {/* jupyter's `normalize.less` sets `[hidden] { display: none; }` but bootstrap.min.css set `[hidden] { display: none !important; }` so we also need the `!important` here to be able to override the default hidden behavior on the sphinx rendered scikit-learn.org. See: https://github.com/scikit-learn/scikit-learn/issues/21755 */display: inline-block !important;position: relative;}#sk-container-id-39 div.sk-text-repr-fallback {display: none;}</style><div id=\"sk-container-id-39\" class=\"sk-top-container\"><div class=\"sk-text-repr-fallback\"><pre>StandardScaler()</pre><b>In a Jupyter environment, please rerun this cell to show the HTML representation or trust the notebook. <br />On GitHub, the HTML representation is unable to render, please try loading this page with nbviewer.org.</b></div><div class=\"sk-container\" hidden><div class=\"sk-item\"><div class=\"sk-estimator sk-toggleable\"><input class=\"sk-toggleable__control sk-hidden--visually\" id=\"sk-estimator-id-39\" type=\"checkbox\" checked><label for=\"sk-estimator-id-39\" class=\"sk-toggleable__label sk-toggleable__label-arrow\">StandardScaler</label><div class=\"sk-toggleable__content\"><pre>StandardScaler()</pre></div></div></div></div></div>"
      ],
      "text/plain": [
       "StandardScaler()"
      ]
     },
     "execution_count": 966,
     "metadata": {},
     "output_type": "execute_result"
    }
   ],
   "source": [
    "std_scaler.fit(df_final[['desc_len']])"
   ]
  },
  {
   "cell_type": "code",
   "execution_count": 967,
   "id": "e18b4054-4e43-4103-90ae-c42070368eb4",
   "metadata": {
    "tags": []
   },
   "outputs": [],
   "source": [
    "std_sc = std_scaler.transform(df_final[['desc_len']])"
   ]
  },
  {
   "cell_type": "code",
   "execution_count": 968,
   "id": "83019eb3-69cb-4f20-848c-5315c4203722",
   "metadata": {
    "tags": []
   },
   "outputs": [
    {
     "data": {
      "text/plain": [
       "array([[ 0.59198074],\n",
       "       [ 0.52165439],\n",
       "       [ 0.14670014],\n",
       "       ...,\n",
       "       [-0.69003986],\n",
       "       [ 0.29129972],\n",
       "       [ 0.59233954]])"
      ]
     },
     "execution_count": 968,
     "metadata": {},
     "output_type": "execute_result"
    }
   ],
   "source": [
    "std_sc"
   ]
  },
  {
   "cell_type": "code",
   "execution_count": 969,
   "id": "993cec1c-61f4-4ad2-bd5f-af85aad2eaf8",
   "metadata": {
    "tags": []
   },
   "outputs": [],
   "source": [
    "df_final['desc_len'] = std_sc"
   ]
  },
  {
   "cell_type": "markdown",
   "id": "568fbc2c-20ba-4508-9eb2-d32b41737afb",
   "metadata": {},
   "source": [
    "Подготовим категориальную переменную age_category"
   ]
  },
  {
   "cell_type": "code",
   "execution_count": 970,
   "id": "1843245c-c2cd-402c-8f7d-03ffc927f030",
   "metadata": {
    "tags": []
   },
   "outputs": [
    {
     "data": {
      "text/html": [
       "<style>#sk-container-id-40 {color: black;}#sk-container-id-40 pre{padding: 0;}#sk-container-id-40 div.sk-toggleable {background-color: white;}#sk-container-id-40 label.sk-toggleable__label {cursor: pointer;display: block;width: 100%;margin-bottom: 0;padding: 0.3em;box-sizing: border-box;text-align: center;}#sk-container-id-40 label.sk-toggleable__label-arrow:before {content: \"▸\";float: left;margin-right: 0.25em;color: #696969;}#sk-container-id-40 label.sk-toggleable__label-arrow:hover:before {color: black;}#sk-container-id-40 div.sk-estimator:hover label.sk-toggleable__label-arrow:before {color: black;}#sk-container-id-40 div.sk-toggleable__content {max-height: 0;max-width: 0;overflow: hidden;text-align: left;background-color: #f0f8ff;}#sk-container-id-40 div.sk-toggleable__content pre {margin: 0.2em;color: black;border-radius: 0.25em;background-color: #f0f8ff;}#sk-container-id-40 input.sk-toggleable__control:checked~div.sk-toggleable__content {max-height: 200px;max-width: 100%;overflow: auto;}#sk-container-id-40 input.sk-toggleable__control:checked~label.sk-toggleable__label-arrow:before {content: \"▾\";}#sk-container-id-40 div.sk-estimator input.sk-toggleable__control:checked~label.sk-toggleable__label {background-color: #d4ebff;}#sk-container-id-40 div.sk-label input.sk-toggleable__control:checked~label.sk-toggleable__label {background-color: #d4ebff;}#sk-container-id-40 input.sk-hidden--visually {border: 0;clip: rect(1px 1px 1px 1px);clip: rect(1px, 1px, 1px, 1px);height: 1px;margin: -1px;overflow: hidden;padding: 0;position: absolute;width: 1px;}#sk-container-id-40 div.sk-estimator {font-family: monospace;background-color: #f0f8ff;border: 1px dotted black;border-radius: 0.25em;box-sizing: border-box;margin-bottom: 0.5em;}#sk-container-id-40 div.sk-estimator:hover {background-color: #d4ebff;}#sk-container-id-40 div.sk-parallel-item::after {content: \"\";width: 100%;border-bottom: 1px solid gray;flex-grow: 1;}#sk-container-id-40 div.sk-label:hover label.sk-toggleable__label {background-color: #d4ebff;}#sk-container-id-40 div.sk-serial::before {content: \"\";position: absolute;border-left: 1px solid gray;box-sizing: border-box;top: 0;bottom: 0;left: 50%;z-index: 0;}#sk-container-id-40 div.sk-serial {display: flex;flex-direction: column;align-items: center;background-color: white;padding-right: 0.2em;padding-left: 0.2em;position: relative;}#sk-container-id-40 div.sk-item {position: relative;z-index: 1;}#sk-container-id-40 div.sk-parallel {display: flex;align-items: stretch;justify-content: center;background-color: white;position: relative;}#sk-container-id-40 div.sk-item::before, #sk-container-id-40 div.sk-parallel-item::before {content: \"\";position: absolute;border-left: 1px solid gray;box-sizing: border-box;top: 0;bottom: 0;left: 50%;z-index: -1;}#sk-container-id-40 div.sk-parallel-item {display: flex;flex-direction: column;z-index: 1;position: relative;background-color: white;}#sk-container-id-40 div.sk-parallel-item:first-child::after {align-self: flex-end;width: 50%;}#sk-container-id-40 div.sk-parallel-item:last-child::after {align-self: flex-start;width: 50%;}#sk-container-id-40 div.sk-parallel-item:only-child::after {width: 0;}#sk-container-id-40 div.sk-dashed-wrapped {border: 1px dashed gray;margin: 0 0.4em 0.5em 0.4em;box-sizing: border-box;padding-bottom: 0.4em;background-color: white;}#sk-container-id-40 div.sk-label label {font-family: monospace;font-weight: bold;display: inline-block;line-height: 1.2em;}#sk-container-id-40 div.sk-label-container {text-align: center;}#sk-container-id-40 div.sk-container {/* jupyter's `normalize.less` sets `[hidden] { display: none; }` but bootstrap.min.css set `[hidden] { display: none !important; }` so we also need the `!important` here to be able to override the default hidden behavior on the sphinx rendered scikit-learn.org. See: https://github.com/scikit-learn/scikit-learn/issues/21755 */display: inline-block !important;position: relative;}#sk-container-id-40 div.sk-text-repr-fallback {display: none;}</style><div id=\"sk-container-id-40\" class=\"sk-top-container\"><div class=\"sk-text-repr-fallback\"><pre>OneHotEncoder(sparse_output=False)</pre><b>In a Jupyter environment, please rerun this cell to show the HTML representation or trust the notebook. <br />On GitHub, the HTML representation is unable to render, please try loading this page with nbviewer.org.</b></div><div class=\"sk-container\" hidden><div class=\"sk-item\"><div class=\"sk-estimator sk-toggleable\"><input class=\"sk-toggleable__control sk-hidden--visually\" id=\"sk-estimator-id-40\" type=\"checkbox\" checked><label for=\"sk-estimator-id-40\" class=\"sk-toggleable__label sk-toggleable__label-arrow\">OneHotEncoder</label><div class=\"sk-toggleable__content\"><pre>OneHotEncoder(sparse_output=False)</pre></div></div></div></div></div>"
      ],
      "text/plain": [
       "OneHotEncoder(sparse_output=False)"
      ]
     },
     "execution_count": 970,
     "metadata": {},
     "output_type": "execute_result"
    }
   ],
   "source": [
    "ohe.fit(df_feat[['age_category']])\n"
   ]
  },
  {
   "cell_type": "code",
   "execution_count": 971,
   "id": "4797bd61-b1d2-479b-9622-721bbba2e374",
   "metadata": {
    "tags": []
   },
   "outputs": [],
   "source": [
    "ohe_state = ohe.transform(df_feat[['age_category']])"
   ]
  },
  {
   "cell_type": "code",
   "execution_count": 972,
   "id": "1a1ea748-8150-435a-96b2-6dfba602b601",
   "metadata": {
    "tags": []
   },
   "outputs": [
    {
     "data": {
      "text/plain": [
       "array([[0., 1., 0.],\n",
       "       [0., 1., 0.],\n",
       "       [1., 0., 0.],\n",
       "       ...,\n",
       "       [1., 0., 0.],\n",
       "       [0., 1., 0.],\n",
       "       [0., 1., 0.]])"
      ]
     },
     "execution_count": 972,
     "metadata": {},
     "output_type": "execute_result"
    }
   ],
   "source": [
    "ohe_state"
   ]
  },
  {
   "cell_type": "code",
   "execution_count": 973,
   "id": "372c7bcf-d3ba-4d1c-8168-51eca0799c0b",
   "metadata": {
    "tags": []
   },
   "outputs": [
    {
     "data": {
      "text/plain": [
       "array(['age_category_average', 'age_category_new', 'age_category_old'],\n",
       "      dtype=object)"
      ]
     },
     "execution_count": 973,
     "metadata": {},
     "output_type": "execute_result"
    }
   ],
   "source": [
    "ohe.get_feature_names_out()"
   ]
  },
  {
   "cell_type": "code",
   "execution_count": 974,
   "id": "968fbf5a-ec7d-4340-90c5-6f3b09569112",
   "metadata": {
    "tags": []
   },
   "outputs": [],
   "source": [
    "df_final[ohe.get_feature_names_out()] =  ohe_state"
   ]
  },
  {
   "cell_type": "code",
   "execution_count": null,
   "id": "a7a0fcb9-5b36-4015-9275-1a6bc0568cea",
   "metadata": {},
   "outputs": [],
   "source": [
    "df_final = df_final.drop(['manufacturer_model','age_category'], axis=1)"
   ]
  },
  {
   "cell_type": "code",
   "execution_count": 980,
   "id": "1a97b021-b1fe-42a0-9132-56393acec371",
   "metadata": {
    "tags": []
   },
   "outputs": [
    {
     "data": {
      "text/html": [
       "<div>\n",
       "<style scoped>\n",
       "    .dataframe tbody tr th:only-of-type {\n",
       "        vertical-align: middle;\n",
       "    }\n",
       "\n",
       "    .dataframe tbody tr th {\n",
       "        vertical-align: top;\n",
       "    }\n",
       "\n",
       "    .dataframe thead th {\n",
       "        text-align: right;\n",
       "    }\n",
       "</style>\n",
       "<table border=\"1\" class=\"dataframe\">\n",
       "  <thead>\n",
       "    <tr style=\"text-align: right;\">\n",
       "      <th></th>\n",
       "      <th>year</th>\n",
       "      <th>odometer</th>\n",
       "      <th>lat</th>\n",
       "      <th>long</th>\n",
       "      <th>short_model</th>\n",
       "      <th>desc_len</th>\n",
       "      <th>fuel_diesel</th>\n",
       "      <th>fuel_electric</th>\n",
       "      <th>fuel_gas</th>\n",
       "      <th>fuel_hybrid</th>\n",
       "      <th>...</th>\n",
       "      <th>manufacturer_model_volvo: xc40</th>\n",
       "      <th>manufacturer_model_volvo: xc60</th>\n",
       "      <th>manufacturer_model_volvo: xc70</th>\n",
       "      <th>manufacturer_model_volvo: xc90</th>\n",
       "      <th>date_day</th>\n",
       "      <th>date_month</th>\n",
       "      <th>price_category_norm</th>\n",
       "      <th>age_category_average</th>\n",
       "      <th>age_category_new</th>\n",
       "      <th>age_category_old</th>\n",
       "    </tr>\n",
       "  </thead>\n",
       "  <tbody>\n",
       "    <tr>\n",
       "      <th>0</th>\n",
       "      <td>0.948199</td>\n",
       "      <td>-1.045690</td>\n",
       "      <td>-0.605246</td>\n",
       "      <td>0.483017</td>\n",
       "      <td>2500</td>\n",
       "      <td>0.591981</td>\n",
       "      <td>1.0</td>\n",
       "      <td>0.0</td>\n",
       "      <td>0.0</td>\n",
       "      <td>0.0</td>\n",
       "      <td>...</td>\n",
       "      <td>0.0</td>\n",
       "      <td>0.0</td>\n",
       "      <td>0.0</td>\n",
       "      <td>0.0</td>\n",
       "      <td>0.173038</td>\n",
       "      <td>-0.613101</td>\n",
       "      <td>2</td>\n",
       "      <td>0.0</td>\n",
       "      <td>1.0</td>\n",
       "      <td>0.0</td>\n",
       "    </tr>\n",
       "    <tr>\n",
       "      <th>1</th>\n",
       "      <td>0.631292</td>\n",
       "      <td>-1.257488</td>\n",
       "      <td>-0.824665</td>\n",
       "      <td>0.529511</td>\n",
       "      <td>golf</td>\n",
       "      <td>0.521654</td>\n",
       "      <td>0.0</td>\n",
       "      <td>0.0</td>\n",
       "      <td>1.0</td>\n",
       "      <td>0.0</td>\n",
       "      <td>...</td>\n",
       "      <td>0.0</td>\n",
       "      <td>0.0</td>\n",
       "      <td>0.0</td>\n",
       "      <td>0.0</td>\n",
       "      <td>1.259536</td>\n",
       "      <td>-0.613101</td>\n",
       "      <td>2</td>\n",
       "      <td>0.0</td>\n",
       "      <td>1.0</td>\n",
       "      <td>0.0</td>\n",
       "    </tr>\n",
       "    <tr>\n",
       "      <th>2</th>\n",
       "      <td>0.208749</td>\n",
       "      <td>0.375085</td>\n",
       "      <td>-0.492871</td>\n",
       "      <td>0.848824</td>\n",
       "      <td>rav4</td>\n",
       "      <td>0.146700</td>\n",
       "      <td>0.0</td>\n",
       "      <td>0.0</td>\n",
       "      <td>1.0</td>\n",
       "      <td>0.0</td>\n",
       "      <td>...</td>\n",
       "      <td>0.0</td>\n",
       "      <td>0.0</td>\n",
       "      <td>0.0</td>\n",
       "      <td>0.0</td>\n",
       "      <td>0.173038</td>\n",
       "      <td>-0.613101</td>\n",
       "      <td>1</td>\n",
       "      <td>1.0</td>\n",
       "      <td>0.0</td>\n",
       "      <td>0.0</td>\n",
       "    </tr>\n",
       "    <tr>\n",
       "      <th>3</th>\n",
       "      <td>0.103113</td>\n",
       "      <td>-0.207241</td>\n",
       "      <td>-0.449349</td>\n",
       "      <td>0.555682</td>\n",
       "      <td>1</td>\n",
       "      <td>0.724381</td>\n",
       "      <td>0.0</td>\n",
       "      <td>0.0</td>\n",
       "      <td>0.0</td>\n",
       "      <td>0.0</td>\n",
       "      <td>...</td>\n",
       "      <td>0.0</td>\n",
       "      <td>0.0</td>\n",
       "      <td>0.0</td>\n",
       "      <td>0.0</td>\n",
       "      <td>-0.715916</td>\n",
       "      <td>-0.613101</td>\n",
       "      <td>1</td>\n",
       "      <td>1.0</td>\n",
       "      <td>0.0</td>\n",
       "      <td>0.0</td>\n",
       "    </tr>\n",
       "    <tr>\n",
       "      <th>4</th>\n",
       "      <td>0.420021</td>\n",
       "      <td>0.876497</td>\n",
       "      <td>0.476270</td>\n",
       "      <td>0.012310</td>\n",
       "      <td>fusion</td>\n",
       "      <td>-0.892766</td>\n",
       "      <td>0.0</td>\n",
       "      <td>0.0</td>\n",
       "      <td>1.0</td>\n",
       "      <td>0.0</td>\n",
       "      <td>...</td>\n",
       "      <td>0.0</td>\n",
       "      <td>0.0</td>\n",
       "      <td>0.0</td>\n",
       "      <td>0.0</td>\n",
       "      <td>-1.111006</td>\n",
       "      <td>1.631052</td>\n",
       "      <td>0</td>\n",
       "      <td>0.0</td>\n",
       "      <td>1.0</td>\n",
       "      <td>0.0</td>\n",
       "    </tr>\n",
       "    <tr>\n",
       "      <th>...</th>\n",
       "      <td>...</td>\n",
       "      <td>...</td>\n",
       "      <td>...</td>\n",
       "      <td>...</td>\n",
       "      <td>...</td>\n",
       "      <td>...</td>\n",
       "      <td>...</td>\n",
       "      <td>...</td>\n",
       "      <td>...</td>\n",
       "      <td>...</td>\n",
       "      <td>...</td>\n",
       "      <td>...</td>\n",
       "      <td>...</td>\n",
       "      <td>...</td>\n",
       "      <td>...</td>\n",
       "      <td>...</td>\n",
       "      <td>...</td>\n",
       "      <td>...</td>\n",
       "      <td>...</td>\n",
       "      <td>...</td>\n",
       "      <td>...</td>\n",
       "    </tr>\n",
       "    <tr>\n",
       "      <th>9047</th>\n",
       "      <td>-0.953244</td>\n",
       "      <td>0.892310</td>\n",
       "      <td>0.604911</td>\n",
       "      <td>0.819192</td>\n",
       "      <td>rav4</td>\n",
       "      <td>-0.402635</td>\n",
       "      <td>0.0</td>\n",
       "      <td>0.0</td>\n",
       "      <td>1.0</td>\n",
       "      <td>0.0</td>\n",
       "      <td>...</td>\n",
       "      <td>0.0</td>\n",
       "      <td>0.0</td>\n",
       "      <td>0.0</td>\n",
       "      <td>0.0</td>\n",
       "      <td>-0.518371</td>\n",
       "      <td>-0.613101</td>\n",
       "      <td>0</td>\n",
       "      <td>0.0</td>\n",
       "      <td>0.0</td>\n",
       "      <td>1.0</td>\n",
       "    </tr>\n",
       "    <tr>\n",
       "      <th>9048</th>\n",
       "      <td>-0.319429</td>\n",
       "      <td>0.316293</td>\n",
       "      <td>0.792175</td>\n",
       "      <td>0.898730</td>\n",
       "      <td>wrangler</td>\n",
       "      <td>-0.676046</td>\n",
       "      <td>0.0</td>\n",
       "      <td>0.0</td>\n",
       "      <td>1.0</td>\n",
       "      <td>0.0</td>\n",
       "      <td>...</td>\n",
       "      <td>0.0</td>\n",
       "      <td>0.0</td>\n",
       "      <td>0.0</td>\n",
       "      <td>0.0</td>\n",
       "      <td>-1.209779</td>\n",
       "      <td>1.631052</td>\n",
       "      <td>1</td>\n",
       "      <td>1.0</td>\n",
       "      <td>0.0</td>\n",
       "      <td>0.0</td>\n",
       "    </tr>\n",
       "    <tr>\n",
       "      <th>9049</th>\n",
       "      <td>-0.002522</td>\n",
       "      <td>0.895220</td>\n",
       "      <td>1.084939</td>\n",
       "      <td>-1.610017</td>\n",
       "      <td>a3</td>\n",
       "      <td>-0.690040</td>\n",
       "      <td>0.0</td>\n",
       "      <td>0.0</td>\n",
       "      <td>1.0</td>\n",
       "      <td>0.0</td>\n",
       "      <td>...</td>\n",
       "      <td>0.0</td>\n",
       "      <td>0.0</td>\n",
       "      <td>0.0</td>\n",
       "      <td>0.0</td>\n",
       "      <td>0.666901</td>\n",
       "      <td>-0.613101</td>\n",
       "      <td>0</td>\n",
       "      <td>1.0</td>\n",
       "      <td>0.0</td>\n",
       "      <td>0.0</td>\n",
       "    </tr>\n",
       "    <tr>\n",
       "      <th>9050</th>\n",
       "      <td>0.420021</td>\n",
       "      <td>-0.500128</td>\n",
       "      <td>0.760065</td>\n",
       "      <td>0.252939</td>\n",
       "      <td>cayenne</td>\n",
       "      <td>0.291300</td>\n",
       "      <td>0.0</td>\n",
       "      <td>0.0</td>\n",
       "      <td>0.0</td>\n",
       "      <td>1.0</td>\n",
       "      <td>...</td>\n",
       "      <td>0.0</td>\n",
       "      <td>0.0</td>\n",
       "      <td>0.0</td>\n",
       "      <td>0.0</td>\n",
       "      <td>-0.123280</td>\n",
       "      <td>-0.613101</td>\n",
       "      <td>2</td>\n",
       "      <td>0.0</td>\n",
       "      <td>1.0</td>\n",
       "      <td>0.0</td>\n",
       "    </tr>\n",
       "    <tr>\n",
       "      <th>9051</th>\n",
       "      <td>0.631292</td>\n",
       "      <td>-0.911612</td>\n",
       "      <td>-0.329428</td>\n",
       "      <td>0.979473</td>\n",
       "      <td>1500</td>\n",
       "      <td>0.592340</td>\n",
       "      <td>0.0</td>\n",
       "      <td>0.0</td>\n",
       "      <td>1.0</td>\n",
       "      <td>0.0</td>\n",
       "      <td>...</td>\n",
       "      <td>0.0</td>\n",
       "      <td>0.0</td>\n",
       "      <td>0.0</td>\n",
       "      <td>0.0</td>\n",
       "      <td>0.864446</td>\n",
       "      <td>-0.613101</td>\n",
       "      <td>2</td>\n",
       "      <td>0.0</td>\n",
       "      <td>1.0</td>\n",
       "      <td>0.0</td>\n",
       "    </tr>\n",
       "  </tbody>\n",
       "</table>\n",
       "<p>9052 rows × 1733 columns</p>\n",
       "</div>"
      ],
      "text/plain": [
       "          year  odometer       lat      long short_model  desc_len  \\\n",
       "0     0.948199 -1.045690 -0.605246  0.483017        2500  0.591981   \n",
       "1     0.631292 -1.257488 -0.824665  0.529511        golf  0.521654   \n",
       "2     0.208749  0.375085 -0.492871  0.848824        rav4  0.146700   \n",
       "3     0.103113 -0.207241 -0.449349  0.555682           1  0.724381   \n",
       "4     0.420021  0.876497  0.476270  0.012310      fusion -0.892766   \n",
       "...        ...       ...       ...       ...         ...       ...   \n",
       "9047 -0.953244  0.892310  0.604911  0.819192        rav4 -0.402635   \n",
       "9048 -0.319429  0.316293  0.792175  0.898730    wrangler -0.676046   \n",
       "9049 -0.002522  0.895220  1.084939 -1.610017          a3 -0.690040   \n",
       "9050  0.420021 -0.500128  0.760065  0.252939     cayenne  0.291300   \n",
       "9051  0.631292 -0.911612 -0.329428  0.979473        1500  0.592340   \n",
       "\n",
       "      fuel_diesel  fuel_electric  fuel_gas  fuel_hybrid  ...  \\\n",
       "0             1.0            0.0       0.0          0.0  ...   \n",
       "1             0.0            0.0       1.0          0.0  ...   \n",
       "2             0.0            0.0       1.0          0.0  ...   \n",
       "3             0.0            0.0       0.0          0.0  ...   \n",
       "4             0.0            0.0       1.0          0.0  ...   \n",
       "...           ...            ...       ...          ...  ...   \n",
       "9047          0.0            0.0       1.0          0.0  ...   \n",
       "9048          0.0            0.0       1.0          0.0  ...   \n",
       "9049          0.0            0.0       1.0          0.0  ...   \n",
       "9050          0.0            0.0       0.0          1.0  ...   \n",
       "9051          0.0            0.0       1.0          0.0  ...   \n",
       "\n",
       "      manufacturer_model_volvo: xc40  manufacturer_model_volvo: xc60  \\\n",
       "0                                0.0                             0.0   \n",
       "1                                0.0                             0.0   \n",
       "2                                0.0                             0.0   \n",
       "3                                0.0                             0.0   \n",
       "4                                0.0                             0.0   \n",
       "...                              ...                             ...   \n",
       "9047                             0.0                             0.0   \n",
       "9048                             0.0                             0.0   \n",
       "9049                             0.0                             0.0   \n",
       "9050                             0.0                             0.0   \n",
       "9051                             0.0                             0.0   \n",
       "\n",
       "      manufacturer_model_volvo: xc70  manufacturer_model_volvo: xc90  \\\n",
       "0                                0.0                             0.0   \n",
       "1                                0.0                             0.0   \n",
       "2                                0.0                             0.0   \n",
       "3                                0.0                             0.0   \n",
       "4                                0.0                             0.0   \n",
       "...                              ...                             ...   \n",
       "9047                             0.0                             0.0   \n",
       "9048                             0.0                             0.0   \n",
       "9049                             0.0                             0.0   \n",
       "9050                             0.0                             0.0   \n",
       "9051                             0.0                             0.0   \n",
       "\n",
       "      date_day  date_month  price_category_norm  age_category_average  \\\n",
       "0     0.173038   -0.613101                    2                   0.0   \n",
       "1     1.259536   -0.613101                    2                   0.0   \n",
       "2     0.173038   -0.613101                    1                   1.0   \n",
       "3    -0.715916   -0.613101                    1                   1.0   \n",
       "4    -1.111006    1.631052                    0                   0.0   \n",
       "...        ...         ...                  ...                   ...   \n",
       "9047 -0.518371   -0.613101                    0                   0.0   \n",
       "9048 -1.209779    1.631052                    1                   1.0   \n",
       "9049  0.666901   -0.613101                    0                   1.0   \n",
       "9050 -0.123280   -0.613101                    2                   0.0   \n",
       "9051  0.864446   -0.613101                    2                   0.0   \n",
       "\n",
       "      age_category_new  age_category_old  \n",
       "0                  1.0               0.0  \n",
       "1                  1.0               0.0  \n",
       "2                  0.0               0.0  \n",
       "3                  0.0               0.0  \n",
       "4                  1.0               0.0  \n",
       "...                ...               ...  \n",
       "9047               0.0               1.0  \n",
       "9048               0.0               0.0  \n",
       "9049               0.0               0.0  \n",
       "9050               1.0               0.0  \n",
       "9051               1.0               0.0  \n",
       "\n",
       "[9052 rows x 1733 columns]"
      ]
     },
     "execution_count": 980,
     "metadata": {},
     "output_type": "execute_result"
    }
   ],
   "source": [
    "df_final"
   ]
  },
  {
   "cell_type": "code",
   "execution_count": 981,
   "id": "bbba1a6a-6129-4e71-a146-5d9e00de68c8",
   "metadata": {
    "tags": []
   },
   "outputs": [],
   "source": [
    "df_final = df_final.drop(['short_model'], axis=1)\n"
   ]
  },
  {
   "cell_type": "code",
   "execution_count": 982,
   "id": "fe78c9ad-1861-48a3-b2d1-2d8479d0919b",
   "metadata": {
    "tags": []
   },
   "outputs": [
    {
     "data": {
      "text/html": [
       "<div>\n",
       "<style scoped>\n",
       "    .dataframe tbody tr th:only-of-type {\n",
       "        vertical-align: middle;\n",
       "    }\n",
       "\n",
       "    .dataframe tbody tr th {\n",
       "        vertical-align: top;\n",
       "    }\n",
       "\n",
       "    .dataframe thead th {\n",
       "        text-align: right;\n",
       "    }\n",
       "</style>\n",
       "<table border=\"1\" class=\"dataframe\">\n",
       "  <thead>\n",
       "    <tr style=\"text-align: right;\">\n",
       "      <th></th>\n",
       "      <th>year</th>\n",
       "      <th>odometer</th>\n",
       "      <th>lat</th>\n",
       "      <th>long</th>\n",
       "      <th>desc_len</th>\n",
       "      <th>fuel_diesel</th>\n",
       "      <th>fuel_electric</th>\n",
       "      <th>fuel_gas</th>\n",
       "      <th>fuel_hybrid</th>\n",
       "      <th>fuel_other</th>\n",
       "      <th>...</th>\n",
       "      <th>manufacturer_model_volvo: xc40</th>\n",
       "      <th>manufacturer_model_volvo: xc60</th>\n",
       "      <th>manufacturer_model_volvo: xc70</th>\n",
       "      <th>manufacturer_model_volvo: xc90</th>\n",
       "      <th>date_day</th>\n",
       "      <th>date_month</th>\n",
       "      <th>price_category_norm</th>\n",
       "      <th>age_category_average</th>\n",
       "      <th>age_category_new</th>\n",
       "      <th>age_category_old</th>\n",
       "    </tr>\n",
       "  </thead>\n",
       "  <tbody>\n",
       "    <tr>\n",
       "      <th>0</th>\n",
       "      <td>0.948199</td>\n",
       "      <td>-1.045690</td>\n",
       "      <td>-0.605246</td>\n",
       "      <td>0.483017</td>\n",
       "      <td>0.591981</td>\n",
       "      <td>1.0</td>\n",
       "      <td>0.0</td>\n",
       "      <td>0.0</td>\n",
       "      <td>0.0</td>\n",
       "      <td>0.0</td>\n",
       "      <td>...</td>\n",
       "      <td>0.0</td>\n",
       "      <td>0.0</td>\n",
       "      <td>0.0</td>\n",
       "      <td>0.0</td>\n",
       "      <td>0.173038</td>\n",
       "      <td>-0.613101</td>\n",
       "      <td>2</td>\n",
       "      <td>0.0</td>\n",
       "      <td>1.0</td>\n",
       "      <td>0.0</td>\n",
       "    </tr>\n",
       "    <tr>\n",
       "      <th>1</th>\n",
       "      <td>0.631292</td>\n",
       "      <td>-1.257488</td>\n",
       "      <td>-0.824665</td>\n",
       "      <td>0.529511</td>\n",
       "      <td>0.521654</td>\n",
       "      <td>0.0</td>\n",
       "      <td>0.0</td>\n",
       "      <td>1.0</td>\n",
       "      <td>0.0</td>\n",
       "      <td>0.0</td>\n",
       "      <td>...</td>\n",
       "      <td>0.0</td>\n",
       "      <td>0.0</td>\n",
       "      <td>0.0</td>\n",
       "      <td>0.0</td>\n",
       "      <td>1.259536</td>\n",
       "      <td>-0.613101</td>\n",
       "      <td>2</td>\n",
       "      <td>0.0</td>\n",
       "      <td>1.0</td>\n",
       "      <td>0.0</td>\n",
       "    </tr>\n",
       "    <tr>\n",
       "      <th>2</th>\n",
       "      <td>0.208749</td>\n",
       "      <td>0.375085</td>\n",
       "      <td>-0.492871</td>\n",
       "      <td>0.848824</td>\n",
       "      <td>0.146700</td>\n",
       "      <td>0.0</td>\n",
       "      <td>0.0</td>\n",
       "      <td>1.0</td>\n",
       "      <td>0.0</td>\n",
       "      <td>0.0</td>\n",
       "      <td>...</td>\n",
       "      <td>0.0</td>\n",
       "      <td>0.0</td>\n",
       "      <td>0.0</td>\n",
       "      <td>0.0</td>\n",
       "      <td>0.173038</td>\n",
       "      <td>-0.613101</td>\n",
       "      <td>1</td>\n",
       "      <td>1.0</td>\n",
       "      <td>0.0</td>\n",
       "      <td>0.0</td>\n",
       "    </tr>\n",
       "    <tr>\n",
       "      <th>3</th>\n",
       "      <td>0.103113</td>\n",
       "      <td>-0.207241</td>\n",
       "      <td>-0.449349</td>\n",
       "      <td>0.555682</td>\n",
       "      <td>0.724381</td>\n",
       "      <td>0.0</td>\n",
       "      <td>0.0</td>\n",
       "      <td>0.0</td>\n",
       "      <td>0.0</td>\n",
       "      <td>1.0</td>\n",
       "      <td>...</td>\n",
       "      <td>0.0</td>\n",
       "      <td>0.0</td>\n",
       "      <td>0.0</td>\n",
       "      <td>0.0</td>\n",
       "      <td>-0.715916</td>\n",
       "      <td>-0.613101</td>\n",
       "      <td>1</td>\n",
       "      <td>1.0</td>\n",
       "      <td>0.0</td>\n",
       "      <td>0.0</td>\n",
       "    </tr>\n",
       "    <tr>\n",
       "      <th>4</th>\n",
       "      <td>0.420021</td>\n",
       "      <td>0.876497</td>\n",
       "      <td>0.476270</td>\n",
       "      <td>0.012310</td>\n",
       "      <td>-0.892766</td>\n",
       "      <td>0.0</td>\n",
       "      <td>0.0</td>\n",
       "      <td>1.0</td>\n",
       "      <td>0.0</td>\n",
       "      <td>0.0</td>\n",
       "      <td>...</td>\n",
       "      <td>0.0</td>\n",
       "      <td>0.0</td>\n",
       "      <td>0.0</td>\n",
       "      <td>0.0</td>\n",
       "      <td>-1.111006</td>\n",
       "      <td>1.631052</td>\n",
       "      <td>0</td>\n",
       "      <td>0.0</td>\n",
       "      <td>1.0</td>\n",
       "      <td>0.0</td>\n",
       "    </tr>\n",
       "    <tr>\n",
       "      <th>...</th>\n",
       "      <td>...</td>\n",
       "      <td>...</td>\n",
       "      <td>...</td>\n",
       "      <td>...</td>\n",
       "      <td>...</td>\n",
       "      <td>...</td>\n",
       "      <td>...</td>\n",
       "      <td>...</td>\n",
       "      <td>...</td>\n",
       "      <td>...</td>\n",
       "      <td>...</td>\n",
       "      <td>...</td>\n",
       "      <td>...</td>\n",
       "      <td>...</td>\n",
       "      <td>...</td>\n",
       "      <td>...</td>\n",
       "      <td>...</td>\n",
       "      <td>...</td>\n",
       "      <td>...</td>\n",
       "      <td>...</td>\n",
       "      <td>...</td>\n",
       "    </tr>\n",
       "    <tr>\n",
       "      <th>9047</th>\n",
       "      <td>-0.953244</td>\n",
       "      <td>0.892310</td>\n",
       "      <td>0.604911</td>\n",
       "      <td>0.819192</td>\n",
       "      <td>-0.402635</td>\n",
       "      <td>0.0</td>\n",
       "      <td>0.0</td>\n",
       "      <td>1.0</td>\n",
       "      <td>0.0</td>\n",
       "      <td>0.0</td>\n",
       "      <td>...</td>\n",
       "      <td>0.0</td>\n",
       "      <td>0.0</td>\n",
       "      <td>0.0</td>\n",
       "      <td>0.0</td>\n",
       "      <td>-0.518371</td>\n",
       "      <td>-0.613101</td>\n",
       "      <td>0</td>\n",
       "      <td>0.0</td>\n",
       "      <td>0.0</td>\n",
       "      <td>1.0</td>\n",
       "    </tr>\n",
       "    <tr>\n",
       "      <th>9048</th>\n",
       "      <td>-0.319429</td>\n",
       "      <td>0.316293</td>\n",
       "      <td>0.792175</td>\n",
       "      <td>0.898730</td>\n",
       "      <td>-0.676046</td>\n",
       "      <td>0.0</td>\n",
       "      <td>0.0</td>\n",
       "      <td>1.0</td>\n",
       "      <td>0.0</td>\n",
       "      <td>0.0</td>\n",
       "      <td>...</td>\n",
       "      <td>0.0</td>\n",
       "      <td>0.0</td>\n",
       "      <td>0.0</td>\n",
       "      <td>0.0</td>\n",
       "      <td>-1.209779</td>\n",
       "      <td>1.631052</td>\n",
       "      <td>1</td>\n",
       "      <td>1.0</td>\n",
       "      <td>0.0</td>\n",
       "      <td>0.0</td>\n",
       "    </tr>\n",
       "    <tr>\n",
       "      <th>9049</th>\n",
       "      <td>-0.002522</td>\n",
       "      <td>0.895220</td>\n",
       "      <td>1.084939</td>\n",
       "      <td>-1.610017</td>\n",
       "      <td>-0.690040</td>\n",
       "      <td>0.0</td>\n",
       "      <td>0.0</td>\n",
       "      <td>1.0</td>\n",
       "      <td>0.0</td>\n",
       "      <td>0.0</td>\n",
       "      <td>...</td>\n",
       "      <td>0.0</td>\n",
       "      <td>0.0</td>\n",
       "      <td>0.0</td>\n",
       "      <td>0.0</td>\n",
       "      <td>0.666901</td>\n",
       "      <td>-0.613101</td>\n",
       "      <td>0</td>\n",
       "      <td>1.0</td>\n",
       "      <td>0.0</td>\n",
       "      <td>0.0</td>\n",
       "    </tr>\n",
       "    <tr>\n",
       "      <th>9050</th>\n",
       "      <td>0.420021</td>\n",
       "      <td>-0.500128</td>\n",
       "      <td>0.760065</td>\n",
       "      <td>0.252939</td>\n",
       "      <td>0.291300</td>\n",
       "      <td>0.0</td>\n",
       "      <td>0.0</td>\n",
       "      <td>0.0</td>\n",
       "      <td>1.0</td>\n",
       "      <td>0.0</td>\n",
       "      <td>...</td>\n",
       "      <td>0.0</td>\n",
       "      <td>0.0</td>\n",
       "      <td>0.0</td>\n",
       "      <td>0.0</td>\n",
       "      <td>-0.123280</td>\n",
       "      <td>-0.613101</td>\n",
       "      <td>2</td>\n",
       "      <td>0.0</td>\n",
       "      <td>1.0</td>\n",
       "      <td>0.0</td>\n",
       "    </tr>\n",
       "    <tr>\n",
       "      <th>9051</th>\n",
       "      <td>0.631292</td>\n",
       "      <td>-0.911612</td>\n",
       "      <td>-0.329428</td>\n",
       "      <td>0.979473</td>\n",
       "      <td>0.592340</td>\n",
       "      <td>0.0</td>\n",
       "      <td>0.0</td>\n",
       "      <td>1.0</td>\n",
       "      <td>0.0</td>\n",
       "      <td>0.0</td>\n",
       "      <td>...</td>\n",
       "      <td>0.0</td>\n",
       "      <td>0.0</td>\n",
       "      <td>0.0</td>\n",
       "      <td>0.0</td>\n",
       "      <td>0.864446</td>\n",
       "      <td>-0.613101</td>\n",
       "      <td>2</td>\n",
       "      <td>0.0</td>\n",
       "      <td>1.0</td>\n",
       "      <td>0.0</td>\n",
       "    </tr>\n",
       "  </tbody>\n",
       "</table>\n",
       "<p>9052 rows × 1732 columns</p>\n",
       "</div>"
      ],
      "text/plain": [
       "          year  odometer       lat      long  desc_len  fuel_diesel  \\\n",
       "0     0.948199 -1.045690 -0.605246  0.483017  0.591981          1.0   \n",
       "1     0.631292 -1.257488 -0.824665  0.529511  0.521654          0.0   \n",
       "2     0.208749  0.375085 -0.492871  0.848824  0.146700          0.0   \n",
       "3     0.103113 -0.207241 -0.449349  0.555682  0.724381          0.0   \n",
       "4     0.420021  0.876497  0.476270  0.012310 -0.892766          0.0   \n",
       "...        ...       ...       ...       ...       ...          ...   \n",
       "9047 -0.953244  0.892310  0.604911  0.819192 -0.402635          0.0   \n",
       "9048 -0.319429  0.316293  0.792175  0.898730 -0.676046          0.0   \n",
       "9049 -0.002522  0.895220  1.084939 -1.610017 -0.690040          0.0   \n",
       "9050  0.420021 -0.500128  0.760065  0.252939  0.291300          0.0   \n",
       "9051  0.631292 -0.911612 -0.329428  0.979473  0.592340          0.0   \n",
       "\n",
       "      fuel_electric  fuel_gas  fuel_hybrid  fuel_other  ...  \\\n",
       "0               0.0       0.0          0.0         0.0  ...   \n",
       "1               0.0       1.0          0.0         0.0  ...   \n",
       "2               0.0       1.0          0.0         0.0  ...   \n",
       "3               0.0       0.0          0.0         1.0  ...   \n",
       "4               0.0       1.0          0.0         0.0  ...   \n",
       "...             ...       ...          ...         ...  ...   \n",
       "9047            0.0       1.0          0.0         0.0  ...   \n",
       "9048            0.0       1.0          0.0         0.0  ...   \n",
       "9049            0.0       1.0          0.0         0.0  ...   \n",
       "9050            0.0       0.0          1.0         0.0  ...   \n",
       "9051            0.0       1.0          0.0         0.0  ...   \n",
       "\n",
       "      manufacturer_model_volvo: xc40  manufacturer_model_volvo: xc60  \\\n",
       "0                                0.0                             0.0   \n",
       "1                                0.0                             0.0   \n",
       "2                                0.0                             0.0   \n",
       "3                                0.0                             0.0   \n",
       "4                                0.0                             0.0   \n",
       "...                              ...                             ...   \n",
       "9047                             0.0                             0.0   \n",
       "9048                             0.0                             0.0   \n",
       "9049                             0.0                             0.0   \n",
       "9050                             0.0                             0.0   \n",
       "9051                             0.0                             0.0   \n",
       "\n",
       "      manufacturer_model_volvo: xc70  manufacturer_model_volvo: xc90  \\\n",
       "0                                0.0                             0.0   \n",
       "1                                0.0                             0.0   \n",
       "2                                0.0                             0.0   \n",
       "3                                0.0                             0.0   \n",
       "4                                0.0                             0.0   \n",
       "...                              ...                             ...   \n",
       "9047                             0.0                             0.0   \n",
       "9048                             0.0                             0.0   \n",
       "9049                             0.0                             0.0   \n",
       "9050                             0.0                             0.0   \n",
       "9051                             0.0                             0.0   \n",
       "\n",
       "      date_day  date_month  price_category_norm  age_category_average  \\\n",
       "0     0.173038   -0.613101                    2                   0.0   \n",
       "1     1.259536   -0.613101                    2                   0.0   \n",
       "2     0.173038   -0.613101                    1                   1.0   \n",
       "3    -0.715916   -0.613101                    1                   1.0   \n",
       "4    -1.111006    1.631052                    0                   0.0   \n",
       "...        ...         ...                  ...                   ...   \n",
       "9047 -0.518371   -0.613101                    0                   0.0   \n",
       "9048 -1.209779    1.631052                    1                   1.0   \n",
       "9049  0.666901   -0.613101                    0                   1.0   \n",
       "9050 -0.123280   -0.613101                    2                   0.0   \n",
       "9051  0.864446   -0.613101                    2                   0.0   \n",
       "\n",
       "      age_category_new  age_category_old  \n",
       "0                  1.0               0.0  \n",
       "1                  1.0               0.0  \n",
       "2                  0.0               0.0  \n",
       "3                  0.0               0.0  \n",
       "4                  1.0               0.0  \n",
       "...                ...               ...  \n",
       "9047               0.0               1.0  \n",
       "9048               0.0               0.0  \n",
       "9049               0.0               0.0  \n",
       "9050               1.0               0.0  \n",
       "9051               1.0               0.0  \n",
       "\n",
       "[9052 rows x 1732 columns]"
      ]
     },
     "execution_count": 982,
     "metadata": {},
     "output_type": "execute_result"
    }
   ],
   "source": [
    "df_final"
   ]
  },
  {
   "cell_type": "code",
   "execution_count": 983,
   "id": "2537a07f-e081-4724-84f3-e9da5c8bd7d8",
   "metadata": {
    "tags": []
   },
   "outputs": [],
   "source": [
    "df_final.to_csv('data\\df_final.csv', index='False')"
   ]
  },
  {
   "cell_type": "code",
   "execution_count": null,
   "id": "807aa532-e1f6-43ae-b9a3-08257afc5809",
   "metadata": {},
   "outputs": [],
   "source": []
  },
  {
   "cell_type": "markdown",
   "id": "35d4add4-b7af-4b26-8bbe-9b7038797a51",
   "metadata": {},
   "source": [
    "## Modelling"
   ]
  },
  {
   "cell_type": "code",
   "execution_count": 8,
   "id": "3ca0ad2e-b94e-4642-8050-6dc16c44f948",
   "metadata": {
    "tags": []
   },
   "outputs": [],
   "source": [
    "df = pd.read_csv('data\\df_final.csv', )"
   ]
  },
  {
   "cell_type": "code",
   "execution_count": 123,
   "id": "45213efb-17e2-4964-a4ca-112da9a694fb",
   "metadata": {
    "tags": []
   },
   "outputs": [
    {
     "data": {
      "text/html": [
       "<div>\n",
       "<style scoped>\n",
       "    .dataframe tbody tr th:only-of-type {\n",
       "        vertical-align: middle;\n",
       "    }\n",
       "\n",
       "    .dataframe tbody tr th {\n",
       "        vertical-align: top;\n",
       "    }\n",
       "\n",
       "    .dataframe thead th {\n",
       "        text-align: right;\n",
       "    }\n",
       "</style>\n",
       "<table border=\"1\" class=\"dataframe\">\n",
       "  <thead>\n",
       "    <tr style=\"text-align: right;\">\n",
       "      <th></th>\n",
       "      <th>year</th>\n",
       "      <th>odometer</th>\n",
       "      <th>lat</th>\n",
       "      <th>long</th>\n",
       "      <th>desc_len</th>\n",
       "      <th>fuel_diesel</th>\n",
       "      <th>fuel_electric</th>\n",
       "      <th>fuel_gas</th>\n",
       "      <th>fuel_hybrid</th>\n",
       "      <th>fuel_other</th>\n",
       "      <th>...</th>\n",
       "      <th>manufacturer_model_volvo: xc40</th>\n",
       "      <th>manufacturer_model_volvo: xc60</th>\n",
       "      <th>manufacturer_model_volvo: xc70</th>\n",
       "      <th>manufacturer_model_volvo: xc90</th>\n",
       "      <th>date_day</th>\n",
       "      <th>date_month</th>\n",
       "      <th>price_category</th>\n",
       "      <th>age_category_average</th>\n",
       "      <th>age_category_new</th>\n",
       "      <th>age_category_old</th>\n",
       "    </tr>\n",
       "  </thead>\n",
       "  <tbody>\n",
       "    <tr>\n",
       "      <th>0</th>\n",
       "      <td>0.948199</td>\n",
       "      <td>-1.045690</td>\n",
       "      <td>-0.605246</td>\n",
       "      <td>0.483017</td>\n",
       "      <td>0.591981</td>\n",
       "      <td>1.0</td>\n",
       "      <td>0.0</td>\n",
       "      <td>0.0</td>\n",
       "      <td>0.0</td>\n",
       "      <td>0.0</td>\n",
       "      <td>...</td>\n",
       "      <td>0.0</td>\n",
       "      <td>0.0</td>\n",
       "      <td>0.0</td>\n",
       "      <td>0.0</td>\n",
       "      <td>0.173038</td>\n",
       "      <td>-0.613101</td>\n",
       "      <td>2</td>\n",
       "      <td>0.0</td>\n",
       "      <td>1.0</td>\n",
       "      <td>0.0</td>\n",
       "    </tr>\n",
       "    <tr>\n",
       "      <th>1</th>\n",
       "      <td>0.631292</td>\n",
       "      <td>-1.257488</td>\n",
       "      <td>-0.824665</td>\n",
       "      <td>0.529511</td>\n",
       "      <td>0.521654</td>\n",
       "      <td>0.0</td>\n",
       "      <td>0.0</td>\n",
       "      <td>1.0</td>\n",
       "      <td>0.0</td>\n",
       "      <td>0.0</td>\n",
       "      <td>...</td>\n",
       "      <td>0.0</td>\n",
       "      <td>0.0</td>\n",
       "      <td>0.0</td>\n",
       "      <td>0.0</td>\n",
       "      <td>1.259536</td>\n",
       "      <td>-0.613101</td>\n",
       "      <td>2</td>\n",
       "      <td>0.0</td>\n",
       "      <td>1.0</td>\n",
       "      <td>0.0</td>\n",
       "    </tr>\n",
       "    <tr>\n",
       "      <th>2</th>\n",
       "      <td>0.208749</td>\n",
       "      <td>0.375085</td>\n",
       "      <td>-0.492871</td>\n",
       "      <td>0.848824</td>\n",
       "      <td>0.146700</td>\n",
       "      <td>0.0</td>\n",
       "      <td>0.0</td>\n",
       "      <td>1.0</td>\n",
       "      <td>0.0</td>\n",
       "      <td>0.0</td>\n",
       "      <td>...</td>\n",
       "      <td>0.0</td>\n",
       "      <td>0.0</td>\n",
       "      <td>0.0</td>\n",
       "      <td>0.0</td>\n",
       "      <td>0.173038</td>\n",
       "      <td>-0.613101</td>\n",
       "      <td>1</td>\n",
       "      <td>1.0</td>\n",
       "      <td>0.0</td>\n",
       "      <td>0.0</td>\n",
       "    </tr>\n",
       "    <tr>\n",
       "      <th>3</th>\n",
       "      <td>0.103113</td>\n",
       "      <td>-0.207241</td>\n",
       "      <td>-0.449349</td>\n",
       "      <td>0.555682</td>\n",
       "      <td>0.724381</td>\n",
       "      <td>0.0</td>\n",
       "      <td>0.0</td>\n",
       "      <td>0.0</td>\n",
       "      <td>0.0</td>\n",
       "      <td>1.0</td>\n",
       "      <td>...</td>\n",
       "      <td>0.0</td>\n",
       "      <td>0.0</td>\n",
       "      <td>0.0</td>\n",
       "      <td>0.0</td>\n",
       "      <td>-0.715916</td>\n",
       "      <td>-0.613101</td>\n",
       "      <td>1</td>\n",
       "      <td>1.0</td>\n",
       "      <td>0.0</td>\n",
       "      <td>0.0</td>\n",
       "    </tr>\n",
       "    <tr>\n",
       "      <th>4</th>\n",
       "      <td>0.420021</td>\n",
       "      <td>0.876497</td>\n",
       "      <td>0.476270</td>\n",
       "      <td>0.012310</td>\n",
       "      <td>-0.892766</td>\n",
       "      <td>0.0</td>\n",
       "      <td>0.0</td>\n",
       "      <td>1.0</td>\n",
       "      <td>0.0</td>\n",
       "      <td>0.0</td>\n",
       "      <td>...</td>\n",
       "      <td>0.0</td>\n",
       "      <td>0.0</td>\n",
       "      <td>0.0</td>\n",
       "      <td>0.0</td>\n",
       "      <td>-1.111006</td>\n",
       "      <td>1.631052</td>\n",
       "      <td>0</td>\n",
       "      <td>0.0</td>\n",
       "      <td>1.0</td>\n",
       "      <td>0.0</td>\n",
       "    </tr>\n",
       "    <tr>\n",
       "      <th>...</th>\n",
       "      <td>...</td>\n",
       "      <td>...</td>\n",
       "      <td>...</td>\n",
       "      <td>...</td>\n",
       "      <td>...</td>\n",
       "      <td>...</td>\n",
       "      <td>...</td>\n",
       "      <td>...</td>\n",
       "      <td>...</td>\n",
       "      <td>...</td>\n",
       "      <td>...</td>\n",
       "      <td>...</td>\n",
       "      <td>...</td>\n",
       "      <td>...</td>\n",
       "      <td>...</td>\n",
       "      <td>...</td>\n",
       "      <td>...</td>\n",
       "      <td>...</td>\n",
       "      <td>...</td>\n",
       "      <td>...</td>\n",
       "      <td>...</td>\n",
       "    </tr>\n",
       "    <tr>\n",
       "      <th>9047</th>\n",
       "      <td>-0.953244</td>\n",
       "      <td>0.892310</td>\n",
       "      <td>0.604911</td>\n",
       "      <td>0.819192</td>\n",
       "      <td>-0.402635</td>\n",
       "      <td>0.0</td>\n",
       "      <td>0.0</td>\n",
       "      <td>1.0</td>\n",
       "      <td>0.0</td>\n",
       "      <td>0.0</td>\n",
       "      <td>...</td>\n",
       "      <td>0.0</td>\n",
       "      <td>0.0</td>\n",
       "      <td>0.0</td>\n",
       "      <td>0.0</td>\n",
       "      <td>-0.518371</td>\n",
       "      <td>-0.613101</td>\n",
       "      <td>0</td>\n",
       "      <td>0.0</td>\n",
       "      <td>0.0</td>\n",
       "      <td>1.0</td>\n",
       "    </tr>\n",
       "    <tr>\n",
       "      <th>9048</th>\n",
       "      <td>-0.319429</td>\n",
       "      <td>0.316293</td>\n",
       "      <td>0.792175</td>\n",
       "      <td>0.898730</td>\n",
       "      <td>-0.676046</td>\n",
       "      <td>0.0</td>\n",
       "      <td>0.0</td>\n",
       "      <td>1.0</td>\n",
       "      <td>0.0</td>\n",
       "      <td>0.0</td>\n",
       "      <td>...</td>\n",
       "      <td>0.0</td>\n",
       "      <td>0.0</td>\n",
       "      <td>0.0</td>\n",
       "      <td>0.0</td>\n",
       "      <td>-1.209779</td>\n",
       "      <td>1.631052</td>\n",
       "      <td>1</td>\n",
       "      <td>1.0</td>\n",
       "      <td>0.0</td>\n",
       "      <td>0.0</td>\n",
       "    </tr>\n",
       "    <tr>\n",
       "      <th>9049</th>\n",
       "      <td>-0.002522</td>\n",
       "      <td>0.895220</td>\n",
       "      <td>1.084939</td>\n",
       "      <td>-1.610017</td>\n",
       "      <td>-0.690040</td>\n",
       "      <td>0.0</td>\n",
       "      <td>0.0</td>\n",
       "      <td>1.0</td>\n",
       "      <td>0.0</td>\n",
       "      <td>0.0</td>\n",
       "      <td>...</td>\n",
       "      <td>0.0</td>\n",
       "      <td>0.0</td>\n",
       "      <td>0.0</td>\n",
       "      <td>0.0</td>\n",
       "      <td>0.666901</td>\n",
       "      <td>-0.613101</td>\n",
       "      <td>0</td>\n",
       "      <td>1.0</td>\n",
       "      <td>0.0</td>\n",
       "      <td>0.0</td>\n",
       "    </tr>\n",
       "    <tr>\n",
       "      <th>9050</th>\n",
       "      <td>0.420021</td>\n",
       "      <td>-0.500128</td>\n",
       "      <td>0.760065</td>\n",
       "      <td>0.252939</td>\n",
       "      <td>0.291300</td>\n",
       "      <td>0.0</td>\n",
       "      <td>0.0</td>\n",
       "      <td>0.0</td>\n",
       "      <td>1.0</td>\n",
       "      <td>0.0</td>\n",
       "      <td>...</td>\n",
       "      <td>0.0</td>\n",
       "      <td>0.0</td>\n",
       "      <td>0.0</td>\n",
       "      <td>0.0</td>\n",
       "      <td>-0.123280</td>\n",
       "      <td>-0.613101</td>\n",
       "      <td>2</td>\n",
       "      <td>0.0</td>\n",
       "      <td>1.0</td>\n",
       "      <td>0.0</td>\n",
       "    </tr>\n",
       "    <tr>\n",
       "      <th>9051</th>\n",
       "      <td>0.631292</td>\n",
       "      <td>-0.911612</td>\n",
       "      <td>-0.329428</td>\n",
       "      <td>0.979473</td>\n",
       "      <td>0.592340</td>\n",
       "      <td>0.0</td>\n",
       "      <td>0.0</td>\n",
       "      <td>1.0</td>\n",
       "      <td>0.0</td>\n",
       "      <td>0.0</td>\n",
       "      <td>...</td>\n",
       "      <td>0.0</td>\n",
       "      <td>0.0</td>\n",
       "      <td>0.0</td>\n",
       "      <td>0.0</td>\n",
       "      <td>0.864446</td>\n",
       "      <td>-0.613101</td>\n",
       "      <td>2</td>\n",
       "      <td>0.0</td>\n",
       "      <td>1.0</td>\n",
       "      <td>0.0</td>\n",
       "    </tr>\n",
       "  </tbody>\n",
       "</table>\n",
       "<p>9052 rows × 1732 columns</p>\n",
       "</div>"
      ],
      "text/plain": [
       "          year  odometer       lat      long  desc_len  fuel_diesel  \\\n",
       "0     0.948199 -1.045690 -0.605246  0.483017  0.591981          1.0   \n",
       "1     0.631292 -1.257488 -0.824665  0.529511  0.521654          0.0   \n",
       "2     0.208749  0.375085 -0.492871  0.848824  0.146700          0.0   \n",
       "3     0.103113 -0.207241 -0.449349  0.555682  0.724381          0.0   \n",
       "4     0.420021  0.876497  0.476270  0.012310 -0.892766          0.0   \n",
       "...        ...       ...       ...       ...       ...          ...   \n",
       "9047 -0.953244  0.892310  0.604911  0.819192 -0.402635          0.0   \n",
       "9048 -0.319429  0.316293  0.792175  0.898730 -0.676046          0.0   \n",
       "9049 -0.002522  0.895220  1.084939 -1.610017 -0.690040          0.0   \n",
       "9050  0.420021 -0.500128  0.760065  0.252939  0.291300          0.0   \n",
       "9051  0.631292 -0.911612 -0.329428  0.979473  0.592340          0.0   \n",
       "\n",
       "      fuel_electric  fuel_gas  fuel_hybrid  fuel_other  ...  \\\n",
       "0               0.0       0.0          0.0         0.0  ...   \n",
       "1               0.0       1.0          0.0         0.0  ...   \n",
       "2               0.0       1.0          0.0         0.0  ...   \n",
       "3               0.0       0.0          0.0         1.0  ...   \n",
       "4               0.0       1.0          0.0         0.0  ...   \n",
       "...             ...       ...          ...         ...  ...   \n",
       "9047            0.0       1.0          0.0         0.0  ...   \n",
       "9048            0.0       1.0          0.0         0.0  ...   \n",
       "9049            0.0       1.0          0.0         0.0  ...   \n",
       "9050            0.0       0.0          1.0         0.0  ...   \n",
       "9051            0.0       1.0          0.0         0.0  ...   \n",
       "\n",
       "      manufacturer_model_volvo: xc40  manufacturer_model_volvo: xc60  \\\n",
       "0                                0.0                             0.0   \n",
       "1                                0.0                             0.0   \n",
       "2                                0.0                             0.0   \n",
       "3                                0.0                             0.0   \n",
       "4                                0.0                             0.0   \n",
       "...                              ...                             ...   \n",
       "9047                             0.0                             0.0   \n",
       "9048                             0.0                             0.0   \n",
       "9049                             0.0                             0.0   \n",
       "9050                             0.0                             0.0   \n",
       "9051                             0.0                             0.0   \n",
       "\n",
       "      manufacturer_model_volvo: xc70  manufacturer_model_volvo: xc90  \\\n",
       "0                                0.0                             0.0   \n",
       "1                                0.0                             0.0   \n",
       "2                                0.0                             0.0   \n",
       "3                                0.0                             0.0   \n",
       "4                                0.0                             0.0   \n",
       "...                              ...                             ...   \n",
       "9047                             0.0                             0.0   \n",
       "9048                             0.0                             0.0   \n",
       "9049                             0.0                             0.0   \n",
       "9050                             0.0                             0.0   \n",
       "9051                             0.0                             0.0   \n",
       "\n",
       "      date_day  date_month  price_category  age_category_average  \\\n",
       "0     0.173038   -0.613101               2                   0.0   \n",
       "1     1.259536   -0.613101               2                   0.0   \n",
       "2     0.173038   -0.613101               1                   1.0   \n",
       "3    -0.715916   -0.613101               1                   1.0   \n",
       "4    -1.111006    1.631052               0                   0.0   \n",
       "...        ...         ...             ...                   ...   \n",
       "9047 -0.518371   -0.613101               0                   0.0   \n",
       "9048 -1.209779    1.631052               1                   1.0   \n",
       "9049  0.666901   -0.613101               0                   1.0   \n",
       "9050 -0.123280   -0.613101               2                   0.0   \n",
       "9051  0.864446   -0.613101               2                   0.0   \n",
       "\n",
       "      age_category_new  age_category_old  \n",
       "0                  1.0               0.0  \n",
       "1                  1.0               0.0  \n",
       "2                  0.0               0.0  \n",
       "3                  0.0               0.0  \n",
       "4                  1.0               0.0  \n",
       "...                ...               ...  \n",
       "9047               0.0               1.0  \n",
       "9048               0.0               0.0  \n",
       "9049               0.0               0.0  \n",
       "9050               1.0               0.0  \n",
       "9051               1.0               0.0  \n",
       "\n",
       "[9052 rows x 1732 columns]"
      ]
     },
     "execution_count": 123,
     "metadata": {},
     "output_type": "execute_result"
    }
   ],
   "source": [
    "df"
   ]
  },
  {
   "cell_type": "code",
   "execution_count": 10,
   "id": "9b67723d-0fa7-4a72-8670-0d547648625c",
   "metadata": {
    "tags": []
   },
   "outputs": [],
   "source": [
    "df.reset_index(drop=True, inplace=True)"
   ]
  },
  {
   "cell_type": "code",
   "execution_count": 11,
   "id": "f37e86c8-cb30-40b7-bd95-86398ec8fd8f",
   "metadata": {
    "tags": []
   },
   "outputs": [],
   "source": [
    "df = df.drop(['Unnamed: 0'], axis=1)\n"
   ]
  },
  {
   "cell_type": "code",
   "execution_count": 12,
   "id": "b8f55e3d-3051-43b7-a925-fa1538f2f00d",
   "metadata": {
    "tags": []
   },
   "outputs": [],
   "source": [
    "df = df.rename(mapper={'price_category_norm':'price_category'}, axis=1)"
   ]
  },
  {
   "cell_type": "code",
   "execution_count": 13,
   "id": "7391b6aa-38d2-43aa-a942-57f1f8fc4ff3",
   "metadata": {
    "tags": []
   },
   "outputs": [
    {
     "data": {
      "text/plain": [
       "dtype('int64')"
      ]
     },
     "execution_count": 13,
     "metadata": {},
     "output_type": "execute_result"
    }
   ],
   "source": [
    "df.price_category.dtype"
   ]
  },
  {
   "cell_type": "code",
   "execution_count": 14,
   "id": "6174e595-a8a1-4908-b47e-1605bd4924c1",
   "metadata": {
    "tags": []
   },
   "outputs": [
    {
     "data": {
      "text/plain": [
       "price_category\n",
       "2    3195\n",
       "1    2956\n",
       "0    2901\n",
       "Name: count, dtype: int64"
      ]
     },
     "execution_count": 14,
     "metadata": {},
     "output_type": "execute_result"
    }
   ],
   "source": [
    "df.price_category.value_counts()"
   ]
  },
  {
   "cell_type": "markdown",
   "id": "5d1f9d62-565b-4725-9e1c-bceebb302762",
   "metadata": {},
   "source": [
    "Значения у целевой переменной распределены равномерно."
   ]
  },
  {
   "cell_type": "code",
   "execution_count": 15,
   "id": "ee07852f-11b4-4c22-89b6-6c3c197eb847",
   "metadata": {
    "tags": []
   },
   "outputs": [],
   "source": [
    "x = df.drop(['price_category'], axis=1)\n",
    "y = df.price_category"
   ]
  },
  {
   "cell_type": "code",
   "execution_count": 16,
   "id": "de212e02-700f-4ab2-8668-0fd19f128a4e",
   "metadata": {
    "tags": []
   },
   "outputs": [
    {
     "data": {
      "text/plain": [
       "((6336, 1731), (2716, 1731))"
      ]
     },
     "execution_count": 16,
     "metadata": {},
     "output_type": "execute_result"
    }
   ],
   "source": [
    "x_train, x_test, y_train, y_test = train_test_split(x, y, test_size=0.3, random_state=42)\n",
    "x_train.shape, x_test.shape"
   ]
  },
  {
   "cell_type": "markdown",
   "id": "8ce40d32-2933-4060-82fa-173c3ab95777",
   "metadata": {
    "jp-MarkdownHeadingCollapsed": true,
    "tags": []
   },
   "source": [
    "### Логистическая регрессия"
   ]
  },
  {
   "cell_type": "code",
   "execution_count": 17,
   "id": "479870e6-63f5-409a-b976-9b4dbfdc1db9",
   "metadata": {},
   "outputs": [],
   "source": [
    "logreg = LogisticRegression(random_state=42)"
   ]
  },
  {
   "cell_type": "code",
   "execution_count": 18,
   "id": "fa3719e4-39d9-4d4f-9a76-273d50dd4da6",
   "metadata": {
    "tags": []
   },
   "outputs": [
    {
     "name": "stderr",
     "output_type": "stream",
     "text": [
      "C:\\Users\\odik\\AppData\\Local\\anaconda3\\Lib\\site-packages\\sklearn\\linear_model\\_logistic.py:460: ConvergenceWarning: lbfgs failed to converge (status=1):\n",
      "STOP: TOTAL NO. of ITERATIONS REACHED LIMIT.\n",
      "\n",
      "Increase the number of iterations (max_iter) or scale the data as shown in:\n",
      "    https://scikit-learn.org/stable/modules/preprocessing.html\n",
      "Please also refer to the documentation for alternative solver options:\n",
      "    https://scikit-learn.org/stable/modules/linear_model.html#logistic-regression\n",
      "  n_iter_i = _check_optimize_result(\n"
     ]
    },
    {
     "data": {
      "text/html": [
       "<style>#sk-container-id-1 {color: black;}#sk-container-id-1 pre{padding: 0;}#sk-container-id-1 div.sk-toggleable {background-color: white;}#sk-container-id-1 label.sk-toggleable__label {cursor: pointer;display: block;width: 100%;margin-bottom: 0;padding: 0.3em;box-sizing: border-box;text-align: center;}#sk-container-id-1 label.sk-toggleable__label-arrow:before {content: \"▸\";float: left;margin-right: 0.25em;color: #696969;}#sk-container-id-1 label.sk-toggleable__label-arrow:hover:before {color: black;}#sk-container-id-1 div.sk-estimator:hover label.sk-toggleable__label-arrow:before {color: black;}#sk-container-id-1 div.sk-toggleable__content {max-height: 0;max-width: 0;overflow: hidden;text-align: left;background-color: #f0f8ff;}#sk-container-id-1 div.sk-toggleable__content pre {margin: 0.2em;color: black;border-radius: 0.25em;background-color: #f0f8ff;}#sk-container-id-1 input.sk-toggleable__control:checked~div.sk-toggleable__content {max-height: 200px;max-width: 100%;overflow: auto;}#sk-container-id-1 input.sk-toggleable__control:checked~label.sk-toggleable__label-arrow:before {content: \"▾\";}#sk-container-id-1 div.sk-estimator input.sk-toggleable__control:checked~label.sk-toggleable__label {background-color: #d4ebff;}#sk-container-id-1 div.sk-label input.sk-toggleable__control:checked~label.sk-toggleable__label {background-color: #d4ebff;}#sk-container-id-1 input.sk-hidden--visually {border: 0;clip: rect(1px 1px 1px 1px);clip: rect(1px, 1px, 1px, 1px);height: 1px;margin: -1px;overflow: hidden;padding: 0;position: absolute;width: 1px;}#sk-container-id-1 div.sk-estimator {font-family: monospace;background-color: #f0f8ff;border: 1px dotted black;border-radius: 0.25em;box-sizing: border-box;margin-bottom: 0.5em;}#sk-container-id-1 div.sk-estimator:hover {background-color: #d4ebff;}#sk-container-id-1 div.sk-parallel-item::after {content: \"\";width: 100%;border-bottom: 1px solid gray;flex-grow: 1;}#sk-container-id-1 div.sk-label:hover label.sk-toggleable__label {background-color: #d4ebff;}#sk-container-id-1 div.sk-serial::before {content: \"\";position: absolute;border-left: 1px solid gray;box-sizing: border-box;top: 0;bottom: 0;left: 50%;z-index: 0;}#sk-container-id-1 div.sk-serial {display: flex;flex-direction: column;align-items: center;background-color: white;padding-right: 0.2em;padding-left: 0.2em;position: relative;}#sk-container-id-1 div.sk-item {position: relative;z-index: 1;}#sk-container-id-1 div.sk-parallel {display: flex;align-items: stretch;justify-content: center;background-color: white;position: relative;}#sk-container-id-1 div.sk-item::before, #sk-container-id-1 div.sk-parallel-item::before {content: \"\";position: absolute;border-left: 1px solid gray;box-sizing: border-box;top: 0;bottom: 0;left: 50%;z-index: -1;}#sk-container-id-1 div.sk-parallel-item {display: flex;flex-direction: column;z-index: 1;position: relative;background-color: white;}#sk-container-id-1 div.sk-parallel-item:first-child::after {align-self: flex-end;width: 50%;}#sk-container-id-1 div.sk-parallel-item:last-child::after {align-self: flex-start;width: 50%;}#sk-container-id-1 div.sk-parallel-item:only-child::after {width: 0;}#sk-container-id-1 div.sk-dashed-wrapped {border: 1px dashed gray;margin: 0 0.4em 0.5em 0.4em;box-sizing: border-box;padding-bottom: 0.4em;background-color: white;}#sk-container-id-1 div.sk-label label {font-family: monospace;font-weight: bold;display: inline-block;line-height: 1.2em;}#sk-container-id-1 div.sk-label-container {text-align: center;}#sk-container-id-1 div.sk-container {/* jupyter's `normalize.less` sets `[hidden] { display: none; }` but bootstrap.min.css set `[hidden] { display: none !important; }` so we also need the `!important` here to be able to override the default hidden behavior on the sphinx rendered scikit-learn.org. See: https://github.com/scikit-learn/scikit-learn/issues/21755 */display: inline-block !important;position: relative;}#sk-container-id-1 div.sk-text-repr-fallback {display: none;}</style><div id=\"sk-container-id-1\" class=\"sk-top-container\"><div class=\"sk-text-repr-fallback\"><pre>LogisticRegression(random_state=42)</pre><b>In a Jupyter environment, please rerun this cell to show the HTML representation or trust the notebook. <br />On GitHub, the HTML representation is unable to render, please try loading this page with nbviewer.org.</b></div><div class=\"sk-container\" hidden><div class=\"sk-item\"><div class=\"sk-estimator sk-toggleable\"><input class=\"sk-toggleable__control sk-hidden--visually\" id=\"sk-estimator-id-1\" type=\"checkbox\" checked><label for=\"sk-estimator-id-1\" class=\"sk-toggleable__label sk-toggleable__label-arrow\">LogisticRegression</label><div class=\"sk-toggleable__content\"><pre>LogisticRegression(random_state=42)</pre></div></div></div></div></div>"
      ],
      "text/plain": [
       "LogisticRegression(random_state=42)"
      ]
     },
     "execution_count": 18,
     "metadata": {},
     "output_type": "execute_result"
    }
   ],
   "source": [
    "logreg.fit(x_train, y_train)\n"
   ]
  },
  {
   "cell_type": "code",
   "execution_count": 19,
   "id": "7d1bccb4-c50d-438c-a9b4-c56929e76e01",
   "metadata": {},
   "outputs": [
    {
     "data": {
      "text/plain": [
       "0.78240058910162"
      ]
     },
     "execution_count": 19,
     "metadata": {},
     "output_type": "execute_result"
    }
   ],
   "source": [
    "pred_logreg = logreg.predict(x_test)\n",
    "accuracy_score(y_test, pred_logreg)"
   ]
  },
  {
   "cell_type": "code",
   "execution_count": 20,
   "id": "75e82cb8-97da-45c2-8096-60d7b786799b",
   "metadata": {
    "tags": []
   },
   "outputs": [
    {
     "data": {
      "text/plain": [
       "array([[685, 124,  23],\n",
       "       [169, 606, 131],\n",
       "       [ 12, 132, 834]], dtype=int64)"
      ]
     },
     "execution_count": 20,
     "metadata": {},
     "output_type": "execute_result"
    }
   ],
   "source": [
    "confusion_matrix(y_test, pred_logreg)"
   ]
  },
  {
   "cell_type": "markdown",
   "id": "b00f5866-b92d-411c-b289-da1437ffe198",
   "metadata": {
    "tags": []
   },
   "source": [
    "#### Попробуем улучшить модель"
   ]
  },
  {
   "cell_type": "code",
   "execution_count": 31,
   "id": "66ff28e4-0bbe-4857-91c3-fdddd4cfbceb",
   "metadata": {
    "tags": []
   },
   "outputs": [
    {
     "data": {
      "text/plain": [
       "{'C': 1.0,\n",
       " 'class_weight': None,\n",
       " 'dual': False,\n",
       " 'fit_intercept': True,\n",
       " 'intercept_scaling': 1,\n",
       " 'l1_ratio': None,\n",
       " 'max_iter': 100,\n",
       " 'multi_class': 'auto',\n",
       " 'n_jobs': None,\n",
       " 'penalty': 'l2',\n",
       " 'random_state': 42,\n",
       " 'solver': 'lbfgs',\n",
       " 'tol': 0.0001,\n",
       " 'verbose': 0,\n",
       " 'warm_start': False}"
      ]
     },
     "execution_count": 31,
     "metadata": {},
     "output_type": "execute_result"
    }
   ],
   "source": [
    "logreg.get_params()"
   ]
  },
  {
   "cell_type": "code",
   "execution_count": 87,
   "id": "2a576e1a-3806-4905-83a2-01a39ced1c9e",
   "metadata": {
    "tags": []
   },
   "outputs": [],
   "source": [
    "logreg_tuned = LogisticRegression(penalty='l1', solver='saga', max_iter = 1000, random_state=42)"
   ]
  },
  {
   "cell_type": "code",
   "execution_count": 88,
   "id": "a42ec74e-3e7f-4859-b71c-d3d9fb069a0d",
   "metadata": {
    "tags": []
   },
   "outputs": [
    {
     "name": "stderr",
     "output_type": "stream",
     "text": [
      "C:\\Users\\odik\\AppData\\Local\\anaconda3\\Lib\\site-packages\\sklearn\\linear_model\\_sag.py:350: ConvergenceWarning: The max_iter was reached which means the coef_ did not converge\n",
      "  warnings.warn(\n"
     ]
    },
    {
     "data": {
      "text/html": [
       "<style>#sk-container-id-15 {color: black;}#sk-container-id-15 pre{padding: 0;}#sk-container-id-15 div.sk-toggleable {background-color: white;}#sk-container-id-15 label.sk-toggleable__label {cursor: pointer;display: block;width: 100%;margin-bottom: 0;padding: 0.3em;box-sizing: border-box;text-align: center;}#sk-container-id-15 label.sk-toggleable__label-arrow:before {content: \"▸\";float: left;margin-right: 0.25em;color: #696969;}#sk-container-id-15 label.sk-toggleable__label-arrow:hover:before {color: black;}#sk-container-id-15 div.sk-estimator:hover label.sk-toggleable__label-arrow:before {color: black;}#sk-container-id-15 div.sk-toggleable__content {max-height: 0;max-width: 0;overflow: hidden;text-align: left;background-color: #f0f8ff;}#sk-container-id-15 div.sk-toggleable__content pre {margin: 0.2em;color: black;border-radius: 0.25em;background-color: #f0f8ff;}#sk-container-id-15 input.sk-toggleable__control:checked~div.sk-toggleable__content {max-height: 200px;max-width: 100%;overflow: auto;}#sk-container-id-15 input.sk-toggleable__control:checked~label.sk-toggleable__label-arrow:before {content: \"▾\";}#sk-container-id-15 div.sk-estimator input.sk-toggleable__control:checked~label.sk-toggleable__label {background-color: #d4ebff;}#sk-container-id-15 div.sk-label input.sk-toggleable__control:checked~label.sk-toggleable__label {background-color: #d4ebff;}#sk-container-id-15 input.sk-hidden--visually {border: 0;clip: rect(1px 1px 1px 1px);clip: rect(1px, 1px, 1px, 1px);height: 1px;margin: -1px;overflow: hidden;padding: 0;position: absolute;width: 1px;}#sk-container-id-15 div.sk-estimator {font-family: monospace;background-color: #f0f8ff;border: 1px dotted black;border-radius: 0.25em;box-sizing: border-box;margin-bottom: 0.5em;}#sk-container-id-15 div.sk-estimator:hover {background-color: #d4ebff;}#sk-container-id-15 div.sk-parallel-item::after {content: \"\";width: 100%;border-bottom: 1px solid gray;flex-grow: 1;}#sk-container-id-15 div.sk-label:hover label.sk-toggleable__label {background-color: #d4ebff;}#sk-container-id-15 div.sk-serial::before {content: \"\";position: absolute;border-left: 1px solid gray;box-sizing: border-box;top: 0;bottom: 0;left: 50%;z-index: 0;}#sk-container-id-15 div.sk-serial {display: flex;flex-direction: column;align-items: center;background-color: white;padding-right: 0.2em;padding-left: 0.2em;position: relative;}#sk-container-id-15 div.sk-item {position: relative;z-index: 1;}#sk-container-id-15 div.sk-parallel {display: flex;align-items: stretch;justify-content: center;background-color: white;position: relative;}#sk-container-id-15 div.sk-item::before, #sk-container-id-15 div.sk-parallel-item::before {content: \"\";position: absolute;border-left: 1px solid gray;box-sizing: border-box;top: 0;bottom: 0;left: 50%;z-index: -1;}#sk-container-id-15 div.sk-parallel-item {display: flex;flex-direction: column;z-index: 1;position: relative;background-color: white;}#sk-container-id-15 div.sk-parallel-item:first-child::after {align-self: flex-end;width: 50%;}#sk-container-id-15 div.sk-parallel-item:last-child::after {align-self: flex-start;width: 50%;}#sk-container-id-15 div.sk-parallel-item:only-child::after {width: 0;}#sk-container-id-15 div.sk-dashed-wrapped {border: 1px dashed gray;margin: 0 0.4em 0.5em 0.4em;box-sizing: border-box;padding-bottom: 0.4em;background-color: white;}#sk-container-id-15 div.sk-label label {font-family: monospace;font-weight: bold;display: inline-block;line-height: 1.2em;}#sk-container-id-15 div.sk-label-container {text-align: center;}#sk-container-id-15 div.sk-container {/* jupyter's `normalize.less` sets `[hidden] { display: none; }` but bootstrap.min.css set `[hidden] { display: none !important; }` so we also need the `!important` here to be able to override the default hidden behavior on the sphinx rendered scikit-learn.org. See: https://github.com/scikit-learn/scikit-learn/issues/21755 */display: inline-block !important;position: relative;}#sk-container-id-15 div.sk-text-repr-fallback {display: none;}</style><div id=\"sk-container-id-15\" class=\"sk-top-container\"><div class=\"sk-text-repr-fallback\"><pre>LogisticRegression(max_iter=1000, penalty=&#x27;l1&#x27;, random_state=42, solver=&#x27;saga&#x27;)</pre><b>In a Jupyter environment, please rerun this cell to show the HTML representation or trust the notebook. <br />On GitHub, the HTML representation is unable to render, please try loading this page with nbviewer.org.</b></div><div class=\"sk-container\" hidden><div class=\"sk-item\"><div class=\"sk-estimator sk-toggleable\"><input class=\"sk-toggleable__control sk-hidden--visually\" id=\"sk-estimator-id-15\" type=\"checkbox\" checked><label for=\"sk-estimator-id-15\" class=\"sk-toggleable__label sk-toggleable__label-arrow\">LogisticRegression</label><div class=\"sk-toggleable__content\"><pre>LogisticRegression(max_iter=1000, penalty=&#x27;l1&#x27;, random_state=42, solver=&#x27;saga&#x27;)</pre></div></div></div></div></div>"
      ],
      "text/plain": [
       "LogisticRegression(max_iter=1000, penalty='l1', random_state=42, solver='saga')"
      ]
     },
     "execution_count": 88,
     "metadata": {},
     "output_type": "execute_result"
    }
   ],
   "source": [
    "logreg_tuned.fit(x_train, y_train)"
   ]
  },
  {
   "cell_type": "code",
   "execution_count": 92,
   "id": "c0c3f1f3-414e-470f-a034-6b949108eb1f",
   "metadata": {
    "tags": []
   },
   "outputs": [
    {
     "data": {
      "text/plain": [
       "0.8019145802650958"
      ]
     },
     "execution_count": 92,
     "metadata": {},
     "output_type": "execute_result"
    }
   ],
   "source": [
    "pred_logreg_tuned = logreg_tuned.predict(x_test)\n",
    "accuracy_score(pred_logreg_tuned, y_test)"
   ]
  },
  {
   "cell_type": "code",
   "execution_count": 90,
   "id": "88d82069-4915-41dd-acee-56e1dd132c82",
   "metadata": {
    "tags": []
   },
   "outputs": [
    {
     "data": {
      "text/plain": [
       "0.8589015151515151"
      ]
     },
     "execution_count": 90,
     "metadata": {},
     "output_type": "execute_result"
    }
   ],
   "source": [
    "pred_logreg_tuned = logreg_tuned.predict(x_train)\n",
    "accuracy_score(pred_logreg_tuned, y_train)"
   ]
  },
  {
   "cell_type": "markdown",
   "id": "80db87b8-7982-4f16-a18b-3f7da5e95b4a",
   "metadata": {
    "tags": []
   },
   "source": [
    "Модель выдает предупреждение о достижении максимального значения параметра max_iter. При увеличении значения max_iter со 100 до 1000 ошибка не пропала, но качество модени улучшилось примерно на 0.8%. Однако и время обучения модели заметно выросло. Распознавание на тренировачных данных тоже улучшилось примерно на 2%."
   ]
  },
  {
   "cell_type": "markdown",
   "id": "cac91666-ba0e-4686-acf2-5f4a7564d92d",
   "metadata": {},
   "source": [
    "#### Кросс-валидация"
   ]
  },
  {
   "cell_type": "code",
   "execution_count": 93,
   "id": "e210d4d2-6d92-4fc8-9ff2-14fe2f05f2d7",
   "metadata": {
    "tags": []
   },
   "outputs": [
    {
     "name": "stderr",
     "output_type": "stream",
     "text": [
      "C:\\Users\\odik\\AppData\\Local\\anaconda3\\Lib\\site-packages\\sklearn\\linear_model\\_sag.py:350: ConvergenceWarning: The max_iter was reached which means the coef_ did not converge\n",
      "  warnings.warn(\n",
      "C:\\Users\\odik\\AppData\\Local\\anaconda3\\Lib\\site-packages\\sklearn\\linear_model\\_sag.py:350: ConvergenceWarning: The max_iter was reached which means the coef_ did not converge\n",
      "  warnings.warn(\n",
      "C:\\Users\\odik\\AppData\\Local\\anaconda3\\Lib\\site-packages\\sklearn\\linear_model\\_sag.py:350: ConvergenceWarning: The max_iter was reached which means the coef_ did not converge\n",
      "  warnings.warn(\n"
     ]
    },
    {
     "data": {
      "text/plain": [
       "array([0.78921785, 0.80114892, 0.7971719 , 0.79849757])"
      ]
     },
     "execution_count": 93,
     "metadata": {},
     "output_type": "execute_result"
    }
   ],
   "source": [
    "cross_val_score(logreg_tuned, x, y, cv=4)"
   ]
  },
  {
   "cell_type": "code",
   "execution_count": 100,
   "id": "20bbcccb-37a9-4f9d-be27-4f2bbb9c7515",
   "metadata": {
    "tags": []
   },
   "outputs": [
    {
     "data": {
      "text/plain": [
       "(0    0.796509\n",
       " dtype: float64,\n",
       " 0    0.005134\n",
       " dtype: float64)"
      ]
     },
     "execution_count": 100,
     "metadata": {},
     "output_type": "execute_result"
    }
   ],
   "source": [
    "result = pd.DataFrame([0.78921785, 0.80114892, 0.7971719 , 0.79849757])\n",
    "result.mean() , result.std()"
   ]
  },
  {
   "cell_type": "markdown",
   "id": "db8a7135-8e74-457a-8191-876f3397b8fd",
   "metadata": {},
   "source": [
    "Отклонение небольшое. Значит модель не переобучилась."
   ]
  },
  {
   "cell_type": "markdown",
   "id": "36ace2b8-022e-44b6-b339-1999098baec0",
   "metadata": {
    "jp-MarkdownHeadingCollapsed": true,
    "tags": []
   },
   "source": [
    "### Случайный лес"
   ]
  },
  {
   "cell_type": "code",
   "execution_count": 21,
   "id": "393d29bc-189c-4413-9d99-2802a7777460",
   "metadata": {
    "tags": []
   },
   "outputs": [],
   "source": [
    "rf = RandomForestClassifier()"
   ]
  },
  {
   "cell_type": "code",
   "execution_count": 22,
   "id": "4f22eff6-26f6-42cd-96d8-b16bb74fb37f",
   "metadata": {
    "tags": []
   },
   "outputs": [
    {
     "data": {
      "text/html": [
       "<style>#sk-container-id-2 {color: black;}#sk-container-id-2 pre{padding: 0;}#sk-container-id-2 div.sk-toggleable {background-color: white;}#sk-container-id-2 label.sk-toggleable__label {cursor: pointer;display: block;width: 100%;margin-bottom: 0;padding: 0.3em;box-sizing: border-box;text-align: center;}#sk-container-id-2 label.sk-toggleable__label-arrow:before {content: \"▸\";float: left;margin-right: 0.25em;color: #696969;}#sk-container-id-2 label.sk-toggleable__label-arrow:hover:before {color: black;}#sk-container-id-2 div.sk-estimator:hover label.sk-toggleable__label-arrow:before {color: black;}#sk-container-id-2 div.sk-toggleable__content {max-height: 0;max-width: 0;overflow: hidden;text-align: left;background-color: #f0f8ff;}#sk-container-id-2 div.sk-toggleable__content pre {margin: 0.2em;color: black;border-radius: 0.25em;background-color: #f0f8ff;}#sk-container-id-2 input.sk-toggleable__control:checked~div.sk-toggleable__content {max-height: 200px;max-width: 100%;overflow: auto;}#sk-container-id-2 input.sk-toggleable__control:checked~label.sk-toggleable__label-arrow:before {content: \"▾\";}#sk-container-id-2 div.sk-estimator input.sk-toggleable__control:checked~label.sk-toggleable__label {background-color: #d4ebff;}#sk-container-id-2 div.sk-label input.sk-toggleable__control:checked~label.sk-toggleable__label {background-color: #d4ebff;}#sk-container-id-2 input.sk-hidden--visually {border: 0;clip: rect(1px 1px 1px 1px);clip: rect(1px, 1px, 1px, 1px);height: 1px;margin: -1px;overflow: hidden;padding: 0;position: absolute;width: 1px;}#sk-container-id-2 div.sk-estimator {font-family: monospace;background-color: #f0f8ff;border: 1px dotted black;border-radius: 0.25em;box-sizing: border-box;margin-bottom: 0.5em;}#sk-container-id-2 div.sk-estimator:hover {background-color: #d4ebff;}#sk-container-id-2 div.sk-parallel-item::after {content: \"\";width: 100%;border-bottom: 1px solid gray;flex-grow: 1;}#sk-container-id-2 div.sk-label:hover label.sk-toggleable__label {background-color: #d4ebff;}#sk-container-id-2 div.sk-serial::before {content: \"\";position: absolute;border-left: 1px solid gray;box-sizing: border-box;top: 0;bottom: 0;left: 50%;z-index: 0;}#sk-container-id-2 div.sk-serial {display: flex;flex-direction: column;align-items: center;background-color: white;padding-right: 0.2em;padding-left: 0.2em;position: relative;}#sk-container-id-2 div.sk-item {position: relative;z-index: 1;}#sk-container-id-2 div.sk-parallel {display: flex;align-items: stretch;justify-content: center;background-color: white;position: relative;}#sk-container-id-2 div.sk-item::before, #sk-container-id-2 div.sk-parallel-item::before {content: \"\";position: absolute;border-left: 1px solid gray;box-sizing: border-box;top: 0;bottom: 0;left: 50%;z-index: -1;}#sk-container-id-2 div.sk-parallel-item {display: flex;flex-direction: column;z-index: 1;position: relative;background-color: white;}#sk-container-id-2 div.sk-parallel-item:first-child::after {align-self: flex-end;width: 50%;}#sk-container-id-2 div.sk-parallel-item:last-child::after {align-self: flex-start;width: 50%;}#sk-container-id-2 div.sk-parallel-item:only-child::after {width: 0;}#sk-container-id-2 div.sk-dashed-wrapped {border: 1px dashed gray;margin: 0 0.4em 0.5em 0.4em;box-sizing: border-box;padding-bottom: 0.4em;background-color: white;}#sk-container-id-2 div.sk-label label {font-family: monospace;font-weight: bold;display: inline-block;line-height: 1.2em;}#sk-container-id-2 div.sk-label-container {text-align: center;}#sk-container-id-2 div.sk-container {/* jupyter's `normalize.less` sets `[hidden] { display: none; }` but bootstrap.min.css set `[hidden] { display: none !important; }` so we also need the `!important` here to be able to override the default hidden behavior on the sphinx rendered scikit-learn.org. See: https://github.com/scikit-learn/scikit-learn/issues/21755 */display: inline-block !important;position: relative;}#sk-container-id-2 div.sk-text-repr-fallback {display: none;}</style><div id=\"sk-container-id-2\" class=\"sk-top-container\"><div class=\"sk-text-repr-fallback\"><pre>RandomForestClassifier()</pre><b>In a Jupyter environment, please rerun this cell to show the HTML representation or trust the notebook. <br />On GitHub, the HTML representation is unable to render, please try loading this page with nbviewer.org.</b></div><div class=\"sk-container\" hidden><div class=\"sk-item\"><div class=\"sk-estimator sk-toggleable\"><input class=\"sk-toggleable__control sk-hidden--visually\" id=\"sk-estimator-id-2\" type=\"checkbox\" checked><label for=\"sk-estimator-id-2\" class=\"sk-toggleable__label sk-toggleable__label-arrow\">RandomForestClassifier</label><div class=\"sk-toggleable__content\"><pre>RandomForestClassifier()</pre></div></div></div></div></div>"
      ],
      "text/plain": [
       "RandomForestClassifier()"
      ]
     },
     "execution_count": 22,
     "metadata": {},
     "output_type": "execute_result"
    }
   ],
   "source": [
    "rf.fit(x_train, y_train)"
   ]
  },
  {
   "cell_type": "code",
   "execution_count": 23,
   "id": "9a58ea0f-ff41-493b-a82c-1d435094d283",
   "metadata": {
    "tags": []
   },
   "outputs": [],
   "source": [
    "pred_rf = rf.predict(x_test)"
   ]
  },
  {
   "cell_type": "code",
   "execution_count": 24,
   "id": "f29ca922-a6fe-4d0e-908e-8b0d2b111311",
   "metadata": {
    "tags": []
   },
   "outputs": [
    {
     "data": {
      "text/plain": [
       "0.7345360824742269"
      ]
     },
     "execution_count": 24,
     "metadata": {},
     "output_type": "execute_result"
    }
   ],
   "source": [
    "accuracy_score(y_test, pred_rf)"
   ]
  },
  {
   "cell_type": "code",
   "execution_count": 25,
   "id": "5b7115c0-4aae-4212-8fd9-ecc9b9701dec",
   "metadata": {
    "tags": []
   },
   "outputs": [
    {
     "data": {
      "text/plain": [
       "array([[690, 119,  23],\n",
       "       [228, 497, 181],\n",
       "       [ 26, 144, 808]], dtype=int64)"
      ]
     },
     "execution_count": 25,
     "metadata": {},
     "output_type": "execute_result"
    }
   ],
   "source": [
    "confusion_matrix(y_test, pred_rf)"
   ]
  },
  {
   "cell_type": "code",
   "execution_count": null,
   "id": "dc165fca-3648-4e58-9920-6946100e04c3",
   "metadata": {},
   "outputs": [],
   "source": []
  },
  {
   "cell_type": "markdown",
   "id": "bbcb5507-dfd0-4f85-8f64-e3caff4d41f2",
   "metadata": {
    "tags": []
   },
   "source": [
    "#### Попробуем улучшить модель"
   ]
  },
  {
   "cell_type": "code",
   "execution_count": 59,
   "id": "a44e3d3a-f6ca-4ef1-ba44-8ee26c29bda1",
   "metadata": {
    "tags": []
   },
   "outputs": [
    {
     "data": {
      "text/plain": [
       "{'bootstrap': True,\n",
       " 'ccp_alpha': 0.0,\n",
       " 'class_weight': None,\n",
       " 'criterion': 'gini',\n",
       " 'max_depth': None,\n",
       " 'max_features': 'sqrt',\n",
       " 'max_leaf_nodes': None,\n",
       " 'max_samples': None,\n",
       " 'min_impurity_decrease': 0.0,\n",
       " 'min_samples_leaf': 1,\n",
       " 'min_samples_split': 2,\n",
       " 'min_weight_fraction_leaf': 0.0,\n",
       " 'n_estimators': 100,\n",
       " 'n_jobs': None,\n",
       " 'oob_score': False,\n",
       " 'random_state': None,\n",
       " 'verbose': 0,\n",
       " 'warm_start': False}"
      ]
     },
     "execution_count": 59,
     "metadata": {},
     "output_type": "execute_result"
    }
   ],
   "source": [
    "rf.get_params()"
   ]
  },
  {
   "cell_type": "code",
   "execution_count": null,
   "id": "4157b850-23c8-498f-ae91-1e936703cdf9",
   "metadata": {},
   "outputs": [],
   "source": [
    "# Поиск по сетке"
   ]
  },
  {
   "cell_type": "code",
   "execution_count": 60,
   "id": "25485dc1-8a10-4927-b0ab-d4d82948747b",
   "metadata": {
    "tags": []
   },
   "outputs": [],
   "source": [
    "# Инициализируем сетку параметров для перебора\n",
    "param_grid = {\n",
    "    'n_estimators': list(range(100, 501, 100)),\n",
    "    'max_features': ['sqrt', 'log2'],\n",
    "    'min_samples_leaf': list(range(1, 10))\n",
    "}"
   ]
  },
  {
   "cell_type": "code",
   "execution_count": 61,
   "id": "24e3d18e-5ef4-44e6-b834-9b8415cc53cc",
   "metadata": {
    "tags": []
   },
   "outputs": [],
   "source": [
    "from sklearn.model_selection import GridSearchCV\n",
    "\n",
    "# Инициализируем базовую модель\n",
    "rf = RandomForestClassifier(random_state=42)\n",
    "\n",
    "# Модель для перебора параметров базовой модели\n",
    "grid_search_rf = GridSearchCV(\n",
    "    estimator=rf,\n",
    "    param_grid=param_grid,\n",
    "    scoring='accuracy',\n",
    "    verbose=1,\n",
    "    n_jobs=-1\n",
    ")"
   ]
  },
  {
   "cell_type": "code",
   "execution_count": 62,
   "id": "ca43b06a-8a34-4756-9650-cd46b5bb04c1",
   "metadata": {
    "tags": []
   },
   "outputs": [
    {
     "name": "stdout",
     "output_type": "stream",
     "text": [
      "Fitting 5 folds for each of 90 candidates, totalling 450 fits\n"
     ]
    },
    {
     "data": {
      "text/plain": [
       "{'max_features': 'sqrt', 'min_samples_leaf': 1, 'n_estimators': 500}"
      ]
     },
     "execution_count": 62,
     "metadata": {},
     "output_type": "execute_result"
    }
   ],
   "source": [
    "# Выполняем перебор параметров\n",
    "grid_search_rf.fit(x_train, y_train)\n",
    "\n",
    "# Выводим лучшие параметры\n",
    "best_params = grid_search_rf.best_params_\n",
    "best_params"
   ]
  },
  {
   "cell_type": "code",
   "execution_count": 63,
   "id": "6c8d066f-a6a7-4106-9b04-359e8b0aa3a3",
   "metadata": {
    "tags": []
   },
   "outputs": [],
   "source": [
    "rf_tuned =  RandomForestClassifier(random_state=42, max_features='sqrt', min_samples_leaf=1, n_estimators=500)"
   ]
  },
  {
   "cell_type": "code",
   "execution_count": 64,
   "id": "ec6a9cee-5e79-4f0e-899f-be6709276c25",
   "metadata": {
    "tags": []
   },
   "outputs": [
    {
     "data": {
      "text/html": [
       "<style>#sk-container-id-12 {color: black;}#sk-container-id-12 pre{padding: 0;}#sk-container-id-12 div.sk-toggleable {background-color: white;}#sk-container-id-12 label.sk-toggleable__label {cursor: pointer;display: block;width: 100%;margin-bottom: 0;padding: 0.3em;box-sizing: border-box;text-align: center;}#sk-container-id-12 label.sk-toggleable__label-arrow:before {content: \"▸\";float: left;margin-right: 0.25em;color: #696969;}#sk-container-id-12 label.sk-toggleable__label-arrow:hover:before {color: black;}#sk-container-id-12 div.sk-estimator:hover label.sk-toggleable__label-arrow:before {color: black;}#sk-container-id-12 div.sk-toggleable__content {max-height: 0;max-width: 0;overflow: hidden;text-align: left;background-color: #f0f8ff;}#sk-container-id-12 div.sk-toggleable__content pre {margin: 0.2em;color: black;border-radius: 0.25em;background-color: #f0f8ff;}#sk-container-id-12 input.sk-toggleable__control:checked~div.sk-toggleable__content {max-height: 200px;max-width: 100%;overflow: auto;}#sk-container-id-12 input.sk-toggleable__control:checked~label.sk-toggleable__label-arrow:before {content: \"▾\";}#sk-container-id-12 div.sk-estimator input.sk-toggleable__control:checked~label.sk-toggleable__label {background-color: #d4ebff;}#sk-container-id-12 div.sk-label input.sk-toggleable__control:checked~label.sk-toggleable__label {background-color: #d4ebff;}#sk-container-id-12 input.sk-hidden--visually {border: 0;clip: rect(1px 1px 1px 1px);clip: rect(1px, 1px, 1px, 1px);height: 1px;margin: -1px;overflow: hidden;padding: 0;position: absolute;width: 1px;}#sk-container-id-12 div.sk-estimator {font-family: monospace;background-color: #f0f8ff;border: 1px dotted black;border-radius: 0.25em;box-sizing: border-box;margin-bottom: 0.5em;}#sk-container-id-12 div.sk-estimator:hover {background-color: #d4ebff;}#sk-container-id-12 div.sk-parallel-item::after {content: \"\";width: 100%;border-bottom: 1px solid gray;flex-grow: 1;}#sk-container-id-12 div.sk-label:hover label.sk-toggleable__label {background-color: #d4ebff;}#sk-container-id-12 div.sk-serial::before {content: \"\";position: absolute;border-left: 1px solid gray;box-sizing: border-box;top: 0;bottom: 0;left: 50%;z-index: 0;}#sk-container-id-12 div.sk-serial {display: flex;flex-direction: column;align-items: center;background-color: white;padding-right: 0.2em;padding-left: 0.2em;position: relative;}#sk-container-id-12 div.sk-item {position: relative;z-index: 1;}#sk-container-id-12 div.sk-parallel {display: flex;align-items: stretch;justify-content: center;background-color: white;position: relative;}#sk-container-id-12 div.sk-item::before, #sk-container-id-12 div.sk-parallel-item::before {content: \"\";position: absolute;border-left: 1px solid gray;box-sizing: border-box;top: 0;bottom: 0;left: 50%;z-index: -1;}#sk-container-id-12 div.sk-parallel-item {display: flex;flex-direction: column;z-index: 1;position: relative;background-color: white;}#sk-container-id-12 div.sk-parallel-item:first-child::after {align-self: flex-end;width: 50%;}#sk-container-id-12 div.sk-parallel-item:last-child::after {align-self: flex-start;width: 50%;}#sk-container-id-12 div.sk-parallel-item:only-child::after {width: 0;}#sk-container-id-12 div.sk-dashed-wrapped {border: 1px dashed gray;margin: 0 0.4em 0.5em 0.4em;box-sizing: border-box;padding-bottom: 0.4em;background-color: white;}#sk-container-id-12 div.sk-label label {font-family: monospace;font-weight: bold;display: inline-block;line-height: 1.2em;}#sk-container-id-12 div.sk-label-container {text-align: center;}#sk-container-id-12 div.sk-container {/* jupyter's `normalize.less` sets `[hidden] { display: none; }` but bootstrap.min.css set `[hidden] { display: none !important; }` so we also need the `!important` here to be able to override the default hidden behavior on the sphinx rendered scikit-learn.org. See: https://github.com/scikit-learn/scikit-learn/issues/21755 */display: inline-block !important;position: relative;}#sk-container-id-12 div.sk-text-repr-fallback {display: none;}</style><div id=\"sk-container-id-12\" class=\"sk-top-container\"><div class=\"sk-text-repr-fallback\"><pre>RandomForestClassifier(n_estimators=500, random_state=42)</pre><b>In a Jupyter environment, please rerun this cell to show the HTML representation or trust the notebook. <br />On GitHub, the HTML representation is unable to render, please try loading this page with nbviewer.org.</b></div><div class=\"sk-container\" hidden><div class=\"sk-item\"><div class=\"sk-estimator sk-toggleable\"><input class=\"sk-toggleable__control sk-hidden--visually\" id=\"sk-estimator-id-12\" type=\"checkbox\" checked><label for=\"sk-estimator-id-12\" class=\"sk-toggleable__label sk-toggleable__label-arrow\">RandomForestClassifier</label><div class=\"sk-toggleable__content\"><pre>RandomForestClassifier(n_estimators=500, random_state=42)</pre></div></div></div></div></div>"
      ],
      "text/plain": [
       "RandomForestClassifier(n_estimators=500, random_state=42)"
      ]
     },
     "execution_count": 64,
     "metadata": {},
     "output_type": "execute_result"
    }
   ],
   "source": [
    "rf_tuned.fit(x_train, y_train)"
   ]
  },
  {
   "cell_type": "code",
   "execution_count": 106,
   "id": "c28e06a5-ce05-4708-89d8-c3ceddd2903b",
   "metadata": {
    "tags": []
   },
   "outputs": [
    {
     "data": {
      "text/plain": [
       "0.7426362297496318"
      ]
     },
     "execution_count": 106,
     "metadata": {},
     "output_type": "execute_result"
    }
   ],
   "source": [
    "pred_rf_tuned = rf_tuned.predict(x_test)\n",
    "accuracy_score(pred_rf_tuned, y_test)"
   ]
  },
  {
   "cell_type": "code",
   "execution_count": 77,
   "id": "6087c0bb-8d63-490e-a40b-614f84c7ed53",
   "metadata": {
    "tags": []
   },
   "outputs": [
    {
     "data": {
      "text/plain": [
       "1.0"
      ]
     },
     "execution_count": 77,
     "metadata": {},
     "output_type": "execute_result"
    }
   ],
   "source": [
    "pred_rf_tuned = rf_tuned.predict(x_train)\n",
    "accuracy_score(pred_rf_tuned, y_train)"
   ]
  },
  {
   "cell_type": "markdown",
   "id": "6ca24835-a6c5-4ffd-9f69-8193fbc68221",
   "metadata": {},
   "source": [
    "#### Кросс-валидация"
   ]
  },
  {
   "cell_type": "code",
   "execution_count": 102,
   "id": "8bb1d316-8575-4c45-a24e-13d32085c43d",
   "metadata": {
    "tags": []
   },
   "outputs": [],
   "source": [
    "rf_score = cross_val_score(rf_tuned, x, y, cv=4)"
   ]
  },
  {
   "cell_type": "code",
   "execution_count": 107,
   "id": "ad6be0ad-953a-4322-9d28-88baa578e60b",
   "metadata": {
    "tags": []
   },
   "outputs": [
    {
     "data": {
      "text/plain": [
       "array([0.76005303, 0.75563411, 0.75695979, 0.74591251])"
      ]
     },
     "execution_count": 107,
     "metadata": {},
     "output_type": "execute_result"
    }
   ],
   "source": [
    "rf_score"
   ]
  },
  {
   "cell_type": "code",
   "execution_count": 108,
   "id": "8c7a28db-4927-47a7-9d74-64107854b638",
   "metadata": {
    "tags": []
   },
   "outputs": [
    {
     "data": {
      "text/plain": [
       "(0.7546398585947858, 0.005287714513377968)"
      ]
     },
     "execution_count": 108,
     "metadata": {},
     "output_type": "execute_result"
    }
   ],
   "source": [
    "\n",
    "rf_score.mean(), rf_score.std()"
   ]
  },
  {
   "cell_type": "markdown",
   "id": "743fe559-3a6d-4f06-b720-404e3715f4d1",
   "metadata": {},
   "source": [
    "Разброс небольшщй. Значит модель не переобучилась. Среднее значение метрики даже выше, чем при разбиении данных с использованием модуля train_test_split"
   ]
  },
  {
   "cell_type": "markdown",
   "id": "80bd6314-2a95-47eb-befb-15cf9fc611bb",
   "metadata": {
    "jp-MarkdownHeadingCollapsed": true,
    "tags": []
   },
   "source": [
    "### Многослойный персептрон"
   ]
  },
  {
   "cell_type": "code",
   "execution_count": 26,
   "id": "7088bd67-fd5a-4cdb-9106-925fe65f3bc1",
   "metadata": {
    "tags": []
   },
   "outputs": [],
   "source": [
    "mlp = MLPClassifier()"
   ]
  },
  {
   "cell_type": "code",
   "execution_count": 27,
   "id": "463fb389-b021-45fc-8f6a-76007048140d",
   "metadata": {
    "tags": []
   },
   "outputs": [
    {
     "data": {
      "text/html": [
       "<style>#sk-container-id-3 {color: black;}#sk-container-id-3 pre{padding: 0;}#sk-container-id-3 div.sk-toggleable {background-color: white;}#sk-container-id-3 label.sk-toggleable__label {cursor: pointer;display: block;width: 100%;margin-bottom: 0;padding: 0.3em;box-sizing: border-box;text-align: center;}#sk-container-id-3 label.sk-toggleable__label-arrow:before {content: \"▸\";float: left;margin-right: 0.25em;color: #696969;}#sk-container-id-3 label.sk-toggleable__label-arrow:hover:before {color: black;}#sk-container-id-3 div.sk-estimator:hover label.sk-toggleable__label-arrow:before {color: black;}#sk-container-id-3 div.sk-toggleable__content {max-height: 0;max-width: 0;overflow: hidden;text-align: left;background-color: #f0f8ff;}#sk-container-id-3 div.sk-toggleable__content pre {margin: 0.2em;color: black;border-radius: 0.25em;background-color: #f0f8ff;}#sk-container-id-3 input.sk-toggleable__control:checked~div.sk-toggleable__content {max-height: 200px;max-width: 100%;overflow: auto;}#sk-container-id-3 input.sk-toggleable__control:checked~label.sk-toggleable__label-arrow:before {content: \"▾\";}#sk-container-id-3 div.sk-estimator input.sk-toggleable__control:checked~label.sk-toggleable__label {background-color: #d4ebff;}#sk-container-id-3 div.sk-label input.sk-toggleable__control:checked~label.sk-toggleable__label {background-color: #d4ebff;}#sk-container-id-3 input.sk-hidden--visually {border: 0;clip: rect(1px 1px 1px 1px);clip: rect(1px, 1px, 1px, 1px);height: 1px;margin: -1px;overflow: hidden;padding: 0;position: absolute;width: 1px;}#sk-container-id-3 div.sk-estimator {font-family: monospace;background-color: #f0f8ff;border: 1px dotted black;border-radius: 0.25em;box-sizing: border-box;margin-bottom: 0.5em;}#sk-container-id-3 div.sk-estimator:hover {background-color: #d4ebff;}#sk-container-id-3 div.sk-parallel-item::after {content: \"\";width: 100%;border-bottom: 1px solid gray;flex-grow: 1;}#sk-container-id-3 div.sk-label:hover label.sk-toggleable__label {background-color: #d4ebff;}#sk-container-id-3 div.sk-serial::before {content: \"\";position: absolute;border-left: 1px solid gray;box-sizing: border-box;top: 0;bottom: 0;left: 50%;z-index: 0;}#sk-container-id-3 div.sk-serial {display: flex;flex-direction: column;align-items: center;background-color: white;padding-right: 0.2em;padding-left: 0.2em;position: relative;}#sk-container-id-3 div.sk-item {position: relative;z-index: 1;}#sk-container-id-3 div.sk-parallel {display: flex;align-items: stretch;justify-content: center;background-color: white;position: relative;}#sk-container-id-3 div.sk-item::before, #sk-container-id-3 div.sk-parallel-item::before {content: \"\";position: absolute;border-left: 1px solid gray;box-sizing: border-box;top: 0;bottom: 0;left: 50%;z-index: -1;}#sk-container-id-3 div.sk-parallel-item {display: flex;flex-direction: column;z-index: 1;position: relative;background-color: white;}#sk-container-id-3 div.sk-parallel-item:first-child::after {align-self: flex-end;width: 50%;}#sk-container-id-3 div.sk-parallel-item:last-child::after {align-self: flex-start;width: 50%;}#sk-container-id-3 div.sk-parallel-item:only-child::after {width: 0;}#sk-container-id-3 div.sk-dashed-wrapped {border: 1px dashed gray;margin: 0 0.4em 0.5em 0.4em;box-sizing: border-box;padding-bottom: 0.4em;background-color: white;}#sk-container-id-3 div.sk-label label {font-family: monospace;font-weight: bold;display: inline-block;line-height: 1.2em;}#sk-container-id-3 div.sk-label-container {text-align: center;}#sk-container-id-3 div.sk-container {/* jupyter's `normalize.less` sets `[hidden] { display: none; }` but bootstrap.min.css set `[hidden] { display: none !important; }` so we also need the `!important` here to be able to override the default hidden behavior on the sphinx rendered scikit-learn.org. See: https://github.com/scikit-learn/scikit-learn/issues/21755 */display: inline-block !important;position: relative;}#sk-container-id-3 div.sk-text-repr-fallback {display: none;}</style><div id=\"sk-container-id-3\" class=\"sk-top-container\"><div class=\"sk-text-repr-fallback\"><pre>MLPClassifier()</pre><b>In a Jupyter environment, please rerun this cell to show the HTML representation or trust the notebook. <br />On GitHub, the HTML representation is unable to render, please try loading this page with nbviewer.org.</b></div><div class=\"sk-container\" hidden><div class=\"sk-item\"><div class=\"sk-estimator sk-toggleable\"><input class=\"sk-toggleable__control sk-hidden--visually\" id=\"sk-estimator-id-3\" type=\"checkbox\" checked><label for=\"sk-estimator-id-3\" class=\"sk-toggleable__label sk-toggleable__label-arrow\">MLPClassifier</label><div class=\"sk-toggleable__content\"><pre>MLPClassifier()</pre></div></div></div></div></div>"
      ],
      "text/plain": [
       "MLPClassifier()"
      ]
     },
     "execution_count": 27,
     "metadata": {},
     "output_type": "execute_result"
    }
   ],
   "source": [
    "mlp.fit(x_train, y_train)"
   ]
  },
  {
   "cell_type": "code",
   "execution_count": 28,
   "id": "76c65861-12ad-44ef-ae0a-94bb7ed0627d",
   "metadata": {
    "tags": []
   },
   "outputs": [],
   "source": [
    "pred_mlp = mlp.predict(x_test)"
   ]
  },
  {
   "cell_type": "code",
   "execution_count": 29,
   "id": "2e138f55-2d8b-4df8-b19c-74ea6822655e",
   "metadata": {
    "tags": []
   },
   "outputs": [
    {
     "data": {
      "text/plain": [
       "0.7709867452135494"
      ]
     },
     "execution_count": 29,
     "metadata": {},
     "output_type": "execute_result"
    }
   ],
   "source": [
    "accuracy_score(pred_mlp, y_test)"
   ]
  },
  {
   "cell_type": "code",
   "execution_count": 76,
   "id": "45de1b03-53b9-4bc0-a237-1b082d9beb93",
   "metadata": {
    "tags": []
   },
   "outputs": [
    {
     "data": {
      "text/plain": [
       "1.0"
      ]
     },
     "execution_count": 76,
     "metadata": {},
     "output_type": "execute_result"
    }
   ],
   "source": [
    "pred_mlp = mlp.predict(x_train)\n",
    "accuracy_score(pred_mlp, y_train)"
   ]
  },
  {
   "cell_type": "code",
   "execution_count": 30,
   "id": "33f8f236-bf2c-4b33-8e03-46ec9e7364cf",
   "metadata": {
    "tags": []
   },
   "outputs": [
    {
     "data": {
      "text/plain": [
       "array([[657, 176,  16],\n",
       "       [153, 608, 133],\n",
       "       [ 22, 122, 829]], dtype=int64)"
      ]
     },
     "execution_count": 30,
     "metadata": {},
     "output_type": "execute_result"
    }
   ],
   "source": [
    "confusion_matrix(pred_mlp, y_test)"
   ]
  },
  {
   "cell_type": "markdown",
   "id": "26e15f34-245c-4b2f-a6ed-77d3d8fba03a",
   "metadata": {
    "tags": []
   },
   "source": [
    "#### Попробуем улучшить модель"
   ]
  },
  {
   "cell_type": "code",
   "execution_count": 67,
   "id": "10c196fd-af1c-4053-93e1-ff632e877c8f",
   "metadata": {
    "tags": []
   },
   "outputs": [
    {
     "data": {
      "text/plain": [
       "{'activation': 'relu',\n",
       " 'alpha': 0.0001,\n",
       " 'batch_size': 'auto',\n",
       " 'beta_1': 0.9,\n",
       " 'beta_2': 0.999,\n",
       " 'early_stopping': False,\n",
       " 'epsilon': 1e-08,\n",
       " 'hidden_layer_sizes': (100,),\n",
       " 'learning_rate': 'constant',\n",
       " 'learning_rate_init': 0.001,\n",
       " 'max_fun': 15000,\n",
       " 'max_iter': 200,\n",
       " 'momentum': 0.9,\n",
       " 'n_iter_no_change': 10,\n",
       " 'nesterovs_momentum': True,\n",
       " 'power_t': 0.5,\n",
       " 'random_state': None,\n",
       " 'shuffle': True,\n",
       " 'solver': 'adam',\n",
       " 'tol': 0.0001,\n",
       " 'validation_fraction': 0.1,\n",
       " 'verbose': False,\n",
       " 'warm_start': False}"
      ]
     },
     "execution_count": 67,
     "metadata": {},
     "output_type": "execute_result"
    }
   ],
   "source": [
    "mlp.get_params()"
   ]
  },
  {
   "cell_type": "code",
   "execution_count": 73,
   "id": "80a5e068-6201-455d-8381-537fa43fc734",
   "metadata": {
    "tags": []
   },
   "outputs": [],
   "source": [
    "#mlp_tuned = MLPClassifier(random_state=42, max_iter=500, hidden_layer_sizes=(100,20), activation = 'tanh') # 0.773564064801178\n",
    "mlp_tuned = MLPClassifier(random_state=42, max_iter=500, hidden_layer_sizes=(1000,200), activation = 'tanh')"
   ]
  },
  {
   "cell_type": "code",
   "execution_count": 74,
   "id": "a518bb04-e754-4a02-9a46-9f74b6c32f92",
   "metadata": {
    "tags": []
   },
   "outputs": [
    {
     "data": {
      "text/plain": [
       "0.7853460972017673"
      ]
     },
     "execution_count": 74,
     "metadata": {},
     "output_type": "execute_result"
    }
   ],
   "source": [
    "mlp_tuned.fit(x_train, y_train)\n",
    "pred_mlp_tuned = mlp_tuned.predict(x_test)\n",
    "accuracy_score(pred_mlp_tuned, y_test)"
   ]
  },
  {
   "cell_type": "code",
   "execution_count": 75,
   "id": "eda26ce9-0731-491b-9cc8-373a3ad8de3a",
   "metadata": {
    "tags": []
   },
   "outputs": [
    {
     "data": {
      "text/plain": [
       "0.9990530303030303"
      ]
     },
     "execution_count": 75,
     "metadata": {},
     "output_type": "execute_result"
    }
   ],
   "source": [
    "pred_mlp_tuned = mlp_tuned.predict(x_train)\n",
    "accuracy_score(pred_mlp_tuned, y_train)"
   ]
  },
  {
   "cell_type": "markdown",
   "id": "28215e01-1f49-4e1b-8ac5-3f0958e9bb34",
   "metadata": {},
   "source": [
    "#### Кросс-валидация"
   ]
  },
  {
   "cell_type": "code",
   "execution_count": 109,
   "id": "4a050e03-b0e7-4ca5-a981-d77f28b272d3",
   "metadata": {
    "tags": []
   },
   "outputs": [],
   "source": [
    "mlp_score = cross_val_score(mlp_tuned, x, y, cv=4)"
   ]
  },
  {
   "cell_type": "code",
   "execution_count": 110,
   "id": "7f31fbe7-1f6b-4d6a-b617-97e0a7cd2951",
   "metadata": {
    "tags": []
   },
   "outputs": [
    {
     "data": {
      "text/plain": [
       "array([0.78524083, 0.77419355, 0.78303137, 0.78214759])"
      ]
     },
     "execution_count": 110,
     "metadata": {},
     "output_type": "execute_result"
    }
   ],
   "source": [
    "mlp_score"
   ]
  },
  {
   "cell_type": "code",
   "execution_count": 112,
   "id": "8f778f47-26a9-4ec7-a3dc-092d8dd169d5",
   "metadata": {
    "tags": []
   },
   "outputs": [
    {
     "data": {
      "text/plain": [
       "(0.7811533362792753, 0.004173183112577134)"
      ]
     },
     "execution_count": 112,
     "metadata": {},
     "output_type": "execute_result"
    }
   ],
   "source": [
    "mlp_score.mean(), mlp_score.std()"
   ]
  },
  {
   "cell_type": "markdown",
   "id": "5c4e828e-1a98-42ad-8312-95dccf790637",
   "metadata": {},
   "source": [
    "Разброс небольшщй. Значит модель не переобучилась."
   ]
  },
  {
   "cell_type": "markdown",
   "id": "8e1139ca-3d17-41e9-93d4-11b875744950",
   "metadata": {
    "tags": []
   },
   "source": [
    "### По результатам тюнинга и кросс-валидации победила модель логистической регресии!"
   ]
  },
  {
   "cell_type": "markdown",
   "id": "a6abb9aa-9321-45fc-993c-5544bb793545",
   "metadata": {},
   "source": [
    "Расчитаем на всей выборке значение метрики для тюнингованной модели логистической регресии."
   ]
  },
  {
   "cell_type": "code",
   "execution_count": 116,
   "id": "26f3cbd1-da25-4a66-8d0f-14c7d5955b4c",
   "metadata": {
    "tags": []
   },
   "outputs": [
    {
     "data": {
      "text/plain": [
       "0.8418029164825453"
      ]
     },
     "execution_count": 116,
     "metadata": {},
     "output_type": "execute_result"
    }
   ],
   "source": [
    "final_logreg_tuned = logreg_tuned.predict(x)\n",
    "accuracy_score(final_logreg_tuned, y)"
   ]
  },
  {
   "cell_type": "code",
   "execution_count": 117,
   "id": "62840672-c73b-4208-97a3-2fae5b8533c9",
   "metadata": {
    "tags": []
   },
   "outputs": [
    {
     "data": {
      "text/plain": [
       "array([[2548,  420,   28],\n",
       "       [ 307, 2218,  313],\n",
       "       [  46,  318, 2854]], dtype=int64)"
      ]
     },
     "execution_count": 117,
     "metadata": {},
     "output_type": "execute_result"
    }
   ],
   "source": [
    "confusion_matrix(final_logreg_tuned, y)"
   ]
  },
  {
   "cell_type": "markdown",
   "id": "ef495224-8af2-4acb-9b81-a73069155f3c",
   "metadata": {},
   "source": [
    "На всей выборке значение метрики оказалось выше на 4%, чем на тестовой выборке и на кросс-валидации. Отличный результат!"
   ]
  },
  {
   "cell_type": "code",
   "execution_count": null,
   "id": "e4eb21bb-3548-46b1-92eb-bee6a59b12c0",
   "metadata": {},
   "outputs": [],
   "source": []
  },
  {
   "cell_type": "markdown",
   "id": "23833ba8-e3e6-4957-b8a2-308c959651ba",
   "metadata": {},
   "source": [
    "## Results"
   ]
  },
  {
   "cell_type": "markdown",
   "id": "1e953ded-145a-424b-803c-af2d7ae251b2",
   "metadata": {},
   "source": [
    "По итогам тестирования, тюнинга и кросс-валидации наилучшие результаты показала модель логистической регресии, второе место - за многослойным перцептроном."
   ]
  },
  {
   "cell_type": "markdown",
   "id": "f5999815-a37f-44f7-a8a9-5ad76e844804",
   "metadata": {},
   "source": [
    "Модель прошла обучение на всем датасете в предыдущем разделе."
   ]
  },
  {
   "cell_type": "code",
   "execution_count": 118,
   "id": "5bedccc2-0e73-4165-a28f-84901daad72c",
   "metadata": {
    "tags": []
   },
   "outputs": [],
   "source": [
    "filename = \"model.pickle\"\n",
    "with open(filename, 'wb') as file:\n",
    "    pickle.dump(logreg_tuned, file)"
   ]
  },
  {
   "cell_type": "code",
   "execution_count": 120,
   "id": "b2e77cb5-ec2a-4bf7-91f6-35fe2eb0da59",
   "metadata": {
    "tags": []
   },
   "outputs": [],
   "source": [
    "with open(filename, 'rb') as f:\n",
    "    model = pickle.load(f)"
   ]
  },
  {
   "cell_type": "code",
   "execution_count": 121,
   "id": "3dca4511-d1f3-4e94-9bab-fa4fcd324734",
   "metadata": {
    "tags": []
   },
   "outputs": [
    {
     "data": {
      "text/html": [
       "<style>#sk-container-id-16 {color: black;}#sk-container-id-16 pre{padding: 0;}#sk-container-id-16 div.sk-toggleable {background-color: white;}#sk-container-id-16 label.sk-toggleable__label {cursor: pointer;display: block;width: 100%;margin-bottom: 0;padding: 0.3em;box-sizing: border-box;text-align: center;}#sk-container-id-16 label.sk-toggleable__label-arrow:before {content: \"▸\";float: left;margin-right: 0.25em;color: #696969;}#sk-container-id-16 label.sk-toggleable__label-arrow:hover:before {color: black;}#sk-container-id-16 div.sk-estimator:hover label.sk-toggleable__label-arrow:before {color: black;}#sk-container-id-16 div.sk-toggleable__content {max-height: 0;max-width: 0;overflow: hidden;text-align: left;background-color: #f0f8ff;}#sk-container-id-16 div.sk-toggleable__content pre {margin: 0.2em;color: black;border-radius: 0.25em;background-color: #f0f8ff;}#sk-container-id-16 input.sk-toggleable__control:checked~div.sk-toggleable__content {max-height: 200px;max-width: 100%;overflow: auto;}#sk-container-id-16 input.sk-toggleable__control:checked~label.sk-toggleable__label-arrow:before {content: \"▾\";}#sk-container-id-16 div.sk-estimator input.sk-toggleable__control:checked~label.sk-toggleable__label {background-color: #d4ebff;}#sk-container-id-16 div.sk-label input.sk-toggleable__control:checked~label.sk-toggleable__label {background-color: #d4ebff;}#sk-container-id-16 input.sk-hidden--visually {border: 0;clip: rect(1px 1px 1px 1px);clip: rect(1px, 1px, 1px, 1px);height: 1px;margin: -1px;overflow: hidden;padding: 0;position: absolute;width: 1px;}#sk-container-id-16 div.sk-estimator {font-family: monospace;background-color: #f0f8ff;border: 1px dotted black;border-radius: 0.25em;box-sizing: border-box;margin-bottom: 0.5em;}#sk-container-id-16 div.sk-estimator:hover {background-color: #d4ebff;}#sk-container-id-16 div.sk-parallel-item::after {content: \"\";width: 100%;border-bottom: 1px solid gray;flex-grow: 1;}#sk-container-id-16 div.sk-label:hover label.sk-toggleable__label {background-color: #d4ebff;}#sk-container-id-16 div.sk-serial::before {content: \"\";position: absolute;border-left: 1px solid gray;box-sizing: border-box;top: 0;bottom: 0;left: 50%;z-index: 0;}#sk-container-id-16 div.sk-serial {display: flex;flex-direction: column;align-items: center;background-color: white;padding-right: 0.2em;padding-left: 0.2em;position: relative;}#sk-container-id-16 div.sk-item {position: relative;z-index: 1;}#sk-container-id-16 div.sk-parallel {display: flex;align-items: stretch;justify-content: center;background-color: white;position: relative;}#sk-container-id-16 div.sk-item::before, #sk-container-id-16 div.sk-parallel-item::before {content: \"\";position: absolute;border-left: 1px solid gray;box-sizing: border-box;top: 0;bottom: 0;left: 50%;z-index: -1;}#sk-container-id-16 div.sk-parallel-item {display: flex;flex-direction: column;z-index: 1;position: relative;background-color: white;}#sk-container-id-16 div.sk-parallel-item:first-child::after {align-self: flex-end;width: 50%;}#sk-container-id-16 div.sk-parallel-item:last-child::after {align-self: flex-start;width: 50%;}#sk-container-id-16 div.sk-parallel-item:only-child::after {width: 0;}#sk-container-id-16 div.sk-dashed-wrapped {border: 1px dashed gray;margin: 0 0.4em 0.5em 0.4em;box-sizing: border-box;padding-bottom: 0.4em;background-color: white;}#sk-container-id-16 div.sk-label label {font-family: monospace;font-weight: bold;display: inline-block;line-height: 1.2em;}#sk-container-id-16 div.sk-label-container {text-align: center;}#sk-container-id-16 div.sk-container {/* jupyter's `normalize.less` sets `[hidden] { display: none; }` but bootstrap.min.css set `[hidden] { display: none !important; }` so we also need the `!important` here to be able to override the default hidden behavior on the sphinx rendered scikit-learn.org. See: https://github.com/scikit-learn/scikit-learn/issues/21755 */display: inline-block !important;position: relative;}#sk-container-id-16 div.sk-text-repr-fallback {display: none;}</style><div id=\"sk-container-id-16\" class=\"sk-top-container\"><div class=\"sk-text-repr-fallback\"><pre>LogisticRegression(max_iter=1000, penalty=&#x27;l1&#x27;, random_state=42, solver=&#x27;saga&#x27;)</pre><b>In a Jupyter environment, please rerun this cell to show the HTML representation or trust the notebook. <br />On GitHub, the HTML representation is unable to render, please try loading this page with nbviewer.org.</b></div><div class=\"sk-container\" hidden><div class=\"sk-item\"><div class=\"sk-estimator sk-toggleable\"><input class=\"sk-toggleable__control sk-hidden--visually\" id=\"sk-estimator-id-16\" type=\"checkbox\" checked><label for=\"sk-estimator-id-16\" class=\"sk-toggleable__label sk-toggleable__label-arrow\">LogisticRegression</label><div class=\"sk-toggleable__content\"><pre>LogisticRegression(max_iter=1000, penalty=&#x27;l1&#x27;, random_state=42, solver=&#x27;saga&#x27;)</pre></div></div></div></div></div>"
      ],
      "text/plain": [
       "LogisticRegression(max_iter=1000, penalty='l1', random_state=42, solver='saga')"
      ]
     },
     "execution_count": 121,
     "metadata": {},
     "output_type": "execute_result"
    }
   ],
   "source": [
    "model"
   ]
  },
  {
   "cell_type": "code",
   "execution_count": 127,
   "id": "b61b91fc-7fbc-4dd5-b3a4-8e4033c85f59",
   "metadata": {
    "tags": []
   },
   "outputs": [],
   "source": [
    "row = df.sample(1)\n",
    "row_x = row.drop(['price_category'],axis=1)\n",
    "row_y = row['price_category']"
   ]
  },
  {
   "cell_type": "code",
   "execution_count": 130,
   "id": "db5ec2b4-25f8-4a63-8975-4fa6e60f1a41",
   "metadata": {
    "tags": []
   },
   "outputs": [
    {
     "data": {
      "text/plain": [
       "array([0], dtype=int64)"
      ]
     },
     "execution_count": 130,
     "metadata": {},
     "output_type": "execute_result"
    }
   ],
   "source": [
    "model.predict(row_x)"
   ]
  },
  {
   "cell_type": "code",
   "execution_count": 131,
   "id": "0479c017-4344-4684-961f-ac8770e3c8bb",
   "metadata": {
    "tags": []
   },
   "outputs": [
    {
     "data": {
      "text/plain": [
       "42    0\n",
       "Name: price_category, dtype: int64"
      ]
     },
     "execution_count": 131,
     "metadata": {},
     "output_type": "execute_result"
    }
   ],
   "source": [
    "row_y"
   ]
  }
 ],
 "metadata": {
  "kernelspec": {
   "display_name": "Python 3 (ipykernel)",
   "language": "python",
   "name": "python3"
  },
  "language_info": {
   "codemirror_mode": {
    "name": "ipython",
    "version": 3
   },
   "file_extension": ".py",
   "mimetype": "text/x-python",
   "name": "python",
   "nbconvert_exporter": "python",
   "pygments_lexer": "ipython3",
   "version": "3.12.3"
  }
 },
 "nbformat": 4,
 "nbformat_minor": 5
}
